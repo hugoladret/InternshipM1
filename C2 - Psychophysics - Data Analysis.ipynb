{
 "cells": [
  {
   "cell_type": "markdown",
   "metadata": {},
   "source": [
    "# Psychophysics - Analyse des données\n",
    "\n",
    "On va faire une regression logistique des données obtenues en psychophysiques, pour chercher le seuil B_theta vers lequel les gens perdent en performances. On le comparera ensuite qualitativement au performances du modèle pour essayer de valider sa plausibilité neurobiologique. "
   ]
  },
  {
   "cell_type": "code",
   "execution_count": 1,
   "metadata": {
    "ExecuteTime": {
     "end_time": "2018-09-24T15:25:54.983257Z",
     "start_time": "2018-09-24T15:25:54.858252Z"
    }
   },
   "outputs": [
    {
     "name": "stdout",
     "output_type": "stream",
     "text": [
      " ./psychophysics_data/Psy_discrim_final_ACT.p\r\n",
      " ./psychophysics_data/Psy_discrim_final_AM.p\r\n",
      " ./psychophysics_data/Psy_discrim_final_BB.p\r\n",
      " ./psychophysics_data/Psy_discrim_final_convo_model_HIRES.p\r\n",
      " ./psychophysics_data/Psy_discrim_final_DL.p\r\n",
      " ./psychophysics_data/Psy_discrim_final_FM.p\r\n",
      " ./psychophysics_data/Psy_discrim_final_HL.p\r\n",
      " ./psychophysics_data/Psy_discrim_final_KB.p\r\n",
      " ./psychophysics_data/Psy_discrim_final_LP.p\r\n",
      " ./psychophysics_data/Psy_discrim_final_MAP.p\r\n",
      " ./psychophysics_data/Psy_discrim_final_MB.p\r\n",
      "'./psychophysics_data/Psy_discrim_final_Model - Convo.p'\r\n",
      " ./psychophysics_data/Psy_discrim_final_model_ring_HIRES.p\r\n",
      "'./psychophysics_data/Psy_discrim_final_Model - Ring.p'\r\n",
      " ./psychophysics_data/Psy_discrim_final_model_weird_freezing_data.p\r\n",
      " ./psychophysics_data/Psy_discrim_final_MP.p\r\n",
      " ./psychophysics_data/Psy_discrim_final_NP.p\r\n",
      " ./psychophysics_data/Psy_discrim_final_PA.p\r\n"
     ]
    }
   ],
   "source": [
    "%ls ./psychophysics_data/Psy_discrim_final*.p"
   ]
  },
  {
   "cell_type": "markdown",
   "metadata": {},
   "source": [
    "En utilisant le modèle de régression logistique de scikit-learn, on fait un modèle pour chaque sujet :"
   ]
  },
  {
   "cell_type": "markdown",
   "metadata": {},
   "source": [
    "# Tache de discrimination "
   ]
  },
  {
   "cell_type": "code",
   "execution_count": 2,
   "metadata": {
    "ExecuteTime": {
     "end_time": "2018-09-24T15:25:55.359222Z",
     "start_time": "2018-09-24T15:25:54.985298Z"
    }
   },
   "outputs": [],
   "source": [
    "import pickle\n",
    "import matplotlib.pyplot as plt\n",
    "\n",
    "subj_name_list =  ['Model - Ring']\n",
    "#['ACT', 'AM', 'BB', 'DL', 'FM', 'HL','KB', 'LP', 'MAP', 'MB', 'MP', 'NP', 'PA']\n",
    "                  #'Model - Ring','Model - Convo']\n",
    "                \n",
    "subj_data_list = []\n",
    "\n",
    "for subject in subj_name_list :\n",
    "#   x = pickle.load(open('Psychophys_discrim_2018-06-06_%s.p'%subject, 'rb'))\n",
    "    x = pickle.load(open('./psychophysics_data/Psy_discrim_final_%s.p'%subject, 'rb'))\n",
    "    subj_data_list.append(x)"
   ]
  },
  {
   "cell_type": "markdown",
   "metadata": {},
   "source": [
    "En sujet individuel et en utilisant tout les B_theta:"
   ]
  },
  {
   "cell_type": "code",
   "execution_count": 3,
   "metadata": {
    "ExecuteTime": {
     "end_time": "2018-09-24T15:25:55.887236Z",
     "start_time": "2018-09-24T15:25:55.360975Z"
    }
   },
   "outputs": [
    {
     "name": "stderr",
     "output_type": "stream",
     "text": [
      "/home/hugo/anaconda3/lib/python3.6/importlib/_bootstrap.py:219: RuntimeWarning: numpy.dtype size changed, may indicate binary incompatibility. Expected 96, got 88\n",
      "  return f(*args, **kwds)\n",
      "/home/hugo/anaconda3/lib/python3.6/importlib/_bootstrap.py:219: RuntimeWarning: numpy.dtype size changed, may indicate binary incompatibility. Expected 96, got 88\n",
      "  return f(*args, **kwds)\n"
     ]
    },
    {
     "data": {
      "image/png": "[encoded data removed]",
      "text/plain": [
       "<Figure size 432x288 with 1 Axes>"
      ]
     },
     "metadata": {},
     "output_type": "display_data"
    }
   ],
   "source": [
    "from sklearn.linear_model import LogisticRegression\n",
    "import numpy as np\n",
    "\n",
    "#the values used for plotting once the model is built\n",
    "x_values = np.linspace(-50, 50, 100)\n",
    "x_plot = np.reshape(x_values, (100,1))\n",
    "\n",
    "for num, subj_data in enumerate(subj_data_list) :\n",
    "    X = []\n",
    "    for i in subj_data :\n",
    "        #X.append(i[3]*180/np.pi)\n",
    "        X.append(i[1]*180/np.pi)\n",
    "\n",
    "    y =[]\n",
    "    for i in subj_data :\n",
    "        if False:\n",
    "            # fitting if correct \n",
    "            if np.sign(i[1]) > 0 and i[2] == 'right':\n",
    "                y.append(1)\n",
    "            else :\n",
    "                y.append(0)\n",
    "            #y.append(i[1])\n",
    "        else:\n",
    "            # fitting with direction \n",
    "            if i[2] == 'right':\n",
    "                y.append(1)\n",
    "            else :\n",
    "                y.append(0)\n",
    "            #y.append(i[1])\n",
    "\n",
    "    \n",
    "    #reshaped for fitting\n",
    "    X = np.asarray(X)\n",
    "    X = X[:,np.newaxis]\n",
    "    \n",
    "    #logistic regression\n",
    "    lgs = LogisticRegression(C = 3, max_iter = 100, penalty = 'l1' ,class_weight = {1 : 1 , 0 : 1}) \n",
    "    lgs.fit(X, y)\n",
    "    #print(lgs.coef_)\n",
    "    y_values = lgs.predict_proba(x_plot)[:,1]\n",
    "    plt.plot(x_values, y_values, label = 'LogReg')\n",
    "\n",
    "    plt.scatter(X, y, c='r', s=2)\n",
    "    plt.title('Psychophysic curve - %s' % subj_name_list[num])\n",
    "    plt.xlabel(\"Theta\")\n",
    "    plt.ylabel(\"Subject answered correctly\")\n",
    "    #plt.legend()\n",
    "    plt.show()"
   ]
  },
  {
   "cell_type": "markdown",
   "metadata": {},
   "source": [
    "En sujet individuel avec une courbe par B_theta :"
   ]
  },
  {
   "cell_type": "code",
   "execution_count": 4,
   "metadata": {
    "ExecuteTime": {
     "end_time": "2018-09-24T15:25:55.891775Z",
     "start_time": "2018-09-24T15:25:55.888878Z"
    }
   },
   "outputs": [
    {
     "name": "stdout",
     "output_type": "stream",
     "text": [
      "[2.8125, 5.011305289539408, 8.929130917321123, 15.90990257669732, 28.34822362263465, 50.51079217392179, 90.0]\n"
     ]
    }
   ],
   "source": [
    "b_thetas_list = []\n",
    "for x in subj_data_list[0] :\n",
    "    b_thetas_list.append(x[3]*180/np.pi)\n",
    "\n",
    "b_thetas_list = sorted(set(b_thetas_list))\n",
    "print(b_thetas_list)"
   ]
  },
  {
   "cell_type": "code",
   "execution_count": 5,
   "metadata": {
    "ExecuteTime": {
     "end_time": "2018-09-24T15:25:56.534806Z",
     "start_time": "2018-09-24T15:25:55.893271Z"
    },
    "scrolled": false
   },
   "outputs": [
    {
     "name": "stdout",
     "output_type": "stream",
     "text": [
      "Courbe psychophysique - Sujet Model - Ring\n"
     ]
    },
    {
     "data": {
      "image/png": "[encoded data removed]",
      "text/plain": [
       "<Figure size 648x432 with 1 Axes>"
      ]
     },
     "metadata": {},
     "output_type": "display_data"
    }
   ],
   "source": [
    "from sklearn.linear_model import LogisticRegression\n",
    "import numpy as np\n",
    "\n",
    "#the values used for plotting once the model is built\n",
    "x_values = np.linspace(-50, 50, 100)\n",
    "x_plot = np.reshape(x_values, (100,1))\n",
    "\n",
    "lr_kwargs = dict(solver='liblinear', C = 3, max_iter=1000, penalty='l2', class_weight = {1 : 1 , 0 : 1})\n",
    "\n",
    "coef_list = []\n",
    "\n",
    "for num, subj_data in enumerate(subj_data_list) :\n",
    "    plt.figure(figsize = (9,6))\n",
    "    for ibtheta, b_theta in enumerate(b_thetas_list):\n",
    "        X = []\n",
    "        y =[]\n",
    "\n",
    "        for i in subj_data :\n",
    "            if i[3]*180/np.pi == b_theta :\n",
    "                X.append(i[1]*180/np.pi)\n",
    "                if False:\n",
    "                    # fitting if correct \n",
    "                    if np.sign(i[1]) > 0 and i[2] == 'right':\n",
    "                        y.append(1)\n",
    "                    else :\n",
    "                        y.append(0)\n",
    "                    #y.append(i[1])\n",
    "                else:\n",
    "                    # fitting with direction \n",
    "                    if i[2] == 'right':\n",
    "                        y.append(1)\n",
    "                    else :\n",
    "                        y.append(0)\n",
    "                    #y.append(i[1])\n",
    "\n",
    "\n",
    "        #reshaped for fitting\n",
    "        X = np.asarray(X)\n",
    "        X = X[:,np.newaxis]\n",
    "\n",
    "        #logistic regression\n",
    "        lgs = LogisticRegression(**lr_kwargs) \n",
    "        try :\n",
    "            lgs.fit(X, y)\n",
    "            coef_list.append((b_theta,lgs.coef_[0][0]))\n",
    "        \n",
    "            y_values = lgs.predict_proba(x_plot)[:,1]\n",
    "            plt.plot(x_values, y_values, label = r'$B_\\theta$ = %3.f°' %b_theta)\n",
    "            plt.scatter(X, y, s=4)\n",
    "        except :\n",
    "            pass\n",
    "        \n",
    "        \n",
    "    #plt.title('Courbe psychophysique - Sujet %s' % subj_name_list[num])\n",
    "    print('Courbe psychophysique - Sujet %s' % subj_name_list[num])\n",
    "    plt.yticks([0.,1.],['No', 'Yes'])\n",
    "    plt.xlabel(r'$\\theta$', fontsize = 12,)\n",
    "    plt.ylabel(\"Correct shift prediction ?\", fontsize = 12)\n",
    "    plt.legend(loc = (0.03, 0.52)) #tuple of axis coordinate is also valid\n",
    "    \n",
    "    plt.savefig('./figs/Psychodiscri_curve_subj_%s.pdf' % subj_name_list[num],format='pdf', dpi=1000,\n",
    "               bbox_inches = 'tight')\n",
    "    \n",
    "    plt.show()"
   ]
  },
  {
   "cell_type": "markdown",
   "metadata": {},
   "source": [
    "# F1 Score"
   ]
  },
  {
   "cell_type": "code",
   "execution_count": 12,
   "metadata": {
    "ExecuteTime": {
     "end_time": "2018-09-24T15:25:56.543296Z",
     "start_time": "2018-09-24T15:25:56.536373Z"
    }
   },
   "outputs": [],
   "source": [
    "import pickle\n",
    "import numpy as np\n",
    "subj_name_list = ['AM', 'model_weird_freezing_data', 'model_ring_HIRES',\n",
    "                 'ACT', 'BB', 'DL', 'FM', 'HL','KB', 'LP', 'MAP', 'MB', 'MP', 'NP', 'PA']\n",
    "subj_data_list = []\n",
    "for subject in subj_name_list :\n",
    "#   x = pickle.load(open('Psychophys_discrim_2018-06-06_%s.p'%subject, 'rb'))\n",
    "    x = pickle.load(open('./psychophysics_data/Psy_discrim_final_%s.p'%subject, 'rb'))\n",
    "    subj_data_list.append(x)\n",
    "    \n",
    "b_thetas_list = []\n",
    "for x in subj_data_list[0] :\n",
    "    b_thetas_list.append(x[3]*180/np.pi)\n",
    "b_thetas_list = sorted(set(b_thetas_list))\n",
    "\n",
    "hires_b_thetas_list = []\n",
    "for x in subj_data_list[1] :\n",
    "    hires_b_thetas_list.append(x[3]*180/np.pi)\n",
    "hires_b_thetas_list = sorted(set(hires_b_thetas_list))\n"
   ]
  },
  {
   "cell_type": "code",
   "execution_count": 59,
   "metadata": {
    "ExecuteTime": {
     "end_time": "2018-09-24T15:25:56.575402Z",
     "start_time": "2018-09-24T15:25:56.544930Z"
    }
   },
   "outputs": [],
   "source": [
    "import sklearn.metrics as metrics\n",
    "import pickle\n",
    "import matplotlib.pyplot as plt\n",
    "\n",
    "#pas beau en subject average, il doit y avoir des outliers a eliminer\n",
    "#subj_name_list =  ['ACT', 'AM', 'BB', 'DL', 'FM', 'HL','KB', 'LP', 'MAP', 'MB', 'MP', 'NP', 'PA']\n",
    "\n",
    "\n",
    "def f1_score(subj_name_list, b_list):\n",
    "    subj_data_list = []\n",
    "    for subject in subj_name_list :\n",
    "    #   x = pickle.load(open('Psychophys_discrim_2018-06-06_%s.p'%subject, 'rb'))\n",
    "        x = pickle.load(open('./psychophysics_data/Psy_discrim_final_%s.p'%subject, 'rb'))\n",
    "        subj_data_list.append(x)\n",
    "\n",
    "    f1_list = []\n",
    "    #Reminder, trials are in the form of [numtrial, shift angle, answered direction, b_theta]\n",
    "\n",
    "    #for each b_theta, we loop through all the trials of each subject and we append trials whose b_theta\n",
    "    #is the one we are currently selecting. We then compute f1 score and append it to a f1 list\n",
    "    for b_theta in b_list :\n",
    "        dir_list = []\n",
    "        answered_list  = []\n",
    "        for subj in subj_data_list :\n",
    "            for trials in subj :\n",
    "                if trials[3]*180/np.pi == b_theta :\n",
    "                    if trials[2] == 'left' :\n",
    "                        dir_list.append(0)\n",
    "                    if trials[2] == 'right':\n",
    "                        dir_list.append(1)\n",
    "\n",
    "                    if np.sign(trials[1]) < 0 :\n",
    "                        answered_list.append(0)\n",
    "                    if np.sign(trials[1]) > 0 :\n",
    "                        answered_list.append(1)\n",
    "        f1_list.append(metrics.f1_score(dir_list, answered_list))\n",
    "        \n",
    "    return f1_list\n",
    "        \n",
    "hum_f1 = f1_score(['MAP'], b_thetas_list)\n",
    "convo_f1 = f1_score(['model_weird_freezing_data'], hires_b_thetas_list)\n",
    "rnn_f1 = f1_score(['model_ring_HIRES'], hires_b_thetas_list)"
   ]
  },
  {
   "cell_type": "code",
   "execution_count": 60,
   "metadata": {
    "ExecuteTime": {
     "end_time": "2018-09-24T15:25:56.763141Z",
     "start_time": "2018-09-24T15:25:56.577069Z"
    }
   },
   "outputs": [],
   "source": [
    "import matplotlib.pyplot as plt\n",
    "import numpy as np\n",
    "from lmfit.models import LinearModel, RectangleModel,ExpressionModel\n",
    "from lmfit import Parameters, Parameter\n",
    "\n",
    "def log_fit(x, y):  # returns a rectangle logfit of the xy\n",
    "    y = np.asarray(y)\n",
    "    step_mod = RectangleModel(form='logistic', prefix='step_')\n",
    "    line_mod = LinearModel(prefix='line_')\n",
    "    parms = line_mod.make_params(intercept=y.min(), slope=0)\n",
    "    parms += step_mod.guess(y, x=x, center=2.5)\n",
    "    mod = step_mod  # + line_mod\n",
    "    out = mod.fit(y, parms, x=x)\n",
    "    return out.best_fit"
   ]
  },
  {
   "cell_type": "code",
   "execution_count": 61,
   "metadata": {
    "ExecuteTime": {
     "end_time": "2018-09-24T15:26:57.706257Z",
     "start_time": "2018-09-24T15:26:57.703363Z"
    }
   },
   "outputs": [],
   "source": [
    "def expr_fit(x, y, x50=45, n=2):  # returns an expression fitting of the x y\n",
    "    mod = ExpressionModel('1 / (1 + (x/x50)**n) ')\n",
    "    pars = mod.make_params(x50=x50, n=n)\n",
    "    out = mod.fit(y, pars, x=x)\n",
    "    return out.best_fit"
   ]
  },
  {
   "cell_type": "code",
   "execution_count": 62,
   "metadata": {},
   "outputs": [],
   "source": [
    "def naka_rushton(x, y):  # returns an expression fitting of the x y\n",
    "    mod = ExpressionModel('1 / ( 1 + (1 /x0**b) * x**b)')\n",
    "    mod.nan_policy = 'propagate'\n",
    "    pars = Parameters()\n",
    "    pars['b'] = Parameter(name = 'b', value = 2, min = 0.01)\n",
    "    pars['x0'] = Parameter(name = 'x0', value = .8)\n",
    "    out = mod.fit(y, pars, x=x)\n",
    "    return out.best_fit"
   ]
  },
  {
   "cell_type": "code",
   "execution_count": 63,
   "metadata": {
    "ExecuteTime": {
     "end_time": "2018-09-24T15:27:17.419673Z",
     "start_time": "2018-09-24T15:27:17.416794Z"
    }
   },
   "outputs": [],
   "source": [
    "def expr_fit(x, y):  # returns an expression fitting of the x y\n",
    "    mod = ExpressionModel('1 / ( 1 -amp)  * .5 / (1 + (x/x50)**n) +.5')\n",
    "    mod.nan_policy = 'propagate'\n",
    "    pars = Parameters()\n",
    "    pars['amp'] = Parameter(name = 'amp', value = .8, min = 0.01)\n",
    "    pars['x50'] = Parameter(name = 'x50', value = 45 )\n",
    "    pars['n'] = Parameter(name = 'n', value = 2, min = 0.01)\n",
    "    \n",
    "    out = mod.fit(y, pars, x=x)\n",
    "    return out.best_fit"
   ]
  },
  {
   "cell_type": "code",
   "execution_count": 102,
   "metadata": {},
   "outputs": [],
   "source": [
    "def mega_logistic(x, y):  # logistique quadratique, qui marche pas\n",
    "    mod = ExpressionModel('d+ (a-d)/(1+(x/c)**b)')\n",
    "    mod.nan_policy = 'propagate'\n",
    "    pars = Parameters()\n",
    "    pars['d'] = Parameter(name = 'ymax', value = .6, min = 0.01)\n",
    "    pars['a'] = Parameter(name = 'ymin', value = .8, min = .01 )\n",
    "    pars['b'] = Parameter(name = 'slope', value = 2)\n",
    "    pars['c'] = Parameter(name = 'xinflection', value = 50, min = 0.01)\n",
    "    out = mod.fit(y, pars, x=x)\n",
    "    print(out.fit_report())\n",
    "    result = out.minimize()\n",
    "    print(confidence.conf_interval(mod, result))\n",
    "    return out.best_fit\n",
    "\n",
    "#la version avec les params récupérés du report\n",
    "def cheatplot_rnn(x):\n",
    "    return 0.6207649 + (0.8338102 - 0.6207649)/(1 + (x/49.92666)**25.4327)\n",
    "\n",
    "def cheatplot_AM(x):\n",
    "    return 0.4285714 + (0.9541894 - 0.4285714)/(1 + (x/50.01598)**43.16771)\n",
    "\n",
    "def cheatplot_BB(x):\n",
    "    return 0.01000000 + (1.00201059 - 0.4285714)/(1 + (x/165.334424)**0.866527771)\n",
    "\n",
    "def cheatplot_MAP(x):\n",
    "    return 0.59964406 + (0.96402736 -0.59964406)/(1 + (x/43.0670946)**9.34793422)\n",
    "\n",
    "def cheatplot_convo(x):\n",
    "    return 0.4701946 + (0.7679601 - 0.4701946)/(1 + (x/40.80054)**1.664791)\n",
    "\n",
    "xs = np.linspace(0,90, 100)\n",
    "ys1, ys2, ys3, ys4 = [], [], [], []\n",
    "for x1 in xs :\n",
    "    ys1.append(cheatplot_rnn(x1))\n",
    "\n",
    "for x2 in xs :\n",
    "    ys2.append(cheatplot_MAP(x2))\n",
    "\n",
    "for x3 in xs :\n",
    "    ys3.append(cheatplot_convo(x3))"
   ]
  },
  {
   "cell_type": "code",
   "execution_count": 104,
   "metadata": {
    "ExecuteTime": {
     "end_time": "2018-09-24T15:27:47.371457Z",
     "start_time": "2018-09-24T15:27:47.174736Z"
    },
    "scrolled": false
   },
   "outputs": [
    {
     "data": {
      "image/png": "[encoded data removed]",
      "text/plain": [
       "<Figure size 648x432 with 1 Axes>"
      ]
     },
     "metadata": {},
     "output_type": "display_data"
    }
   ],
   "source": [
    "#plt.plot(b_thetas_list, f1_list)\n",
    "plt.figure(figsize = (9,6))\n",
    "\n",
    "#plt.plot(b_thetas_list, mega_logistic(b_thetas_list,hum_f1),color = 'orange', label = 'EXPER')\n",
    "#plt.plot(hires_b_thetas_list, mega_logistic(hires_b_thetas_list,rnn_f1),color = 'green', label = 'Ring with lateral interactions')\n",
    "#plt.plot(hires_b_thetas_list, mega_logistic(hires_b_thetas_list,convo_f1), color = 'red',label = 'Ring without lateral interactions')\n",
    "\n",
    "size = 16\n",
    "marker = '.'\n",
    "plt.scatter(b_thetas_list, hum_f1, color = 'blue', s= size,marker =marker)\n",
    "plt.plot(xs, ys2, color = 'blue', label = 'Human')\n",
    "\n",
    "plt.scatter(hires_b_thetas_list, rnn_f1, color = 'green',  s = size,marker =marker)\n",
    "plt.plot(xs, ys1, color = 'green', label = 'Ring with lateral interactions')\n",
    "\n",
    "plt.scatter(hires_b_thetas_list, convo_f1, color = 'red',  s = size,marker =marker)\n",
    "plt.plot(xs, ys3, color = 'red', label = 'Ring without lateral interactions')\n",
    "\n",
    "'''plt.plot(b_thetas_list, hum_f1, color = 'blue')\n",
    "plt.plot(hires_b_thetas_list, rnn_f1, color = 'green')\n",
    "plt.plot(hires_b_thetas_list, convo_f1, color = 'red')'''\n",
    "\n",
    "\n",
    "plt.xlabel(r'$B_\\theta$', fontsize = 13)\n",
    "plt.ylabel('F1 Score', fontsize = 12)\n",
    "plt.legend()\n",
    "#plt.title(r'Variation du F1 score en fonction de $B_\\theta$')\n",
    "plt.savefig('./figs/F1_curve.pdf',format='pdf', dpi=1000, bbox_inches = 'tight')\n",
    "plt.show()"
   ]
  },
  {
   "cell_type": "code",
   "execution_count": 79,
   "metadata": {},
   "outputs": [],
   "source": [
    "import lmfit.confidence as confidence"
   ]
  },
  {
   "cell_type": "code",
   "execution_count": 80,
   "metadata": {},
   "outputs": [
    {
     "name": "stdout",
     "output_type": "stream",
     "text": [
      "Help on module lmfit.confidence in lmfit:\n",
      "\n",
      "NAME\n",
      "    lmfit.confidence - Contains functions to calculate confidence intervals.\n",
      "\n",
      "CLASSES\n",
      "    builtins.object\n",
      "        ConfidenceInterval\n",
      "    \n",
      "    class ConfidenceInterval(builtins.object)\n",
      "     |  Class used to calculate the confidence interval.\n",
      "     |  \n",
      "     |  Methods defined here:\n",
      "     |  \n",
      "     |  __init__(self, minimizer, result, p_names=None, prob_func=None, sigmas=(1, 2, 3), trace=False, verbose=False, maxiter=50)\n",
      "     |      TODO: docstring in public method.\n",
      "     |  \n",
      "     |  calc_all_ci(self)\n",
      "     |      Calculate all confidence intervals.\n",
      "     |  \n",
      "     |  calc_ci(self, para, direction)\n",
      "     |      Calculate the ci for a single parameter for a single direction.\n",
      "     |      \n",
      "     |      Direction is either positive or negative 1.\n",
      "     |  \n",
      "     |  calc_prob(self, para, val, offset=0.0, restore=False)\n",
      "     |      Calculate the probability for given value.\n",
      "     |  \n",
      "     |  find_limit(self, para, direction)\n",
      "     |      For given para, search a value so that prob(val) > sigmas.\n",
      "     |  \n",
      "     |  reset_vals(self)\n",
      "     |      TODO: add method docstring.\n",
      "     |  \n",
      "     |  ----------------------------------------------------------------------\n",
      "     |  Data descriptors defined here:\n",
      "     |  \n",
      "     |  __dict__\n",
      "     |      dictionary for instance variables (if defined)\n",
      "     |  \n",
      "     |  __weakref__\n",
      "     |      list of weak references to the object (if defined)\n",
      "\n",
      "FUNCTIONS\n",
      "    conf_interval(minimizer, result, p_names=None, sigmas=(1, 2, 3), trace=False, maxiter=200, verbose=False, prob_func=None)\n",
      "        Calculate the confidence interval for parameters.\n",
      "        \n",
      "        The parameter for which the ci is calculated will be varied, while\n",
      "        the remaining parameters are re-optimized to minimize chi-square.\n",
      "        The resulting chi-square is used to calculate the probability with\n",
      "        a given statistic (e.g., F-test). This function uses a 1d-rootfinder\n",
      "        from SciPy to find the values resulting in the searched confidence\n",
      "        region.\n",
      "        \n",
      "        Parameters\n",
      "        ----------\n",
      "        minimizer : Minimizer\n",
      "            The minimizer to use, holding objective function.\n",
      "        result : MinimizerResult\n",
      "            The result of running minimize().\n",
      "        p_names : list, optional\n",
      "            Names of the parameters for which the ci is calculated. If None,\n",
      "            the ci is calculated for every parameter.\n",
      "        sigmas : list, optional\n",
      "            The sigma-levels to find. Default is [1, 2, 3]. See Note below.\n",
      "        trace : bool, optional\n",
      "            Defaults to False, if True, each result of a probability calculation\n",
      "            is saved along with the parameter. This can be used to plot so-called\n",
      "            \"profile traces\".\n",
      "        maxiter : int, optional\n",
      "            Maximum of iteration to find an upper limit. Default is 200.\n",
      "        verbose: bool, optional\n",
      "            Print extra debuging information. Default is False.\n",
      "        prob_func : None or callable, optional\n",
      "            Function to calculate the probability from the optimized chi-square.\n",
      "            Default is None and uses built-in f_compare (F-test).\n",
      "        \n",
      "        Returns\n",
      "        -------\n",
      "        output : dict\n",
      "            A dictionary that contains a list of (sigma, vals)-tuples for each name.\n",
      "        trace_dict : dict, optional\n",
      "            Only if trace is True. Is a dict, the key is the parameter which\n",
      "            was fixed. The values are again a dict with the names as keys, but with\n",
      "            an additional key 'prob'. Each contains an array of the corresponding\n",
      "            values.\n",
      "        \n",
      "        Note\n",
      "        -----\n",
      "        The values for `sigma` are taken as the number of standard deviations for\n",
      "        a normal distribution and converted to probabilities. That is, the default\n",
      "        ``sigma=(1, 2, 3)`` will use probabilities of 0.6827, 0.9545, and 0.9973.\n",
      "        If any of the sigma values is less than 1, that will be interpreted as a\n",
      "        probability. That is, a value of 1 and 0.6827 will give the same results,\n",
      "        within precision.\n",
      "        \n",
      "        See also\n",
      "        --------\n",
      "        conf_interval2d\n",
      "        \n",
      "        Examples\n",
      "        --------\n",
      "        >>> from lmfit.printfuncs import *\n",
      "        >>> mini = minimize(some_func, params)\n",
      "        >>> mini.leastsq()\n",
      "        True\n",
      "        >>> report_errors(params)\n",
      "        ... #report\n",
      "        >>> ci = conf_interval(mini)\n",
      "        >>> report_ci(ci)\n",
      "        ... #report\n",
      "        \n",
      "        Now with quantiles for the sigmas and using the trace.\n",
      "        \n",
      "        >>> ci, trace = conf_interval(mini, sigmas=(0.5, 1, 2, 3), trace=True)\n",
      "        >>> fixed = trace['para1']['para1']\n",
      "        >>> free = trace['para1']['not_para1']\n",
      "        >>> prob = trace['para1']['prob']\n",
      "        \n",
      "        This makes it possible to plot the dependence between free and fixed\n",
      "        parameters.\n",
      "    \n",
      "    conf_interval2d(minimizer, result, x_name, y_name, nx=10, ny=10, limits=None, prob_func=None)\n",
      "        Calculate confidence regions for two fixed parameters.\n",
      "        \n",
      "        The method itself is explained in *conf_interval*: here we are fixing\n",
      "        two parameters.\n",
      "        \n",
      "        Parameters\n",
      "        ----------\n",
      "        minimizer : Minimizer\n",
      "            The minimizer to use, holding objective function.\n",
      "        result : MinimizerResult\n",
      "            The result of running minimize().\n",
      "        x_name : str\n",
      "            The name of the parameter which will be the x direction.\n",
      "        y_name : str\n",
      "            The name of the parameter which will be the y direction.\n",
      "        nx : int, optional\n",
      "            Number of points in the x direction.\n",
      "        ny : int, optional\n",
      "            Number of points in the y direction.\n",
      "        limits : tuple, optional\n",
      "            Should have the form ((x_upper, x_lower), (y_upper, y_lower)). If not\n",
      "            given, the default is 5 std-errs in each direction.\n",
      "        prob_func : None or callable, optional\n",
      "            Function to calculate the probability from the optimized chi-square.\n",
      "            Default is None and uses built-in f_compare (F-test).\n",
      "        \n",
      "        Returns\n",
      "        -------\n",
      "        x : numpy.ndarray\n",
      "            X-coordinates (same shape as nx).\n",
      "        y : numpy.ndarray\n",
      "            Y-coordinates (same shape as ny).\n",
      "        grid : numpy.ndarray\n",
      "            Grid containing the calculated probabilities (with shape (nx, ny)).\n",
      "        \n",
      "        Examples\n",
      "        --------\n",
      "        >>> mini = Minimizer(some_func, params)\n",
      "        >>> result = mini.leastsq()\n",
      "        >>> x, y, gr = conf_interval2d(mini, result, 'para1','para2')\n",
      "        >>> plt.contour(x,y,gr)\n",
      "    \n",
      "    copy_vals(params)\n",
      "        Save the values and stderrs of params in a temporary dict.\n",
      "    \n",
      "    f_compare(ndata, nparas, new_chi, best_chi, nfix=1.0)\n",
      "        Return the probalitiy for two given parameter sets.\n",
      "        \n",
      "        nfix is the number of fixed parameters.\n",
      "    \n",
      "    map_trace_to_names(trace, params)\n",
      "        Map trace to parameter names.\n",
      "    \n",
      "    restore_vals(tmp_params, params)\n",
      "        Restore values and stderrs of params from a temporary dict.\n",
      "    \n",
      "    warn(...)\n",
      "        Issue a warning, or maybe ignore it or raise an exception.\n",
      "\n",
      "DATA\n",
      "    CONF_ERR_GEN = 'Cannot determine Confidence Intervals'\n",
      "    CONF_ERR_NVARS = 'Cannot determine Confidence Intervals with < 2 varia...\n",
      "    CONF_ERR_STDERR = 'Cannot determine Confidence Intervals without sensi...\n",
      "    erf = <ufunc 'erf'>\n",
      "    f = <scipy.stats._continuous_distns.f_gen object>\n",
      "    print_function = _Feature((2, 6, 0, 'alpha', 2), (3, 0, 0, 'alpha', 0)...\n",
      "\n",
      "FILE\n",
      "    /home/hugo/anaconda3/lib/python3.6/site-packages/lmfit/confidence.py\n",
      "\n",
      "\n"
     ]
    }
   ],
   "source": [
    "help(confidence)"
   ]
  },
  {
   "cell_type": "markdown",
   "metadata": {},
   "source": [
    "# Coefficient de regression"
   ]
  },
  {
   "cell_type": "code",
   "execution_count": 21,
   "metadata": {
    "ExecuteTime": {
     "end_time": "2018-09-24T15:25:57.948298Z",
     "start_time": "2018-09-24T15:25:57.743850Z"
    }
   },
   "outputs": [
    {
     "data": {
      "image/png": "[encoded data removed]",
      "text/plain": [
       "<Figure size 432x288 with 1 Axes>"
      ]
     },
     "metadata": {},
     "output_type": "display_data"
    }
   ],
   "source": [
    "avg_list = []\n",
    "plt_list = []\n",
    "for b_theta in b_thetas_list :\n",
    "    avg_list = []\n",
    "    for coef in coef_list :\n",
    "        if coef[0] == b_theta :\n",
    "            avg_list.append(coef[1])\n",
    "    plt_list.append(np.mean(avg_list))\n",
    "\n",
    "plt.plot(b_thetas_list, plt_list)\n",
    "plt.xlabel(r'$B_\\theta$')\n",
    "plt.ylabel('Coefficient moyen de regression')\n",
    "plt.title(r'Variation du coefficient de regression en fonction de $B_\\theta$')\n",
    "plt.savefig('./figs/B_theta_curve.pdf',format='pdf', dpi=1000)\n",
    "plt.show()"
   ]
  },
  {
   "cell_type": "markdown",
   "metadata": {},
   "source": [
    "# Unused"
   ]
  },
  {
   "cell_type": "code",
   "execution_count": null,
   "metadata": {},
   "outputs": [],
   "source": [
    "plt_expr = expr_fit(hires_b_thetas_list, rnn_f1)\n",
    "plt_log = log_fit(hires_b_thetas_list, rnn_f1)\n",
    "\n",
    "plt.plot(hires_b_thetas_list, plt_expr, label = 'expr')\n",
    "plt.plot(hires_b_thetas_list, plt_log, label = 'log')\n",
    "plt.plot(hires_b_thetas_list, rnn_f1, 'b.')\n",
    "plt.title ('RNN fit comparison')\n",
    "plt.legend()"
   ]
  },
  {
   "cell_type": "code",
   "execution_count": null,
   "metadata": {},
   "outputs": [],
   "source": [
    "plt_expr = expr_fit(b_thetas_list, hum_f1)\n",
    "plt_log = log_fit(b_thetas_list, hum_f1)\n",
    "\n",
    "plt.title('Human fit comparison')\n",
    "plt.plot(b_thetas_list, plt_expr, label = 'expr')\n",
    "plt.plot(b_thetas_list, plt_log, label = 'log')\n",
    "plt.plot(b_thetas_list, hum_f1, 'b.')\n",
    "plt.legend()"
   ]
  }
 ],
 "metadata": {
  "kernelspec": {
   "display_name": "Python 3",
   "language": "python",
   "name": "python3"
  },
  "language_info": {
   "codemirror_mode": {
    "name": "ipython",
    "version": 3
   },
   "file_extension": ".py",
   "mimetype": "text/x-python",
   "name": "python",
   "nbconvert_exporter": "python",
   "pygments_lexer": "ipython3",
   "version": "3.6.4"
  },
  "toc": {
   "base_numbering": 1,
   "nav_menu": {},
   "number_sections": true,
   "sideBar": true,
   "skip_h1_title": false,
   "title_cell": "Table of Contents",
   "title_sidebar": "Contents",
   "toc_cell": false,
   "toc_position": {},
   "toc_section_display": true,
   "toc_window_display": false
  }
 },
 "nbformat": 4,
 "nbformat_minor": 2
}
