{
 "cells": [
  {
   "cell_type": "markdown",
   "metadata": {},
   "source": [
    "# Psychophysics - Analyse des données\n",
    "\n",
    "On va faire une regression logistique des données obtenues en psychophysiques, pour chercher le seuil B_theta vers lequel les gens perdent en performances. On le comparera ensuite qualitativement au performances du modèle pour essayer de valider sa plausibilité neurobiologique. "
   ]
  },
  {
   "cell_type": "code",
   "execution_count": 22,
   "metadata": {
    "ExecuteTime": {
     "end_time": "2018-10-01T11:42:09.431768Z",
     "start_time": "2018-10-01T11:42:09.192557Z"
    }
   },
   "outputs": [
    {
     "name": "stdout",
     "output_type": "stream",
     "text": [
      " ./psychophysics_data/Psy_discrim_final_ACT.p\r\n",
      " ./psychophysics_data/Psy_discrim_final_AM.p\r\n",
      " ./psychophysics_data/Psy_discrim_final_BB.p\r\n",
      " ./psychophysics_data/Psy_discrim_final_convo_model_HIRES.p\r\n",
      " ./psychophysics_data/Psy_discrim_final_DL.p\r\n",
      " ./psychophysics_data/Psy_discrim_final_FM.p\r\n",
      " ./psychophysics_data/Psy_discrim_final_HL.p\r\n",
      " ./psychophysics_data/Psy_discrim_final_KB.p\r\n",
      " ./psychophysics_data/Psy_discrim_final_LP.p\r\n",
      " ./psychophysics_data/Psy_discrim_final_MAP.p\r\n",
      " ./psychophysics_data/Psy_discrim_final_MB.p\r\n",
      "'./psychophysics_data/Psy_discrim_final_Model - Convo.p'\r\n",
      " ./psychophysics_data/Psy_discrim_final_model_ring_HIRES.p\r\n",
      "'./psychophysics_data/Psy_discrim_final_Model - Ring.p'\r\n",
      " ./psychophysics_data/Psy_discrim_final_model_weird_freezing_data.p\r\n",
      " ./psychophysics_data/Psy_discrim_final_MP.p\r\n",
      " ./psychophysics_data/Psy_discrim_final_NP.p\r\n",
      " ./psychophysics_data/Psy_discrim_final_PA.p\r\n"
     ]
    }
   ],
   "source": [
    "%ls ./psychophysics_data/Psy_discrim_final*.p"
   ]
  },
  {
   "cell_type": "markdown",
   "metadata": {},
   "source": [
    "En utilisant le modèle de régression logistique de scikit-learn, on fait un modèle pour chaque sujet :"
   ]
  },
  {
   "cell_type": "markdown",
   "metadata": {},
   "source": [
    "# Tache de discrimination "
   ]
  },
  {
   "cell_type": "code",
   "execution_count": 23,
   "metadata": {
    "ExecuteTime": {
     "end_time": "2018-10-01T11:42:10.500884Z",
     "start_time": "2018-10-01T11:42:10.467593Z"
    }
   },
   "outputs": [],
   "source": [
    "import pickle\n",
    "import matplotlib.pyplot as plt\n",
    "\n",
    "subj_name_list =  ['Model - Ring']\n",
    "#['ACT', 'AM', 'BB', 'DL', 'FM', 'HL','KB', 'LP', 'MAP', 'MB', 'MP', 'NP', 'PA']\n",
    "                  #'Model - Ring','Model - Convo']\n",
    "                \n",
    "subj_data_list = []\n",
    "\n",
    "for subject in subj_name_list :\n",
    "#   x = pickle.load(open('Psychophys_discrim_2018-06-06_%s.p'%subject, 'rb'))\n",
    "    x = pickle.load(open('./psychophysics_data/Psy_discrim_final_%s.p'%subject, 'rb'))\n",
    "    subj_data_list.append(x)"
   ]
  },
  {
   "cell_type": "markdown",
   "metadata": {},
   "source": [
    "En sujet individuel et en utilisant tout les B_theta:"
   ]
  },
  {
   "cell_type": "code",
   "execution_count": 24,
   "metadata": {
    "ExecuteTime": {
     "end_time": "2018-10-01T11:42:12.827348Z",
     "start_time": "2018-10-01T11:42:11.849658Z"
    }
   },
   "outputs": [
    {
     "data": {
      "image/png": "[encoded data removed]",
      "text/plain": [
       "<Figure size 432x288 with 1 Axes>"
      ]
     },
     "metadata": {},
     "output_type": "display_data"
    }
   ],
   "source": [
    "from sklearn.linear_model import LogisticRegression\n",
    "import numpy as np\n",
    "\n",
    "#the values used for plotting once the model is built\n",
    "x_values = np.linspace(-50, 50, 100)\n",
    "x_plot = np.reshape(x_values, (100,1))\n",
    "\n",
    "for num, subj_data in enumerate(subj_data_list) :\n",
    "    X = []\n",
    "    for i in subj_data :\n",
    "        #X.append(i[3]*180/np.pi)\n",
    "        X.append(i[1]*180/np.pi)\n",
    "\n",
    "    y =[]\n",
    "    for i in subj_data :\n",
    "        if False:\n",
    "            # fitting if correct \n",
    "            if np.sign(i[1]) > 0 and i[2] == 'right':\n",
    "                y.append(1)\n",
    "            else :\n",
    "                y.append(0)\n",
    "            #y.append(i[1])\n",
    "        else:\n",
    "            # fitting with direction \n",
    "            if i[2] == 'right':\n",
    "                y.append(1)\n",
    "            else :\n",
    "                y.append(0)\n",
    "            #y.append(i[1])\n",
    "\n",
    "    \n",
    "    #reshaped for fitting\n",
    "    X = np.asarray(X)\n",
    "    X = X[:,np.newaxis]\n",
    "    \n",
    "    #logistic regression\n",
    "    lgs = LogisticRegression(C = 3, max_iter = 100, penalty = 'l1' ,class_weight = {1 : 1 , 0 : 1}) \n",
    "    lgs.fit(X, y)\n",
    "    #print(lgs.coef_)\n",
    "    y_values = lgs.predict_proba(x_plot)[:,1]\n",
    "    plt.plot(x_values, y_values, label = 'LogReg')\n",
    "\n",
    "    plt.scatter(X, y, c='r', s=2)\n",
    "    plt.title('Psychophysic curve - %s' % subj_name_list[num])\n",
    "    plt.xlabel(\"Theta\")\n",
    "    plt.ylabel(\"Subject answered correctly\")\n",
    "    #plt.legend()\n",
    "    plt.show()"
   ]
  },
  {
   "cell_type": "markdown",
   "metadata": {},
   "source": [
    "En sujet individuel avec une courbe par B_theta :"
   ]
  },
  {
   "cell_type": "code",
   "execution_count": 25,
   "metadata": {
    "ExecuteTime": {
     "end_time": "2018-10-01T11:42:13.047018Z",
     "start_time": "2018-10-01T11:42:13.023998Z"
    }
   },
   "outputs": [
    {
     "name": "stdout",
     "output_type": "stream",
     "text": [
      "[2.8125, 5.011305289539408, 8.929130917321123, 15.90990257669732, 28.34822362263465, 50.51079217392179, 90.0]\n"
     ]
    }
   ],
   "source": [
    "b_thetas_list = []\n",
    "for x in subj_data_list[0] :\n",
    "    b_thetas_list.append(x[3]*180/np.pi)\n",
    "\n",
    "b_thetas_list = sorted(set(b_thetas_list))\n",
    "print(b_thetas_list)"
   ]
  },
  {
   "cell_type": "code",
   "execution_count": 26,
   "metadata": {
    "ExecuteTime": {
     "end_time": "2018-10-01T11:42:17.214092Z",
     "start_time": "2018-10-01T11:42:13.714226Z"
    },
    "scrolled": false
   },
   "outputs": [
    {
     "name": "stdout",
     "output_type": "stream",
     "text": [
      "Courbe psychophysique - Sujet Model - Ring\n"
     ]
    },
    {
     "data": {
      "image/png": "[encoded data removed]",
      "text/plain": [
       "<Figure size 648x432 with 1 Axes>"
      ]
     },
     "metadata": {},
     "output_type": "display_data"
    }
   ],
   "source": [
    "from sklearn.linear_model import LogisticRegression\n",
    "import numpy as np\n",
    "\n",
    "#the values used for plotting once the model is built\n",
    "x_values = np.linspace(-50, 50, 100)\n",
    "x_plot = np.reshape(x_values, (100,1))\n",
    "\n",
    "lr_kwargs = dict(solver='liblinear', C = 3, max_iter=1000, penalty='l2', class_weight = {1 : 1 , 0 : 1})\n",
    "\n",
    "coef_list = []\n",
    "\n",
    "for num, subj_data in enumerate(subj_data_list) :\n",
    "    plt.figure(figsize = (9,6))\n",
    "    for ibtheta, b_theta in enumerate(b_thetas_list):\n",
    "        X = []\n",
    "        y =[]\n",
    "\n",
    "        for i in subj_data :\n",
    "            if i[3]*180/np.pi == b_theta :\n",
    "                X.append(i[1]*180/np.pi)\n",
    "                if False:\n",
    "                    # fitting if correct \n",
    "                    if np.sign(i[1]) > 0 and i[2] == 'right':\n",
    "                        y.append(1)\n",
    "                    else :\n",
    "                        y.append(0)\n",
    "                    #y.append(i[1])\n",
    "                else:\n",
    "                    # fitting with direction \n",
    "                    if i[2] == 'right':\n",
    "                        y.append(1)\n",
    "                    else :\n",
    "                        y.append(0)\n",
    "                    #y.append(i[1])\n",
    "\n",
    "\n",
    "        #reshaped for fitting\n",
    "        X = np.asarray(X)\n",
    "        X = X[:,np.newaxis]\n",
    "\n",
    "        #logistic regression\n",
    "        lgs = LogisticRegression(**lr_kwargs) \n",
    "        try :\n",
    "            lgs.fit(X, y)\n",
    "            coef_list.append((b_theta,lgs.coef_[0][0]))\n",
    "        \n",
    "            y_values = lgs.predict_proba(x_plot)[:,1]\n",
    "            plt.plot(x_values, y_values, label = r'$B_\\theta$ = %3.f°' %b_theta)\n",
    "            plt.scatter(X, y, s=4)\n",
    "        except :\n",
    "            pass\n",
    "        \n",
    "        \n",
    "    #plt.title('Courbe psychophysique - Sujet %s' % subj_name_list[num])\n",
    "    print('Courbe psychophysique - Sujet %s' % subj_name_list[num])\n",
    "    plt.yticks([0.,1.],['No', 'Yes'])\n",
    "    plt.xlabel(r'$\\theta$', fontsize = 12,)\n",
    "    plt.ylabel(\"Correct shift prediction ?\", fontsize = 12)\n",
    "    plt.legend(loc = (0.03, 0.52)) #tuple of axis coordinate is also valid\n",
    "    \n",
    "    plt.savefig('./figs/Psychodiscri_curve_subj_%s.pdf' % subj_name_list[num],format='pdf', dpi=1000,\n",
    "               bbox_inches = 'tight')\n",
    "    \n",
    "    plt.show()"
   ]
  },
  {
   "cell_type": "markdown",
   "metadata": {},
   "source": [
    "# F1 Score"
   ]
  },
  {
   "cell_type": "code",
   "execution_count": 27,
   "metadata": {
    "ExecuteTime": {
     "end_time": "2018-10-01T11:42:17.312783Z",
     "start_time": "2018-10-01T11:42:17.230294Z"
    }
   },
   "outputs": [],
   "source": [
    "import pickle\n",
    "import numpy as np\n",
    "subj_name_list = ['MAP', 'model_weird_freezing_data', 'model_ring_HIRES',\n",
    "                 #'ACT','AM', \n",
    "                  'BB', 'DL', 'FM', 'HL','KB', 'LP', 'MB', 'MP', 'NP', 'PA']\n",
    "subj_data_list = []\n",
    "for subject in subj_name_list :\n",
    "#   x = pickle.load(open('Psychophys_discrim_2018-06-06_%s.p'%subject, 'rb'))\n",
    "    x = pickle.load(open('./psychophysics_data/Psy_discrim_final_%s.p'%subject, 'rb'))\n",
    "    subj_data_list.append(x)\n",
    "    \n",
    "b_thetas_list = []\n",
    "for x in subj_data_list[0] :\n",
    "    b_thetas_list.append(x[3]*180/np.pi)\n",
    "b_thetas_list = sorted(set(b_thetas_list))\n",
    "\n",
    "hires_b_thetas_list = []\n",
    "for x in subj_data_list[1] :\n",
    "    hires_b_thetas_list.append(x[3]*180/np.pi)\n",
    "hires_b_thetas_list = sorted(set(hires_b_thetas_list))\n"
   ]
  },
  {
   "cell_type": "code",
   "execution_count": 28,
   "metadata": {
    "ExecuteTime": {
     "end_time": "2018-10-01T11:42:28.157419Z",
     "start_time": "2018-10-01T11:42:28.014781Z"
    }
   },
   "outputs": [],
   "source": [
    "import sklearn.metrics as metrics\n",
    "import pickle\n",
    "import matplotlib.pyplot as plt\n",
    "\n",
    "#pas beau en subject average, il doit y avoir des outliers a eliminer\n",
    "#subj_name_list =  ['ACT', 'AM', 'BB', 'DL', 'FM', 'HL','KB', 'LP', 'MAP', 'MB', 'MP', 'NP', 'PA']\n",
    "\n",
    "\n",
    "def f1_score(subj_name_list, b_list):\n",
    "    subj_data_list = []\n",
    "    for subject in subj_name_list :\n",
    "    #   x = pickle.load(open('Psychophys_discrim_2018-06-06_%s.p'%subject, 'rb'))\n",
    "        x = pickle.load(open('./psychophysics_data/Psy_discrim_final_%s.p'%subject, 'rb'))\n",
    "        subj_data_list.append(x)\n",
    "\n",
    "    f1_list = []\n",
    "    #Reminder, trials are in the form of [numtrial, shift angle, answered direction, b_theta]\n",
    "\n",
    "    #for each b_theta, we loop through all the trials of each subject and we append trials whose b_theta\n",
    "    #is the one we are currently selecting. We then compute f1 score and append it to a f1 list\n",
    "    for b_theta in b_list :\n",
    "        dir_list = []\n",
    "        answered_list  = []\n",
    "        for subj in subj_data_list :\n",
    "            for trials in subj :\n",
    "                if trials[3]*180/np.pi == b_theta :\n",
    "                    if trials[2] == 'left' :\n",
    "                        dir_list.append(0)\n",
    "                    if trials[2] == 'right':\n",
    "                        dir_list.append(1)\n",
    "\n",
    "                    if np.sign(trials[1]) < 0 :\n",
    "                        answered_list.append(0)\n",
    "                    if np.sign(trials[1]) > 0 :\n",
    "                        answered_list.append(1)\n",
    "        f1_list.append(metrics.f1_score(dir_list, answered_list))\n",
    "        \n",
    "    return f1_list"
   ]
  },
  {
   "cell_type": "code",
   "execution_count": 29,
   "metadata": {},
   "outputs": [],
   "source": [
    "hum_F1_list = []\n",
    "#for very human (run tag shorter than 5 letters) return a (F1 list, name) tuple\n",
    "for subj in subj_name_list :\n",
    "    if len(subj) < 5: \n",
    "        #print(subj)\n",
    "        hum_F1_list.append( (f1_score([subj], b_thetas_list), subj)   )\n",
    "        \n",
    "convo_f1 = f1_score(['model_weird_freezing_data'], hires_b_thetas_list)\n",
    "rnn_f1 = f1_score(['model_ring_HIRES'], hires_b_thetas_list)"
   ]
  },
  {
   "cell_type": "code",
   "execution_count": 30,
   "metadata": {
    "ExecuteTime": {
     "end_time": "2018-10-01T11:42:28.960902Z",
     "start_time": "2018-10-01T11:42:28.935400Z"
    }
   },
   "outputs": [],
   "source": [
    "import matplotlib.pyplot as plt\n",
    "import numpy as np\n",
    "from lmfit.models import LinearModel, RectangleModel,ExpressionModel\n",
    "from lmfit import Parameters, Parameter\n",
    "\n",
    "def log_fit(x, y):  # returns a rectangle logfit of the xy\n",
    "    y = np.asarray(y)\n",
    "    step_mod = RectangleModel(form='logistic', prefix='step_')\n",
    "    line_mod = LinearModel(prefix='line_')\n",
    "    parms = line_mod.make_params(intercept=y.min(), slope=0)\n",
    "    parms += step_mod.guess(y, x=x, center=2.5)\n",
    "    mod = step_mod  # + line_mod\n",
    "    out = mod.fit(y, parms, x=x)\n",
    "    return out.best_fit"
   ]
  },
  {
   "cell_type": "code",
   "execution_count": 31,
   "metadata": {
    "ExecuteTime": {
     "end_time": "2018-10-01T11:42:32.255025Z",
     "start_time": "2018-10-01T11:42:32.236906Z"
    }
   },
   "outputs": [],
   "source": [
    "def expr_fit(x, y, x50=45, n=2):  # returns an expression fitting of the x y\n",
    "    mod = ExpressionModel('1 / (1 + (x/x50)**n) ')\n",
    "    pars = mod.make_params(x50=x50, n=n)\n",
    "    out = mod.fit(y, pars, x=x)\n",
    "    return out.best_fit"
   ]
  },
  {
   "cell_type": "code",
   "execution_count": 32,
   "metadata": {
    "ExecuteTime": {
     "end_time": "2018-10-01T11:42:32.821576Z",
     "start_time": "2018-10-01T11:42:32.806422Z"
    }
   },
   "outputs": [],
   "source": [
    "def naka_rushton(x, y):  # returns an expression fitting of the x y\n",
    "    mod = ExpressionModel('1 / ( 1 + (1 /x0**b) * x**b)')\n",
    "    mod.nan_policy = 'propagate'\n",
    "    pars = Parameters()\n",
    "    pars['b'] = Parameter(name = 'b', value = 2, min = 0.01)\n",
    "    pars['x0'] = Parameter(name = 'x0', value = .8)\n",
    "    out = mod.fit(y, pars, x=x)\n",
    "    return out.best_fit"
   ]
  },
  {
   "cell_type": "code",
   "execution_count": 33,
   "metadata": {
    "ExecuteTime": {
     "end_time": "2018-10-01T11:42:33.638614Z",
     "start_time": "2018-10-01T11:42:33.617410Z"
    }
   },
   "outputs": [],
   "source": [
    "def expr_fit(x, y):  # returns an expression fitting of the x y\n",
    "    mod = ExpressionModel('1 / ( 1 -amp)  * .5 / (1 + (x/x50)**n) + .5')\n",
    "    mod.nan_policy = 'propagate'\n",
    "    pars = Parameters()\n",
    "    pars['amp'] = Parameter(name = 'amp', value = .8, min = 0.01)\n",
    "    pars['x50'] = Parameter(name = 'x50', value = 45 )\n",
    "    pars['n'] = Parameter(name = 'n', value = 2, min = 0.01)\n",
    "    \n",
    "    out = mod.fit(y, pars, x=x)\n",
    "    return out.best_fit"
   ]
  },
  {
   "cell_type": "code",
   "execution_count": 34,
   "metadata": {
    "ExecuteTime": {
     "end_time": "2018-10-01T11:44:17.687902Z",
     "start_time": "2018-10-01T11:44:17.661710Z"
    }
   },
   "outputs": [],
   "source": [
    "def mega_logistic(x, y):  # logistique quadratique, qui marche\n",
    "    mod = ExpressionModel('d + (a-d)/(1+(x/c)**b)')\n",
    "    mod.nan_policy = 'propagate'\n",
    "    pars = Parameters()\n",
    "    pars['d'] = Parameter(name = 'ymax', value = .6, min = 0.01)\n",
    "    pars['a'] = Parameter(name = 'ymin', value = .8, min = .01 )\n",
    "    pars['b'] = Parameter(name = 'slope', value = 2)\n",
    "    pars['c'] = Parameter(name = 'xinflection', value = 50, min = 0.01)\n",
    "    out = mod.fit(y, pars, x=x)\n",
    "    #print(out.fit_report())\n",
    "    result = out.minimize()\n",
    "    #print(confidence.conf_interval(mod, result))\n",
    "    return out#.best_fit\n"
   ]
  },
  {
   "cell_type": "markdown",
   "metadata": {},
   "source": [
    "# One subj"
   ]
  },
  {
   "cell_type": "code",
   "execution_count": 35,
   "metadata": {},
   "outputs": [
    {
     "data": {
      "image/png": "[encoded data removed]",
      "text/plain": [
       "<Figure size 576x432 with 1 Axes>"
      ]
     },
     "metadata": {},
     "output_type": "display_data"
    }
   ],
   "source": [
    "fig, ax = plt.subplots(figsize = (8,6))\n",
    "#del hum_F1_list[1]\n",
    "#del hum_F1_list[1]\n",
    "size = 12\n",
    "marker = '.'\n",
    "xs = np.linspace(0,90, 100)\n",
    "\n",
    "\n",
    "model = mega_logistic(b_thetas_list, hum_F1_list[0][0]) #MAP\n",
    "vals = model.best_values\n",
    "#print(vals)\n",
    "\n",
    "def plot_best_fit(x=xs):\n",
    "    return vals['d'] + (vals['a']- vals['d'])/(1+(x/vals['c'])**vals['b'])\n",
    "ax.plot(plot_best_fit(), color = 'b', label = 'Human')\n",
    "ax.scatter(b_thetas_list, hum_F1_list[0][0], s = size, marker = marker, color = 'b')\n",
    "#plt.pause(.2)\n",
    "\n",
    "    \n",
    "\n",
    "model = mega_logistic(hires_b_thetas_list, rnn_f1)\n",
    "vals = model.best_values\n",
    "def plot_best_fit(x=xs):\n",
    "    return vals['d'] + (vals['a']- vals['d'])/(1+(x/vals['c'])**vals['b'])\n",
    "ax.plot(plot_best_fit(), color = 'g', label = 'Ring with lateral interactions')\n",
    "ax.scatter(hires_b_thetas_list, rnn_f1, s = size, marker = marker, color = 'g')\n",
    "\n",
    "model = mega_logistic(hires_b_thetas_list, convo_f1)\n",
    "vals = model.best_values\n",
    "def plot_best_fit(x=xs):\n",
    "    return vals['d'] + (vals['a']- vals['d'])/(1+(x/vals['c'])**vals['b'])\n",
    "ax.plot(plot_best_fit(), color = 'r', label = 'Ring without lateral interactions')\n",
    "ax.scatter(hires_b_thetas_list, convo_f1, s = size, marker = marker, color = 'r')\n",
    "\n",
    "plt.xlabel(r'$B_\\theta$', fontsize = 13)\n",
    "plt.ylabel('F1 Score', fontsize = 12)\n",
    "plt.legend()\n",
    "#plt.title(r'Variation du F1 score en fonction de $B_\\theta$')\n",
    "plt.savefig('./figs/F1_curves_all.pdf',format='pdf', dpi=1000, bbox_inches = 'tight')\n",
    "plt.show()"
   ]
  },
  {
   "cell_type": "markdown",
   "metadata": {},
   "source": [
    "# All subjs"
   ]
  },
  {
   "cell_type": "code",
   "execution_count": 43,
   "metadata": {},
   "outputs": [
    {
     "data": {
      "text/plain": [
       "11"
      ]
     },
     "execution_count": 43,
     "metadata": {},
     "output_type": "execute_result"
    }
   ],
   "source": [
    "len(hum_F1_list)"
   ]
  },
  {
   "cell_type": "code",
   "execution_count": 47,
   "metadata": {},
   "outputs": [
    {
     "name": "stdout",
     "output_type": "stream",
     "text": [
      "Help on module matplotlib.cm in matplotlib:\n",
      "\n",
      "NAME\n",
      "    matplotlib.cm - Builtin colormaps, colormap handling utilities, and the `ScalarMappable` mixin.\n",
      "\n",
      "DESCRIPTION\n",
      "    See :doc:`/gallery/color/colormap_reference` for a list of builtin colormaps.\n",
      "    See :doc:`/tutorials/colors/colormaps` for an in-depth discussion of colormaps.\n",
      "\n",
      "CLASSES\n",
      "    builtins.object\n",
      "        ScalarMappable\n",
      "    \n",
      "    class ScalarMappable(builtins.object)\n",
      "     |  This is a mixin class to support scalar data to RGBA mapping.\n",
      "     |  The ScalarMappable makes use of data normalization before returning\n",
      "     |  RGBA colors from the given colormap.\n",
      "     |  \n",
      "     |  Methods defined here:\n",
      "     |  \n",
      "     |  __init__(self, norm=None, cmap=None)\n",
      "     |      Parameters\n",
      "     |      ----------\n",
      "     |      norm : :class:`matplotlib.colors.Normalize` instance\n",
      "     |          The normalizing object which scales data, typically into the\n",
      "     |          interval ``[0, 1]``.\n",
      "     |          If *None*, *norm* defaults to a *colors.Normalize* object which\n",
      "     |          initializes its scaling based on the first data processed.\n",
      "     |      cmap : str or :class:`~matplotlib.colors.Colormap` instance\n",
      "     |          The colormap used to map normalized data values to RGBA colors.\n",
      "     |  \n",
      "     |  add_checker(self, checker)\n",
      "     |      Add an entry to a dictionary of boolean flags\n",
      "     |      that are set to True when the mappable is changed.\n",
      "     |  \n",
      "     |  autoscale(self)\n",
      "     |      Autoscale the scalar limits on the norm instance using the\n",
      "     |      current array\n",
      "     |  \n",
      "     |  autoscale_None(self)\n",
      "     |      Autoscale the scalar limits on the norm instance using the\n",
      "     |      current array, changing only limits that are None\n",
      "     |  \n",
      "     |  changed(self)\n",
      "     |      Call this whenever the mappable is changed to notify all the\n",
      "     |      callbackSM listeners to the 'changed' signal\n",
      "     |  \n",
      "     |  check_update(self, checker)\n",
      "     |      If mappable has changed since the last check,\n",
      "     |      return True; else return False\n",
      "     |  \n",
      "     |  get_array(self)\n",
      "     |      Return the array\n",
      "     |  \n",
      "     |  get_clim(self)\n",
      "     |      return the min, max of the color limits for image scaling\n",
      "     |  \n",
      "     |  get_cmap(self)\n",
      "     |      return the colormap\n",
      "     |  \n",
      "     |  set_array(self, A)\n",
      "     |      Set the image array from numpy array *A*.\n",
      "     |      \n",
      "     |      .. ACCEPTS: ndarray\n",
      "     |      \n",
      "     |      Parameters\n",
      "     |      ----------\n",
      "     |      A : ndarray\n",
      "     |  \n",
      "     |  set_clim(self, vmin=None, vmax=None)\n",
      "     |      set the norm limits for image scaling; if *vmin* is a length2\n",
      "     |      sequence, interpret it as ``(vmin, vmax)`` which is used to\n",
      "     |      support setp\n",
      "     |      \n",
      "     |      ACCEPTS: a length 2 sequence of floats; may be overridden in methods\n",
      "     |      that have ``vmin`` and ``vmax`` kwargs.\n",
      "     |  \n",
      "     |  set_cmap(self, cmap)\n",
      "     |      set the colormap for luminance data\n",
      "     |      \n",
      "     |      ACCEPTS: a colormap or registered colormap name\n",
      "     |  \n",
      "     |  set_norm(self, norm)\n",
      "     |      Set the normalization instance.\n",
      "     |      \n",
      "     |      .. ACCEPTS: `.Normalize`\n",
      "     |      \n",
      "     |      Parameters\n",
      "     |      ----------\n",
      "     |      norm : `.Normalize`\n",
      "     |  \n",
      "     |  to_rgba(self, x, alpha=None, bytes=False, norm=True)\n",
      "     |      Return a normalized rgba array corresponding to *x*.\n",
      "     |      \n",
      "     |      In the normal case, *x* is a 1-D or 2-D sequence of scalars, and\n",
      "     |      the corresponding ndarray of rgba values will be returned,\n",
      "     |      based on the norm and colormap set for this ScalarMappable.\n",
      "     |      \n",
      "     |      There is one special case, for handling images that are already\n",
      "     |      rgb or rgba, such as might have been read from an image file.\n",
      "     |      If *x* is an ndarray with 3 dimensions,\n",
      "     |      and the last dimension is either 3 or 4, then it will be\n",
      "     |      treated as an rgb or rgba array, and no mapping will be done.\n",
      "     |      The array can be uint8, or it can be floating point with\n",
      "     |      values in the 0-1 range; otherwise a ValueError will be raised.\n",
      "     |      If it is a masked array, the mask will be ignored.\n",
      "     |      If the last dimension is 3, the *alpha* kwarg (defaulting to 1)\n",
      "     |      will be used to fill in the transparency.  If the last dimension\n",
      "     |      is 4, the *alpha* kwarg is ignored; it does not\n",
      "     |      replace the pre-existing alpha.  A ValueError will be raised\n",
      "     |      if the third dimension is other than 3 or 4.\n",
      "     |      \n",
      "     |      In either case, if *bytes* is *False* (default), the rgba\n",
      "     |      array will be floats in the 0-1 range; if it is *True*,\n",
      "     |      the returned rgba array will be uint8 in the 0 to 255 range.\n",
      "     |      \n",
      "     |      If norm is False, no normalization of the input data is\n",
      "     |      performed, and it is assumed to be in the range (0-1).\n",
      "     |  \n",
      "     |  ----------------------------------------------------------------------\n",
      "     |  Data descriptors defined here:\n",
      "     |  \n",
      "     |  __dict__\n",
      "     |      dictionary for instance variables (if defined)\n",
      "     |  \n",
      "     |  __weakref__\n",
      "     |      list of weak references to the object (if defined)\n",
      "\n",
      "FUNCTIONS\n",
      "    get_cmap(name=None, lut=None)\n",
      "        Get a colormap instance, defaulting to rc values if *name* is None.\n",
      "        \n",
      "        Colormaps added with :func:`register_cmap` take precedence over\n",
      "        built-in colormaps.\n",
      "        \n",
      "        If *name* is a :class:`matplotlib.colors.Colormap` instance, it will be\n",
      "        returned.\n",
      "        \n",
      "        If *lut* is not None it must be an integer giving the number of\n",
      "        entries desired in the lookup table, and *name* must be a standard\n",
      "        mpl colormap name.\n",
      "    \n",
      "    register_cmap(name=None, cmap=None, data=None, lut=None)\n",
      "        Add a colormap to the set recognized by :func:`get_cmap`.\n",
      "        \n",
      "        It can be used in two ways::\n",
      "        \n",
      "            register_cmap(name='swirly', cmap=swirly_cmap)\n",
      "        \n",
      "            register_cmap(name='choppy', data=choppydata, lut=128)\n",
      "        \n",
      "        In the first case, *cmap* must be a :class:`matplotlib.colors.Colormap`\n",
      "        instance.  The *name* is optional; if absent, the name will\n",
      "        be the :attr:`~matplotlib.colors.Colormap.name` attribute of the *cmap*.\n",
      "        \n",
      "        In the second case, the three arguments are passed to\n",
      "        the :class:`~matplotlib.colors.LinearSegmentedColormap` initializer,\n",
      "        and the resulting colormap is registered.\n",
      "    \n",
      "    revcmap(data)\n",
      "        Can only handle specification *data* in dictionary format.\n",
      "\n",
      "DATA\n",
      "    Accent = <matplotlib.colors.ListedColormap object>\n",
      "    Accent_r = <matplotlib.colors.ListedColormap object>\n",
      "    Blues = <matplotlib.colors.LinearSegmentedColormap object>\n",
      "    Blues_r = <matplotlib.colors.LinearSegmentedColormap object>\n",
      "    BrBG = <matplotlib.colors.LinearSegmentedColormap object>\n",
      "    BrBG_r = <matplotlib.colors.LinearSegmentedColormap object>\n",
      "    BuGn = <matplotlib.colors.LinearSegmentedColormap object>\n",
      "    BuGn_r = <matplotlib.colors.LinearSegmentedColormap object>\n",
      "    BuPu = <matplotlib.colors.LinearSegmentedColormap object>\n",
      "    BuPu_r = <matplotlib.colors.LinearSegmentedColormap object>\n",
      "    CMRmap = <matplotlib.colors.LinearSegmentedColormap object>\n",
      "    CMRmap_r = <matplotlib.colors.LinearSegmentedColormap object>\n",
      "    Dark2 = <matplotlib.colors.ListedColormap object>\n",
      "    Dark2_r = <matplotlib.colors.ListedColormap object>\n",
      "    GnBu = <matplotlib.colors.LinearSegmentedColormap object>\n",
      "    GnBu_r = <matplotlib.colors.LinearSegmentedColormap object>\n",
      "    Greens = <matplotlib.colors.LinearSegmentedColormap object>\n",
      "    Greens_r = <matplotlib.colors.LinearSegmentedColormap object>\n",
      "    Greys = <matplotlib.colors.LinearSegmentedColormap object>\n",
      "    Greys_r = <matplotlib.colors.LinearSegmentedColormap object>\n",
      "    LUTSIZE = 256\n",
      "    OrRd = <matplotlib.colors.LinearSegmentedColormap object>\n",
      "    OrRd_r = <matplotlib.colors.LinearSegmentedColormap object>\n",
      "    Oranges = <matplotlib.colors.LinearSegmentedColormap object>\n",
      "    Oranges_r = <matplotlib.colors.LinearSegmentedColormap object>\n",
      "    PRGn = <matplotlib.colors.LinearSegmentedColormap object>\n",
      "    PRGn_r = <matplotlib.colors.LinearSegmentedColormap object>\n",
      "    Paired = <matplotlib.colors.ListedColormap object>\n",
      "    Paired_r = <matplotlib.colors.ListedColormap object>\n",
      "    Pastel1 = <matplotlib.colors.ListedColormap object>\n",
      "    Pastel1_r = <matplotlib.colors.ListedColormap object>\n",
      "    Pastel2 = <matplotlib.colors.ListedColormap object>\n",
      "    Pastel2_r = <matplotlib.colors.ListedColormap object>\n",
      "    PiYG = <matplotlib.colors.LinearSegmentedColormap object>\n",
      "    PiYG_r = <matplotlib.colors.LinearSegmentedColormap object>\n",
      "    PuBu = <matplotlib.colors.LinearSegmentedColormap object>\n",
      "    PuBuGn = <matplotlib.colors.LinearSegmentedColormap object>\n",
      "    PuBuGn_r = <matplotlib.colors.LinearSegmentedColormap object>\n",
      "    PuBu_r = <matplotlib.colors.LinearSegmentedColormap object>\n",
      "    PuOr = <matplotlib.colors.LinearSegmentedColormap object>\n",
      "    PuOr_r = <matplotlib.colors.LinearSegmentedColormap object>\n",
      "    PuRd = <matplotlib.colors.LinearSegmentedColormap object>\n",
      "    PuRd_r = <matplotlib.colors.LinearSegmentedColormap object>\n",
      "    Purples = <matplotlib.colors.LinearSegmentedColormap object>\n",
      "    Purples_r = <matplotlib.colors.LinearSegmentedColormap object>\n",
      "    RdBu = <matplotlib.colors.LinearSegmentedColormap object>\n",
      "    RdBu_r = <matplotlib.colors.LinearSegmentedColormap object>\n",
      "    RdGy = <matplotlib.colors.LinearSegmentedColormap object>\n",
      "    RdGy_r = <matplotlib.colors.LinearSegmentedColormap object>\n",
      "    RdPu = <matplotlib.colors.LinearSegmentedColormap object>\n",
      "    RdPu_r = <matplotlib.colors.LinearSegmentedColormap object>\n",
      "    RdYlBu = <matplotlib.colors.LinearSegmentedColormap object>\n",
      "    RdYlBu_r = <matplotlib.colors.LinearSegmentedColormap object>\n",
      "    RdYlGn = <matplotlib.colors.LinearSegmentedColormap object>\n",
      "    RdYlGn_r = <matplotlib.colors.LinearSegmentedColormap object>\n",
      "    Reds = <matplotlib.colors.LinearSegmentedColormap object>\n",
      "    Reds_r = <matplotlib.colors.LinearSegmentedColormap object>\n",
      "    Set1 = <matplotlib.colors.ListedColormap object>\n",
      "    Set1_r = <matplotlib.colors.ListedColormap object>\n",
      "    Set2 = <matplotlib.colors.ListedColormap object>\n",
      "    Set2_r = <matplotlib.colors.ListedColormap object>\n",
      "    Set3 = <matplotlib.colors.ListedColormap object>\n",
      "    Set3_r = <matplotlib.colors.ListedColormap object>\n",
      "    Spectral = <matplotlib.colors.LinearSegmentedColormap object>\n",
      "    Spectral_r = <matplotlib.colors.LinearSegmentedColormap object>\n",
      "    Wistia = <matplotlib.colors.LinearSegmentedColormap object>\n",
      "    Wistia_r = <matplotlib.colors.LinearSegmentedColormap object>\n",
      "    YlGn = <matplotlib.colors.LinearSegmentedColormap object>\n",
      "    YlGnBu = <matplotlib.colors.LinearSegmentedColormap object>\n",
      "    YlGnBu_r = <matplotlib.colors.LinearSegmentedColormap object>\n",
      "    YlGn_r = <matplotlib.colors.LinearSegmentedColormap object>\n",
      "    YlOrBr = <matplotlib.colors.LinearSegmentedColormap object>\n",
      "    YlOrBr_r = <matplotlib.colors.LinearSegmentedColormap object>\n",
      "    YlOrRd = <matplotlib.colors.LinearSegmentedColormap object>\n",
      "    YlOrRd_r = <matplotlib.colors.LinearSegmentedColormap object>\n",
      "    absolute_import = _Feature((2, 5, 0, 'alpha', 1), (3, 0, 0, 'alpha', 0...\n",
      "    afmhot = <matplotlib.colors.LinearSegmentedColormap object>\n",
      "    afmhot_r = <matplotlib.colors.LinearSegmentedColormap object>\n",
      "    autumn = <matplotlib.colors.LinearSegmentedColormap object>\n",
      "    autumn_r = <matplotlib.colors.LinearSegmentedColormap object>\n",
      "    binary = <matplotlib.colors.LinearSegmentedColormap object>\n",
      "    binary_r = <matplotlib.colors.LinearSegmentedColormap object>\n",
      "    bone = <matplotlib.colors.LinearSegmentedColormap object>\n",
      "    bone_r = <matplotlib.colors.LinearSegmentedColormap object>\n",
      "    brg = <matplotlib.colors.LinearSegmentedColormap object>\n",
      "    brg_r = <matplotlib.colors.LinearSegmentedColormap object>\n",
      "    bwr = <matplotlib.colors.LinearSegmentedColormap object>\n",
      "    bwr_r = <matplotlib.colors.LinearSegmentedColormap object>\n",
      "    cividis = <matplotlib.colors.ListedColormap object>\n",
      "    cividis_r = <matplotlib.colors.ListedColormap object>\n",
      "    cmap_d = {'Accent': <matplotlib.colors.ListedColormap object>, 'Accent...\n",
      "    cmapname = 'tab20c_r'\n",
      "    cmaps_listed = {'cividis': <matplotlib.colors.ListedColormap object>, ...\n",
      "    cool = <matplotlib.colors.LinearSegmentedColormap object>\n",
      "    cool_r = <matplotlib.colors.LinearSegmentedColormap object>\n",
      "    coolwarm = <matplotlib.colors.LinearSegmentedColormap object>\n",
      "    coolwarm_r = <matplotlib.colors.LinearSegmentedColormap object>\n",
      "    copper = <matplotlib.colors.LinearSegmentedColormap object>\n",
      "    copper_r = <matplotlib.colors.LinearSegmentedColormap object>\n",
      "    cubehelix = <matplotlib.colors.LinearSegmentedColormap object>\n",
      "    cubehelix_r = <matplotlib.colors.LinearSegmentedColormap object>\n",
      "    datad = {'Accent': {'listed': ((0.4980392156862745, 0.788235294117647,...\n",
      "    division = _Feature((2, 2, 0, 'alpha', 2), (3, 0, 0, 'alpha', 0), 8192...\n",
      "    flag = <matplotlib.colors.LinearSegmentedColormap object>\n",
      "    flag_r = <matplotlib.colors.LinearSegmentedColormap object>\n",
      "    gist_earth = <matplotlib.colors.LinearSegmentedColormap object>\n",
      "    gist_earth_r = <matplotlib.colors.LinearSegmentedColormap object>\n",
      "    gist_gray = <matplotlib.colors.LinearSegmentedColormap object>\n",
      "    gist_gray_r = <matplotlib.colors.LinearSegmentedColormap object>\n",
      "    gist_heat = <matplotlib.colors.LinearSegmentedColormap object>\n",
      "    gist_heat_r = <matplotlib.colors.LinearSegmentedColormap object>\n",
      "    gist_ncar = <matplotlib.colors.LinearSegmentedColormap object>\n",
      "    gist_ncar_r = <matplotlib.colors.LinearSegmentedColormap object>\n",
      "    gist_rainbow = <matplotlib.colors.LinearSegmentedColormap object>\n",
      "    gist_rainbow_r = <matplotlib.colors.LinearSegmentedColormap object>\n",
      "    gist_stern = <matplotlib.colors.LinearSegmentedColormap object>\n",
      "    gist_stern_r = <matplotlib.colors.LinearSegmentedColormap object>\n",
      "    gist_yarg = <matplotlib.colors.LinearSegmentedColormap object>\n",
      "    gist_yarg_r = <matplotlib.colors.LinearSegmentedColormap object>\n",
      "    gnuplot = <matplotlib.colors.LinearSegmentedColormap object>\n",
      "    gnuplot2 = <matplotlib.colors.LinearSegmentedColormap object>\n",
      "    gnuplot2_r = <matplotlib.colors.LinearSegmentedColormap object>\n",
      "    gnuplot_r = <matplotlib.colors.LinearSegmentedColormap object>\n",
      "    gray = <matplotlib.colors.LinearSegmentedColormap object>\n",
      "    gray_r = <matplotlib.colors.LinearSegmentedColormap object>\n",
      "    hot = <matplotlib.colors.LinearSegmentedColormap object>\n",
      "    hot_r = <matplotlib.colors.LinearSegmentedColormap object>\n",
      "    hsv = <matplotlib.colors.LinearSegmentedColormap object>\n",
      "    hsv_r = <matplotlib.colors.LinearSegmentedColormap object>\n",
      "    inferno = <matplotlib.colors.ListedColormap object>\n",
      "    inferno_r = <matplotlib.colors.ListedColormap object>\n",
      "    jet = <matplotlib.colors.LinearSegmentedColormap object>\n",
      "    jet_r = <matplotlib.colors.LinearSegmentedColormap object>\n",
      "    magma = <matplotlib.colors.ListedColormap object>\n",
      "    magma_r = <matplotlib.colors.ListedColormap object>\n",
      "    nipy_spectral = <matplotlib.colors.LinearSegmentedColormap object>\n",
      "    nipy_spectral_r = <matplotlib.colors.LinearSegmentedColormap object>\n",
      "    ocean = <matplotlib.colors.LinearSegmentedColormap object>\n",
      "    ocean_r = <matplotlib.colors.LinearSegmentedColormap object>\n",
      "    pink = <matplotlib.colors.LinearSegmentedColormap object>\n",
      "    pink_r = <matplotlib.colors.LinearSegmentedColormap object>\n",
      "    plasma = <matplotlib.colors.ListedColormap object>\n",
      "    plasma_r = <matplotlib.colors.ListedColormap object>\n",
      "    print_function = _Feature((2, 6, 0, 'alpha', 2), (3, 0, 0, 'alpha', 0)...\n",
      "    prism = <matplotlib.colors.LinearSegmentedColormap object>\n",
      "    prism_r = <matplotlib.colors.LinearSegmentedColormap object>\n",
      "    rainbow = <matplotlib.colors.LinearSegmentedColormap object>\n",
      "    rainbow_r = <matplotlib.colors.LinearSegmentedColormap object>\n",
      "    seismic = <matplotlib.colors.LinearSegmentedColormap object>\n",
      "    seismic_r = <matplotlib.colors.LinearSegmentedColormap object>\n",
      "    spring = <matplotlib.colors.LinearSegmentedColormap object>\n",
      "    spring_r = <matplotlib.colors.LinearSegmentedColormap object>\n",
      "    summer = <matplotlib.colors.LinearSegmentedColormap object>\n",
      "    summer_r = <matplotlib.colors.LinearSegmentedColormap object>\n",
      "    tab10 = <matplotlib.colors.ListedColormap object>\n",
      "    tab10_r = <matplotlib.colors.ListedColormap object>\n",
      "    tab20 = <matplotlib.colors.ListedColormap object>\n",
      "    tab20_r = <matplotlib.colors.ListedColormap object>\n",
      "    tab20b = <matplotlib.colors.ListedColormap object>\n",
      "    tab20b_r = <matplotlib.colors.ListedColormap object>\n",
      "    tab20c = <matplotlib.colors.ListedColormap object>\n",
      "    tab20c_r = <matplotlib.colors.ListedColormap object>\n",
      "    terrain = <matplotlib.colors.LinearSegmentedColormap object>\n",
      "    terrain_r = <matplotlib.colors.LinearSegmentedColormap object>\n",
      "    unicode_literals = _Feature((2, 6, 0, 'alpha', 2), (3, 0, 0, 'alpha', ...\n",
      "    viridis = <matplotlib.colors.ListedColormap object>\n",
      "    viridis_r = <matplotlib.colors.ListedColormap object>\n",
      "    winter = <matplotlib.colors.LinearSegmentedColormap object>\n",
      "    winter_r = <matplotlib.colors.LinearSegmentedColormap object>\n",
      "\n",
      "FILE\n",
      "    /home/hugo/anaconda3/lib/python3.6/site-packages/matplotlib/cm.py\n",
      "\n",
      "\n"
     ]
    }
   ],
   "source": [
    "help(cm)"
   ]
  },
  {
   "cell_type": "code",
   "execution_count": null,
   "metadata": {},
   "outputs": [],
   "source": [
    "from matplotlib.pyplot import cm\n",
    "\n",
    "fig, ax = plt.subplots(figsize = (8,6))\n",
    "#del hum_F1_list[1]\n",
    "#del hum_F1_list[1]\n",
    "size = 12\n",
    "marker = '.'\n",
    "xs = np.linspace(0,90, 100)\n",
    "\n",
    "color=iter(cm.Blues(np.linspace(.5, 1,10)))\n",
    "\n",
    "for i,subj in enumerate(hum_F1_list) :\n",
    "    try :\n",
    "        model = mega_logistic(b_thetas_list, subj[0])\n",
    "        vals = model.best_values\n",
    "        #print(vals)\n",
    "        def plot_best_fit(x=xs):\n",
    "            return vals['d'] + (vals['a']- vals['d'])/(1+(x/vals['c'])**vals['b'])\n",
    "        ax.plot(plot_best_fit(), color = next(color), label = 'Human' if i == 0 else '')\n",
    "        ax.scatter(b_thetas_list, subj[0], s = size, marker = marker, color = 'b')\n",
    "        #plt.pause(.2)\n",
    "    except :\n",
    "        pass #for some reason i'm getting errors for certain runs, i'll debug the outliers later\n",
    "    \n",
    "\n",
    "model = mega_logistic(hires_b_thetas_list, rnn_f1)\n",
    "vals = model.best_values\n",
    "def plot_best_fit(x=xs):\n",
    "    return vals['d'] + (vals['a']- vals['d'])/(1+(x/vals['c'])**vals['b'])\n",
    "ax.plot(plot_best_fit(), color = 'g', label = 'Ring with lateral interactions')\n",
    "ax.scatter(hires_b_thetas_list, rnn_f1, s = size, marker = marker, color = 'g')\n",
    "\n",
    "model = mega_logistic(hires_b_thetas_list, convo_f1)\n",
    "vals = model.best_values\n",
    "def plot_best_fit(x=xs):\n",
    "    return vals['d'] + (vals['a']- vals['d'])/(1+(x/vals['c'])**vals['b'])\n",
    "ax.plot(plot_best_fit(), color = 'r', label = 'Ring without lateral interactions')\n",
    "ax.scatter(hires_b_thetas_list, convo_f1, s = size, marker = marker, color = 'r')\n",
    "\n",
    "plt.xlabel(r'$B_\\theta$', fontsize = 13)\n",
    "plt.ylabel('F1 Score', fontsize = 12)\n",
    "plt.legend()\n",
    "#plt.title(r'Variation du F1 score en fonction de $B_\\theta$')\n",
    "plt.savefig('./figs/F1_curves_all.pdf',format='pdf', dpi=1000, bbox_inches = 'tight')\n",
    "plt.show()"
   ]
  },
  {
   "cell_type": "markdown",
   "metadata": {},
   "source": [
    "# Average human F1"
   ]
  },
  {
   "cell_type": "code",
   "execution_count": 17,
   "metadata": {},
   "outputs": [],
   "source": [
    "avg =[]\n",
    "for subj in hum_F1_list :\n",
    "    avg.append(subj[0])\n",
    "    \n",
    "hum_F1_list = np.mean(avg, axis = 0)"
   ]
  },
  {
   "cell_type": "code",
   "execution_count": 18,
   "metadata": {},
   "outputs": [
    {
     "data": {
      "image/png": "[encoded data removed]",
      "text/plain": [
       "<Figure size 576x432 with 1 Axes>"
      ]
     },
     "metadata": {},
     "output_type": "display_data"
    }
   ],
   "source": [
    "fig, ax = plt.subplots(figsize = (8,6))\n",
    "#del hum_F1_list[1]\n",
    "#del hum_F1_list[1]\n",
    "size = 12\n",
    "marker = '.'\n",
    "xs = np.linspace(0,90, 100)\n",
    "\n",
    "\n",
    "model = mega_logistic(b_thetas_list, hum_F1_list)\n",
    "vals = model.best_values\n",
    "#print(vals)\n",
    "\n",
    "def plot_best_fit(x=xs):\n",
    "    return vals['d'] + (vals['a']- vals['d'])/(1+(x/vals['c'])**vals['b'])\n",
    "ax.plot(plot_best_fit(), color = 'b', label = 'Human averaged')\n",
    "ax.scatter(b_thetas_list, hum_F1_list, s = size, marker = marker, color = 'b')\n",
    "#plt.pause(.2)\n",
    "\n",
    "\n",
    "model = mega_logistic(hires_b_thetas_list, rnn_f1)\n",
    "vals = model.best_values\n",
    "def plot_best_fit(x=xs):\n",
    "    return vals['d'] + (vals['a']- vals['d'])/(1+(x/vals['c'])**vals['b'])\n",
    "ax.plot(plot_best_fit(), color = 'g', label = 'Ring with lateral interactions')\n",
    "ax.scatter(hires_b_thetas_list, rnn_f1, s = size, marker = marker, color = 'g')\n",
    "\n",
    "model = mega_logistic(hires_b_thetas_list, convo_f1)\n",
    "vals = model.best_values\n",
    "def plot_best_fit(x=xs):\n",
    "    return vals['d'] + (vals['a']- vals['d'])/(1+(x/vals['c'])**vals['b'])\n",
    "ax.plot(plot_best_fit(), color = 'r', label = 'Ring without lateral interactions')\n",
    "ax.scatter(hires_b_thetas_list, convo_f1, s = size, marker = marker, color = 'r')\n",
    "\n",
    "plt.xlabel(r'$B_\\theta$', fontsize = 13)\n",
    "plt.ylabel('F1 Score', fontsize = 12)\n",
    "plt.legend()\n",
    "#plt.title(r'Variation du F1 score en fonction de $B_\\theta$')\n",
    "plt.savefig('./figs/F1_curves_avg.pdf',format='pdf', dpi=1000, bbox_inches = 'tight')\n",
    "plt.show()"
   ]
  },
  {
   "cell_type": "markdown",
   "metadata": {},
   "source": [
    "# Coefficient de regression"
   ]
  },
  {
   "cell_type": "code",
   "execution_count": 19,
   "metadata": {
    "ExecuteTime": {
     "end_time": "2018-10-01T10:52:02.684525Z",
     "start_time": "2018-10-01T10:52:01.141838Z"
    }
   },
   "outputs": [
    {
     "data": {
      "image/png": "[encoded data removed]",
      "text/plain": [
       "<Figure size 432x288 with 1 Axes>"
      ]
     },
     "metadata": {},
     "output_type": "display_data"
    }
   ],
   "source": [
    "avg_list = []\n",
    "plt_list = []\n",
    "for b_theta in b_thetas_list :\n",
    "    avg_list = []\n",
    "    for coef in coef_list :\n",
    "        if coef[0] == b_theta :\n",
    "            avg_list.append(coef[1])\n",
    "    plt_list.append(np.mean(avg_list))\n",
    "\n",
    "plt.plot(b_thetas_list, plt_list)\n",
    "plt.xlabel(r'$B_\\theta$')\n",
    "plt.ylabel('Coefficient moyen de regression')\n",
    "plt.title(r'Variation du coefficient de regression en fonction de $B_\\theta$')\n",
    "plt.savefig('./figs/B_theta_curve.pdf',format='pdf', dpi=1000)\n",
    "plt.show()"
   ]
  },
  {
   "cell_type": "markdown",
   "metadata": {},
   "source": [
    "# Unused"
   ]
  },
  {
   "cell_type": "code",
   "execution_count": 20,
   "metadata": {
    "ExecuteTime": {
     "end_time": "2018-10-01T10:52:04.623599Z",
     "start_time": "2018-10-01T10:52:02.707651Z"
    }
   },
   "outputs": [
    {
     "data": {
      "text/plain": [
       "<matplotlib.legend.Legend at 0x7fdf6a97e1d0>"
      ]
     },
     "execution_count": 20,
     "metadata": {},
     "output_type": "execute_result"
    },
    {
     "data": {
      "image/png": "[encoded data removed]",
      "text/plain": [
       "<Figure size 432x288 with 1 Axes>"
      ]
     },
     "metadata": {},
     "output_type": "display_data"
    }
   ],
   "source": [
    "plt_expr = expr_fit(hires_b_thetas_list, rnn_f1)\n",
    "plt_log = log_fit(hires_b_thetas_list, rnn_f1)\n",
    "\n",
    "plt.plot(hires_b_thetas_list, plt_expr, label = 'expr')\n",
    "plt.plot(hires_b_thetas_list, plt_log, label = 'log')\n",
    "plt.plot(hires_b_thetas_list, rnn_f1, 'b.')\n",
    "plt.title ('RNN fit comparison')\n",
    "plt.legend()"
   ]
  },
  {
   "cell_type": "code",
   "execution_count": 21,
   "metadata": {
    "ExecuteTime": {
     "end_time": "2018-10-01T10:52:06.752721Z",
     "start_time": "2018-10-01T10:52:04.634584Z"
    }
   },
   "outputs": [
    {
     "ename": "NameError",
     "evalue": "name 'hum_f1' is not defined",
     "output_type": "error",
     "traceback": [
      "\u001b[0;31m---------------------------------------------------------------------------\u001b[0m",
      "\u001b[0;31mNameError\u001b[0m                                 Traceback (most recent call last)",
      "\u001b[0;32m<ipython-input-21-94a3e667ea4c>\u001b[0m in \u001b[0;36m<module>\u001b[0;34m()\u001b[0m\n\u001b[0;32m----> 1\u001b[0;31m \u001b[0mplt_expr\u001b[0m \u001b[0;34m=\u001b[0m \u001b[0mexpr_fit\u001b[0m\u001b[0;34m(\u001b[0m\u001b[0mb_thetas_list\u001b[0m\u001b[0;34m,\u001b[0m \u001b[0mhum_f1\u001b[0m\u001b[0;34m)\u001b[0m\u001b[0;34m\u001b[0m\u001b[0m\n\u001b[0m\u001b[1;32m      2\u001b[0m \u001b[0mplt_log\u001b[0m \u001b[0;34m=\u001b[0m \u001b[0mlog_fit\u001b[0m\u001b[0;34m(\u001b[0m\u001b[0mb_thetas_list\u001b[0m\u001b[0;34m,\u001b[0m \u001b[0mhum_f1\u001b[0m\u001b[0;34m)\u001b[0m\u001b[0;34m\u001b[0m\u001b[0m\n\u001b[1;32m      3\u001b[0m \u001b[0;34m\u001b[0m\u001b[0m\n\u001b[1;32m      4\u001b[0m \u001b[0mplt\u001b[0m\u001b[0;34m.\u001b[0m\u001b[0mtitle\u001b[0m\u001b[0;34m(\u001b[0m\u001b[0;34m'Human fit comparison'\u001b[0m\u001b[0;34m)\u001b[0m\u001b[0;34m\u001b[0m\u001b[0m\n\u001b[1;32m      5\u001b[0m \u001b[0mplt\u001b[0m\u001b[0;34m.\u001b[0m\u001b[0mplot\u001b[0m\u001b[0;34m(\u001b[0m\u001b[0mb_thetas_list\u001b[0m\u001b[0;34m,\u001b[0m \u001b[0mplt_expr\u001b[0m\u001b[0;34m,\u001b[0m \u001b[0mlabel\u001b[0m \u001b[0;34m=\u001b[0m \u001b[0;34m'expr'\u001b[0m\u001b[0;34m)\u001b[0m\u001b[0;34m\u001b[0m\u001b[0m\n",
      "\u001b[0;31mNameError\u001b[0m: name 'hum_f1' is not defined"
     ]
    }
   ],
   "source": [
    "plt_expr = expr_fit(b_thetas_list, hum_f1)\n",
    "plt_log = log_fit(b_thetas_list, hum_f1)\n",
    "\n",
    "plt.title('Human fit comparison')\n",
    "plt.plot(b_thetas_list, plt_expr, label = 'expr')\n",
    "plt.plot(b_thetas_list, plt_log, label = 'log')\n",
    "plt.plot(b_thetas_list, hum_f1, 'b.')\n",
    "plt.legend()"
   ]
  }
 ],
 "metadata": {
  "kernelspec": {
   "display_name": "Python 3",
   "language": "python",
   "name": "python3"
  },
  "language_info": {
   "codemirror_mode": {
    "name": "ipython",
    "version": 3
   },
   "file_extension": ".py",
   "mimetype": "text/x-python",
   "name": "python",
   "nbconvert_exporter": "python",
   "pygments_lexer": "ipython3",
   "version": "3.6.4"
  },
  "toc": {
   "base_numbering": 1,
   "nav_menu": {},
   "number_sections": true,
   "sideBar": true,
   "skip_h1_title": false,
   "title_cell": "Table of Contents",
   "title_sidebar": "Contents",
   "toc_cell": false,
   "toc_position": {},
   "toc_section_display": true,
   "toc_window_display": false
  }
 },
 "nbformat": 4,
 "nbformat_minor": 2
}
