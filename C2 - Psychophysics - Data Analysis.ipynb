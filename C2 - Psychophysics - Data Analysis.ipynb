{
 "cells": [
  {
   "cell_type": "markdown",
   "metadata": {},
   "source": [
    "# Psychophysics - Analyse des données\n",
    "\n",
    "On va faire une regression logistique des données obtenues en psychophysiques, pour chercher le seuil B_theta vers lequel les gens perdent en performances. On le comparera ensuite qualitativement au performances du modèle pour essayer de valider sa plausibilité neurobiologique. "
   ]
  },
  {
   "cell_type": "code",
   "execution_count": 1,
   "metadata": {},
   "outputs": [
    {
     "name": "stdout",
     "output_type": "stream",
     "text": [
      " ./psychophysics_data/Psy_discrim_final_ACT.p\r\n",
      " ./psychophysics_data/Psy_discrim_final_AM.p\r\n",
      " ./psychophysics_data/Psy_discrim_final_BB.p\r\n",
      " ./psychophysics_data/Psy_discrim_final_convo_model_HIRES.p\r\n",
      " ./psychophysics_data/Psy_discrim_final_DL.p\r\n",
      " ./psychophysics_data/Psy_discrim_final_FM.p\r\n",
      " ./psychophysics_data/Psy_discrim_final_HL.p\r\n",
      " ./psychophysics_data/Psy_discrim_final_KB.p\r\n",
      " ./psychophysics_data/Psy_discrim_final_LP.p\r\n",
      " ./psychophysics_data/Psy_discrim_final_MAP.p\r\n",
      " ./psychophysics_data/Psy_discrim_final_MB.p\r\n",
      "'./psychophysics_data/Psy_discrim_final_Model - Convo.p'\r\n",
      " ./psychophysics_data/Psy_discrim_final_model_ring_HIRES.p\r\n",
      "'./psychophysics_data/Psy_discrim_final_Model - Ring.p'\r\n",
      " ./psychophysics_data/Psy_discrim_final_MP.p\r\n",
      " ./psychophysics_data/Psy_discrim_final_NP.p\r\n",
      " ./psychophysics_data/Psy_discrim_final_PA.p\r\n"
     ]
    }
   ],
   "source": [
    "%ls ./psychophysics_data/Psy_discrim_final*.p"
   ]
  },
  {
   "cell_type": "markdown",
   "metadata": {},
   "source": [
    "En utilisant le modèle de régression logistique de scikit-learn, on fait un modèle pour chaque sujet :"
   ]
  },
  {
   "cell_type": "markdown",
   "metadata": {},
   "source": [
    "# Tache de discrimination "
   ]
  },
  {
   "cell_type": "code",
   "execution_count": null,
   "metadata": {},
   "outputs": [],
   "source": [
    "import pickle\n",
    "import matplotlib.pyplot as plt\n",
    "\n",
    "subj_name_list =  ['Model - Ring']\n",
    "#['ACT', 'AM', 'BB', 'DL', 'FM', 'HL','KB', 'LP', 'MAP', 'MB', 'MP', 'NP', 'PA']\n",
    "                  #'Model - Ring','Model - Convo']\n",
    "                \n",
    "subj_data_list = []\n",
    "\n",
    "for subject in subj_name_list :\n",
    "#   x = pickle.load(open('Psychophys_discrim_2018-06-06_%s.p'%subject, 'rb'))\n",
    "    x = pickle.load(open('./psychophysics_data/Psy_discrim_final_%s.p'%subject, 'rb'))\n",
    "    subj_data_list.append(x)"
   ]
  },
  {
   "cell_type": "markdown",
   "metadata": {},
   "source": [
    "En sujet individuel et en utilisant tout les B_theta:"
   ]
  },
  {
   "cell_type": "code",
   "execution_count": null,
   "metadata": {},
   "outputs": [],
   "source": [
    "from sklearn.linear_model import LogisticRegression\n",
    "import numpy as np\n",
    "\n",
    "#the values used for plotting once the model is built\n",
    "x_values = np.linspace(-50, 50, 100)\n",
    "x_plot = np.reshape(x_values, (100,1))\n",
    "\n",
    "for num, subj_data in enumerate(subj_data_list) :\n",
    "    X = []\n",
    "    for i in subj_data :\n",
    "        #X.append(i[3]*180/np.pi)\n",
    "        X.append(i[1]*180/np.pi)\n",
    "\n",
    "    y =[]\n",
    "    for i in subj_data :\n",
    "        if False:\n",
    "            # fitting if correct \n",
    "            if np.sign(i[1]) > 0 and i[2] == 'right':\n",
    "                y.append(1)\n",
    "            else :\n",
    "                y.append(0)\n",
    "            #y.append(i[1])\n",
    "        else:\n",
    "            # fitting with direction \n",
    "            if i[2] == 'right':\n",
    "                y.append(1)\n",
    "            else :\n",
    "                y.append(0)\n",
    "            #y.append(i[1])\n",
    "\n",
    "    \n",
    "    #reshaped for fitting\n",
    "    X = np.asarray(X)\n",
    "    X = X[:,np.newaxis]\n",
    "    \n",
    "    #logistic regression\n",
    "    lgs = LogisticRegression(C = 3, max_iter = 100, penalty = 'l1' ,class_weight = {1 : 1 , 0 : 1}) \n",
    "    lgs.fit(X, y)\n",
    "    #print(lgs.coef_)\n",
    "    y_values = lgs.predict_proba(x_plot)[:,1]\n",
    "    plt.plot(x_values, y_values, label = 'LogReg')\n",
    "\n",
    "    plt.scatter(X, y, c='r', s=2)\n",
    "    plt.title('Psychophysic curve - %s' % subj_name_list[num])\n",
    "    plt.xlabel(\"Theta\")\n",
    "    plt.ylabel(\"Subject answered correctly\")\n",
    "    #plt.legend()\n",
    "    plt.show()"
   ]
  },
  {
   "cell_type": "markdown",
   "metadata": {},
   "source": [
    "En sujet individuel avec une courbe par B_theta :"
   ]
  },
  {
   "cell_type": "code",
   "execution_count": null,
   "metadata": {},
   "outputs": [],
   "source": [
    "b_thetas_list = []\n",
    "for x in subj_data_list[0] :\n",
    "    b_thetas_list.append(x[3]*180/np.pi)\n",
    "\n",
    "b_thetas_list = sorted(set(b_thetas_list))\n",
    "print(b_thetas_list)"
   ]
  },
  {
   "cell_type": "code",
   "execution_count": null,
   "metadata": {
    "scrolled": false
   },
   "outputs": [],
   "source": [
    "from sklearn.linear_model import LogisticRegression\n",
    "import numpy as np\n",
    "\n",
    "#the values used for plotting once the model is built\n",
    "x_values = np.linspace(-50, 50, 100)\n",
    "x_plot = np.reshape(x_values, (100,1))\n",
    "\n",
    "lr_kwargs = dict(solver='liblinear', C = 3, max_iter=1000, penalty='l2', class_weight = {1 : 1 , 0 : 1})\n",
    "\n",
    "coef_list = []\n",
    "\n",
    "for num, subj_data in enumerate(subj_data_list) :\n",
    "    plt.figure(figsize = (9,6))\n",
    "    for ibtheta, b_theta in enumerate(b_thetas_list):\n",
    "        X = []\n",
    "        y =[]\n",
    "\n",
    "        for i in subj_data :\n",
    "            if i[3]*180/np.pi == b_theta :\n",
    "                X.append(i[1]*180/np.pi)\n",
    "                if False:\n",
    "                    # fitting if correct \n",
    "                    if np.sign(i[1]) > 0 and i[2] == 'right':\n",
    "                        y.append(1)\n",
    "                    else :\n",
    "                        y.append(0)\n",
    "                    #y.append(i[1])\n",
    "                else:\n",
    "                    # fitting with direction \n",
    "                    if i[2] == 'right':\n",
    "                        y.append(1)\n",
    "                    else :\n",
    "                        y.append(0)\n",
    "                    #y.append(i[1])\n",
    "\n",
    "\n",
    "        #reshaped for fitting\n",
    "        X = np.asarray(X)\n",
    "        X = X[:,np.newaxis]\n",
    "\n",
    "        #logistic regression\n",
    "        lgs = LogisticRegression(**lr_kwargs) \n",
    "        try :\n",
    "            lgs.fit(X, y)\n",
    "            coef_list.append((b_theta,lgs.coef_[0][0]))\n",
    "        \n",
    "            y_values = lgs.predict_proba(x_plot)[:,1]\n",
    "            plt.plot(x_values, y_values, label = r'$B_\\theta$ = %3.f°' %b_theta)\n",
    "            plt.scatter(X, y, s=4)\n",
    "        except :\n",
    "            pass\n",
    "        \n",
    "        \n",
    "    #plt.title('Courbe psychophysique - Sujet %s' % subj_name_list[num])\n",
    "    print('Courbe psychophysique - Sujet %s' % subj_name_list[num])\n",
    "    plt.yticks([0.,1.],['No', 'Yes'])\n",
    "    plt.xlabel(r'$\\theta$', fontsize = 12,)\n",
    "    plt.ylabel(\"Correct shift prediction ?\", fontsize = 12)\n",
    "    plt.legend(loc = (0.03, 0.52)) #tuple of axis coordinate is also valid\n",
    "    \n",
    "    plt.savefig('./figs/Psychodiscri_curve_subj_%s.pdf' % subj_name_list[num],format='pdf', dpi=1000,\n",
    "               bbox_inches = 'tight')\n",
    "    \n",
    "    plt.show()"
   ]
  },
  {
   "cell_type": "markdown",
   "metadata": {},
   "source": [
    "# F1 Score"
   ]
  },
  {
   "cell_type": "code",
   "execution_count": 2,
   "metadata": {},
   "outputs": [],
   "source": [
    "import pickle\n",
    "import numpy as np\n",
    "subj_name_list = ['AM', 'convo_model_HIRES', 'model_ring_HIRES']\n",
    "subj_data_list = []\n",
    "for subject in subj_name_list :\n",
    "#   x = pickle.load(open('Psychophys_discrim_2018-06-06_%s.p'%subject, 'rb'))\n",
    "    x = pickle.load(open('./psychophysics_data/Psy_discrim_final_%s.p'%subject, 'rb'))\n",
    "    subj_data_list.append(x)\n",
    "    \n",
    "b_thetas_list = []\n",
    "for x in subj_data_list[0] :\n",
    "    b_thetas_list.append(x[3]*180/np.pi)\n",
    "b_thetas_list = sorted(set(b_thetas_list))\n",
    "\n",
    "hires_b_thetas_list = []\n",
    "for x in subj_data_list[1] :\n",
    "    hires_b_thetas_list.append(x[3]*180/np.pi)\n",
    "hires_b_thetas_list = sorted(set(hires_b_thetas_list))\n"
   ]
  },
  {
   "cell_type": "code",
   "execution_count": 3,
   "metadata": {},
   "outputs": [],
   "source": [
    "import sklearn.metrics as metrics\n",
    "import pickle\n",
    "import matplotlib.pyplot as plt\n",
    "\n",
    "#pas beau en subject average, il doit y avoir des outliers a eliminer\n",
    "#subj_name_list =  ['ACT', 'AM', 'BB', 'DL', 'FM', 'HL','KB', 'LP', 'MAP', 'MB', 'MP', 'NP', 'PA']\n",
    "\n",
    "\n",
    "def f1_score(subj_name_list, b_list):\n",
    "    subj_data_list = []\n",
    "    for subject in subj_name_list :\n",
    "    #   x = pickle.load(open('Psychophys_discrim_2018-06-06_%s.p'%subject, 'rb'))\n",
    "        x = pickle.load(open('./psychophysics_data/Psy_discrim_final_%s.p'%subject, 'rb'))\n",
    "        subj_data_list.append(x)\n",
    "\n",
    "    f1_list = []\n",
    "    #Reminder, trials are in the form of [numtrial, shift angle, answered direction, b_theta]\n",
    "\n",
    "    #for each b_theta, we loop through all the trials of each subject and we append trials whose b_theta\n",
    "    #is the one we are currently selecting. We then compute f1 score and append it to a f1 list\n",
    "    for b_theta in b_list :\n",
    "        dir_list = []\n",
    "        answered_list  = []\n",
    "        for subj in subj_data_list :\n",
    "            for trials in subj :\n",
    "                if trials[3]*180/np.pi == b_theta :\n",
    "                    if trials[2] == 'left' :\n",
    "                        dir_list.append(0)\n",
    "                    if trials[2] == 'right':\n",
    "                        dir_list.append(1)\n",
    "\n",
    "                    if np.sign(trials[1]) < 0 :\n",
    "                        answered_list.append(0)\n",
    "                    if np.sign(trials[1]) > 0 :\n",
    "                        answered_list.append(1)\n",
    "        f1_list.append(metrics.f1_score(dir_list, answered_list))\n",
    "        \n",
    "    return f1_list\n",
    "        \n",
    "hum_f1 = f1_score(['AM'], b_thetas_list)\n",
    "convo_f1 = f1_score(['convo_model_HIRES'], hires_b_thetas_list)\n",
    "rnn_f1 = f1_score(['model_ring_HIRES'], hires_b_thetas_list)"
   ]
  },
  {
   "cell_type": "code",
   "execution_count": 142,
   "metadata": {},
   "outputs": [],
   "source": [
    "import matplotlib.pyplot as plt\n",
    "import numpy as np\n",
    "from lmfit.models import LinearModel, RectangleModel,ExpressionModel\n",
    "\n",
    "def expr_fit(x,y,x50=45) : #returns an expression fitting of the x y\n",
    "    mod = ExpressionModel('1 / (1 + x**2/x50**2) ')\n",
    "    pars = mod.make_params(x50=x50)\n",
    "    out = mod.fit(y, pars, x=x)\n",
    "    return out.best_fit\n",
    "\n",
    "def log_fit(x,y) : #returns a rectangle logfit of the xy\n",
    "    y = np.asarray(y)\n",
    "    step_mod = RectangleModel(form='logistic', prefix='step_')\n",
    "    line_mod = LinearModel(prefix='line_')\n",
    "    parms = line_mod.make_params(intercept=y.min(), slope=0)\n",
    "    parms += step_mod.guess(y, x=x, center=2.5)\n",
    "    mod = step_mod #+ line_mod\n",
    "    out = mod.fit(y, parms, x=x)\n",
    "    return out.best_fit"
   ]
  },
  {
   "cell_type": "code",
   "execution_count": 143,
   "metadata": {},
   "outputs": [
    {
     "data": {
      "text/plain": [
       "<matplotlib.legend.Legend at 0x7fe04b001c50>"
      ]
     },
     "execution_count": 143,
     "metadata": {},
     "output_type": "execute_result"
    },
    {
     "data": {
      "image/png": "[encoded data removed]",
      "text/plain": [
       "<Figure size 432x288 with 1 Axes>"
      ]
     },
     "metadata": {},
     "output_type": "display_data"
    }
   ],
   "source": [
    "plt_expr = expr_fit(hires_b_thetas_list, rnn_f1, x50 = 2)\n",
    "plt_log = log_fit(hires_b_thetas_list, rnn_f1)\n",
    "\n",
    "plt.plot(hires_b_thetas_list, plt_expr, label = 'expr')\n",
    "plt.plot(hires_b_thetas_list, plt_log, label = 'log')\n",
    "plt.plot(hires_b_thetas_list, rnn_f1, 'b.')\n",
    "plt.title ('RNN fit comparison')\n",
    "plt.legend()"
   ]
  },
  {
   "cell_type": "code",
   "execution_count": 140,
   "metadata": {},
   "outputs": [
    {
     "data": {
      "text/plain": [
       "<matplotlib.legend.Legend at 0x7fe04b116e10>"
      ]
     },
     "execution_count": 140,
     "metadata": {},
     "output_type": "execute_result"
    },
    {
     "data": {
      "image/png": "[encoded data removed]",
      "text/plain": [
       "<Figure size 432x288 with 1 Axes>"
      ]
     },
     "metadata": {},
     "output_type": "display_data"
    }
   ],
   "source": [
    "plt_expr = expr_fit(b_thetas_list, hum_f1)\n",
    "plt_log = log_fit(b_thetas_list, hum_f1)\n",
    "\n",
    "plt.title('Human fit comparison')\n",
    "plt.plot(b_thetas_list, plt_expr, label = 'expr')\n",
    "plt.plot(b_thetas_list, plt_log, label = 'log')\n",
    "plt.plot(b_thetas_list, hum_f1, 'b.')\n",
    "plt.legend()"
   ]
  },
  {
   "cell_type": "code",
   "execution_count": 158,
   "metadata": {},
   "outputs": [
    {
     "data": {
      "image/png": "[encoded data removed]",
      "text/plain": [
       "<Figure size 648x432 with 1 Axes>"
      ]
     },
     "metadata": {},
     "output_type": "display_data"
    }
   ],
   "source": [
    "#plt.plot(b_thetas_list, f1_list)\n",
    "plt.figure(figsize = (9,6))\n",
    "\n",
    "plt.plot(b_thetas_list, log_fit(b_thetas_list,hum_f1),color = 'blue', label = 'Human')\n",
    "plt.plot(hires_b_thetas_list, log_fit(hires_b_thetas_list,rnn_f1),color = 'green', label = 'Ring')\n",
    "plt.plot(hires_b_thetas_list, log_fit(hires_b_thetas_list,convo_f1), color = 'red',label = 'Ring without lateral interactions')\n",
    "\n",
    "size = 14\n",
    "marker = '.'\n",
    "plt.scatter(b_thetas_list, hum_f1, color = 'blue', s= size,marker =marker)\n",
    "plt.scatter(hires_b_thetas_list, rnn_f1, color = 'green',  s = size,marker =marker)\n",
    "plt.scatter(hires_b_thetas_list, convo_f1, color = 'red',  s = size,marker =marker)\n",
    "\n",
    "\n",
    "plt.xlabel(r'$B_\\theta$', fontsize = 13)\n",
    "plt.ylabel('F1 Score', fontsize = 12)\n",
    "plt.legend()\n",
    "#plt.title(r'Variation du F1 score en fonction de $B_\\theta$')\n",
    "plt.savefig('./figs/F1_curve.pdf',format='pdf', dpi=1000, bbox_inches = 'tight')\n",
    "plt.show()"
   ]
  },
  {
   "cell_type": "markdown",
   "metadata": {},
   "source": [
    "# Coefficient de regression"
   ]
  },
  {
   "cell_type": "code",
   "execution_count": null,
   "metadata": {},
   "outputs": [],
   "source": [
    "avg_list = []\n",
    "plt_list = []\n",
    "for b_theta in b_thetas_list :\n",
    "    avg_list = []\n",
    "    for coef in coef_list :\n",
    "        if coef[0] == b_theta :\n",
    "            avg_list.append(coef[1])\n",
    "    plt_list.append(np.mean(avg_list))\n",
    "\n",
    "plt.plot(b_thetas_list, plt_list)\n",
    "plt.xlabel(r'$B_\\theta$')\n",
    "plt.ylabel('Coefficient moyen de regression')\n",
    "plt.title(r'Variation du coefficient de regression en fonction de $B_\\theta$')\n",
    "plt.savefig('./figs/B_theta_curve.pdf',format='pdf', dpi=1000)\n",
    "plt.show()"
   ]
  }
 ],
 "metadata": {
  "kernelspec": {
   "display_name": "Python 3",
   "language": "python",
   "name": "python3"
  },
  "language_info": {
   "codemirror_mode": {
    "name": "ipython",
    "version": 3
   },
   "file_extension": ".py",
   "mimetype": "text/x-python",
   "name": "python",
   "nbconvert_exporter": "python",
   "pygments_lexer": "ipython3",
   "version": "3.6.4"
  },
  "toc": {
   "base_numbering": 1,
   "nav_menu": {},
   "number_sections": true,
   "sideBar": true,
   "skip_h1_title": false,
   "title_cell": "Table of Contents",
   "title_sidebar": "Contents",
   "toc_cell": false,
   "toc_position": {},
   "toc_section_display": true,
   "toc_window_display": false
  }
 },
 "nbformat": 4,
 "nbformat_minor": 2
}
