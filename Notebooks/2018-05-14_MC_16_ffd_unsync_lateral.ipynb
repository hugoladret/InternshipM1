{
 "cells": [
  {
   "cell_type": "markdown",
   "metadata": {},
   "source": [
    "# 2018-05-14 - Test feedforward, unsync, lateral avec 16 thetas \n",
    "## Feedforward"
   ]
  },
  {
   "cell_type": "markdown",
   "metadata": {},
   "source": [
    "Images en 64x64 parce que le 32x32 est trop aliasé pour que le network puisse apprendre :"
   ]
  },
  {
   "cell_type": "code",
   "execution_count": null,
   "metadata": {},
   "outputs": [],
   "source": [
    "import torch\n",
    "import torchvision\n",
    "from torchvision import transforms, datasets\n",
    "\n",
    "data_transform = transforms.Compose(\n",
    "    [transforms.Grayscale(),\n",
    "     transforms.Resize((64,64)),\n",
    "    transforms.ToTensor(),\n",
    "     transforms.Normalize((0.5, 0.5,0.5), (0.5,0.5,0.5))])\n",
    "\n",
    "train_set = datasets.ImageFolder(root='16_clouds_easy',\n",
    "                                transform=data_transform)\n",
    "train_loader = torch.utils.data.DataLoader(train_set,\n",
    "                                             batch_size=16, shuffle=True,\n",
    "                                             num_workers=1)\n",
    "\n",
    "test_set = datasets.ImageFolder(root='16_clouds_easy_test',\n",
    "                                transform=data_transform)\n",
    "test_loader = torch.utils.data.DataLoader(test_set,\n",
    "                                             batch_size=16,shuffle=False,\n",
    "                                             num_workers=1)"
   ]
  },
  {
   "cell_type": "markdown",
   "metadata": {},
   "source": [
    "On affiche des images du set importé pour vérifier que tout a bien marché :"
   ]
  },
  {
   "cell_type": "code",
   "execution_count": null,
   "metadata": {},
   "outputs": [],
   "source": [
    "import matplotlib.pyplot as plt\n",
    "import numpy as np\n",
    "\n",
    "\n",
    "# pour montrer une image\n",
    "def imshow(img):\n",
    "    img = img / 2 + 0.5    #de-normaliser\n",
    "    npimg = img.numpy()    #convertir en array\n",
    "    plt.imshow(np.transpose(npimg, (1, 2, 0)))\n",
    "\n",
    "\n",
    "# on loop sur un batch\n",
    "dataiter = iter(train_loader)\n",
    "images, labels = dataiter.next()\n",
    "\n",
    "imshow(torchvision.utils.make_grid(images))\n"
   ]
  },
  {
   "cell_type": "markdown",
   "metadata": {},
   "source": [
    "Réseau à trois couches :"
   ]
  },
  {
   "cell_type": "code",
   "execution_count": null,
   "metadata": {
    "scrolled": true
   },
   "outputs": [],
   "source": [
    "from torch.autograd import Variable\n",
    "import torch.nn as nn\n",
    "import torch.nn.functional as F\n",
    "\n",
    "class Net(nn.Module):\n",
    "        def __init__(self):\n",
    "            super(Net, self).__init__()\n",
    "            self.fc1 = nn.Linear(64*64,1000)\n",
    "            self.fc2 = nn.Linear(1000, 200)\n",
    "            self.fc3 = nn.Linear(200, 16)\n",
    "\n",
    "        def forward(self, x):\n",
    "            x = F.relu(self.fc1(x))\n",
    "            x = F.relu(self.fc2(x))\n",
    "            x = self.fc3(x)\n",
    "            return F.log_softmax(input=x)\n",
    "model = Net()\n",
    "print(model)"
   ]
  },
  {
   "cell_type": "markdown",
   "metadata": {},
   "source": [
    "Et l'optimiseur, toujours en SGD mais avec un learning rate 10 fois plus grand. Avec NLLL comme critère, on a rajouté une couche de softmax en sortie pour obtenir des log-proba."
   ]
  },
  {
   "cell_type": "code",
   "execution_count": null,
   "metadata": {},
   "outputs": [],
   "source": [
    "import torch.optim as optim\n",
    "\n",
    "criterion = nn.NLLLoss()\n",
    "optimizer = optim.SGD(model.parameters(), lr=0.01, momentum=0.9)"
   ]
  },
  {
   "cell_type": "markdown",
   "metadata": {},
   "source": [
    "On entraine :"
   ]
  },
  {
   "cell_type": "code",
   "execution_count": null,
   "metadata": {},
   "outputs": [],
   "source": [
    "import time\n",
    "start_time = time.time()\n",
    "print(\"Started training\")\n",
    "\n",
    "epochs = 50\n",
    "print_interval = 50 #prints every p_i*4\n",
    "tempo = []\n",
    "acc = []\n",
    "\n",
    "for epoch in range(epochs):  # nbr epochs\n",
    "    for batch_idx, (data, target) in enumerate(train_loader): #nbr batch,in,out\n",
    "        data, target = Variable(data), Variable(target)\n",
    "        \n",
    "        #On resize pour la sortie\n",
    "        data = data.view(-1, 64*64)\n",
    "\n",
    "        #init l'entrainement\n",
    "        optimizer.zero_grad()\n",
    "        net_out = model(data)\n",
    "\n",
    "        loss = criterion(net_out, target)\n",
    "        loss.backward()\n",
    "        optimizer.step()\n",
    "\n",
    "        #afficher la progression\n",
    "        if batch_idx % print_interval == 0:\n",
    "            #le print statement le plus illisible du monde\n",
    "            print('Epoch: {} [{}/{} ({:.0f}%)]\\tLoss: {:.6f}'.format(\n",
    "                    epoch+1, batch_idx * len(data), len(train_loader.dataset),\n",
    "                    100. * batch_idx / len(train_loader), loss.data[0]))\n",
    "    tempo.append(epoch)\n",
    "    acc.append(loss.data[0])\n",
    "    \n",
    "print(\"Finished training in  %.3f seconds \" % (time.time() - start_time))"
   ]
  },
  {
   "cell_type": "markdown",
   "metadata": {},
   "source": [
    "Et maintenant on teste :"
   ]
  },
  {
   "cell_type": "code",
   "execution_count": null,
   "metadata": {},
   "outputs": [],
   "source": [
    "test_loss = 0\n",
    "correct = 0\n",
    "\n",
    "for data, target in test_loader:\n",
    "    data, target = Variable(data, volatile=True), Variable(target)\n",
    "    \n",
    "    #rescale\n",
    "    data = data.view(-1, 64 * 64)\n",
    "    net_out = model(data)\n",
    "    \n",
    "    #somme des pertes du batch\n",
    "    test_loss += criterion(net_out, target).data[0]\n",
    "    pred = net_out.data.max(1)[1] #prediction\n",
    "    correct += pred.eq(target.data).sum() #output du réseau\n",
    "\n",
    "test_loss /= len(test_loader.dataset) #loss = loss/length set\n",
    "print('\\nTest set: Average loss: {:.4f}, Accuracy: {}/{} ({:.0f}%)\\n'.format(\n",
    "    test_loss, correct, len(test_loader.dataset),\n",
    "    100. * correct / len(test_loader.dataset)))"
   ]
  },
  {
   "cell_type": "markdown",
   "metadata": {},
   "source": [
    "On sauvegarde le modèle :"
   ]
  },
  {
   "cell_type": "code",
   "execution_count": null,
   "metadata": {},
   "outputs": [],
   "source": [
    "torch.save(model.state_dict(), \"MODEL_trainEASY_pytorchMC16\")"
   ]
  },
  {
   "cell_type": "code",
   "execution_count": null,
   "metadata": {},
   "outputs": [],
   "source": [
    "#joli plot du loss en fonction de l'epoch\n",
    "import matplotlib.pyplot as plt\n",
    "plt.plot(tempo, acc)\n",
    "plt.xlabel('Epoch')\n",
    "plt.ylabel('Loss')\n",
    "plt.title('Loss variation - Easy training')\n",
    "plt.savefig('Loss_easytraining.png')\n",
    "plt.show()"
   ]
  },
  {
   "cell_type": "markdown",
   "metadata": {},
   "source": [
    "## Unsync learning\n",
    "Layer par layer donc, comme lors de l'ajout du L2 sur CHAMP :"
   ]
  },
  {
   "cell_type": "code",
   "execution_count": 1,
   "metadata": {},
   "outputs": [],
   "source": [
    "import torch\n",
    "import torchvision\n",
    "from torchvision import transforms, datasets\n",
    "\n",
    "data_transform = transforms.Compose(\n",
    "    [transforms.Grayscale(),\n",
    "     transforms.Resize((64,64)),\n",
    "    transforms.ToTensor(),\n",
    "     transforms.Normalize((0.5, 0.5,0.5), (0.5,0.5,0.5))])\n",
    "\n",
    "train_set = datasets.ImageFolder(root='16_clouds_easy',\n",
    "                                transform=data_transform)\n",
    "train_loader = torch.utils.data.DataLoader(train_set,\n",
    "                                             batch_size=16, shuffle=True,\n",
    "                                             num_workers=1)\n",
    "\n",
    "test_set = datasets.ImageFolder(root='16_clouds_easy_test',\n",
    "                                transform=data_transform)\n",
    "test_loader = torch.utils.data.DataLoader(test_set,\n",
    "                                             batch_size=16,shuffle=False,\n",
    "                                             num_workers=1)"
   ]
  },
  {
   "cell_type": "markdown",
   "metadata": {},
   "source": [
    "Le même network qu'en forward classique :"
   ]
  },
  {
   "cell_type": "code",
   "execution_count": 2,
   "metadata": {},
   "outputs": [
    {
     "name": "stdout",
     "output_type": "stream",
     "text": [
      "Net(\n",
      "  (fc1): Linear(in_features=4096, out_features=1000, bias=True)\n",
      "  (fc2): Linear(in_features=1000, out_features=200, bias=True)\n",
      "  (fc3): Linear(in_features=200, out_features=16, bias=True)\n",
      ")\n"
     ]
    }
   ],
   "source": [
    "from torch.autograd import Variable\n",
    "import torch.nn as nn\n",
    "import torch.nn.functional as F\n",
    "\n",
    "class Net(nn.Module):\n",
    "        def __init__(self):\n",
    "            super(Net, self).__init__()\n",
    "            self.fc1 = nn.Linear(64*64,1000)\n",
    "            self.fc2 = nn.Linear(1000, 200)\n",
    "            self.fc3 = nn.Linear(200, 16)\n",
    "\n",
    "        def forward(self, x):\n",
    "            x = F.relu(self.fc1(x))\n",
    "            x = F.relu(self.fc2(x))\n",
    "            x = self.fc3(x)\n",
    "            return F.log_softmax(input=x)\n",
    "model = Net()\n",
    "print(model)"
   ]
  },
  {
   "cell_type": "markdown",
   "metadata": {},
   "source": [
    "On modifie les flags du réseau pour n'entrainer qu'un seul layer :"
   ]
  },
  {
   "cell_type": "code",
   "execution_count": 3,
   "metadata": {},
   "outputs": [],
   "source": [
    "#freeze layers after and including freezing_layer+1 (layers start at 0)\n",
    "def freeze_layers(freezing_layer, nn_model = model) :\n",
    "    for count,child in enumerate(model.children()) :\n",
    "        if count < freezing_layer+1 : #to freeze at iteration 1\n",
    "            print(\"Layer no. %s -- %s -- NOT FROZEN\"% (count,child))\n",
    "            for param in child.parameters():\n",
    "                param.requires_grad = True\n",
    "        else :\n",
    "            print(\"Layer no. %s -- %s -- FROZEN\"%(count, child))\n",
    "            for param in child.parameters():\n",
    "                param.requires_grad = False\n",
    "\n",
    "#freeze all the layers except the unfrozen one\n",
    "def freeze_all_layers(unfrozen_layer, nn_model = model) :\n",
    "    for count,child in enumerate(model.children()) :\n",
    "        if count == unfrozen_layer :\n",
    "            print(\"Layer no. %s -- %s -- NOT FROZEN\"% (count,child))\n",
    "            for param in child.parameters():\n",
    "                param.requires_grad = True\n",
    "        else :\n",
    "            print(\"Layer no. %s -- %s -- FROZEN\"%(count, child))\n",
    "            for param in child.parameters():\n",
    "                param.requires_grad = False\n",
    "\n",
    "#unfreeze every layers\n",
    "def layers_microwave(nn_model = model) :\n",
    "    for count,child in enumerate(model.children()) :\n",
    "        for param in child.parameters():\n",
    "            param.requires_grad = True"
   ]
  },
  {
   "cell_type": "code",
   "execution_count": 4,
   "metadata": {},
   "outputs": [
    {
     "name": "stdout",
     "output_type": "stream",
     "text": [
      "Started training\n",
      "Layer no. 0 -- Linear(in_features=4096, out_features=1000, bias=True) -- NOT FROZEN\n",
      "Layer no. 1 -- Linear(in_features=1000, out_features=200, bias=True) -- FROZEN\n",
      "Layer no. 2 -- Linear(in_features=200, out_features=16, bias=True) -- FROZEN\n"
     ]
    },
    {
     "name": "stderr",
     "output_type": "stream",
     "text": [
      "/home/hugo/anaconda3/lib/python3.6/site-packages/ipykernel_launcher.py:16: UserWarning: Implicit dimension choice for log_softmax has been deprecated. Change the call to include dim=X as an argument.\n",
      "  app.launch_new_instance()\n"
     ]
    },
    {
     "name": "stdout",
     "output_type": "stream",
     "text": [
      "Epoch: 1 [0/1920 (0%)]\t\tLoss: 2.782913\n",
      "Epoch: 1 [800/1920 (42%)]\t\tLoss: 2.777709\n",
      "Epoch: 1 [1600/1920 (83%)]\t\tLoss: 2.783829\n",
      "Epoch: 2 [0/1920 (0%)]\t\tLoss: 2.756960\n",
      "Epoch: 2 [800/1920 (42%)]\t\tLoss: 2.768983\n",
      "Epoch: 2 [1600/1920 (83%)]\t\tLoss: 2.773184\n",
      "Epoch: 3 [0/1920 (0%)]\t\tLoss: 2.749019\n",
      "Epoch: 3 [800/1920 (42%)]\t\tLoss: 2.735907\n",
      "Epoch: 3 [1600/1920 (83%)]\t\tLoss: 2.749079\n",
      "Epoch: 4 [0/1920 (0%)]\t\tLoss: 2.732347\n",
      "Epoch: 4 [800/1920 (42%)]\t\tLoss: 2.725827\n",
      "Epoch: 4 [1600/1920 (83%)]\t\tLoss: 2.762542\n",
      "Epoch: 5 [0/1920 (0%)]\t\tLoss: 2.721490\n",
      "Epoch: 5 [800/1920 (42%)]\t\tLoss: 2.716129\n",
      "Epoch: 5 [1600/1920 (83%)]\t\tLoss: 2.726128\n",
      "Epoch: 6 [0/1920 (0%)]\t\tLoss: 2.728941\n",
      "Epoch: 6 [800/1920 (42%)]\t\tLoss: 2.729384\n",
      "Epoch: 6 [1600/1920 (83%)]\t\tLoss: 2.706786\n",
      "Epoch: 7 [0/1920 (0%)]\t\tLoss: 2.704934\n",
      "Epoch: 7 [800/1920 (42%)]\t\tLoss: 2.703886\n",
      "Epoch: 7 [1600/1920 (83%)]\t\tLoss: 2.688040\n",
      "Epoch: 8 [0/1920 (0%)]\t\tLoss: 2.698377\n",
      "Epoch: 8 [800/1920 (42%)]\t\tLoss: 2.682473\n",
      "Epoch: 8 [1600/1920 (83%)]\t\tLoss: 2.686484\n",
      "Epoch: 9 [0/1920 (0%)]\t\tLoss: 2.677003\n",
      "Epoch: 9 [800/1920 (42%)]\t\tLoss: 2.673625\n",
      "Epoch: 9 [1600/1920 (83%)]\t\tLoss: 2.671539\n",
      "Epoch: 10 [0/1920 (0%)]\t\tLoss: 2.674862\n",
      "Epoch: 10 [800/1920 (42%)]\t\tLoss: 2.667562\n",
      "Epoch: 10 [1600/1920 (83%)]\t\tLoss: 2.656614\n",
      "Epoch: 11 [0/1920 (0%)]\t\tLoss: 2.643037\n",
      "Epoch: 11 [800/1920 (42%)]\t\tLoss: 2.642025\n",
      "Epoch: 11 [1600/1920 (83%)]\t\tLoss: 2.663430\n",
      "Epoch: 12 [0/1920 (0%)]\t\tLoss: 2.604378\n",
      "Epoch: 12 [800/1920 (42%)]\t\tLoss: 2.636468\n",
      "Epoch: 12 [1600/1920 (83%)]\t\tLoss: 2.613560\n",
      "Epoch: 13 [0/1920 (0%)]\t\tLoss: 2.626127\n",
      "Epoch: 13 [800/1920 (42%)]\t\tLoss: 2.645975\n",
      "Epoch: 13 [1600/1920 (83%)]\t\tLoss: 2.617255\n",
      "Epoch: 14 [0/1920 (0%)]\t\tLoss: 2.606662\n",
      "Epoch: 14 [800/1920 (42%)]\t\tLoss: 2.605465\n",
      "Epoch: 14 [1600/1920 (83%)]\t\tLoss: 2.587394\n",
      "Epoch: 15 [0/1920 (0%)]\t\tLoss: 2.602490\n",
      "Epoch: 15 [800/1920 (42%)]\t\tLoss: 2.577780\n",
      "Epoch: 15 [1600/1920 (83%)]\t\tLoss: 2.627937\n",
      "Epoch: 16 [0/1920 (0%)]\t\tLoss: 2.598933\n",
      "Epoch: 16 [800/1920 (42%)]\t\tLoss: 2.602380\n",
      "Epoch: 16 [1600/1920 (83%)]\t\tLoss: 2.597241\n",
      "Epoch: 17 [0/1920 (0%)]\t\tLoss: 2.531921\n",
      "Epoch: 17 [800/1920 (42%)]\t\tLoss: 2.577438\n",
      "Epoch: 17 [1600/1920 (83%)]\t\tLoss: 2.507775\n",
      "Epoch: 18 [0/1920 (0%)]\t\tLoss: 2.535637\n",
      "Epoch: 18 [800/1920 (42%)]\t\tLoss: 2.537760\n",
      "Epoch: 18 [1600/1920 (83%)]\t\tLoss: 2.534300\n",
      "Epoch: 19 [0/1920 (0%)]\t\tLoss: 2.547305\n",
      "Epoch: 19 [800/1920 (42%)]\t\tLoss: 2.507311\n",
      "Epoch: 19 [1600/1920 (83%)]\t\tLoss: 2.547102\n",
      "Epoch: 20 [0/1920 (0%)]\t\tLoss: 2.468942\n",
      "Epoch: 20 [800/1920 (42%)]\t\tLoss: 2.509967\n",
      "Epoch: 20 [1600/1920 (83%)]\t\tLoss: 2.565678\n",
      "Layer no. 0 -- Linear(in_features=4096, out_features=1000, bias=True) -- FROZEN\n",
      "Layer no. 1 -- Linear(in_features=1000, out_features=200, bias=True) -- NOT FROZEN\n",
      "Layer no. 2 -- Linear(in_features=200, out_features=16, bias=True) -- FROZEN\n",
      "Epoch: 1 [0/1920 (0%)]\t\tLoss: 2.473586\n",
      "Epoch: 1 [800/1920 (42%)]\t\tLoss: 2.443475\n",
      "Epoch: 1 [1600/1920 (83%)]\t\tLoss: 2.498925\n",
      "Epoch: 2 [0/1920 (0%)]\t\tLoss: 2.264397\n",
      "Epoch: 2 [800/1920 (42%)]\t\tLoss: 2.136601\n",
      "Epoch: 2 [1600/1920 (83%)]\t\tLoss: 1.963356\n",
      "Epoch: 3 [0/1920 (0%)]\t\tLoss: 2.261133\n",
      "Epoch: 3 [800/1920 (42%)]\t\tLoss: 2.096589\n",
      "Epoch: 3 [1600/1920 (83%)]\t\tLoss: 1.948624\n",
      "Epoch: 4 [0/1920 (0%)]\t\tLoss: 1.889488\n",
      "Epoch: 4 [800/1920 (42%)]\t\tLoss: 1.847646\n",
      "Epoch: 4 [1600/1920 (83%)]\t\tLoss: 2.079125\n",
      "Epoch: 5 [0/1920 (0%)]\t\tLoss: 1.687170\n",
      "Epoch: 5 [800/1920 (42%)]\t\tLoss: 1.754744\n",
      "Epoch: 5 [1600/1920 (83%)]\t\tLoss: 1.687008\n",
      "Epoch: 6 [0/1920 (0%)]\t\tLoss: 1.561731\n",
      "Epoch: 6 [800/1920 (42%)]\t\tLoss: 1.521260\n",
      "Epoch: 6 [1600/1920 (83%)]\t\tLoss: 1.632355\n",
      "Epoch: 7 [0/1920 (0%)]\t\tLoss: 1.547932\n",
      "Epoch: 7 [800/1920 (42%)]\t\tLoss: 1.538317\n",
      "Epoch: 7 [1600/1920 (83%)]\t\tLoss: 1.460476\n",
      "Epoch: 8 [0/1920 (0%)]\t\tLoss: 1.511873\n",
      "Epoch: 8 [800/1920 (42%)]\t\tLoss: 1.527930\n",
      "Epoch: 8 [1600/1920 (83%)]\t\tLoss: 1.798103\n",
      "Epoch: 9 [0/1920 (0%)]\t\tLoss: 1.287401\n",
      "Epoch: 9 [800/1920 (42%)]\t\tLoss: 1.356012\n",
      "Epoch: 9 [1600/1920 (83%)]\t\tLoss: 1.318569\n",
      "Epoch: 10 [0/1920 (0%)]\t\tLoss: 1.356161\n",
      "Epoch: 10 [800/1920 (42%)]\t\tLoss: 1.077696\n",
      "Epoch: 10 [1600/1920 (83%)]\t\tLoss: 0.984056\n",
      "Epoch: 11 [0/1920 (0%)]\t\tLoss: 1.496051\n",
      "Epoch: 11 [800/1920 (42%)]\t\tLoss: 1.032646\n",
      "Epoch: 11 [1600/1920 (83%)]\t\tLoss: 1.015819\n",
      "Epoch: 12 [0/1920 (0%)]\t\tLoss: 1.334397\n",
      "Epoch: 12 [800/1920 (42%)]\t\tLoss: 1.030288\n",
      "Epoch: 12 [1600/1920 (83%)]\t\tLoss: 0.808098\n",
      "Epoch: 13 [0/1920 (0%)]\t\tLoss: 1.002220\n",
      "Epoch: 13 [800/1920 (42%)]\t\tLoss: 0.922693\n",
      "Epoch: 13 [1600/1920 (83%)]\t\tLoss: 0.939855\n",
      "Epoch: 14 [0/1920 (0%)]\t\tLoss: 1.155008\n",
      "Epoch: 14 [800/1920 (42%)]\t\tLoss: 1.463794\n",
      "Epoch: 14 [1600/1920 (83%)]\t\tLoss: 1.123462\n",
      "Epoch: 15 [0/1920 (0%)]\t\tLoss: 0.838608\n",
      "Epoch: 15 [800/1920 (42%)]\t\tLoss: 0.954767\n",
      "Epoch: 15 [1600/1920 (83%)]\t\tLoss: 0.887190\n",
      "Epoch: 16 [0/1920 (0%)]\t\tLoss: 1.068288\n",
      "Epoch: 16 [800/1920 (42%)]\t\tLoss: 1.014319\n",
      "Epoch: 16 [1600/1920 (83%)]\t\tLoss: 1.276996\n",
      "Epoch: 17 [0/1920 (0%)]\t\tLoss: 0.881671\n",
      "Epoch: 17 [800/1920 (42%)]\t\tLoss: 0.819269\n",
      "Epoch: 17 [1600/1920 (83%)]\t\tLoss: 1.060247\n",
      "Epoch: 18 [0/1920 (0%)]\t\tLoss: 0.610664\n",
      "Epoch: 18 [800/1920 (42%)]\t\tLoss: 0.732928\n",
      "Epoch: 18 [1600/1920 (83%)]\t\tLoss: 0.897720\n",
      "Epoch: 19 [0/1920 (0%)]\t\tLoss: 0.998083\n",
      "Epoch: 19 [800/1920 (42%)]\t\tLoss: 0.604215\n",
      "Epoch: 19 [1600/1920 (83%)]\t\tLoss: 0.809743\n",
      "Epoch: 20 [0/1920 (0%)]\t\tLoss: 0.680624\n",
      "Epoch: 20 [800/1920 (42%)]\t\tLoss: 0.408799\n",
      "Epoch: 20 [1600/1920 (83%)]\t\tLoss: 0.942726\n",
      "Layer no. 0 -- Linear(in_features=4096, out_features=1000, bias=True) -- FROZEN\n",
      "Layer no. 1 -- Linear(in_features=1000, out_features=200, bias=True) -- FROZEN\n",
      "Layer no. 2 -- Linear(in_features=200, out_features=16, bias=True) -- NOT FROZEN\n",
      "Epoch: 1 [0/1920 (0%)]\t\tLoss: 0.791971\n",
      "Epoch: 1 [800/1920 (42%)]\t\tLoss: 0.552922\n",
      "Epoch: 1 [1600/1920 (83%)]\t\tLoss: 0.518230\n",
      "Epoch: 2 [0/1920 (0%)]\t\tLoss: 0.274231\n",
      "Epoch: 2 [800/1920 (42%)]\t\tLoss: 0.395611\n",
      "Epoch: 2 [1600/1920 (83%)]\t\tLoss: 0.519734\n",
      "Epoch: 3 [0/1920 (0%)]\t\tLoss: 0.086601\n",
      "Epoch: 3 [800/1920 (42%)]\t\tLoss: 0.299500\n",
      "Epoch: 3 [1600/1920 (83%)]\t\tLoss: 0.703278\n",
      "Epoch: 4 [0/1920 (0%)]\t\tLoss: 0.224026\n",
      "Epoch: 4 [800/1920 (42%)]\t\tLoss: 0.158038\n",
      "Epoch: 4 [1600/1920 (83%)]\t\tLoss: 0.167501\n",
      "Epoch: 5 [0/1920 (0%)]\t\tLoss: 0.179818\n",
      "Epoch: 5 [800/1920 (42%)]\t\tLoss: 0.703303\n",
      "Epoch: 5 [1600/1920 (83%)]\t\tLoss: 0.046753\n",
      "Epoch: 6 [0/1920 (0%)]\t\tLoss: 0.027782\n",
      "Epoch: 6 [800/1920 (42%)]\t\tLoss: 0.223273\n",
      "Epoch: 6 [1600/1920 (83%)]\t\tLoss: 0.365325\n",
      "Epoch: 7 [0/1920 (0%)]\t\tLoss: 0.367726\n",
      "Epoch: 7 [800/1920 (42%)]\t\tLoss: 0.189122\n",
      "Epoch: 7 [1600/1920 (83%)]\t\tLoss: 0.173252\n",
      "Epoch: 8 [0/1920 (0%)]\t\tLoss: 0.050779\n",
      "Epoch: 8 [800/1920 (42%)]\t\tLoss: 0.070257\n",
      "Epoch: 8 [1600/1920 (83%)]\t\tLoss: 0.117760\n",
      "Epoch: 9 [0/1920 (0%)]\t\tLoss: 0.216979\n",
      "Epoch: 9 [800/1920 (42%)]\t\tLoss: 0.066160\n",
      "Epoch: 9 [1600/1920 (83%)]\t\tLoss: 0.065190\n",
      "Epoch: 10 [0/1920 (0%)]\t\tLoss: 0.474071\n",
      "Epoch: 10 [800/1920 (42%)]\t\tLoss: 0.114043\n",
      "Epoch: 10 [1600/1920 (83%)]\t\tLoss: 0.054210\n",
      "Epoch: 11 [0/1920 (0%)]\t\tLoss: 0.140618\n",
      "Epoch: 11 [800/1920 (42%)]\t\tLoss: 0.057781\n",
      "Epoch: 11 [1600/1920 (83%)]\t\tLoss: 0.300143\n",
      "Epoch: 12 [0/1920 (0%)]\t\tLoss: 0.080367\n",
      "Epoch: 12 [800/1920 (42%)]\t\tLoss: 0.614430\n",
      "Epoch: 12 [1600/1920 (83%)]\t\tLoss: 0.341592\n",
      "Epoch: 13 [0/1920 (0%)]\t\tLoss: 0.036702\n",
      "Epoch: 13 [800/1920 (42%)]\t\tLoss: 0.189901\n",
      "Epoch: 13 [1600/1920 (83%)]\t\tLoss: 0.547588\n",
      "Epoch: 14 [0/1920 (0%)]\t\tLoss: 0.112210\n",
      "Epoch: 14 [800/1920 (42%)]\t\tLoss: 0.130856\n",
      "Epoch: 14 [1600/1920 (83%)]\t\tLoss: 0.185165\n",
      "Epoch: 15 [0/1920 (0%)]\t\tLoss: 0.089467\n",
      "Epoch: 15 [800/1920 (42%)]\t\tLoss: 0.126070\n",
      "Epoch: 15 [1600/1920 (83%)]\t\tLoss: 0.045132\n",
      "Epoch: 16 [0/1920 (0%)]\t\tLoss: 0.565779\n",
      "Epoch: 16 [800/1920 (42%)]\t\tLoss: 0.094658\n",
      "Epoch: 16 [1600/1920 (83%)]\t\tLoss: 0.018483\n",
      "Epoch: 17 [0/1920 (0%)]\t\tLoss: 0.305658\n",
      "Epoch: 17 [800/1920 (42%)]\t\tLoss: 0.179354\n",
      "Epoch: 17 [1600/1920 (83%)]\t\tLoss: 0.106821\n",
      "Epoch: 18 [0/1920 (0%)]\t\tLoss: 0.114275\n",
      "Epoch: 18 [800/1920 (42%)]\t\tLoss: 0.601153\n",
      "Epoch: 18 [1600/1920 (83%)]\t\tLoss: 0.247272\n",
      "Epoch: 19 [0/1920 (0%)]\t\tLoss: 0.184332\n",
      "Epoch: 19 [800/1920 (42%)]\t\tLoss: 0.204423\n",
      "Epoch: 19 [1600/1920 (83%)]\t\tLoss: 0.144630\n",
      "Epoch: 20 [0/1920 (0%)]\t\tLoss: 0.467260\n",
      "Epoch: 20 [800/1920 (42%)]\t\tLoss: 0.392727\n",
      "Epoch: 20 [1600/1920 (83%)]\t\tLoss: 0.016574\n",
      "Finished training in  683.248 seconds \n"
     ]
    }
   ],
   "source": [
    "import torch.optim as optim\n",
    "import time\n",
    "\n",
    "#unfreeze before starting\n",
    "layers_microwave(model)\n",
    "\n",
    "criterion = nn.NLLLoss() #loss criterion\n",
    "epochs = 20 #nbr of epochs per layer\n",
    "model_size = 3 #nbr of layers\n",
    "\n",
    "print_interval = 50 #prints every p_i*4\n",
    "tempo = []\n",
    "acc = []\n",
    "\n",
    "start_time = time.time()\n",
    "print(\"Started training\")\n",
    "\n",
    "\n",
    "#################\n",
    "#Loop over layers\n",
    "################\n",
    "for layer in range(model_size) :\n",
    "    freeze_all_layers(layer, model)\n",
    "    optimizer = optim.SGD(filter(lambda p : p.requires_grad, model.parameters()), #optimize only on requires_grad layers\n",
    "                      lr=0.01, momentum=0.9)\n",
    "    \n",
    "    #################\n",
    "    #Loop over epochs\n",
    "    ################\n",
    "    for epoch in range(epochs):  # nbr epochs\n",
    "        for batch_idx, (data, target) in enumerate(train_loader): #nbr batch,in,out\n",
    "            data, target = Variable(data), Variable(target)\n",
    "\n",
    "            #On resize pour la sortie\n",
    "            data = data.view(-1, 64*64)\n",
    "\n",
    "            #init l'entrainement\n",
    "            optimizer.zero_grad()\n",
    "            net_out = model(data)\n",
    "\n",
    "            loss = criterion(net_out, target)\n",
    "            loss.backward()\n",
    "            optimizer.step()\n",
    "\n",
    "            #afficher la progression\n",
    "            if batch_idx % print_interval == 0:\n",
    "                #le print statement le plus illisible du monde\n",
    "                print('Epoch: {} [{}/{} ({:.0f}%)]\\t\\tLoss: {:.6f}'.format(\n",
    "                        epoch+1, batch_idx * len(data), len(train_loader.dataset),\n",
    "                        100. * batch_idx / len(train_loader), loss.data[0]))\n",
    "        tempo.append(epoch)\n",
    "        acc.append(loss.data[0])\n",
    "\n",
    "\n",
    "\n",
    "print(\"Finished training in  %.3f seconds \" % (time.time() - start_time))"
   ]
  },
  {
   "cell_type": "code",
   "execution_count": 5,
   "metadata": {},
   "outputs": [
    {
     "name": "stderr",
     "output_type": "stream",
     "text": [
      "/home/hugo/anaconda3/lib/python3.6/site-packages/ipykernel_launcher.py:16: UserWarning: Implicit dimension choice for log_softmax has been deprecated. Change the call to include dim=X as an argument.\n",
      "  app.launch_new_instance()\n"
     ]
    },
    {
     "name": "stdout",
     "output_type": "stream",
     "text": [
      "\n",
      "Test set: Average loss: 0.2125, Accuracy: 73/192 (38%)\n",
      "\n"
     ]
    }
   ],
   "source": [
    "test_loss = 0\n",
    "correct = 0\n",
    "\n",
    "for data, target in test_loader:\n",
    "    data, target = Variable(data, volatile=True), Variable(target)\n",
    "    \n",
    "    #rescale\n",
    "    data = data.view(-1, 64 * 64)\n",
    "    net_out = model(data)\n",
    "    \n",
    "    #somme des pertes du batch\n",
    "    test_loss += criterion(net_out, target).data[0]\n",
    "    pred = net_out.data.max(1)[1] #prediction\n",
    "    correct += pred.eq(target.data).sum() #output du réseau\n",
    "\n",
    "test_loss /= len(test_loader.dataset) #loss = loss/length set\n",
    "print('\\nTest set: Average loss: {:.4f}, Accuracy: {}/{} ({:.0f}%)\\n'.format(\n",
    "    test_loss, correct, len(test_loader.dataset),\n",
    "    100. * correct / len(test_loader.dataset)))"
   ]
  },
  {
   "cell_type": "code",
   "execution_count": 16,
   "metadata": {},
   "outputs": [
    {
     "data": {
      "image/png": "[encoded data removed]",
      "text/plain": [
       "<matplotlib.figure.Figure at 0x7fc6e1747438>"
      ]
     },
     "metadata": {},
     "output_type": "display_data"
    }
   ],
   "source": [
    "#joli plot du loss en fonction de l'epoch\n",
    "import matplotlib.pyplot as plt\n",
    "plt.plot(tempo2, acc)\n",
    "plt.xlabel('Epoch')\n",
    "plt.ylabel('Loss')\n",
    "plt.title('Loss variation - Easy training')\n",
    "plt.savefig('mc16easy_unsync.png')\n",
    "plt.show()\n"
   ]
  },
  {
   "cell_type": "markdown",
   "metadata": {},
   "source": [
    "## Lateral "
   ]
  },
  {
   "cell_type": "code",
   "execution_count": 7,
   "metadata": {},
   "outputs": [],
   "source": [
    "import torch\n",
    "import torchvision\n",
    "from torchvision import transforms, datasets\n",
    "\n",
    "data_transform = transforms.Compose(\n",
    "    [transforms.Grayscale(),\n",
    "     transforms.Resize((64,64)),\n",
    "    transforms.ToTensor(),\n",
    "     transforms.Normalize((0.5, 0.5,0.5), (0.5,0.5,0.5))])\n",
    "\n",
    "train_set = datasets.ImageFolder(root='16_clouds_easy',\n",
    "                                transform=data_transform)\n",
    "train_loader = torch.utils.data.DataLoader(train_set,\n",
    "                                             batch_size=16, shuffle=True,\n",
    "                                             num_workers=1)\n",
    "\n",
    "test_set = datasets.ImageFolder(root='16_clouds_easy_test',\n",
    "                                transform=data_transform)\n",
    "test_loader = torch.utils.data.DataLoader(test_set,\n",
    "                                             batch_size=16,shuffle=False,\n",
    "                                             num_workers=1)"
   ]
  },
  {
   "cell_type": "code",
   "execution_count": 10,
   "metadata": {},
   "outputs": [
    {
     "name": "stdout",
     "output_type": "stream",
     "text": [
      "Net(\n",
      "  (fc1): Linear(in_features=4096, out_features=1000, bias=True)\n",
      "  (rec): RNN(1000, 200, num_layers=2, batch_first=True)\n",
      ")\n"
     ]
    }
   ],
   "source": [
    "from torch.autograd import Variable\n",
    "import torch.nn as nn\n",
    "import torch.nn.functional as F\n",
    "\n",
    "class Net(nn.Module):\n",
    "        def __init__(self):\n",
    "            super(Net, self).__init__()\n",
    "            #forward\n",
    "            self.fc1 = nn.Linear(64*64,1000)\n",
    "            self.rec = nn.RNN(1000, hidden_size = 200,\n",
    "                             num_layers=2, nonlinearity='relu',\n",
    "                             batch_first = True)\n",
    "\n",
    "        \n",
    "\n",
    "        def forward(self, x):\n",
    "            x = F.relu(self.fc1(x))\n",
    "            x = self.rec(x)\n",
    "            return F.log_softmax(input=x)\n",
    "model = Net()\n",
    "print(model)"
   ]
  },
  {
   "cell_type": "code",
   "execution_count": 11,
   "metadata": {},
   "outputs": [
    {
     "name": "stdout",
     "output_type": "stream",
     "text": [
      "Started training\n"
     ]
    },
    {
     "ename": "RuntimeError",
     "evalue": "input must have 3 dimensions, got 2",
     "output_type": "error",
     "traceback": [
      "\u001b[0;31m---------------------------------------------------------------------------\u001b[0m",
      "\u001b[0;31mRuntimeError\u001b[0m                              Traceback (most recent call last)",
      "\u001b[0;32m<ipython-input-11-d942f49f7e47>\u001b[0m in \u001b[0;36m<module>\u001b[0;34m()\u001b[0m\n\u001b[1;32m     22\u001b[0m         \u001b[0;31m#init l'entrainement\u001b[0m\u001b[0;34m\u001b[0m\u001b[0;34m\u001b[0m\u001b[0m\n\u001b[1;32m     23\u001b[0m         \u001b[0moptimizer\u001b[0m\u001b[0;34m.\u001b[0m\u001b[0mzero_grad\u001b[0m\u001b[0;34m(\u001b[0m\u001b[0;34m)\u001b[0m\u001b[0;34m\u001b[0m\u001b[0m\n\u001b[0;32m---> 24\u001b[0;31m         \u001b[0mnet_out\u001b[0m \u001b[0;34m=\u001b[0m \u001b[0mmodel\u001b[0m\u001b[0;34m(\u001b[0m\u001b[0mdata\u001b[0m\u001b[0;34m)\u001b[0m\u001b[0;34m\u001b[0m\u001b[0m\n\u001b[0m\u001b[1;32m     25\u001b[0m \u001b[0;34m\u001b[0m\u001b[0m\n\u001b[1;32m     26\u001b[0m         \u001b[0mloss\u001b[0m \u001b[0;34m=\u001b[0m \u001b[0mcriterion\u001b[0m\u001b[0;34m(\u001b[0m\u001b[0mnet_out\u001b[0m\u001b[0;34m,\u001b[0m \u001b[0mtarget\u001b[0m\u001b[0;34m)\u001b[0m\u001b[0;34m\u001b[0m\u001b[0m\n",
      "\u001b[0;32m~/anaconda3/lib/python3.6/site-packages/torch/nn/modules/module.py\u001b[0m in \u001b[0;36m__call__\u001b[0;34m(self, *input, **kwargs)\u001b[0m\n\u001b[1;32m    355\u001b[0m             \u001b[0mresult\u001b[0m \u001b[0;34m=\u001b[0m \u001b[0mself\u001b[0m\u001b[0;34m.\u001b[0m\u001b[0m_slow_forward\u001b[0m\u001b[0;34m(\u001b[0m\u001b[0;34m*\u001b[0m\u001b[0minput\u001b[0m\u001b[0;34m,\u001b[0m \u001b[0;34m**\u001b[0m\u001b[0mkwargs\u001b[0m\u001b[0;34m)\u001b[0m\u001b[0;34m\u001b[0m\u001b[0m\n\u001b[1;32m    356\u001b[0m         \u001b[0;32melse\u001b[0m\u001b[0;34m:\u001b[0m\u001b[0;34m\u001b[0m\u001b[0m\n\u001b[0;32m--> 357\u001b[0;31m             \u001b[0mresult\u001b[0m \u001b[0;34m=\u001b[0m \u001b[0mself\u001b[0m\u001b[0;34m.\u001b[0m\u001b[0mforward\u001b[0m\u001b[0;34m(\u001b[0m\u001b[0;34m*\u001b[0m\u001b[0minput\u001b[0m\u001b[0;34m,\u001b[0m \u001b[0;34m**\u001b[0m\u001b[0mkwargs\u001b[0m\u001b[0;34m)\u001b[0m\u001b[0;34m\u001b[0m\u001b[0m\n\u001b[0m\u001b[1;32m    358\u001b[0m         \u001b[0;32mfor\u001b[0m \u001b[0mhook\u001b[0m \u001b[0;32min\u001b[0m \u001b[0mself\u001b[0m\u001b[0;34m.\u001b[0m\u001b[0m_forward_hooks\u001b[0m\u001b[0;34m.\u001b[0m\u001b[0mvalues\u001b[0m\u001b[0;34m(\u001b[0m\u001b[0;34m)\u001b[0m\u001b[0;34m:\u001b[0m\u001b[0;34m\u001b[0m\u001b[0m\n\u001b[1;32m    359\u001b[0m             \u001b[0mhook_result\u001b[0m \u001b[0;34m=\u001b[0m \u001b[0mhook\u001b[0m\u001b[0;34m(\u001b[0m\u001b[0mself\u001b[0m\u001b[0;34m,\u001b[0m \u001b[0minput\u001b[0m\u001b[0;34m,\u001b[0m \u001b[0mresult\u001b[0m\u001b[0;34m)\u001b[0m\u001b[0;34m\u001b[0m\u001b[0m\n",
      "\u001b[0;32m<ipython-input-10-df229a9a7e65>\u001b[0m in \u001b[0;36mforward\u001b[0;34m(self, x)\u001b[0m\n\u001b[1;32m     16\u001b[0m         \u001b[0;32mdef\u001b[0m \u001b[0mforward\u001b[0m\u001b[0;34m(\u001b[0m\u001b[0mself\u001b[0m\u001b[0;34m,\u001b[0m \u001b[0mx\u001b[0m\u001b[0;34m)\u001b[0m\u001b[0;34m:\u001b[0m\u001b[0;34m\u001b[0m\u001b[0m\n\u001b[1;32m     17\u001b[0m             \u001b[0mx\u001b[0m \u001b[0;34m=\u001b[0m \u001b[0mF\u001b[0m\u001b[0;34m.\u001b[0m\u001b[0mrelu\u001b[0m\u001b[0;34m(\u001b[0m\u001b[0mself\u001b[0m\u001b[0;34m.\u001b[0m\u001b[0mfc1\u001b[0m\u001b[0;34m(\u001b[0m\u001b[0mx\u001b[0m\u001b[0;34m)\u001b[0m\u001b[0;34m)\u001b[0m\u001b[0;34m\u001b[0m\u001b[0m\n\u001b[0;32m---> 18\u001b[0;31m             \u001b[0mx\u001b[0m \u001b[0;34m=\u001b[0m \u001b[0mself\u001b[0m\u001b[0;34m.\u001b[0m\u001b[0mrec\u001b[0m\u001b[0;34m(\u001b[0m\u001b[0mx\u001b[0m\u001b[0;34m)\u001b[0m\u001b[0;34m\u001b[0m\u001b[0m\n\u001b[0m\u001b[1;32m     19\u001b[0m             \u001b[0;32mreturn\u001b[0m \u001b[0mF\u001b[0m\u001b[0;34m.\u001b[0m\u001b[0mlog_softmax\u001b[0m\u001b[0;34m(\u001b[0m\u001b[0minput\u001b[0m\u001b[0;34m=\u001b[0m\u001b[0mx\u001b[0m\u001b[0;34m)\u001b[0m\u001b[0;34m\u001b[0m\u001b[0m\n\u001b[1;32m     20\u001b[0m \u001b[0mmodel\u001b[0m \u001b[0;34m=\u001b[0m \u001b[0mNet\u001b[0m\u001b[0;34m(\u001b[0m\u001b[0;34m)\u001b[0m\u001b[0;34m\u001b[0m\u001b[0m\n",
      "\u001b[0;32m~/anaconda3/lib/python3.6/site-packages/torch/nn/modules/module.py\u001b[0m in \u001b[0;36m__call__\u001b[0;34m(self, *input, **kwargs)\u001b[0m\n\u001b[1;32m    355\u001b[0m             \u001b[0mresult\u001b[0m \u001b[0;34m=\u001b[0m \u001b[0mself\u001b[0m\u001b[0;34m.\u001b[0m\u001b[0m_slow_forward\u001b[0m\u001b[0;34m(\u001b[0m\u001b[0;34m*\u001b[0m\u001b[0minput\u001b[0m\u001b[0;34m,\u001b[0m \u001b[0;34m**\u001b[0m\u001b[0mkwargs\u001b[0m\u001b[0;34m)\u001b[0m\u001b[0;34m\u001b[0m\u001b[0m\n\u001b[1;32m    356\u001b[0m         \u001b[0;32melse\u001b[0m\u001b[0;34m:\u001b[0m\u001b[0;34m\u001b[0m\u001b[0m\n\u001b[0;32m--> 357\u001b[0;31m             \u001b[0mresult\u001b[0m \u001b[0;34m=\u001b[0m \u001b[0mself\u001b[0m\u001b[0;34m.\u001b[0m\u001b[0mforward\u001b[0m\u001b[0;34m(\u001b[0m\u001b[0;34m*\u001b[0m\u001b[0minput\u001b[0m\u001b[0;34m,\u001b[0m \u001b[0;34m**\u001b[0m\u001b[0mkwargs\u001b[0m\u001b[0;34m)\u001b[0m\u001b[0;34m\u001b[0m\u001b[0m\n\u001b[0m\u001b[1;32m    358\u001b[0m         \u001b[0;32mfor\u001b[0m \u001b[0mhook\u001b[0m \u001b[0;32min\u001b[0m \u001b[0mself\u001b[0m\u001b[0;34m.\u001b[0m\u001b[0m_forward_hooks\u001b[0m\u001b[0;34m.\u001b[0m\u001b[0mvalues\u001b[0m\u001b[0;34m(\u001b[0m\u001b[0;34m)\u001b[0m\u001b[0;34m:\u001b[0m\u001b[0;34m\u001b[0m\u001b[0m\n\u001b[1;32m    359\u001b[0m             \u001b[0mhook_result\u001b[0m \u001b[0;34m=\u001b[0m \u001b[0mhook\u001b[0m\u001b[0;34m(\u001b[0m\u001b[0mself\u001b[0m\u001b[0;34m,\u001b[0m \u001b[0minput\u001b[0m\u001b[0;34m,\u001b[0m \u001b[0mresult\u001b[0m\u001b[0;34m)\u001b[0m\u001b[0;34m\u001b[0m\u001b[0m\n",
      "\u001b[0;32m~/anaconda3/lib/python3.6/site-packages/torch/nn/modules/rnn.py\u001b[0m in \u001b[0;36mforward\u001b[0;34m(self, input, hx)\u001b[0m\n\u001b[1;32m    188\u001b[0m             \u001b[0mflat_weight\u001b[0m \u001b[0;34m=\u001b[0m \u001b[0;32mNone\u001b[0m\u001b[0;34m\u001b[0m\u001b[0m\n\u001b[1;32m    189\u001b[0m \u001b[0;34m\u001b[0m\u001b[0m\n\u001b[0;32m--> 190\u001b[0;31m         \u001b[0mself\u001b[0m\u001b[0;34m.\u001b[0m\u001b[0mcheck_forward_args\u001b[0m\u001b[0;34m(\u001b[0m\u001b[0minput\u001b[0m\u001b[0;34m,\u001b[0m \u001b[0mhx\u001b[0m\u001b[0;34m,\u001b[0m \u001b[0mbatch_sizes\u001b[0m\u001b[0;34m)\u001b[0m\u001b[0;34m\u001b[0m\u001b[0m\n\u001b[0m\u001b[1;32m    191\u001b[0m         func = self._backend.RNN(\n\u001b[1;32m    192\u001b[0m             \u001b[0mself\u001b[0m\u001b[0;34m.\u001b[0m\u001b[0mmode\u001b[0m\u001b[0;34m,\u001b[0m\u001b[0;34m\u001b[0m\u001b[0m\n",
      "\u001b[0;32m~/anaconda3/lib/python3.6/site-packages/torch/nn/modules/rnn.py\u001b[0m in \u001b[0;36mcheck_forward_args\u001b[0;34m(self, input, hidden, batch_sizes)\u001b[0m\n\u001b[1;32m    135\u001b[0m             raise RuntimeError(\n\u001b[1;32m    136\u001b[0m                 'input must have {} dimensions, got {}'.format(\n\u001b[0;32m--> 137\u001b[0;31m                     expected_input_dim, input.dim()))\n\u001b[0m\u001b[1;32m    138\u001b[0m         \u001b[0;32mif\u001b[0m \u001b[0mself\u001b[0m\u001b[0;34m.\u001b[0m\u001b[0minput_size\u001b[0m \u001b[0;34m!=\u001b[0m \u001b[0minput\u001b[0m\u001b[0;34m.\u001b[0m\u001b[0msize\u001b[0m\u001b[0;34m(\u001b[0m\u001b[0;34m-\u001b[0m\u001b[0;36m1\u001b[0m\u001b[0;34m)\u001b[0m\u001b[0;34m:\u001b[0m\u001b[0;34m\u001b[0m\u001b[0m\n\u001b[1;32m    139\u001b[0m             raise RuntimeError(\n",
      "\u001b[0;31mRuntimeError\u001b[0m: input must have 3 dimensions, got 2"
     ]
    }
   ],
   "source": [
    "import torch.optim as optim\n",
    "\n",
    "criterion = nn.NLLLoss()\n",
    "optimizer = optim.SGD(model.parameters(), lr=0.01, momentum=0.9)\n",
    "\n",
    "import time\n",
    "start_time = time.time()\n",
    "print(\"Started training\")\n",
    "\n",
    "epochs = 50\n",
    "print_interval = 50 #prints every p_i*4\n",
    "tempo = []\n",
    "acc = []\n",
    "\n",
    "for epoch in range(epochs):  # nbr epochs\n",
    "    for batch_idx, (data, target) in enumerate(train_loader): #nbr batch,in,out\n",
    "        data, target = Variable(data), Variable(target)\n",
    "        \n",
    "        #On resize pour la sortie\n",
    "        data = data.view(-1, 64*64)\n",
    "\n",
    "        #init l'entrainement\n",
    "        optimizer.zero_grad()\n",
    "        net_out = model(data)\n",
    "\n",
    "        loss = criterion(net_out, target)\n",
    "        loss.backward()\n",
    "        optimizer.step()\n",
    "\n",
    "        #afficher la progression\n",
    "        if batch_idx % print_interval == 0:\n",
    "            #le print statement le plus illisible du monde\n",
    "            print('Epoch: {} [{}/{} ({:.0f}%)]\\tLoss: {:.6f}'.format(\n",
    "                    epoch+1, batch_idx * len(data), len(train_loader.dataset),\n",
    "                    100. * batch_idx / len(train_loader), loss.data[0]))\n",
    "    tempo.append(epoch)\n",
    "    acc.append(loss.data[0])\n",
    "    \n",
    "print(\"Finished training in  %.3f seconds \" % (time.time() - start_time))"
   ]
  }
 ],
 "metadata": {
  "kernelspec": {
   "display_name": "Python 3",
   "language": "python",
   "name": "python3"
  },
  "language_info": {
   "codemirror_mode": {
    "name": "ipython",
    "version": 3
   },
   "file_extension": ".py",
   "mimetype": "text/x-python",
   "name": "python",
   "nbconvert_exporter": "python",
   "pygments_lexer": "ipython3",
   "version": "3.6.4"
  }
 },
 "nbformat": 4,
 "nbformat_minor": 2
}
