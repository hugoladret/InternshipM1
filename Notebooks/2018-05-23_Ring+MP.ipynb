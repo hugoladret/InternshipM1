{
 "cells": [
  {
   "cell_type": "markdown",
   "metadata": {},
   "source": [
    "# 2018-05-23 - LSTM bidirectionnel et CNN à 16 dicos avec MP\n",
    "On reprend et on synthétise dans un modèle qui reprend tout ce qui a été fait dans la semaine 4."
   ]
  },
  {
   "cell_type": "markdown",
   "metadata": {},
   "source": [
    "# LSTM+CNN"
   ]
  },
  {
   "cell_type": "markdown",
   "metadata": {},
   "source": [
    "Le ring est constitué d'un ensemble de CNN et de LSTM qui font le lien bidirectionnel entre les CNN et l'output, ce qui donne un modèle d'interaction latérales entre les colonnes (CNN). \n",
    "![Could not display RNN picture](http://slideplayer.com/slide/10066142/32/images/8/Recurrent+Neural+Networks.jpg)\n",
    "\n",
    "On peut aussi utiliser des listes de paramètres pour faire de l'exploration d'hyperparamètres afin de gratter les quelques % de performances pour atteindre le 90% :"
   ]
  },
  {
   "cell_type": "code",
   "execution_count": null,
   "metadata": {},
   "outputs": [
    {
     "name": "stdout",
     "output_type": "stream",
     "text": [
      "BiRNN(\n",
      "  (rnn): LSTM(49, 128, num_layers=2, batch_first=True, dropout=0.3, bidirectional=True)\n",
      "  (conv1): Conv2d(1, 8, kernel_size=(30, 30), stride=(1, 1))\n",
      "  (conv2): Conv2d(1, 8, kernel_size=(30, 30), stride=(1, 1))\n",
      "  (pool1): MaxPool2d(kernel_size=2, stride=2, padding=0, dilation=1, ceil_mode=False)\n",
      "  (pool2): MaxPool2d(kernel_size=2, stride=2, padding=0, dilation=1, ceil_mode=False)\n",
      "  (fc): Linear(in_features=113, out_features=16, bias=True)\n",
      ")\n",
      "Start training\n"
     ]
    },
    {
     "name": "stderr",
     "output_type": "stream",
     "text": [
      "/home/hugo/anaconda3/lib/python3.6/site-packages/ipykernel_launcher.py:132: UserWarning: invalid index of a 0-dim tensor. This will be an error in PyTorch 0.5. Use tensor.item() to convert a 0-dim tensor to a Python number\n",
      "/home/hugo/anaconda3/lib/python3.6/site-packages/ipykernel_launcher.py:133: UserWarning: invalid index of a 0-dim tensor. This will be an error in PyTorch 0.5. Use tensor.item() to convert a 0-dim tensor to a Python number\n"
     ]
    },
    {
     "name": "stdout",
     "output_type": "stream",
     "text": [
      "Epoch [1/60], Step [100/480], Loss: 2.5795\n",
      "Epoch [1/60], Step [200/480], Loss: 2.3380\n",
      "Epoch [1/60], Step [300/480], Loss: 1.5965\n",
      "Epoch [1/60], Step [400/480], Loss: 1.4905\n"
     ]
    }
   ],
   "source": [
    "\"\"\"\n",
    "Created on Tue May 15 11:25:41 2018\n",
    "\n",
    "@author: hugo\n",
    "\"\"\"\n",
    "from torch.autograd import Variable\n",
    "import torch \n",
    "import torch.nn as nn\n",
    "import torchvision\n",
    "from torchvision import transforms, datasets\n",
    "import torch.nn.functional as F\n",
    "\n",
    "#Transform\n",
    "data_transform = transforms.Compose(\n",
    "    [transforms.Grayscale(),\n",
    "     transforms.Resize((128,128)),\n",
    "    transforms.ToTensor(),\n",
    "     transforms.Normalize((0.5, 0.5,0.5), (0.5,0.5,0.5))])\n",
    "\n",
    "#Train\n",
    "train_set = datasets.ImageFolder(root='16_clouds_easy',\n",
    "                                transform=data_transform)\n",
    "train_loader = torch.utils.data.DataLoader(train_set,\n",
    "                                             batch_size=8, shuffle=True,\n",
    "                                             num_workers=1)\n",
    "\n",
    "#Test\n",
    "test_set = datasets.ImageFolder(root='16_clouds_easy_test',\n",
    "                                transform=data_transform)\n",
    "test_loader = torch.utils.data.DataLoader(test_set,\n",
    "                                             batch_size=8,shuffle=False,\n",
    "                                             num_workers=1)\n",
    "\n",
    "###################################################################################\n",
    "\n",
    "# Hyper-parameters\n",
    "sequence_length = 49\n",
    "input_size = 49\n",
    "hidden_size = 128\n",
    "num_layers = 2\n",
    "num_classes = 16\n",
    "batch_size = 8\n",
    "num_epochs = 60\n",
    "learning_rate = 0.003\n",
    "\n",
    "###################################################################################\n",
    "\n",
    "class BiRNN(nn.Module):\n",
    "    def __init__(self, input_size, hidden_size, num_layers, num_classes):\n",
    "        super(BiRNN, self).__init__()\n",
    "        self.hidden_size = hidden_size\n",
    "        self.num_layers = num_layers\n",
    "        self.rnn = nn.LSTM(input_size, hidden_size, num_layers, batch_first=True, bidirectional=True, dropout = 0.3)\n",
    "        self.conv1 = nn.Conv2d(1,8,30)\n",
    "        self.conv2 = nn.Conv2d(1,8,30)\n",
    "        self.pool1 = nn.MaxPool2d(2,2)\n",
    "        self.pool2 = nn.MaxPool2d(2,2)\n",
    "        #self.drop = nn.Dropout(0.2)\n",
    "\n",
    "        self.fc = nn.Linear(113 , 16)  # 2 for bidirection\n",
    "    \n",
    "    def forward(self, x):\n",
    "        #print('Input %s' % str(x.size()))\n",
    "\n",
    "        out = self.pool1(F.relu(self.conv1(x)))\n",
    "        #print('Convoluted %s' % str(x.size()))\n",
    "\n",
    "        # Init\n",
    "        h0 = torch.zeros(self.num_layers*2, x.size(0), self.hidden_size) # 2 for bidirection \n",
    "        c0 = torch.zeros(self.num_layers*2, x.size(0), self.hidden_size)\n",
    "        h0 = Variable(h0).cuda()\n",
    "        c0 = Variable(c0).cuda()\n",
    "        \n",
    "        out = out[:,-1,:,:]\n",
    "        #print('Resized for RNN %s' % str(x.size()))\n",
    "        \n",
    "        # LSTM forward\n",
    "        out, _ = self.rnn(out, (h0,c0))  # out: tensor of shape (batch_size, seq_length, hidden_size*2)\n",
    "        #print('After RNN %s' % str(out.size()))\n",
    "        \n",
    "        out = out.unsqueeze(1)\n",
    "        #print(out.size())\n",
    "        out = self.pool2(F.relu(self.conv2(out)))\n",
    "        #print(out.size())\n",
    "        out = out[:,-1,:,:]\n",
    "        #Dropout\n",
    "        #out = self.drop(out)\n",
    "        #print(out.size())\n",
    "        \n",
    "        out = out[:,-1,:]\n",
    "        # LSTM output\n",
    "        out = self.fc(out)\n",
    "        #print('Reshaped for output %s \\n'%  str(out.size()))\n",
    "\n",
    "        return out\n",
    "\n",
    "model = BiRNN(input_size, hidden_size, num_layers, num_classes).cuda()\n",
    "print(model)\n",
    "\n",
    "###################################################################################\n",
    "\n",
    "# Loss and optimizer\n",
    "criterion = nn.CrossEntropyLoss()\n",
    "optimizer = torch.optim.Adam(model.parameters(), lr=learning_rate)\n",
    "\n",
    "###################################################################################\n",
    "\n",
    "#plotting list\n",
    "loss_list = []\n",
    "time_list = []\n",
    "t = 0\n",
    "\n",
    "print(\"Start training\")\n",
    "# Train the model\n",
    "total_step = len(train_loader)\n",
    "\n",
    "for epoch in range(num_epochs):\n",
    "    for i, (images, labels) in enumerate(train_loader):\n",
    "        images = Variable(images).cuda()\n",
    "        labels = Variable(labels).cuda()\n",
    "        # Forward pass\n",
    "        outputs = model(images)\n",
    "        loss = criterion(outputs, labels)\n",
    "        \n",
    "        # Backward and optimize\n",
    "        optimizer.zero_grad()\n",
    "        loss.backward()\n",
    "        optimizer.step()\n",
    "        \n",
    "        if (i+1) % 100 == 0:\n",
    "            print ('Epoch [{}/{}], Step [{}/{}], Loss: {:.4f}' \n",
    "                   .format(epoch+1, num_epochs, i+1, total_step, loss.data[0]))\n",
    "            loss_list.append(loss.data[0])\n",
    "            time_list.append(t)\n",
    "            t+=1\n",
    "\n",
    "correct = 0\n",
    "total = 0\n",
    "for images, labels in test_loader:\n",
    "    images = Variable(images).cuda()\n",
    "    labels = Variable(labels).cuda()\n",
    "\n",
    "    outputs = model(images)\n",
    "    _, predicted = torch.max(outputs.data, 1)\n",
    "    total += labels.size(0)\n",
    "    correct += predicted.eq(labels.data).sum()\n",
    "\n",
    "print('Test Accuracy of the model on the test images: {} %'.format(100 * correct / total))\n",
    "\n",
    "%matplotlib inline\n",
    "import matplotlib.pyplot as plt\n",
    "\n",
    "plt.plot(time_list, loss_list)\n",
    "plt.xlabel('Epochs')\n",
    "plt.ylabel('Loss')\n",
    "plt.title('Loss for LSTM-CNN')\n",
    "plt.show()\n",
    "            "
   ]
  },
  {
   "cell_type": "code",
   "execution_count": null,
   "metadata": {},
   "outputs": [],
   "source": [
    "correct = 0\n",
    "total = 0\n",
    "for images, labels in test_loader:\n",
    "    images = Variable(images)\n",
    "    labels = Variable(labels)\n",
    "\n",
    "    outputs = model(images)\n",
    "    _, predicted = torch.max(outputs.data, 1)\n",
    "    total += labels.size(0)\n",
    "    correct += predicted.eq(labels.data).sum()\n",
    "\n",
    "print('Test Accuracy of the model on the test images: {} %'.format(100 * correct / total))\n",
    "\n",
    "%matplotlib inline\n",
    "import matplotlib.pyplot as plt\n",
    "\n",
    "plt.plot(time_list, loss_list)\n",
    "plt.xlabel('Epochs')\n",
    "plt.ylabel('Loss')\n",
    "plt.title('Loss for LSTM-CNN')\n",
    "plt.show()"
   ]
  },
  {
   "cell_type": "markdown",
   "metadata": {},
   "source": [
    "On visualise les layers convolutionnels :"
   ]
  },
  {
   "cell_type": "code",
   "execution_count": 25,
   "metadata": {},
   "outputs": [
    {
     "name": "stdout",
     "output_type": "stream",
     "text": [
      "Convolutional 1 \n",
      " Convolutional 2\n"
     ]
    },
    {
     "data": {
      "image/png": "[encoded data removed]",
      "text/plain": [
       "<matplotlib.figure.Figure at 0x7feedd157978>"
      ]
     },
     "metadata": {},
     "output_type": "display_data"
    },
    {
     "data": {
      "image/png": "[encoded data removed]",
      "text/plain": [
       "<matplotlib.figure.Figure at 0x7feec9a646a0>"
      ]
     },
     "metadata": {},
     "output_type": "display_data"
    }
   ],
   "source": [
    "import matplotlib.pyplot as plt\n",
    "%matplotlib inline\n",
    "import numpy as np\n",
    "from torchvision import utils\n",
    "\n",
    "def plotkernel(tensor, figname,ch=0, allkernels=True, nrow=8, padding=2):\n",
    "    \n",
    "    n,c,w,h = tensor.shape\n",
    "    if allkernels: tensor = tensor.view(n*c,-1,w,h )\n",
    "    elif c != 3: tensor = tensor[:,ch,:,:].unsqueeze(dim=1)\n",
    "        \n",
    "    rows = np.min( (tensor.shape[0]//nrow + 1, 64 )  )    \n",
    "    grid = utils.make_grid(tensor, nrow=nrow, normalize=True, padding=padding)\n",
    "    plt.figure( figsize=(nrow,rows) )\n",
    "    plt.imshow(grid.numpy().transpose((1, 2, 0)))\n",
    "    plt.savefig(figname)\n",
    "\n",
    "convolayer1 = [i for i in model.children()][1]\n",
    "kernel_unsync = convolayer1.cpu()\n",
    "kernel_unsync = convolayer1.weight.data.clone()\n",
    "\n",
    "convolayer2 = [i for i in model.children()][2]\n",
    "kernel_sync = convolayer2.cpu()\n",
    "kernel_sync = convolayer2.weight.data.clone()\n",
    "\n",
    "\n",
    "print(\"Convolutional 1 \\n Convolutional 2\")\n",
    "plotkernel(kernel_unsync, figname = 'CNN1.png')\n",
    "plotkernel(kernel_sync, figname = 'CNN2.png')"
   ]
  },
  {
   "cell_type": "markdown",
   "metadata": {},
   "source": [
    "# Matching Pursuit, sequential\n",
    "Maintenant on intègre MP de manière séquentielle (!= pour stream) avec le modèle.\n",
    "\n",
    "On utilise toujours la [jolie image](https://www.flickr.com/photos/doug88888/6370387703) de flickr :"
   ]
  },
  {
   "cell_type": "code",
   "execution_count": null,
   "metadata": {},
   "outputs": [],
   "source": [
    "from SparseEdges import SparseEdges\n",
    "import matplotlib.pyplot as plt\n",
    "%matplotlib inline\n",
    "import numpy as np\n",
    "import os\n",
    "import time\n",
    "\n",
    "mp = SparseEdges('https://raw.githubusercontent.com/bicv/SparseEdges/master/default_param.py')\n",
    "mp.pe.N = 2048\n",
    "mp.pe.MP_alpha=1.\n",
    "mp.pe.figpath, name = './mp', 'mpnaturalimage'\n",
    "\n",
    "mp.init()\n",
    "\n",
    "###si on a les edges de mp.run, on peut les afficher pour la démo \n",
    "#import pickle\n",
    "#edges = pickle.load( open('edges.p', 'rb'))\n",
    "#fig, a = mp.show_edges(edges, image=image)"
   ]
  },
  {
   "cell_type": "markdown",
   "metadata": {},
   "source": [
    "On extrait les edges :"
   ]
  },
  {
   "cell_type": "code",
   "execution_count": null,
   "metadata": {},
   "outputs": [],
   "source": [
    "number_edge = 25\n",
    "img = mp.imread('tiger.jpg')\n",
    "\n",
    "#gabor saving folder\n",
    "if not os.path.exists('temp'):\n",
    "    os.makedirs('temp')\n",
    "   \n",
    "for edge in range(number_edge):\n",
    "    print(\"Edge %s / %s\" %(edge+1, number_edge))\n",
    "    \n",
    "    #matching\n",
    "    if edge == 0 : #init\n",
    "        C = mp.linear_pyramid(img)\n",
    "    edge_loc = mp.argmax(C)\n",
    "    C = mp.backprop(C, edge_loc)\n",
    "    FT_star = mp.loggabor(edge_loc[0], edge_loc[1], sf_0=mp.sf_0[edge_loc[3]],\n",
    "                         B_sf=mp.pe.B_sf, theta= mp.theta[edge_loc[2]], B_theta=mp.pe.B_theta)\n",
    "    im_star = mp.invert(FT_star)\n",
    "    \n",
    "    #get FT and save only the LogGabor in a temp folder\n",
    "    plot = mp.show_FT(FT_star, axis=True)\n",
    "    fig = plot[0]\n",
    "    ax = plot[2]\n",
    "    extent =ax.get_window_extent().transformed(fig.dpi_scale_trans.inverted())\n",
    "    fig.savefig('temp/edge%s.png' % edge, bbox_inches=extent.expanded(0.9,0.8))\n",
    "\n",
    "    #pursuit\n",
    "    img = (img - C[edge_loc] * im_star).real\n",
    "    plt.close(fig) #prevents memory overload"
   ]
  },
  {
   "cell_type": "markdown",
   "metadata": {},
   "source": [
    "On les transforme en un format compréhensible par le réseau :"
   ]
  },
  {
   "cell_type": "code",
   "execution_count": null,
   "metadata": {},
   "outputs": [],
   "source": [
    "from torchvision import transforms\n",
    "from PIL import Image\n",
    "from torch.autograd import Variable\n",
    "\n",
    "transformations = transforms.Compose(\n",
    "    [transforms.Grayscale(),\n",
    "     transforms.Resize((64,64)),\n",
    "    transforms.ToTensor(),\n",
    "    ])\n",
    "\n",
    "edge_folders = os.listdir(\"temp\")\n",
    "edge_img_list = []\n",
    "\n",
    "for edge in edge_folders :\n",
    "    edge_img = Image.open(\"temp/\"+edge)\n",
    "    edge_img_cop = edge_img\n",
    "    \n",
    "    edge_img = transformations(edge_img)\n",
    "    edge_img_list.append((edge_img,np.asarray(edge_img_cop)))\n"
   ]
  },
  {
   "cell_type": "markdown",
   "metadata": {},
   "source": [
    "Puis on les classifie et on les compare au MotionClouds d'entrainement :"
   ]
  },
  {
   "cell_type": "code",
   "execution_count": null,
   "metadata": {},
   "outputs": [],
   "source": [
    "output_list = []\n",
    "\n",
    "for i, (edge, img) in enumerate(edge_img_list):\n",
    "    edge_to_classify = edge_img_list[i][0]\n",
    "    edge_to_classify = Variable(edge_to_classify.view(-1,64*64)) #wrap in Variable\n",
    "    \n",
    "    output = model(edge_to_classify)\n",
    "    output = output.cpu() \n",
    "    output_list.append((output.data.numpy().argmax()\n",
    "                        ,edge_img_list[i][1])) #append prediction and edge image for plotting\n",
    "   \n",
    "#######################################\n",
    "\n",
    " \n",
    "import os\n",
    "\n",
    "subfolders = sorted(os.listdir(\"16_clouds_easy\"))\n",
    "fig_width = 14\n",
    "fig, axs = plt.subplots(len(output_list), 2,figsize=(fig_width, fig_width/2*len(output_list)))\n",
    "\n",
    "for i, tup in enumerate(output_list) :\n",
    "    \n",
    "    axs[i,0].imshow(output_list[i][1])\n",
    "    axs[i, 0].text(350, 420, 'Edge', color='white', fontsize=20) #text indicating edge\n",
    "    \n",
    "    #opens a motionCloud to display, from the subfolder of the predicted label (output_list[i][0])\n",
    "    #and does a secondlistdir to get the first image from that subfolder (it's a bit hairy really)\n",
    "    MC_to_display = Image.open('./16_clouds_easy/%s/%s' % (subfolders[output_list[i][0]],\n",
    "                                                          os.listdir(\"16_clouds_easy/%s\" % subfolders[output_list[i][0]])[0]))\n",
    "    #MC_to_display = np.asarray(MC_to_display)\n",
    "    axs[i,1].imshow(MC_to_display, cmap= 'gray')\n",
    "    #fig, axs[i, 1] = mp.imshow((MC_to_display),fig=fig, ax=axs[i, 1], norm=False) #MC\n",
    "    axs[i, 1].text(170, 245, 'Predicted', color='yellow', fontsize=20) #text indicating edge\n",
    "    "
   ]
  },
  {
   "cell_type": "markdown",
   "metadata": {},
   "source": [
    "# Matching pursuit, pre-computed\n",
    "Idem qu'au dessus mais il faut une liste d'edges déjà entièrement calculée :"
   ]
  },
  {
   "cell_type": "code",
   "execution_count": null,
   "metadata": {},
   "outputs": [],
   "source": [
    "from SparseEdges import SparseEdges\n",
    "import matplotlib.pyplot as plt\n",
    "%matplotlib inline\n",
    "import numpy as np\n",
    "import os\n",
    "\n",
    "mp = SparseEdges('https://raw.githubusercontent.com/bicv/SparseEdges/master/default_param.py')\n",
    "mp.pe.N = 2048\n",
    "mp.pe.MP_alpha=1.\n",
    "mp.pe.figpath, name = './mp', 'mpnaturalimage'\n",
    "\n",
    "image = mp.imread('tiger.jpg')\n",
    "mp.init()\n",
    "image = mp.normalize(image, center=True)"
   ]
  },
  {
   "cell_type": "code",
   "execution_count": null,
   "metadata": {},
   "outputs": [],
   "source": [
    "edges, C_res = mp.run_mp(image, verbose=True)\n",
    "import pickle\n",
    "pickle.dump(edges, open('edges.p', 'wb'))"
   ]
  },
  {
   "cell_type": "code",
   "execution_count": null,
   "metadata": {},
   "outputs": [],
   "source": [
    "import pickle\n",
    "edges = pickle.load( open('edges.p', 'rb'))\n",
    "fig, a = mp.show_edges(edges, image=image)"
   ]
  },
  {
   "cell_type": "markdown",
   "metadata": {},
   "source": [
    "On extrait les edges de la liste et on les transforme :"
   ]
  },
  {
   "cell_type": "code",
   "execution_count": null,
   "metadata": {},
   "outputs": [],
   "source": [
    "from torchvision import transforms, datasets\n",
    "from PIL import Image\n",
    "import numpy as np\n",
    "from torch.autograd import Variable\n",
    "\n",
    "edges_list = np.linspace(1,25,25)\n",
    "\n",
    "fig_width = 14\n",
    "vmax = 1.\n",
    "vmax = image.max()\n",
    "\n",
    "image_rec_list = []\n",
    "\n",
    "transformations = transforms.Compose(\n",
    "    [transforms.Grayscale(),\n",
    "     transforms.Resize((64,64)),\n",
    "    transforms.ToTensor(),\n",
    "    ])\n",
    "\n",
    "for i_ax, number_of_edge in enumerate(edges_list):\n",
    "    number_of_edge = int(number_of_edge)\n",
    "    \n",
    "    edges_ = edges[:, number_of_edge-1:number_of_edge][..., np.newaxis]\n",
    "    \n",
    "    image_rec = mp.dewhitening(mp.reconstruct(edges_))\n",
    "    image_plot = image_rec #save them unchanged for latter plotting purposes\n",
    "    \n",
    "    plt.imshow(image_rec, cmap = 'gray')\n",
    "\n",
    "    image_rec = Image.fromarray((image_rec*255).astype('uint8'))\n",
    "\n",
    "    image_rec = transformations(image_rec)\n",
    "    image_rec = Variable(image_rec)\n",
    "    image_rec_list.append((image_rec, image_plot)) "
   ]
  },
  {
   "cell_type": "markdown",
   "metadata": {},
   "source": [
    "On classifie et on affiche :"
   ]
  },
  {
   "cell_type": "code",
   "execution_count": null,
   "metadata": {},
   "outputs": [],
   "source": [
    "output_list = []\n",
    "\n",
    "for i, (edge, img) in enumerate(image_rec_list):\n",
    "    edge_to_classify = image_rec_list[i][0]\n",
    "    edge_to_classify = Variable(edge_to_classify.view(-1, sequence_length, input_size)) #wrap in Variable\n",
    "    \n",
    "    output = model(edge_to_classify)\n",
    "    output = output.cpu() #cuda fucks up argmax for some reason\n",
    "    output_list.append((output.data.numpy().argmax()\n",
    "                        ,image_rec_list[i][1])) #append prediction and edge image for plotting\n",
    "\n",
    "    \n",
    "################################\n",
    "\n",
    "import os\n",
    "\n",
    "subfolders = sorted(os.listdir(\"16_clouds_easy\"))\n",
    "fig_width = 14\n",
    "fig, axs = plt.subplots(len(output_list), 2,figsize=(fig_width, fig_width/2*len(output_list)))\n",
    "\n",
    "for i, tup in enumerate(output_list) :\n",
    "    \n",
    "    fig, axs[i, 0] = mp.imshow((output_list[i][1]),\n",
    "                               fig=fig, ax=axs[i, 0], norm=False) #edge\n",
    "    axs[i, 0].text(120, 144, 'Edge', color='white', fontsize=20) #text indicating edge\n",
    "    \n",
    "    #opens a motionCloud to display, from the subfolder of the predicted label (output_list[i][0])\n",
    "    #and does a secondlistdir to get the first image from that subfolder (it's a bit hairy really)\n",
    "    MC_to_display = Image.open('./16_clouds_easy/%s/%s' % (subfolders[output_list[i][0]],\n",
    "                                                          os.listdir(\"16_clouds_easy/%s\" % subfolders[output_list[i][0]])[0]))\n",
    "    #MC_to_display = np.asarray(MC_to_display)\n",
    "    axs[i,1].imshow(MC_to_display, cmap= 'gray')\n",
    "    #fig, axs[i, 1] = mp.imshow((MC_to_display),fig=fig, ax=axs[i, 1], norm=False) #MC\n",
    "    axs[i, 1].text(170, 245, 'Predicted', color='yellow', fontsize=20) #text indicating edge\n",
    "    "
   ]
  }
 ],
 "metadata": {
  "kernelspec": {
   "display_name": "Python 3",
   "language": "python",
   "name": "python3"
  },
  "language_info": {
   "codemirror_mode": {
    "name": "ipython",
    "version": 3
   },
   "file_extension": ".py",
   "mimetype": "text/x-python",
   "name": "python",
   "nbconvert_exporter": "python",
   "pygments_lexer": "ipython3",
   "version": "3.6.4"
  }
 },
 "nbformat": 4,
 "nbformat_minor": 2
}
