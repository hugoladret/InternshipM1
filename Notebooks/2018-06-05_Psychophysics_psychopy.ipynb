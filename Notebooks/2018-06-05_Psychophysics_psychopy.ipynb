{
 "cells": [
  {
   "cell_type": "markdown",
   "metadata": {},
   "source": [
    "# 2018-06-05 - Psychophysics using psychopy\n",
    "On repasse sur un paradoxe plus classique de psychophysique."
   ]
  },
  {
   "cell_type": "markdown",
   "metadata": {},
   "source": [
    "On récupère les initiales :"
   ]
  },
  {
   "cell_type": "code",
   "execution_count": 4,
   "metadata": {},
   "outputs": [
    {
     "name": "stdout",
     "output_type": "stream",
     "text": [
      "{'Initiales ': 'HL'}\n"
     ]
    }
   ],
   "source": [
    "from psychopy import visual, core, gui, event\n",
    "import MotionClouds as MC\n",
    "from psychopy import gui\n",
    "\n",
    "exp_name = \"Perception de l'orientation\"\n",
    "exp_info = {\n",
    "            'Initiales ': ''\n",
    "            }\n",
    "subj_info = gui.DlgFromDict(dictionary=exp_info, title=exp_name)\n",
    "print (exp_info)"
   ]
  },
  {
   "cell_type": "markdown",
   "metadata": {},
   "source": [
    "On défini la génération de MotionClouds :"
   ]
  },
  {
   "cell_type": "code",
   "execution_count": 1,
   "metadata": {},
   "outputs": [],
   "source": [
    "import numpy as np\n",
    "import MotionClouds as mc\n",
    "import matplotlib.pyplot as plt\n",
    "import os\n",
    "import imageio\n",
    "import random\n",
    "\n",
    "downscale = 1\n",
    "fig_width = 21\n",
    "fx, fy, ft = mc.get_grids(mc.N_X/downscale, mc.N_Y/downscale, 1)\n",
    "\n",
    "#generates a cloud of given theta and b_theta\n",
    "def generate_random_cloud(theta, B_theta):\n",
    "    mc_i = mc.envelope_gabor(fx, fy, ft, V_X=0., V_Y=0., B_V=0, theta=theta, B_theta=B_theta)\n",
    "    im = mc.random_cloud(mc_i)\n",
    "    im = (mc.rectif(im) * 255).astype('uint8')\n",
    "    imageio.imwrite('%s.png' % (theta) , im[:, :, 0])\n",
    "    return im[:, :, 0]"
   ]
  },
  {
   "cell_type": "markdown",
   "metadata": {},
   "source": [
    "On définit les paramètres et on teste :"
   ]
  },
  {
   "cell_type": "code",
   "execution_count": 2,
   "metadata": {},
   "outputs": [
    {
     "name": "stdout",
     "output_type": "stream",
     "text": [
      "['right']\n",
      "['left']\n",
      "['right']\n",
      "['right']\n",
      "['right']\n",
      "['left']\n",
      "['right']\n",
      "['left']\n",
      "['left']\n",
      "['right']\n"
     ]
    }
   ],
   "source": [
    "from psychopy import visual, core, gui, event\n",
    "import MotionClouds as MC\n",
    "from psychopy import gui\n",
    "\n",
    "test_length = 10 #number of trials\n",
    "trial_length = 2.6 #length of trial, in second\n",
    "fixation_length = 1.5 #length of fixation, in second\n",
    "stim1_length = 0.5 #length of first stim, in second\n",
    "stim2_length = 0.5 #length of the second stim, in second\n",
    "\n",
    "\n",
    "#Psychopy window\n",
    "win=visual.Window( fullscr = False, color = [0,0,100], winType = 'pygame', monitor = 'testMonitor')\n",
    "\n",
    "#Answer list\n",
    "ans_list = []\n",
    "\n",
    "for trial in range(test_length) :\n",
    "    #Shift to left (3) or to right (2) ?\n",
    "    shift = random.randint(2,3)\n",
    "    shift_dict = {'right' : 2,\n",
    "                   'left' :  3}\n",
    "    \n",
    "    #MC generation\n",
    "    B_thetas = np.pi*np.logspace(-7, 0, 100, base = 2)\n",
    "    B_theta = B_thetas[random.randint(1,99)]\n",
    "    \n",
    "    MC1 = generate_random_cloud(np.pi/2, B_theta = B_theta)\n",
    "    MC2 = generate_random_cloud(np.pi/3, B_theta = B_theta) #if shift = 2\n",
    "    MC3 = generate_random_cloud(2 * (np.pi/3), B_theta = B_theta) #if shift = 3\n",
    "\n",
    "    #MC to psychopy objects\n",
    "    bitmap1 =visual.ImageStim(win, '%s.png' % str(np.pi/2), mask = 'circle')\n",
    "    bitmap1.autolog = False\n",
    "    bitmap2 =visual.ImageStim(win, '%s.png' % str(np.pi/3), mask = 'circle')\n",
    "    bitmap2.autolog = False\n",
    "    bitmap3 =visual.ImageStim(win, '%s.png' % str(2 * (np.pi/3)), mask = 'circle')\n",
    "    bitmap3.autolog = False\n",
    "\n",
    "    #Times the trial\n",
    "    clock = core.Clock()\n",
    "    while clock.getTime() < trial_length: \n",
    "        if 0.0 <= clock.getTime() < fixation_length : #fixation\n",
    "            fixation = visual.ShapeStim(vertices = 'cross', win=win, size=0.2, pos=[0,0], fillColor = 'black')\n",
    "            fixation.autolog = False\n",
    "            fixation.draw()\n",
    "        if fixation_length + 0.01 <= clock.getTime() < fixation_length + stim1_length :\n",
    "            bitmap1.draw()\n",
    "        if fixation_length + stim1_length + 0.01 <= clock.getTime() < fixation_length + stim1_length + stim2_length:\n",
    "            if shift == 2 :\n",
    "                bitmap2.draw()\n",
    "            if shift == 3 :\n",
    "                bitmap3.draw()\n",
    "        win.flip()\n",
    "    \n",
    "    #display orientation choice\n",
    "    msg = visual.TextStim(win, text = '<- LEFT or RIGHT ->')\n",
    "    msg.draw()\n",
    "    win.flip()\n",
    "    \n",
    "    #answer using the keyboard\n",
    "    while True :\n",
    "        ans = event.waitKeys()\n",
    "        print(ans)\n",
    "        if len(ans)>0 :\n",
    "            break\n",
    "    \n",
    "    \n",
    "    #Output shape per trial is : trial number, shift direction, answered shift and b_theta\n",
    "    ans_list.append([trial, shift, shift_dict[ans[0]], B_theta])\n",
    "    \n",
    "win.close()"
   ]
  },
  {
   "cell_type": "code",
   "execution_count": 8,
   "metadata": {},
   "outputs": [],
   "source": [
    "import pickle\n",
    "\n",
    "pickle.dump(ans_list, open('Psychophys_discrim_%s.p' % exp_info['Initiales '], 'wb'))"
   ]
  }
 ],
 "metadata": {
  "kernelspec": {
   "display_name": "Python 3",
   "language": "python",
   "name": "python3"
  },
  "language_info": {
   "codemirror_mode": {
    "name": "ipython",
    "version": 3
   },
   "file_extension": ".py",
   "mimetype": "text/x-python",
   "name": "python",
   "nbconvert_exporter": "python",
   "pygments_lexer": "ipython3",
   "version": "3.6.4"
  }
 },
 "nbformat": 4,
 "nbformat_minor": 2
}
