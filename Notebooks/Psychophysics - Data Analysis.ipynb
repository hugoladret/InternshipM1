{
 "cells": [
  {
   "cell_type": "markdown",
   "metadata": {},
   "source": [
    "# Psychophysics - Analyse des données\n",
    "\n",
    "On va faire une regression logistique des données obtenues en psychophysiques, pour chercher le seuil B_theta vers lequel les gens perdent en performances. On le comparera ensuite qualitativement au performances du modèle pour essayer de valider sa plausibilité neurobiologique. "
   ]
  },
  {
   "cell_type": "code",
   "execution_count": 1,
   "metadata": {
    "ExecuteTime": {
     "end_time": "2018-06-06T14:14:52.573706Z",
     "start_time": "2018-06-06T14:14:52.416616Z"
    }
   },
   "outputs": [
    {
     "name": "stdout",
     "output_type": "stream",
     "text": [
      "../psychophysics_data/Psychophys_discrim_2018-06-06:1606_LP.p\r\n",
      "../psychophysics_data/Psychophys_discrim_2018-06-06_0648_LP.p\r\n",
      "../psychophysics_data/Psychophys_discrim_2018-06-06_HL.p\r\n",
      "../psychophysics_data/Psychophys_discrim_2018-06-06_LP.p\r\n",
      "../psychophysics_data/Psychophys_discrim_LP.p\r\n",
      "../psychophysics_data/Psychophys_discrim_MP.p\r\n"
     ]
    }
   ],
   "source": [
    "%ls ../psychophysics_data/Psychophys_*.p"
   ]
  },
  {
   "cell_type": "markdown",
   "metadata": {},
   "source": [
    "En utilisant le modèle de régression logistique de scikit-learn, on fait un modèle pour chaque sujet :"
   ]
  },
  {
   "cell_type": "markdown",
   "metadata": {},
   "source": [
    "# Tache de discrimination "
   ]
  },
  {
   "cell_type": "code",
   "execution_count": 2,
   "metadata": {
    "ExecuteTime": {
     "end_time": "2018-06-06T14:14:54.528183Z",
     "start_time": "2018-06-06T14:14:52.581372Z"
    }
   },
   "outputs": [],
   "source": [
    "import pickle\n",
    "import matplotlib.pyplot as plt\n",
    "\n",
    "#subj_name_list =  ['HL', 'LP', 'MP']\n",
    "subj_name_list =  ['2018-06-06_0648_LP', 'LP', 'MP', '2018-06-06_HL']\n",
    "\n",
    "subj_name_list =  ['2018-06-06_0648_LP', '2018-06-06_LP', '2018-06-06_HL']\n",
    "\n",
    "\n",
    "subj_name_list =  ['2018-06-06:1606_LP']\n",
    "subj_data_list = []\n",
    "\n",
    "for subject in subj_name_list :\n",
    "#    x = pickle.load(open('Psychophys_discrim_2018-06-06_%s.p'%subject, 'rb'))\n",
    "    x = pickle.load(open('../psychophysics_data/Psychophys_discrim_%s.p'%subject, 'rb'))\n",
    "\n",
    "    subj_data_list.append(x)"
   ]
  },
  {
   "cell_type": "code",
   "execution_count": 3,
   "metadata": {
    "ExecuteTime": {
     "end_time": "2018-06-06T14:14:54.638805Z",
     "start_time": "2018-06-06T14:14:54.549668Z"
    },
    "scrolled": false
   },
   "outputs": [
    {
     "data": {
      "text/plain": [
       "[[[0, -0.1315869783074811, 'left', 1.5707963267948966],\n",
       "  [1, 0.086801181470225, 'right', 0.8815796312255196],\n",
       "  [2, 0.6950295336109592, 'right', 0.8815796312255196],\n",
       "  [3, -0.24206430141391483, 'left', 1.5707963267948966],\n",
       "  [4, -0.24712325048963862, 'left', 0.08746377712507042],\n",
       "  [5, -0.111115757790226, 'left', 0.15584273384887518],\n",
       "  [6, 0.19679484941225658, 'right', 0.8815796312255196],\n",
       "  [7, 0.6809898515137983, 'right', 0.04908738521234052],\n",
       "  [8, 0.5427344702540823, 'right', 0.08746377712507042],\n",
       "  [9, 0.2976863552436489, 'right', 0.8815796312255196],\n",
       "  [10, -0.7853981633974483, 'left', 0.8815796312255196],\n",
       "  [11, -0.11304070226767671, 'left', 0.4947698393066091],\n",
       "  [12, -0.35735801371848236, 'left', 0.04908738521234052],\n",
       "  [13, -0.07256619385716936, 'left', 0.08746377712507042],\n",
       "  [14, 0.47255638308095077, 'right', 0.15584273384887518],\n",
       "  [15, 0.5999635014030607, 'right', 0.8815796312255196],\n",
       "  [16, -0.3565553952643095, 'left', 0.8815796312255196],\n",
       "  [17, 0.4619472280062236, 'right', 0.8815796312255196],\n",
       "  [18, -0.7273094657542808, 'left', 0.4947698393066091],\n",
       "  [19, -0.07092482067848392, 'left', 0.4947698393066091],\n",
       "  [20, -0.03883563591812363, 'left', 0.04908738521234052],\n",
       "  [21, 0.060145484256926014, 'left', 0.8815796312255196],\n",
       "  [22, -0.28652869650289625, 'left', 0.4947698393066091],\n",
       "  [23, -0.6108816579129432, 'left', 1.5707963267948966],\n",
       "  [24, -0.53346763843865, 'left', 0.4947698393066091],\n",
       "  [25, 0.42407148515817533, 'right', 1.5707963267948966],\n",
       "  [26, -0.16780687375682168, 'left', 0.08746377712507042],\n",
       "  [27, -0.42140503035109567, 'left', 0.04908738521234052],\n",
       "  [28, 0.3508574356703508, 'right', 0.2776801836348979],\n",
       "  [29, 0.005634533786204756, 'left', 0.4947698393066091],\n",
       "  [30, 0.3768790691864429, 'right', 0.8815796312255196],\n",
       "  [31, -0.7853981633974483, 'left', 1.5707963267948966],\n",
       "  [32, -0.343036711062602, 'left', 0.04908738521234052],\n",
       "  [33, 0.6295054685862601, 'right', 0.2776801836348979],\n",
       "  [34, -0.061637073704592205, 'right', 1.5707963267948966],\n",
       "  [35, 0.11228242878612676, 'right', 0.4947698393066091],\n",
       "  [36, 0.07859973719349915, 'right', 0.2776801836348979],\n",
       "  [37, -0.19074865680043168, 'left', 0.4947698393066091],\n",
       "  [38, -0.38088843733010597, 'left', 0.8815796312255196],\n",
       "  [39, -0.11581955084797162, 'left', 0.2776801836348979],\n",
       "  [40, -0.19581385366192436, 'left', 0.15584273384887518],\n",
       "  [41, 0.24037690523006466, 'right', 0.04908738521234052],\n",
       "  [42, -0.4649279598711191, 'left', 1.5707963267948966],\n",
       "  [43, 0.18338268619679077, 'right', 0.2776801836348979],\n",
       "  [44, 0.6154249284945713, 'right', 0.4947698393066091],\n",
       "  [45, -0.16665110102614583, 'left', 0.8815796312255196],\n",
       "  [46, -0.20388229384275283, 'left', 0.2776801836348979],\n",
       "  [47, -0.6008666137987271, 'left', 0.4947698393066091],\n",
       "  [48, 0.08582790933860629, 'right', 0.15584273384887518],\n",
       "  [49, 0.03189847193234188, 'left', 0.2776801836348979],\n",
       "  [50, 0.04192634480953745, 'right', 0.4947698393066091],\n",
       "  [51, -0.2482649810325469, 'left', 0.04908738521234052],\n",
       "  [52, 0.0955906712324241, 'left', 1.5707963267948966],\n",
       "  [53, -0.7853981633974483, 'left', 0.8815796312255196],\n",
       "  [54, 0.024538316050116565, 'left', 0.4947698393066091],\n",
       "  [55, -0.13857435057206266, 'left', 0.2776801836348979],\n",
       "  [56, -0.19031974807816437, 'left', 0.15584273384887518],\n",
       "  [57, 0.2296677918580115, 'right', 0.04908738521234052],\n",
       "  [58, 0.3104294724367258, 'right', 0.4947698393066091],\n",
       "  [59, 0.34230943483193726, 'right', 0.15584273384887518],\n",
       "  [60, 0.04189063294089071, 'right', 0.04908738521234052],\n",
       "  [61, -0.78027496876498, 'left', 0.04908738521234052],\n",
       "  [62, 0.07695372329829253, 'right', 0.04908738521234052],\n",
       "  [63, 0.06366751408323042, 'left', 1.5707963267948966],\n",
       "  [64, -0.26413862638502755, 'right', 0.4947698393066091],\n",
       "  [65, -0.47799830589722375, 'left', 0.2776801836348979],\n",
       "  [66, -0.32743918547044226, 'left', 1.5707963267948966],\n",
       "  [67, -0.5272959659230977, 'left', 0.15584273384887518],\n",
       "  [68, 0.2331892874356431, 'right', 0.4947698393066091],\n",
       "  [69, 0.1563218360502316, 'left', 0.8815796312255196],\n",
       "  [70, -0.278454876975637, 'left', 0.15584273384887518],\n",
       "  [71, -0.34840227016803116, 'right', 1.5707963267948966],\n",
       "  [72, 0.19812505259318908, 'left', 0.8815796312255196],\n",
       "  [73, -0.11293769986904145, 'left', 0.8815796312255196],\n",
       "  [74, -0.3124561349548732, 'left', 0.4947698393066091],\n",
       "  [75, 0.27288680405734445, 'right', 0.2776801836348979],\n",
       "  [76, 0.6108650240399012, 'right', 0.15584273384887518],\n",
       "  [77, -0.5516265582631829, 'left', 1.5707963267948966],\n",
       "  [78, 0.042165621550719665, 'right', 0.4947698393066091],\n",
       "  [79, -0.38151740750437874, 'left', 0.15584273384887518],\n",
       "  [80, 0.3077538834807819, 'right', 0.04908738521234052],\n",
       "  [81, 0.10227575016956592, 'left', 0.4947698393066091],\n",
       "  [82, 0.014778810430468182, 'right', 0.2776801836348979],\n",
       "  [83, -0.10059135332735065, 'left', 1.5707963267948966],\n",
       "  [84, -0.2749640262380235, 'right', 1.5707963267948966],\n",
       "  [85, -0.4564582819015617, 'left', 0.4947698393066091],\n",
       "  [86, -0.22025551544398866, 'left', 0.15584273384887518],\n",
       "  [87, -0.4393150256878191, 'left', 0.08746377712507042],\n",
       "  [88, 0.6321905990824878, 'right', 0.08746377712507042],\n",
       "  [89, -0.18851417956954777, 'left', 0.08746377712507042],\n",
       "  [90, 0.4917327579612537, 'right', 1.5707963267948966],\n",
       "  [91, 0.2826374933832045, 'left', 0.04908738521234052],\n",
       "  [92, 0.05287159118814723, 'right', 0.2776801836348979],\n",
       "  [93, -0.4013023715995054, 'left', 0.15584273384887518],\n",
       "  [94, -0.05922893318380786, 'left', 0.15584273384887518],\n",
       "  [95, 0.289152578290022, 'right', 0.04908738521234052],\n",
       "  [96, -0.2176377521291034, 'left', 0.04908738521234052],\n",
       "  [97, -0.10343860960978994, 'left', 0.04908738521234052],\n",
       "  [98, 0.21233751902330283, 'right', 0.2776801836348979],\n",
       "  [99, 0.07452199807050552, 'right', 1.5707963267948966],\n",
       "  [100, 0.0015444260894540043, 'left', 1.5707963267948966],\n",
       "  [101, 0.1471734336140163, 'right', 0.15584273384887518],\n",
       "  [102, 0.06806589204413147, 'right', 0.4947698393066091],\n",
       "  [103, 0.06647703742059731, 'right', 0.15584273384887518],\n",
       "  [104, 0.41717816396353596, 'right', 0.15584273384887518],\n",
       "  [105, -0.37230266784095845, 'left', 0.8815796312255196],\n",
       "  [106, -0.6355595577664411, 'left', 0.4947698393066091],\n",
       "  [107, 0.019890826764740112, 'right', 0.15584273384887518],\n",
       "  [108, -0.1287496986164674, 'left', 0.04908738521234052],\n",
       "  [109, 0.1054540877134322, 'right', 0.4947698393066091],\n",
       "  [110, 0.32531256929114766, 'right', 0.8815796312255196],\n",
       "  [111, -0.09108463971232462, 'left', 0.2776801836348979],\n",
       "  [112, -0.04732115573596059, 'left', 0.15584273384887518],\n",
       "  [113, -0.11168763965448486, 'right', 0.4947698393066091],\n",
       "  [114, -0.2814761438878004, 'left', 0.2776801836348979],\n",
       "  [115, 0.5933551509507622, 'right', 1.5707963267948966],\n",
       "  [116, 0.144015506402861, 'left', 0.8815796312255196],\n",
       "  [117, 0.10673794559416475, 'right', 0.08746377712507042],\n",
       "  [118, 0.22709313877822085, 'left', 0.8815796312255196],\n",
       "  [119, -0.29433233832570016, 'right', 1.5707963267948966],\n",
       "  [120, -0.735693287379665, 'left', 0.08746377712507042],\n",
       "  [121, 0.10958383803167368, 'right', 0.8815796312255196],\n",
       "  [122, 0.02881522644174939, 'right', 0.04908738521234052],\n",
       "  [123, -0.2634981852495478, 'left', 0.2776801836348979],\n",
       "  [124, -0.25720926010484263, 'right', 1.5707963267948966],\n",
       "  [125, -0.03353178695162665, 'left', 0.2776801836348979],\n",
       "  [126, -0.005757839297798036, 'right', 0.8815796312255196],\n",
       "  [127, -0.16201531346566414, 'left', 0.04908738521234052],\n",
       "  [128, -0.2549338634200275, 'left', 0.08746377712507042],\n",
       "  [129, 0.01691479956344071, 'left', 0.15584273384887518],\n",
       "  [130, 0.2984226033409648, 'right', 0.4947698393066091],\n",
       "  [131, -0.6570877213668151, 'left', 0.08746377712507042],\n",
       "  [132, 0.47120796863711933, 'right', 0.15584273384887518],\n",
       "  [133, 0.14723061544994903, 'right', 0.2776801836348979],\n",
       "  [134, -0.18263104388508022, 'left', 1.5707963267948966],\n",
       "  [135, 0.5726208613625068, 'right', 0.8815796312255196],\n",
       "  [136, -0.5263291194207419, 'left', 0.04908738521234052],\n",
       "  [137, -0.5791842456789289, 'left', 0.08746377712507042],\n",
       "  [138, -0.11042288019388136, 'right', 0.8815796312255196],\n",
       "  [139, 0.30876007057812627, 'right', 0.08746377712507042],\n",
       "  [140, -0.030852181107537072, 'left', 0.4947698393066091],\n",
       "  [141, 0.3393605168767327, 'right', 0.8815796312255196],\n",
       "  [142, 0.653226350681122, 'left', 0.8815796312255196],\n",
       "  [143, 0.6266123277459622, 'right', 0.4947698393066091],\n",
       "  [144, -0.14070298961788638, 'left', 0.04908738521234052],\n",
       "  [145, 0.12599731540698048, 'right', 0.8815796312255196],\n",
       "  [146, -0.04762121191159809, 'left', 1.5707963267948966],\n",
       "  [147, 0.03340775743749231, 'right', 0.15584273384887518],\n",
       "  [148, -0.12402293582267489, 'left', 0.08746377712507042],\n",
       "  [149, -0.10617034885549444, 'right', 1.5707963267948966]]]"
      ]
     },
     "execution_count": 3,
     "metadata": {},
     "output_type": "execute_result"
    }
   ],
   "source": [
    "subj_data_list"
   ]
  },
  {
   "cell_type": "markdown",
   "metadata": {},
   "source": [
    "En sujet individuel et en utilisant tout les B_theta:"
   ]
  },
  {
   "cell_type": "code",
   "execution_count": 4,
   "metadata": {
    "ExecuteTime": {
     "end_time": "2018-06-06T14:14:58.899220Z",
     "start_time": "2018-06-06T14:14:54.644333Z"
    }
   },
   "outputs": [
    {
     "data": {
      "image/png": "[encoded data removed]",
      "text/plain": [
       "<Figure size 432x288 with 1 Axes>"
      ]
     },
     "metadata": {},
     "output_type": "display_data"
    }
   ],
   "source": [
    "from sklearn.linear_model import LogisticRegression\n",
    "import numpy as np\n",
    "\n",
    "#the values used for plotting once the model is built\n",
    "x_values = np.linspace(-50, 50, 100)\n",
    "x_plot = np.reshape(x_values, (100,1))\n",
    "\n",
    "for num, subj_data in enumerate(subj_data_list) :\n",
    "    X = []\n",
    "    for i in subj_data :\n",
    "        #X.append(i[3]*180/np.pi)\n",
    "        X.append(i[1]*180/np.pi)\n",
    "\n",
    "    y =[]\n",
    "    for i in subj_data :\n",
    "        if False:\n",
    "            # fitting if correct \n",
    "            if np.sign(i[1]) > 0 and i[2] == 'right':\n",
    "                y.append(1)\n",
    "            else :\n",
    "                y.append(0)\n",
    "            #y.append(i[1])\n",
    "        else:\n",
    "            # fitting with direction \n",
    "            if i[2] == 'right':\n",
    "                y.append(1)\n",
    "            else :\n",
    "                y.append(0)\n",
    "            #y.append(i[1])\n",
    "\n",
    "    \n",
    "    #reshaped for fitting\n",
    "    X = np.asarray(X)\n",
    "    X = X[:,np.newaxis]\n",
    "    \n",
    "    #logistic regression\n",
    "    lgs = LogisticRegression(C = 3, max_iter = 100, penalty = 'l1' ,class_weight = {1 : 1 , 0 : 1}) \n",
    "    lgs.fit(X, y)\n",
    "    y_values = lgs.predict_proba(x_plot)[:,1]\n",
    "    plt.plot(x_values, y_values, label = 'LogReg')\n",
    "\n",
    "    plt.scatter(X, y, c='r', s=2)\n",
    "    plt.title('Psychophysic curve - %s' % subj_name_list[num])\n",
    "    plt.xlabel(\"Theta\")\n",
    "    plt.ylabel(\"Subject answered correctly\")\n",
    "    #plt.legend()\n",
    "    plt.show()"
   ]
  },
  {
   "cell_type": "markdown",
   "metadata": {},
   "source": [
    "En sujet individuel avec une courbe par B_theta :"
   ]
  },
  {
   "cell_type": "code",
   "execution_count": 7,
   "metadata": {
    "ExecuteTime": {
     "end_time": "2018-06-06T14:15:58.805702Z",
     "start_time": "2018-06-06T14:15:58.785979Z"
    }
   },
   "outputs": [
    {
     "name": "stdout",
     "output_type": "stream",
     "text": [
      "[2.8125, 5.011305289539408, 8.929130917321123, 15.90990257669732, 28.34822362263465, 50.51079217392179, 90.0]\n"
     ]
    }
   ],
   "source": [
    "b_thetas_list = []\n",
    "for x in subj_data_list[0] :\n",
    "    b_thetas_list.append(x[3]*180/np.pi)\n",
    "\n",
    "b_thetas_list = sorted(set(b_thetas_list))\n",
    "print(b_thetas_list)"
   ]
  },
  {
   "cell_type": "code",
   "execution_count": 8,
   "metadata": {
    "ExecuteTime": {
     "end_time": "2018-06-06T14:16:02.727977Z",
     "start_time": "2018-06-06T14:16:00.058166Z"
    }
   },
   "outputs": [
    {
     "data": {
      "image/png": "[encoded data removed]",
      "text/plain": [
       "<Figure size 432x288 with 1 Axes>"
      ]
     },
     "metadata": {},
     "output_type": "display_data"
    }
   ],
   "source": [
    "from sklearn.linear_model import LogisticRegression\n",
    "import numpy as np\n",
    "\n",
    "#the values used for plotting once the model is built\n",
    "x_values = np.linspace(-50, 50, 100)\n",
    "x_plot = np.reshape(x_values, (100,1))\n",
    "\n",
    "lr_kwargs = dict(solver='liblinear', C = 3, max_iter=1000, penalty='l2', class_weight = {1 : 1 , 0 : 1})\n",
    "\n",
    "for num, subj_data in enumerate(subj_data_list) :\n",
    "    for ibtheta, b_theta in enumerate(b_thetas_list):\n",
    "        X = []\n",
    "        y =[]\n",
    "\n",
    "        for i in subj_data :\n",
    "            if i[3]*180/np.pi == b_theta :\n",
    "                X.append(i[1]*180/np.pi)\n",
    "                if False:\n",
    "                    # fitting if correct \n",
    "                    if np.sign(i[1]) > 0 and i[2] == 'right':\n",
    "                        y.append(1)\n",
    "                    else :\n",
    "                        y.append(0)\n",
    "                    #y.append(i[1])\n",
    "                else:\n",
    "                    # fitting with direction \n",
    "                    if i[2] == 'right':\n",
    "                        y.append(1)\n",
    "                    else :\n",
    "                        y.append(0)\n",
    "                    #y.append(i[1])\n",
    "\n",
    "\n",
    "        #reshaped for fitting\n",
    "        X = np.asarray(X)\n",
    "        X = X[:,np.newaxis]\n",
    "\n",
    "        #logistic regression\n",
    "        lgs = LogisticRegression(**lr_kwargs) \n",
    "        lgs.fit(X, y)\n",
    "        y_values = lgs.predict_proba(x_plot)[:,1]\n",
    "        plt.plot(x_values, y_values, label = r'$B_\\theta$ %3.f' %b_theta)\n",
    "        plt.scatter(X, y, s=4)\n",
    "    plt.title('Psychophysic curve - %s' % subj_name_list[num])\n",
    "    plt.xlabel(\"Theta\")\n",
    "    plt.ylabel(\"Answered direction\")\n",
    "    plt.legend()\n",
    "    plt.show()"
   ]
  }
 ],
 "metadata": {
  "kernelspec": {
   "display_name": "Python 3",
   "language": "python",
   "name": "python3"
  },
  "language_info": {
   "codemirror_mode": {
    "name": "ipython",
    "version": 3
   },
   "file_extension": ".py",
   "mimetype": "text/x-python",
   "name": "python",
   "nbconvert_exporter": "python",
   "pygments_lexer": "ipython3",
   "version": "3.6.5"
  },
  "toc": {
   "base_numbering": 1,
   "nav_menu": {},
   "number_sections": true,
   "sideBar": true,
   "skip_h1_title": false,
   "title_cell": "Table of Contents",
   "title_sidebar": "Contents",
   "toc_cell": false,
   "toc_position": {},
   "toc_section_display": true,
   "toc_window_display": false
  }
 },
 "nbformat": 4,
 "nbformat_minor": 2
}
