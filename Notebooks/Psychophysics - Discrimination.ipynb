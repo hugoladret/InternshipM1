{
 "cells": [
  {
   "cell_type": "markdown",
   "metadata": {},
   "source": [
    "# 2018-06-06 - Psychophysics using psychopy\n",
    "\n",
    "On repasse sur un paradigme plus classique de psychophysique."
   ]
  },
  {
   "cell_type": "markdown",
   "metadata": {},
   "source": [
    "On récupère les initiales :"
   ]
  },
  {
   "cell_type": "code",
   "execution_count": 1,
   "metadata": {
    "ExecuteTime": {
     "end_time": "2018-06-06T14:09:51.687946Z",
     "start_time": "2018-06-06T14:09:51.674085Z"
    }
   },
   "outputs": [
    {
     "name": "stdout",
     "output_type": "stream",
     "text": [
      "Enter your initials : AM\n",
      "AM\n"
     ]
    }
   ],
   "source": [
    "exp_info = input('Enter your initials : ')\n",
    "print (exp_info)"
   ]
  },
  {
   "cell_type": "markdown",
   "metadata": {},
   "source": [
    "On défini la génération de MotionClouds :"
   ]
  },
  {
   "cell_type": "code",
   "execution_count": 2,
   "metadata": {
    "ExecuteTime": {
     "end_time": "2018-06-06T14:09:55.152576Z",
     "start_time": "2018-06-06T14:09:51.700330Z"
    }
   },
   "outputs": [],
   "source": [
    "import numpy as np\n",
    "import MotionClouds as mc\n",
    "import matplotlib.pyplot as plt\n",
    "import os\n",
    "import imageio\n",
    "import random\n",
    "\n",
    "downscale = 1\n",
    "fig_width = 21\n",
    "fx, fy, ft = mc.get_grids(mc.N_X/downscale, mc.N_Y/downscale, 1)\n",
    "\n",
    "# generates a cloud of given theta and b_theta\n",
    "def generate_random_cloud(theta, B_theta):\n",
    "    mc_i = mc.envelope_gabor(fx, fy, ft, V_X=0., V_Y=0.,\n",
    "                             B_V=0, theta=theta, B_theta=B_theta)\n",
    "    im = mc.random_cloud(mc_i)\n",
    "    im = (mc.rectif(im) * 255).astype('uint8')\n",
    "    fname = '/tmp/%s_%s.png' % (theta, B_theta)\n",
    "    imageio.imwrite(fname, im[:, :, 0])\n",
    "    return fname"
   ]
  },
  {
   "cell_type": "markdown",
   "metadata": {},
   "source": [
    "On définit les paramètres et on teste :"
   ]
  },
  {
   "cell_type": "code",
   "execution_count": 3,
   "metadata": {
    "ExecuteTime": {
     "end_time": "2018-06-06T14:09:55.225434Z",
     "start_time": "2018-06-06T14:09:55.202479Z"
    }
   },
   "outputs": [
    {
     "name": "stdout",
     "output_type": "stream",
     "text": [
      "B_thetas [ 2.8125      5.01130529  8.92913092 15.90990258 28.34822362 50.51079217\n",
      " 90.        ]\n"
     ]
    }
   ],
   "source": [
    "N_B_thetas = 7\n",
    "\n",
    "B_thetas = np.pi*np.logspace(-6, -1, N_B_thetas, base=2)\n",
    "print('B_thetas', B_thetas*180/np.pi)\n"
   ]
  },
  {
   "cell_type": "code",
   "execution_count": 4,
   "metadata": {
    "ExecuteTime": {
     "end_time": "2018-06-06T14:13:18.084688Z",
     "start_time": "2018-06-06T14:09:55.231514Z"
    },
    "scrolled": false
   },
   "outputs": [
    {
     "name": "stdout",
     "output_type": "stream",
     "text": [
      "At trial  0 Angle= 7.686 answer is  right (correct= True ); bandwidth= 28.348\n",
      "At trial  1 Angle= 0.298 answer is  right (correct= True ); bandwidth= 15.910\n",
      "At trial  2 Angle= 25.301 answer is  left (correct= False ); bandwidth= 28.348\n",
      "At trial  3 Angle= -45.000 answer is  left (correct= False ); bandwidth= 5.011\n",
      "At trial  4 Angle= 13.687 answer is  right (correct= True ); bandwidth= 8.929\n",
      "At trial  5 Angle= 10.298 answer is  left (correct= False ); bandwidth= 90.000\n",
      "At trial  6 Angle= -4.953 answer is  left (correct= False ); bandwidth= 8.929\n",
      "At trial  7 Angle= -5.156 answer is  right (correct= False ); bandwidth= 50.511\n",
      "At trial  8 Angle= -23.627 answer is  left (correct= False ); bandwidth= 2.812\n",
      "At trial  9 Angle= 34.504 answer is  right (correct= True ); bandwidth= 15.910\n",
      "At trial  10 Angle= 3.530 answer is  right (correct= True ); bandwidth= 2.812\n",
      "At trial  11 Angle= 34.660 answer is  right (correct= True ); bandwidth= 8.929\n",
      "At trial  12 Angle= 14.560 answer is  right (correct= True ); bandwidth= 8.929\n",
      "At trial  13 Angle= -3.768 answer is  left (correct= False ); bandwidth= 15.910\n",
      "At trial  14 Angle= -26.034 answer is  left (correct= False ); bandwidth= 15.910\n",
      "At trial  15 Angle= 2.001 answer is  right (correct= True ); bandwidth= 2.812\n",
      "At trial  16 Angle= 6.337 answer is  left (correct= False ); bandwidth= 50.511\n",
      "At trial  17 Angle= -0.972 answer is  left (correct= False ); bandwidth= 90.000\n",
      "At trial  18 Angle= -0.838 answer is  right (correct= False ); bandwidth= 5.011\n",
      "At trial  19 Angle= 24.607 answer is  right (correct= True ); bandwidth= 15.910\n",
      "At trial  20 Angle= -20.946 answer is  left (correct= False ); bandwidth= 2.812\n",
      "At trial  21 Angle= 20.195 answer is  right (correct= True ); bandwidth= 50.511\n",
      "At trial  22 Angle= -2.675 answer is  left (correct= False ); bandwidth= 8.929\n",
      "At trial  23 Angle= -19.277 answer is  left (correct= False ); bandwidth= 5.011\n",
      "At trial  24 Angle= -1.850 answer is  right (correct= False ); bandwidth= 8.929\n",
      "At trial  25 Angle= 23.835 answer is  right (correct= True ); bandwidth= 90.000\n",
      "At trial  26 Angle= 45.000 answer is  right (correct= True ); bandwidth= 2.812\n",
      "At trial  27 Angle= 39.917 answer is  right (correct= True ); bandwidth= 28.348\n",
      "At trial  28 Angle= 40.738 answer is  right (correct= True ); bandwidth= 28.348\n",
      "At trial  29 Angle= 21.827 answer is  right (correct= True ); bandwidth= 2.812\n",
      "At trial  30 Angle= -29.821 answer is  left (correct= False ); bandwidth= 28.348\n",
      "At trial  31 Angle= -11.517 answer is  left (correct= False ); bandwidth= 15.910\n",
      "At trial  32 Angle= -45.000 answer is  left (correct= False ); bandwidth= 28.348\n",
      "At trial  33 Angle= 15.926 answer is  right (correct= True ); bandwidth= 2.812\n",
      "At trial  34 Angle= -18.977 answer is  left (correct= False ); bandwidth= 5.011\n",
      "At trial  35 Angle= -0.016 answer is  left (correct= False ); bandwidth= 90.000\n",
      "At trial  36 Angle= 19.053 answer is  right (correct= True ); bandwidth= 5.011\n",
      "At trial  37 Angle= 3.205 answer is  left (correct= False ); bandwidth= 50.511\n",
      "At trial  38 Angle= -0.780 answer is  left (correct= False ); bandwidth= 5.011\n",
      "At trial  39 Angle= 8.867 answer is  right (correct= True ); bandwidth= 2.812\n",
      "At trial  40 Angle= 27.894 answer is  right (correct= True ); bandwidth= 2.812\n",
      "At trial  41 Angle= 1.123 answer is  left (correct= False ); bandwidth= 90.000\n",
      "At trial  42 Angle= -22.070 answer is  left (correct= False ); bandwidth= 50.511\n",
      "At trial  43 Angle= -4.102 answer is  left (correct= False ); bandwidth= 8.929\n",
      "At trial  44 Angle= -31.074 answer is  left (correct= False ); bandwidth= 50.511\n",
      "At trial  45 Angle= -13.479 answer is  left (correct= False ); bandwidth= 28.348\n",
      "At trial  46 Angle= -1.003 answer is  left (correct= False ); bandwidth= 90.000\n",
      "At trial  47 Angle= -17.526 answer is  left (correct= False ); bandwidth= 8.929\n",
      "At trial  48 Angle= -17.556 answer is  left (correct= False ); bandwidth= 28.348\n",
      "At trial  49 Angle= -5.331 answer is  left (correct= False ); bandwidth= 90.000\n",
      "At trial  50 Angle= -22.050 answer is  left (correct= False ); bandwidth= 28.348\n",
      "At trial  51 Angle= 28.784 answer is  right (correct= True ); bandwidth= 2.812\n",
      "At trial  52 Angle= 5.805 answer is  right (correct= True ); bandwidth= 5.011\n",
      "At trial  53 Angle= -32.982 answer is  left (correct= False ); bandwidth= 50.511\n",
      "At trial  54 Angle= 19.789 answer is  right (correct= True ); bandwidth= 8.929\n",
      "At trial  55 Angle= -21.699 answer is  left (correct= False ); bandwidth= 2.812\n",
      "At trial  56 Angle= -4.675 answer is  left (correct= False ); bandwidth= 15.910\n",
      "At trial  57 Angle= -1.678 answer is  left (correct= False ); bandwidth= 50.511\n",
      "At trial  58 Angle= -8.756 answer is  left (correct= False ); bandwidth= 15.910\n",
      "At trial  59 Angle= -8.524 answer is  right (correct= False ); bandwidth= 50.511\n",
      "At trial  60 Angle= 21.895 answer is  right (correct= True ); bandwidth= 50.511\n",
      "At trial  61 Angle= 0.692 answer is  left (correct= False ); bandwidth= 15.910\n",
      "At trial  62 Angle= 3.012 answer is  right (correct= True ); bandwidth= 5.011\n",
      "At trial  63 Angle= 29.145 answer is  right (correct= True ); bandwidth= 28.348\n",
      "At trial  64 Angle= -5.570 answer is  left (correct= False ); bandwidth= 2.812\n",
      "At trial  65 Angle= -14.102 answer is  left (correct= False ); bandwidth= 8.929\n",
      "At trial  66 Angle= 5.413 answer is  right (correct= True ); bandwidth= 90.000\n",
      "At trial  67 Angle= -2.195 answer is  left (correct= False ); bandwidth= 2.812\n",
      "At trial  68 Angle= 41.807 answer is  right (correct= True ); bandwidth= 50.511\n",
      "At trial  69 Angle= 11.979 answer is  left (correct= False ); bandwidth= 50.511\n",
      "At trial  70 Angle= 0.521 answer is  right (correct= True ); bandwidth= 50.511\n",
      "At trial  71 Angle= 45.000 answer is  right (correct= True ); bandwidth= 2.812\n",
      "At trial  72 Angle= 5.198 answer is  right (correct= True ); bandwidth= 8.929\n",
      "At trial  73 Angle= 6.339 answer is  right (correct= True ); bandwidth= 2.812\n",
      "At trial  74 Angle= -14.155 answer is  left (correct= False ); bandwidth= 15.910\n",
      "At trial  75 Angle= 31.378 answer is  right (correct= True ); bandwidth= 15.910\n",
      "At trial  76 Angle= 4.756 answer is  right (correct= True ); bandwidth= 28.348\n",
      "At trial  77 Angle= -28.356 answer is  left (correct= False ); bandwidth= 15.910\n",
      "At trial  78 Angle= -6.366 answer is  left (correct= False ); bandwidth= 8.929\n",
      "At trial  79 Angle= -10.437 answer is  left (correct= False ); bandwidth= 15.910\n",
      "At trial  80 Angle= 30.482 answer is  right (correct= True ); bandwidth= 28.348\n",
      "At trial  81 Angle= 16.538 answer is  right (correct= True ); bandwidth= 2.812\n",
      "At trial  82 Angle= 40.153 answer is  left (correct= False ); bandwidth= 90.000\n",
      "At trial  83 Angle= -32.417 answer is  left (correct= False ); bandwidth= 15.910\n",
      "At trial  84 Angle= -12.147 answer is  left (correct= False ); bandwidth= 15.910\n",
      "At trial  85 Angle= 45.000 answer is  left (correct= False ); bandwidth= 90.000\n",
      "At trial  86 Angle= -7.993 answer is  left (correct= False ); bandwidth= 2.812\n",
      "At trial  87 Angle= -25.878 answer is  left (correct= False ); bandwidth= 28.348\n",
      "At trial  88 Angle= 17.079 answer is  right (correct= True ); bandwidth= 2.812\n",
      "At trial  89 Angle= -3.778 answer is  left (correct= False ); bandwidth= 8.929\n",
      "At trial  90 Angle= 25.061 answer is  left (correct= False ); bandwidth= 50.511\n",
      "At trial  91 Angle= 10.326 answer is  left (correct= False ); bandwidth= 90.000\n",
      "At trial  92 Angle= -1.858 answer is  left (correct= False ); bandwidth= 8.929\n",
      "At trial  93 Angle= -38.042 answer is  left (correct= False ); bandwidth= 8.929\n",
      "At trial  94 Angle= 15.616 answer is  right (correct= True ); bandwidth= 28.348\n",
      "At trial  95 Angle= 8.905 answer is  right (correct= True ); bandwidth= 50.511\n",
      "At trial  96 Angle= 7.333 answer is  right (correct= True ); bandwidth= 2.812\n",
      "At trial  97 Angle= 8.101 answer is  right (correct= True ); bandwidth= 5.011\n",
      "At trial  98 Angle= -17.250 answer is  left (correct= False ); bandwidth= 28.348\n",
      "At trial  99 Angle= 0.284 answer is  right (correct= True ); bandwidth= 90.000\n",
      "At trial  100 Angle= 32.843 answer is  right (correct= True ); bandwidth= 50.511\n",
      "At trial  101 Angle= -14.926 answer is  left (correct= False ); bandwidth= 50.511\n",
      "At trial  102 Angle= 24.256 answer is  right (correct= True ); bandwidth= 50.511\n"
     ]
    },
    {
     "name": "stdout",
     "output_type": "stream",
     "text": [
      "At trial  103 Angle= 7.264 answer is  right (correct= True ); bandwidth= 15.910\n",
      "At trial  104 Angle= 13.832 answer is  right (correct= True ); bandwidth= 15.910\n",
      "At trial  105 Angle= -26.292 answer is  left (correct= False ); bandwidth= 15.910\n",
      "At trial  106 Angle= 26.375 answer is  right (correct= True ); bandwidth= 28.348\n",
      "At trial  107 Angle= 19.184 answer is  right (correct= True ); bandwidth= 28.348\n",
      "At trial  108 Angle= -10.096 answer is  left (correct= False ); bandwidth= 15.910\n",
      "At trial  109 Angle= -31.825 answer is  left (correct= False ); bandwidth= 5.011\n",
      "At trial  110 Angle= -1.674 answer is  left (correct= False ); bandwidth= 5.011\n",
      "At trial  111 Angle= 33.437 answer is  right (correct= True ); bandwidth= 2.812\n",
      "At trial  112 Angle= -3.343 answer is  left (correct= False ); bandwidth= 15.910\n",
      "At trial  113 Angle= -23.563 answer is  left (correct= False ); bandwidth= 90.000\n",
      "At trial  114 Angle= 2.207 answer is  right (correct= True ); bandwidth= 8.929\n",
      "At trial  115 Angle= 34.605 answer is  right (correct= True ); bandwidth= 28.348\n",
      "At trial  116 Angle= -14.596 answer is  left (correct= False ); bandwidth= 90.000\n",
      "At trial  117 Angle= 45.000 answer is  right (correct= True ); bandwidth= 5.011\n",
      "At trial  118 Angle= -18.272 answer is  left (correct= False ); bandwidth= 5.011\n",
      "At trial  119 Angle= 0.876 answer is  right (correct= True ); bandwidth= 28.348\n",
      "At trial  120 Angle= -23.720 answer is  left (correct= False ); bandwidth= 28.348\n",
      "At trial  121 Angle= -6.303 answer is  left (correct= False ); bandwidth= 50.511\n",
      "At trial  122 Angle= -9.834 answer is  left (correct= False ); bandwidth= 5.011\n",
      "At trial  123 Angle= 45.000 answer is  right (correct= True ); bandwidth= 28.348\n",
      "At trial  124 Angle= 1.764 answer is  right (correct= True ); bandwidth= 2.812\n",
      "At trial  125 Angle= 13.132 answer is  right (correct= True ); bandwidth= 15.910\n",
      "At trial  126 Angle= -29.481 answer is  right (correct= False ); bandwidth= 90.000\n",
      "At trial  127 Angle= -28.959 answer is  left (correct= False ); bandwidth= 50.511\n",
      "At trial  128 Angle= -23.090 answer is  right (correct= False ); bandwidth= 50.511\n",
      "At trial  129 Angle= 10.320 answer is  right (correct= True ); bandwidth= 28.348\n",
      "At trial  130 Angle= 17.575 answer is  right (correct= True ); bandwidth= 8.929\n",
      "At trial  131 Angle= 7.442 answer is  left (correct= False ); bandwidth= 90.000\n",
      "At trial  132 Angle= 4.515 answer is  right (correct= True ); bandwidth= 2.812\n",
      "At trial  133 Angle= 16.777 answer is  right (correct= True ); bandwidth= 28.348\n",
      "At trial  134 Angle= -45.000 answer is  left (correct= False ); bandwidth= 2.812\n",
      "At trial  135 Angle= -6.351 answer is  left (correct= False ); bandwidth= 15.910\n",
      "At trial  136 Angle= 4.271 answer is  right (correct= True ); bandwidth= 15.910\n",
      "At trial  137 Angle= -9.023 answer is  right (correct= False ); bandwidth= 90.000\n",
      "At trial  138 Angle= -42.131 answer is  left (correct= False ); bandwidth= 50.511\n",
      "At trial  139 Angle= -12.464 answer is  left (correct= False ); bandwidth= 28.348\n",
      "At trial  140 Angle= 9.415 answer is  right (correct= True ); bandwidth= 5.011\n",
      "At trial  141 Angle= -23.661 answer is  left (correct= False ); bandwidth= 90.000\n",
      "At trial  142 Angle= -16.228 answer is  left (correct= False ); bandwidth= 90.000\n",
      "At trial  143 Angle= -6.378 answer is  left (correct= False ); bandwidth= 15.910\n",
      "At trial  144 Angle= 12.734 answer is  right (correct= True ); bandwidth= 8.929\n",
      "At trial  145 Angle= 1.869 answer is  left (correct= False ); bandwidth= 50.511\n",
      "At trial  146 Angle= -2.404 answer is  left (correct= False ); bandwidth= 50.511\n",
      "At trial  147 Angle= -35.053 answer is  left (correct= False ); bandwidth= 28.348\n",
      "At trial  148 Angle= -6.711 answer is  left (correct= False ); bandwidth= 5.011\n",
      "At trial  149 Angle= -17.320 answer is  left (correct= False ); bandwidth= 28.348\n",
      "1.7119 \tWARNING \tUser requested fullscreen with size [800 600], but screen is actually [1366, 768]. Using actual size\n"
     ]
    }
   ],
   "source": [
    "from psychopy import visual, core, event\n",
    "import MotionClouds as MC\n",
    "\n",
    "test_length = 150  # number of trials\n",
    "#trial_length = 2.6  # length of trial, in second\n",
    "fixation_length = .5  # length of fixation, in second\n",
    "stim1_length = 0.25  # length of first stim, in second\n",
    "stim2_length = 0.25  # length of the second stim, in second\n",
    "\n",
    "fullscr = False\n",
    "\n",
    "fullscr = True\n",
    "\n",
    "# Psychopy window\n",
    "win = visual.Window(fullscr=fullscr, color=[0,0,0], winType='pygame', monitor='testMonitor', units='height')\n",
    "mouse = event.Mouse(visible=False)\n",
    "\n",
    "fixation = visual.ShapeStim(vertices='cross', win=win, size=0.05, pos=[0, 0], fillColor='black', units='height')\n",
    "fixation.autolog = False\n",
    "\n",
    "MC1 = generate_random_cloud(np.pi/2, B_theta=np.pi/2)\n",
    "bitmap1 = visual.ImageStim(win, MC1, mask='gauss', size=0.8, units='height')\n",
    "bitmap1.autolog = False\n",
    "bitmap2 = visual.ImageStim(win, MC1, mask='gauss', size=0.8, units='height')\n",
    "bitmap2.autolog = False\n",
    "#bitmap3 = visual.ImageStim(win, '%s.png' %\n",
    "#                           str(2 * (np.pi/3)), mask='circle')\n",
    "#bitmap3.autolog = False\n",
    "\n",
    "\n",
    "#msg = visual.TextStim(win, text='<- LEFT or RIGHT ->', color='black')\n",
    "msg = visual.TextStim(win, text='?', color='black')\n",
    "\n",
    "#shift_dict = {'right': 2,\n",
    "#              'left':  3}\n",
    "\n",
    "\n",
    "# Answer list\n",
    "ans_list = []\n",
    "    \n",
    "std_theta = np.pi/8\n",
    "for trial in range(test_length):\n",
    "    clock = core.Clock()\n",
    "    fixation.draw()\n",
    "    win.flip()\n",
    "    \n",
    "    # Shift to left (3) or to right (2) ?\n",
    "    #shift = random.randint(2, 3)\n",
    "    theta = np.clip(std_theta *  np.random.randn(), -np.pi/4, np.pi/4)\n",
    "\n",
    "    # MC generation\n",
    "    B_theta = B_thetas[random.randint(0, N_B_thetas-1)]\n",
    "\n",
    "    MC1 = generate_random_cloud(np.pi/2, B_theta=B_theta)\n",
    "    bitmap1.setImage(MC1)\n",
    "\n",
    "    MC2 = generate_random_cloud(np.pi/2 - theta, B_theta=B_theta)  # if shift = 2\n",
    "    bitmap2.setImage(MC2)\n",
    "\n",
    "    #MC3 = generate_random_cloud(2 * (np.pi/3), B_theta=B_theta)  # if shift = 3\n",
    "    # MC to psychopy objects\n",
    "    \n",
    "    # Times the trial\n",
    "    while clock.getTime() < fixation_length + stim1_length + stim2_length:\n",
    "        if 0.0 <= clock.getTime() < fixation_length:  # fixation\n",
    "            fixation.draw()\n",
    "        if fixation_length + 0.01 <= clock.getTime() < fixation_length + stim1_length:\n",
    "            bitmap1.draw()\n",
    "        if fixation_length + stim1_length <= clock.getTime() < fixation_length + stim1_length + stim2_length:\n",
    "            bitmap2.draw()\n",
    "        win.flip()\n",
    "\n",
    "    # display orientation choice\n",
    "    msg.draw()\n",
    "    win.flip()\n",
    "\n",
    "    # answer using the keyboard\n",
    "    while True:\n",
    "        ans = event.waitKeys()\n",
    "\n",
    "        if len(ans) > 0:\n",
    "            if ans[0] in ['escape', 'q']:\n",
    "                win.close()\n",
    "                core.quit()\n",
    "            elif ans[0] in ['left', 'right']:\n",
    "                correct = (np.sign(theta) > 0) and (ans[0]=='right')\n",
    "                print('At trial ', trial, 'Angle=', '%3.3f' % (theta*180/np.pi), 'answer is ', ans[0], '(correct=', correct, '); bandwidth=', '%.3f' % (B_theta*180/np.pi))\n",
    "                break\n",
    "\n",
    "    # Output shape per trial is : trial number, shift direction, answered shift and b_theta\n",
    "    ans_list.append([trial, theta, ans[0], B_theta])\n",
    "\n",
    "win.close()"
   ]
  },
  {
   "cell_type": "code",
   "execution_count": 5,
   "metadata": {
    "ExecuteTime": {
     "end_time": "2018-06-06T14:13:18.104368Z",
     "start_time": "2018-06-06T14:13:18.090087Z"
    }
   },
   "outputs": [],
   "source": [
    "import pickle\n",
    "pickle.dump(ans_list, open('./psychophysics_data/Psy_discrim_final_%s.p' % exp_info, 'wb'))"
   ]
  }
 ],
 "metadata": {
  "kernelspec": {
   "display_name": "Python 3",
   "language": "python",
   "name": "python3"
  },
  "language_info": {
   "codemirror_mode": {
    "name": "ipython",
    "version": 3
   },
   "file_extension": ".py",
   "mimetype": "text/x-python",
   "name": "python",
   "nbconvert_exporter": "python",
   "pygments_lexer": "ipython3",
   "version": "3.6.4"
  },
  "toc": {
   "base_numbering": 1,
   "nav_menu": {},
   "number_sections": true,
   "sideBar": true,
   "skip_h1_title": false,
   "title_cell": "Table of Contents",
   "title_sidebar": "Contents",
   "toc_cell": false,
   "toc_position": {},
   "toc_section_display": true,
   "toc_window_display": false
  }
 },
 "nbformat": 4,
 "nbformat_minor": 2
}
