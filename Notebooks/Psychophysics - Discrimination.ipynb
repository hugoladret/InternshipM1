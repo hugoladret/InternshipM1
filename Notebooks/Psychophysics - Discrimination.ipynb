{
 "cells": [
  {
   "cell_type": "markdown",
   "metadata": {},
   "source": [
    "# 2018-06-06 - Psychophysics using psychopy\n",
    "\n",
    "On repasse sur un paradigme plus classique de psychophysique."
   ]
  },
  {
   "cell_type": "markdown",
   "metadata": {},
   "source": [
    "On récupère les initiales :"
   ]
  },
  {
   "cell_type": "code",
   "execution_count": 1,
   "metadata": {
    "ExecuteTime": {
     "end_time": "2018-06-08T08:41:41.612678Z",
     "start_time": "2018-06-08T08:41:30.021482Z"
    }
   },
   "outputs": [
    {
     "name": "stdout",
     "output_type": "stream",
     "text": [
      "Enter your initials : NP\n",
      "NP\n"
     ]
    }
   ],
   "source": [
    "exp_info = input('Enter your initials : ')\n",
    "print (exp_info)"
   ]
  },
  {
   "cell_type": "markdown",
   "metadata": {},
   "source": [
    "On défini la génération de MotionClouds :"
   ]
  },
  {
   "cell_type": "code",
   "execution_count": 2,
   "metadata": {
    "ExecuteTime": {
     "end_time": "2018-06-08T08:41:42.127199Z",
     "start_time": "2018-06-08T08:41:41.614583Z"
    }
   },
   "outputs": [],
   "source": [
    "import numpy as np\n",
    "import MotionClouds as mc\n",
    "import matplotlib.pyplot as plt\n",
    "import os\n",
    "import imageio\n",
    "import random\n",
    "\n",
    "downscale = 1\n",
    "fig_width = 21\n",
    "fx, fy, ft = mc.get_grids(mc.N_X/downscale, mc.N_Y/downscale, 1)\n",
    "\n",
    "# generates a cloud of given theta and b_theta\n",
    "def generate_random_cloud(theta, B_theta):\n",
    "    mc_i = mc.envelope_gabor(fx, fy, ft, V_X=0., V_Y=0.,\n",
    "                             B_V=0, theta=theta, B_theta=B_theta)\n",
    "    im = mc.random_cloud(mc_i)\n",
    "    im = (mc.rectif(im) * 255).astype('uint8')\n",
    "    fname = '/tmp/%s_%s.png' % (theta, B_theta)\n",
    "    imageio.imwrite(fname, im[:, :, 0])\n",
    "    return fname"
   ]
  },
  {
   "cell_type": "markdown",
   "metadata": {},
   "source": [
    "On définit les paramètres et on teste :"
   ]
  },
  {
   "cell_type": "code",
   "execution_count": 3,
   "metadata": {
    "ExecuteTime": {
     "end_time": "2018-06-08T08:41:42.133402Z",
     "start_time": "2018-06-08T08:41:42.129178Z"
    }
   },
   "outputs": [
    {
     "name": "stdout",
     "output_type": "stream",
     "text": [
      "B_thetas [ 2.8125      5.01130529  8.92913092 15.90990258 28.34822362 50.51079217\n",
      " 90.        ]\n"
     ]
    }
   ],
   "source": [
    "N_B_thetas = 7\n",
    "\n",
    "B_thetas = np.pi*np.logspace(-6, -1, N_B_thetas, base=2)\n",
    "print('B_thetas', B_thetas*180/np.pi)\n"
   ]
  },
  {
   "cell_type": "code",
   "execution_count": 4,
   "metadata": {
    "ExecuteTime": {
     "end_time": "2018-06-08T08:46:33.947360Z",
     "start_time": "2018-06-08T08:41:42.135311Z"
    },
    "scrolled": false
   },
   "outputs": [
    {
     "name": "stdout",
     "output_type": "stream",
     "text": [
      "At trial  0 Angle= 45.000 answer is  right (correct= True ); bandwidth= 2.812\n",
      "At trial  1 Angle= 28.863 answer is  right (correct= True ); bandwidth= 2.812\n",
      "At trial  2 Angle= 17.296 answer is  right (correct= True ); bandwidth= 5.011\n",
      "At trial  3 Angle= -17.915 answer is  left (correct= False ); bandwidth= 8.929\n",
      "At trial  4 Angle= 40.932 answer is  right (correct= True ); bandwidth= 2.812\n",
      "At trial  5 Angle= 22.521 answer is  right (correct= True ); bandwidth= 28.348\n",
      "At trial  6 Angle= 9.675 answer is  right (correct= True ); bandwidth= 15.910\n",
      "At trial  7 Angle= 5.166 answer is  right (correct= True ); bandwidth= 2.812\n",
      "At trial  8 Angle= 3.701 answer is  right (correct= True ); bandwidth= 50.511\n",
      "At trial  9 Angle= 24.908 answer is  left (correct= False ); bandwidth= 50.511\n",
      "At trial  10 Angle= -8.247 answer is  left (correct= False ); bandwidth= 2.812\n",
      "At trial  11 Angle= 30.120 answer is  right (correct= True ); bandwidth= 50.511\n",
      "At trial  12 Angle= -8.876 answer is  left (correct= False ); bandwidth= 8.929\n",
      "At trial  13 Angle= 15.350 answer is  right (correct= True ); bandwidth= 8.929\n",
      "At trial  14 Angle= -45.000 answer is  left (correct= False ); bandwidth= 50.511\n",
      "At trial  15 Angle= -0.419 answer is  right (correct= False ); bandwidth= 8.929\n",
      "At trial  16 Angle= -0.554 answer is  right (correct= False ); bandwidth= 90.000\n",
      "At trial  17 Angle= -6.155 answer is  left (correct= False ); bandwidth= 50.511\n",
      "At trial  18 Angle= 0.310 answer is  left (correct= False ); bandwidth= 5.011\n",
      "At trial  19 Angle= 3.238 answer is  right (correct= True ); bandwidth= 2.812\n",
      "At trial  20 Angle= -9.846 answer is  left (correct= False ); bandwidth= 2.812\n",
      "At trial  21 Angle= -16.036 answer is  left (correct= False ); bandwidth= 5.011\n",
      "At trial  22 Angle= 6.781 answer is  right (correct= True ); bandwidth= 2.812\n",
      "At trial  23 Angle= 45.000 answer is  right (correct= True ); bandwidth= 15.910\n",
      "At trial  24 Angle= -36.097 answer is  left (correct= False ); bandwidth= 15.910\n",
      "At trial  25 Angle= -9.816 answer is  left (correct= False ); bandwidth= 28.348\n",
      "At trial  26 Angle= 22.652 answer is  right (correct= True ); bandwidth= 90.000\n",
      "At trial  27 Angle= 10.714 answer is  right (correct= True ); bandwidth= 8.929\n",
      "At trial  28 Angle= -35.417 answer is  left (correct= False ); bandwidth= 50.511\n",
      "At trial  29 Angle= -0.968 answer is  right (correct= False ); bandwidth= 50.511\n",
      "At trial  30 Angle= -3.851 answer is  left (correct= False ); bandwidth= 50.511\n",
      "At trial  31 Angle= -8.544 answer is  left (correct= False ); bandwidth= 15.910\n",
      "At trial  32 Angle= 10.553 answer is  right (correct= True ); bandwidth= 90.000\n",
      "At trial  33 Angle= -19.830 answer is  left (correct= False ); bandwidth= 5.011\n",
      "At trial  34 Angle= -3.477 answer is  left (correct= False ); bandwidth= 5.011\n",
      "At trial  35 Angle= 2.121 answer is  right (correct= True ); bandwidth= 28.348\n",
      "At trial  36 Angle= -13.368 answer is  left (correct= False ); bandwidth= 2.812\n",
      "At trial  37 Angle= -26.859 answer is  left (correct= False ); bandwidth= 2.812\n",
      "At trial  38 Angle= 25.650 answer is  right (correct= True ); bandwidth= 5.011\n",
      "At trial  39 Angle= 22.084 answer is  right (correct= True ); bandwidth= 50.511\n",
      "At trial  40 Angle= 12.390 answer is  right (correct= True ); bandwidth= 28.348\n",
      "At trial  41 Angle= 8.848 answer is  left (correct= False ); bandwidth= 50.511\n",
      "At trial  42 Angle= 17.701 answer is  right (correct= True ); bandwidth= 15.910\n",
      "At trial  43 Angle= 16.790 answer is  right (correct= True ); bandwidth= 5.011\n",
      "At trial  44 Angle= 40.130 answer is  right (correct= True ); bandwidth= 5.011\n",
      "At trial  45 Angle= -26.741 answer is  left (correct= False ); bandwidth= 28.348\n",
      "At trial  46 Angle= -17.534 answer is  left (correct= False ); bandwidth= 2.812\n",
      "At trial  47 Angle= 17.191 answer is  right (correct= True ); bandwidth= 15.910\n",
      "At trial  48 Angle= 28.291 answer is  right (correct= True ); bandwidth= 2.812\n",
      "At trial  49 Angle= -0.280 answer is  left (correct= False ); bandwidth= 15.910\n",
      "At trial  50 Angle= 17.023 answer is  right (correct= True ); bandwidth= 15.910\n",
      "At trial  51 Angle= 40.356 answer is  right (correct= True ); bandwidth= 28.348\n",
      "At trial  52 Angle= -15.632 answer is  left (correct= False ); bandwidth= 2.812\n",
      "At trial  53 Angle= -14.322 answer is  left (correct= False ); bandwidth= 5.011\n",
      "At trial  54 Angle= 12.663 answer is  right (correct= True ); bandwidth= 5.011\n",
      "At trial  55 Angle= -0.952 answer is  right (correct= False ); bandwidth= 90.000\n",
      "At trial  56 Angle= -26.325 answer is  left (correct= False ); bandwidth= 15.910\n",
      "At trial  57 Angle= -24.594 answer is  left (correct= False ); bandwidth= 2.812\n",
      "At trial  58 Angle= -12.310 answer is  left (correct= False ); bandwidth= 5.011\n",
      "At trial  59 Angle= 9.955 answer is  right (correct= True ); bandwidth= 15.910\n",
      "At trial  60 Angle= 4.426 answer is  right (correct= True ); bandwidth= 5.011\n",
      "At trial  61 Angle= 16.579 answer is  right (correct= True ); bandwidth= 28.348\n",
      "At trial  62 Angle= -8.874 answer is  left (correct= False ); bandwidth= 50.511\n",
      "At trial  63 Angle= 16.876 answer is  right (correct= True ); bandwidth= 2.812\n",
      "At trial  64 Angle= -16.370 answer is  left (correct= False ); bandwidth= 8.929\n",
      "At trial  65 Angle= -9.263 answer is  left (correct= False ); bandwidth= 5.011\n",
      "At trial  66 Angle= 16.945 answer is  right (correct= True ); bandwidth= 15.910\n",
      "At trial  67 Angle= 6.495 answer is  right (correct= True ); bandwidth= 2.812\n",
      "At trial  68 Angle= 28.482 answer is  right (correct= True ); bandwidth= 8.929\n",
      "At trial  69 Angle= -13.826 answer is  left (correct= False ); bandwidth= 90.000\n",
      "At trial  70 Angle= 1.785 answer is  left (correct= False ); bandwidth= 15.910\n",
      "At trial  71 Angle= 3.731 answer is  right (correct= True ); bandwidth= 90.000\n",
      "At trial  72 Angle= 38.080 answer is  right (correct= True ); bandwidth= 5.011\n",
      "At trial  73 Angle= 45.000 answer is  right (correct= True ); bandwidth= 50.511\n",
      "At trial  74 Angle= 4.841 answer is  right (correct= True ); bandwidth= 15.910\n",
      "At trial  75 Angle= 2.087 answer is  right (correct= True ); bandwidth= 28.348\n",
      "At trial  76 Angle= 3.644 answer is  right (correct= True ); bandwidth= 8.929\n",
      "At trial  77 Angle= -12.494 answer is  left (correct= False ); bandwidth= 15.910\n",
      "At trial  78 Angle= -19.114 answer is  left (correct= False ); bandwidth= 8.929\n",
      "At trial  79 Angle= -12.736 answer is  left (correct= False ); bandwidth= 50.511\n",
      "At trial  80 Angle= -12.419 answer is  left (correct= False ); bandwidth= 28.348\n",
      "At trial  81 Angle= -0.034 answer is  left (correct= False ); bandwidth= 90.000\n",
      "At trial  82 Angle= -18.567 answer is  left (correct= False ); bandwidth= 15.910\n",
      "At trial  83 Angle= -24.729 answer is  left (correct= False ); bandwidth= 15.910\n",
      "At trial  84 Angle= -6.281 answer is  right (correct= False ); bandwidth= 90.000\n",
      "At trial  85 Angle= -21.609 answer is  left (correct= False ); bandwidth= 5.011\n",
      "At trial  86 Angle= -31.232 answer is  right (correct= False ); bandwidth= 50.511\n",
      "At trial  87 Angle= 6.026 answer is  left (correct= False ); bandwidth= 28.348\n",
      "At trial  88 Angle= 23.543 answer is  right (correct= True ); bandwidth= 8.929\n",
      "At trial  89 Angle= 6.823 answer is  left (correct= False ); bandwidth= 50.511\n",
      "At trial  90 Angle= 30.910 answer is  right (correct= True ); bandwidth= 50.511\n",
      "At trial  91 Angle= -44.326 answer is  left (correct= False ); bandwidth= 15.910\n",
      "At trial  92 Angle= -44.942 answer is  left (correct= False ); bandwidth= 50.511\n",
      "At trial  93 Angle= 27.854 answer is  right (correct= True ); bandwidth= 15.910\n",
      "At trial  94 Angle= -1.252 answer is  right (correct= False ); bandwidth= 5.011\n",
      "At trial  95 Angle= -0.325 answer is  left (correct= False ); bandwidth= 15.910\n",
      "At trial  96 Angle= 11.435 answer is  right (correct= True ); bandwidth= 2.812\n",
      "At trial  97 Angle= -16.069 answer is  left (correct= False ); bandwidth= 2.812\n",
      "At trial  98 Angle= -10.754 answer is  left (correct= False ); bandwidth= 28.348\n",
      "At trial  99 Angle= 6.555 answer is  right (correct= True ); bandwidth= 5.011\n",
      "At trial  100 Angle= 38.189 answer is  right (correct= True ); bandwidth= 2.812\n",
      "At trial  101 Angle= -6.588 answer is  left (correct= False ); bandwidth= 2.812\n",
      "At trial  102 Angle= 12.100 answer is  right (correct= True ); bandwidth= 50.511\n"
     ]
    },
    {
     "name": "stdout",
     "output_type": "stream",
     "text": [
      "At trial  103 Angle= 27.116 answer is  left (correct= False ); bandwidth= 50.511\n",
      "At trial  104 Angle= -3.634 answer is  left (correct= False ); bandwidth= 5.011\n",
      "At trial  105 Angle= 36.485 answer is  right (correct= True ); bandwidth= 90.000\n",
      "At trial  106 Angle= -21.632 answer is  left (correct= False ); bandwidth= 5.011\n",
      "At trial  107 Angle= -20.967 answer is  left (correct= False ); bandwidth= 5.011\n",
      "At trial  108 Angle= 14.955 answer is  right (correct= True ); bandwidth= 28.348\n",
      "At trial  109 Angle= -7.572 answer is  left (correct= False ); bandwidth= 50.511\n",
      "At trial  110 Angle= 20.211 answer is  right (correct= True ); bandwidth= 28.348\n",
      "At trial  111 Angle= 3.126 answer is  left (correct= False ); bandwidth= 28.348\n",
      "At trial  112 Angle= 0.387 answer is  right (correct= True ); bandwidth= 15.910\n",
      "At trial  113 Angle= 21.570 answer is  right (correct= True ); bandwidth= 8.929\n",
      "At trial  114 Angle= -3.216 answer is  right (correct= False ); bandwidth= 28.348\n",
      "At trial  115 Angle= -23.764 answer is  left (correct= False ); bandwidth= 50.511\n",
      "At trial  116 Angle= -29.803 answer is  left (correct= False ); bandwidth= 5.011\n",
      "At trial  117 Angle= 15.164 answer is  right (correct= True ); bandwidth= 8.929\n",
      "At trial  118 Angle= 40.803 answer is  right (correct= True ); bandwidth= 2.812\n",
      "At trial  119 Angle= -2.076 answer is  left (correct= False ); bandwidth= 28.348\n",
      "At trial  120 Angle= -11.082 answer is  left (correct= False ); bandwidth= 15.910\n",
      "At trial  121 Angle= 26.643 answer is  left (correct= False ); bandwidth= 50.511\n",
      "At trial  122 Angle= -1.807 answer is  left (correct= False ); bandwidth= 15.910\n",
      "At trial  123 Angle= -2.036 answer is  left (correct= False ); bandwidth= 2.812\n",
      "At trial  124 Angle= 23.372 answer is  right (correct= True ); bandwidth= 5.011\n",
      "At trial  125 Angle= 6.812 answer is  right (correct= True ); bandwidth= 2.812\n",
      "At trial  126 Angle= -19.420 answer is  left (correct= False ); bandwidth= 50.511\n",
      "At trial  127 Angle= -3.891 answer is  left (correct= False ); bandwidth= 5.011\n",
      "At trial  128 Angle= -35.374 answer is  left (correct= False ); bandwidth= 28.348\n",
      "At trial  129 Angle= 24.883 answer is  right (correct= True ); bandwidth= 28.348\n",
      "At trial  130 Angle= 3.125 answer is  right (correct= True ); bandwidth= 15.910\n",
      "At trial  131 Angle= 9.086 answer is  right (correct= True ); bandwidth= 5.011\n",
      "At trial  132 Angle= -9.590 answer is  right (correct= False ); bandwidth= 50.511\n",
      "At trial  133 Angle= -7.347 answer is  left (correct= False ); bandwidth= 15.910\n",
      "At trial  134 Angle= 19.364 answer is  right (correct= True ); bandwidth= 90.000\n",
      "At trial  135 Angle= 18.570 answer is  right (correct= True ); bandwidth= 2.812\n",
      "At trial  136 Angle= 14.470 answer is  right (correct= True ); bandwidth= 28.348\n",
      "At trial  137 Angle= -6.066 answer is  left (correct= False ); bandwidth= 5.011\n",
      "At trial  138 Angle= 11.101 answer is  right (correct= True ); bandwidth= 28.348\n",
      "At trial  139 Angle= 12.877 answer is  right (correct= True ); bandwidth= 15.910\n",
      "At trial  140 Angle= 15.878 answer is  right (correct= True ); bandwidth= 5.011\n",
      "At trial  141 Angle= -45.000 answer is  left (correct= False ); bandwidth= 8.929\n",
      "At trial  142 Angle= 45.000 answer is  right (correct= True ); bandwidth= 50.511\n",
      "At trial  143 Angle= 35.728 answer is  right (correct= True ); bandwidth= 5.011\n",
      "At trial  144 Angle= 3.870 answer is  right (correct= True ); bandwidth= 2.812\n",
      "At trial  145 Angle= -4.616 answer is  left (correct= False ); bandwidth= 2.812\n",
      "At trial  146 Angle= -13.053 answer is  left (correct= False ); bandwidth= 8.929\n",
      "At trial  147 Angle= -7.075 answer is  left (correct= False ); bandwidth= 8.929\n",
      "At trial  148 Angle= -6.710 answer is  right (correct= False ); bandwidth= 90.000\n",
      "At trial  149 Angle= 13.162 answer is  right (correct= True ); bandwidth= 5.011\n",
      "0.9315 \tWARNING \tMonitor specification not found. Creating a temporary one...\n",
      "1.3336 \tWARNING \tUser requested fullscreen with size [800 600], but screen is actually [2560, 1440]. Using actual size\n"
     ]
    }
   ],
   "source": [
    "from psychopy import visual, core, event\n",
    "import MotionClouds as MC\n",
    "\n",
    "test_length = 150  # number of trials\n",
    "#trial_length = 2.6  # length of trial, in second\n",
    "fixation_length = .5  # length of fixation, in second\n",
    "stim1_length = 0.25  # length of first stim, in second\n",
    "stim2_length = 0.25  # length of the second stim, in second\n",
    "\n",
    "fullscr = False\n",
    "\n",
    "fullscr = True\n",
    "\n",
    "# Psychopy window\n",
    "win = visual.Window(fullscr=fullscr, color=[0,0,0], winType='pygame', monitor='testMonitor', units='height')\n",
    "mouse = event.Mouse(visible=False)\n",
    "\n",
    "fixation = visual.ShapeStim(vertices='cross', win=win, size=0.05, pos=[0, 0], fillColor='black', units='height')\n",
    "fixation.autolog = False\n",
    "\n",
    "MC1 = generate_random_cloud(np.pi/2, B_theta=np.pi/2)\n",
    "bitmap1 = visual.ImageStim(win, MC1, mask='gauss', size=0.8, units='height')\n",
    "bitmap1.autolog = False\n",
    "bitmap2 = visual.ImageStim(win, MC1, mask='gauss', size=0.8, units='height')\n",
    "bitmap2.autolog = False\n",
    "#bitmap3 = visual.ImageStim(win, '%s.png' %\n",
    "#                           str(2 * (np.pi/3)), mask='circle')\n",
    "#bitmap3.autolog = False\n",
    "\n",
    "\n",
    "#msg = visual.TextStim(win, text='<- LEFT or RIGHT ->', color='black')\n",
    "msg = visual.TextStim(win, text='?', color='black')\n",
    "\n",
    "#shift_dict = {'right': 2,\n",
    "#              'left':  3}\n",
    "\n",
    "\n",
    "# Answer list\n",
    "ans_list = []\n",
    "    \n",
    "std_theta = np.pi/8\n",
    "for trial in range(test_length):\n",
    "    clock = core.Clock()\n",
    "    fixation.draw()\n",
    "    win.flip()\n",
    "    \n",
    "    # Shift to left (3) or to right (2) ?\n",
    "    #shift = random.randint(2, 3)\n",
    "    theta = np.clip(std_theta *  np.random.randn(), -np.pi/4, np.pi/4)\n",
    "\n",
    "    # MC generation\n",
    "    B_theta = B_thetas[random.randint(0, N_B_thetas-1)]\n",
    "\n",
    "    MC1 = generate_random_cloud(np.pi/2, B_theta=B_theta)\n",
    "    bitmap1.setImage(MC1)\n",
    "\n",
    "    MC2 = generate_random_cloud(np.pi/2 - theta, B_theta=B_theta)  # if shift = 2\n",
    "    bitmap2.setImage(MC2)\n",
    "\n",
    "    #MC3 = generate_random_cloud(2 * (np.pi/3), B_theta=B_theta)  # if shift = 3\n",
    "    # MC to psychopy objects\n",
    "    \n",
    "    # Times the trial\n",
    "    while clock.getTime() < fixation_length + stim1_length + stim2_length:\n",
    "        if 0.0 <= clock.getTime() < fixation_length:  # fixation\n",
    "            fixation.draw()\n",
    "        if fixation_length + 0.01 <= clock.getTime() < fixation_length + stim1_length:\n",
    "            bitmap1.draw()\n",
    "        if fixation_length + stim1_length <= clock.getTime() < fixation_length + stim1_length + stim2_length:\n",
    "            bitmap2.draw()\n",
    "        win.flip()\n",
    "\n",
    "    # display orientation choice\n",
    "    msg.draw()\n",
    "    win.flip()\n",
    "\n",
    "    # answer using the keyboard\n",
    "    while True:\n",
    "        ans = event.waitKeys()\n",
    "\n",
    "        if len(ans) > 0:\n",
    "            if ans[0] in ['escape', 'q']:\n",
    "                win.close()\n",
    "                core.quit()\n",
    "            elif ans[0] in ['left', 'right']:\n",
    "                correct = (np.sign(theta) > 0) and (ans[0]=='right')\n",
    "                print('At trial ', trial, 'Angle=', '%3.3f' % (theta*180/np.pi), 'answer is ', ans[0], '(correct=', correct, '); bandwidth=', '%.3f' % (B_theta*180/np.pi))\n",
    "                break\n",
    "\n",
    "    # Output shape per trial is : trial number, shift direction, answered shift and b_theta\n",
    "    ans_list.append([trial, theta, ans[0], B_theta])\n",
    "\n",
    "win.close()"
   ]
  },
  {
   "cell_type": "code",
   "execution_count": 6,
   "metadata": {
    "ExecuteTime": {
     "end_time": "2018-06-08T10:54:24.247870Z",
     "start_time": "2018-06-08T10:54:24.243776Z"
    }
   },
   "outputs": [],
   "source": [
    "import pickle\n",
    "pickle.dump(ans_list, open('../psychophysics_data/Psy_discrim_final_%s.p' % exp_info, 'wb'))"
   ]
  }
 ],
 "metadata": {
  "kernelspec": {
   "display_name": "Python 3",
   "language": "python",
   "name": "python3"
  },
  "language_info": {
   "codemirror_mode": {
    "name": "ipython",
    "version": 3
   },
   "file_extension": ".py",
   "mimetype": "text/x-python",
   "name": "python",
   "nbconvert_exporter": "python",
   "pygments_lexer": "ipython3",
   "version": "3.6.5"
  },
  "toc": {
   "base_numbering": 1,
   "nav_menu": {},
   "number_sections": true,
   "sideBar": true,
   "skip_h1_title": false,
   "title_cell": "Table of Contents",
   "title_sidebar": "Contents",
   "toc_cell": false,
   "toc_position": {},
   "toc_section_display": true,
   "toc_window_display": false
  }
 },
 "nbformat": 4,
 "nbformat_minor": 2
}
