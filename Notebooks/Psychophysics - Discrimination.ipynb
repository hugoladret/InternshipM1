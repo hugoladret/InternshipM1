{
 "cells": [
  {
   "cell_type": "markdown",
   "metadata": {},
   "source": [
    "# 2018-06-06 - Psychophysics using psychopy\n",
    "\n",
    "On repasse sur un paradigme plus classique de psychophysique."
   ]
  },
  {
   "cell_type": "markdown",
   "metadata": {},
   "source": [
    "On récupère les initiales :"
   ]
  },
  {
   "cell_type": "code",
   "execution_count": 1,
   "metadata": {
    "ExecuteTime": {
     "end_time": "2018-06-06T14:09:51.687946Z",
     "start_time": "2018-06-06T14:09:51.674085Z"
    }
   },
   "outputs": [
    {
     "name": "stdout",
     "output_type": "stream",
     "text": [
      "2018-06-06:1606_LP\n"
     ]
    }
   ],
   "source": [
    "exp_info = input('Enter your initials : ')\n",
    "print (exp_info)"
   ]
  },
  {
   "cell_type": "markdown",
   "metadata": {},
   "source": [
    "On défini la génération de MotionClouds :"
   ]
  },
  {
   "cell_type": "code",
   "execution_count": 2,
   "metadata": {
    "ExecuteTime": {
     "end_time": "2018-06-06T14:09:55.152576Z",
     "start_time": "2018-06-06T14:09:51.700330Z"
    }
   },
   "outputs": [],
   "source": [
    "import numpy as np\n",
    "import MotionClouds as mc\n",
    "import matplotlib.pyplot as plt\n",
    "import os\n",
    "import imageio\n",
    "import random\n",
    "\n",
    "downscale = 1\n",
    "fig_width = 21\n",
    "fx, fy, ft = mc.get_grids(mc.N_X/downscale, mc.N_Y/downscale, 1)\n",
    "\n",
    "# generates a cloud of given theta and b_theta\n",
    "def generate_random_cloud(theta, B_theta):\n",
    "    mc_i = mc.envelope_gabor(fx, fy, ft, V_X=0., V_Y=0.,\n",
    "                             B_V=0, theta=theta, B_theta=B_theta)\n",
    "    im = mc.random_cloud(mc_i)\n",
    "    im = (mc.rectif(im) * 255).astype('uint8')\n",
    "    fname = '/tmp/%s_%s.png' % (theta, B_theta)\n",
    "    imageio.imwrite(fname, im[:, :, 0])\n",
    "    return fname"
   ]
  },
  {
   "cell_type": "markdown",
   "metadata": {},
   "source": [
    "On définit les paramètres et on teste :"
   ]
  },
  {
   "cell_type": "code",
   "execution_count": 3,
   "metadata": {
    "ExecuteTime": {
     "end_time": "2018-06-06T14:09:55.189296Z",
     "start_time": "2018-06-06T14:09:55.168673Z"
    }
   },
   "outputs": [
    {
     "name": "stdout",
     "output_type": "stream",
     "text": [
      "B_thetas [  1.40625      4.73004234  15.90990258  53.51432018 180.        ]\n"
     ]
    }
   ],
   "source": [
    "N_B_thetas = 5\n",
    "\n",
    "B_thetas = np.pi*np.logspace(-7, 0, N_B_thetas, base=2)\n",
    "print('B_thetas', B_thetas*180/np.pi)\n"
   ]
  },
  {
   "cell_type": "code",
   "execution_count": 4,
   "metadata": {
    "ExecuteTime": {
     "end_time": "2018-06-06T14:09:55.225434Z",
     "start_time": "2018-06-06T14:09:55.202479Z"
    }
   },
   "outputs": [
    {
     "name": "stdout",
     "output_type": "stream",
     "text": [
      "B_thetas [ 2.8125      5.01130529  8.92913092 15.90990258 28.34822362 50.51079217\n",
      " 90.        ]\n"
     ]
    }
   ],
   "source": [
    "N_B_thetas = 7\n",
    "\n",
    "B_thetas = np.pi*np.logspace(-6, -1, N_B_thetas, base=2)\n",
    "print('B_thetas', B_thetas*180/np.pi)\n"
   ]
  },
  {
   "cell_type": "code",
   "execution_count": 5,
   "metadata": {
    "ExecuteTime": {
     "end_time": "2018-06-06T14:13:18.084688Z",
     "start_time": "2018-06-06T14:09:55.231514Z"
    },
    "scrolled": false
   },
   "outputs": [
    {
     "name": "stdout",
     "output_type": "stream",
     "text": [
      "At trial  0 Angle= -7.539 answer is  left (correct= False ); bandwidth= 90.000\n",
      "At trial  1 Angle= 4.973 answer is  right (correct= True ); bandwidth= 50.511\n",
      "At trial  2 Angle= 39.822 answer is  right (correct= True ); bandwidth= 50.511\n",
      "At trial  3 Angle= -13.869 answer is  left (correct= False ); bandwidth= 90.000\n",
      "At trial  4 Angle= -14.159 answer is  left (correct= False ); bandwidth= 5.011\n",
      "At trial  5 Angle= -6.366 answer is  left (correct= False ); bandwidth= 8.929\n",
      "At trial  6 Angle= 11.276 answer is  right (correct= True ); bandwidth= 50.511\n",
      "At trial  7 Angle= 39.018 answer is  right (correct= True ); bandwidth= 2.812\n",
      "At trial  8 Angle= 31.096 answer is  right (correct= True ); bandwidth= 5.011\n",
      "At trial  9 Angle= 17.056 answer is  right (correct= True ); bandwidth= 50.511\n",
      "At trial  10 Angle= -45.000 answer is  left (correct= False ); bandwidth= 50.511\n",
      "At trial  11 Angle= -6.477 answer is  left (correct= False ); bandwidth= 28.348\n",
      "At trial  12 Angle= -20.475 answer is  left (correct= False ); bandwidth= 2.812\n",
      "At trial  13 Angle= -4.158 answer is  left (correct= False ); bandwidth= 5.011\n",
      "At trial  14 Angle= 27.075 answer is  right (correct= True ); bandwidth= 8.929\n",
      "At trial  15 Angle= 34.375 answer is  right (correct= True ); bandwidth= 50.511\n",
      "At trial  16 Angle= -20.429 answer is  left (correct= False ); bandwidth= 50.511\n",
      "At trial  17 Angle= 26.468 answer is  right (correct= True ); bandwidth= 50.511\n",
      "At trial  18 Angle= -41.672 answer is  left (correct= False ); bandwidth= 28.348\n",
      "At trial  19 Angle= -4.064 answer is  left (correct= False ); bandwidth= 28.348\n",
      "At trial  20 Angle= -2.225 answer is  left (correct= False ); bandwidth= 2.812\n",
      "At trial  21 Angle= 3.446 answer is  left (correct= False ); bandwidth= 50.511\n",
      "At trial  22 Angle= -16.417 answer is  left (correct= False ); bandwidth= 28.348\n",
      "At trial  23 Angle= -35.001 answer is  left (correct= False ); bandwidth= 90.000\n",
      "At trial  24 Angle= -30.565 answer is  left (correct= False ); bandwidth= 28.348\n",
      "At trial  25 Angle= 24.298 answer is  right (correct= True ); bandwidth= 90.000\n",
      "At trial  26 Angle= -9.615 answer is  left (correct= False ); bandwidth= 5.011\n",
      "At trial  27 Angle= -24.145 answer is  left (correct= False ); bandwidth= 2.812\n",
      "At trial  28 Angle= 20.103 answer is  right (correct= True ); bandwidth= 15.910\n",
      "At trial  29 Angle= 0.323 answer is  left (correct= False ); bandwidth= 28.348\n",
      "At trial  30 Angle= 21.594 answer is  right (correct= True ); bandwidth= 50.511\n",
      "At trial  31 Angle= -45.000 answer is  left (correct= False ); bandwidth= 90.000\n",
      "At trial  32 Angle= -19.655 answer is  left (correct= False ); bandwidth= 2.812\n",
      "At trial  33 Angle= 36.068 answer is  right (correct= True ); bandwidth= 15.910\n",
      "At trial  34 Angle= -3.532 answer is  right (correct= False ); bandwidth= 90.000\n",
      "At trial  35 Angle= 6.433 answer is  right (correct= True ); bandwidth= 28.348\n",
      "At trial  36 Angle= 4.503 answer is  right (correct= True ); bandwidth= 15.910\n",
      "At trial  37 Angle= -10.929 answer is  left (correct= False ); bandwidth= 28.348\n",
      "At trial  38 Angle= -21.823 answer is  left (correct= False ); bandwidth= 50.511\n",
      "At trial  39 Angle= -6.636 answer is  left (correct= False ); bandwidth= 15.910\n",
      "At trial  40 Angle= -11.219 answer is  left (correct= False ); bandwidth= 8.929\n",
      "At trial  41 Angle= 13.773 answer is  right (correct= True ); bandwidth= 2.812\n",
      "At trial  42 Angle= -26.638 answer is  left (correct= False ); bandwidth= 90.000\n",
      "At trial  43 Angle= 10.507 answer is  right (correct= True ); bandwidth= 15.910\n",
      "At trial  44 Angle= 35.261 answer is  right (correct= True ); bandwidth= 28.348\n",
      "At trial  45 Angle= -9.548 answer is  left (correct= False ); bandwidth= 50.511\n",
      "At trial  46 Angle= -11.682 answer is  left (correct= False ); bandwidth= 15.910\n",
      "At trial  47 Angle= -34.427 answer is  left (correct= False ); bandwidth= 28.348\n",
      "At trial  48 Angle= 4.918 answer is  right (correct= True ); bandwidth= 8.929\n",
      "At trial  49 Angle= 1.828 answer is  left (correct= False ); bandwidth= 15.910\n",
      "At trial  50 Angle= 2.402 answer is  right (correct= True ); bandwidth= 28.348\n",
      "At trial  51 Angle= -14.225 answer is  left (correct= False ); bandwidth= 2.812\n",
      "At trial  52 Angle= 5.477 answer is  left (correct= False ); bandwidth= 90.000\n",
      "At trial  53 Angle= -45.000 answer is  left (correct= False ); bandwidth= 50.511\n",
      "At trial  54 Angle= 1.406 answer is  left (correct= False ); bandwidth= 28.348\n",
      "At trial  55 Angle= -7.940 answer is  left (correct= False ); bandwidth= 15.910\n",
      "At trial  56 Angle= -10.905 answer is  left (correct= False ); bandwidth= 8.929\n",
      "At trial  57 Angle= 13.159 answer is  right (correct= True ); bandwidth= 2.812\n",
      "At trial  58 Angle= 17.786 answer is  right (correct= True ); bandwidth= 28.348\n",
      "At trial  59 Angle= 19.613 answer is  right (correct= True ); bandwidth= 8.929\n",
      "At trial  60 Angle= 2.400 answer is  right (correct= True ); bandwidth= 2.812\n",
      "At trial  61 Angle= -44.706 answer is  left (correct= False ); bandwidth= 2.812\n",
      "At trial  62 Angle= 4.409 answer is  right (correct= True ); bandwidth= 2.812\n",
      "At trial  63 Angle= 3.648 answer is  left (correct= False ); bandwidth= 90.000\n",
      "At trial  64 Angle= -15.134 answer is  right (correct= False ); bandwidth= 28.348\n",
      "At trial  65 Angle= -27.387 answer is  left (correct= False ); bandwidth= 15.910\n",
      "At trial  66 Angle= -18.761 answer is  left (correct= False ); bandwidth= 90.000\n",
      "At trial  67 Angle= -30.212 answer is  left (correct= False ); bandwidth= 8.929\n",
      "At trial  68 Angle= 13.361 answer is  right (correct= True ); bandwidth= 28.348\n",
      "At trial  69 Angle= 8.957 answer is  left (correct= False ); bandwidth= 50.511\n",
      "At trial  70 Angle= -15.954 answer is  left (correct= False ); bandwidth= 8.929\n",
      "At trial  71 Angle= -19.962 answer is  right (correct= False ); bandwidth= 90.000\n",
      "At trial  72 Angle= 11.352 answer is  left (correct= False ); bandwidth= 50.511\n",
      "At trial  73 Angle= -6.471 answer is  left (correct= False ); bandwidth= 50.511\n",
      "At trial  74 Angle= -17.902 answer is  left (correct= False ); bandwidth= 28.348\n",
      "At trial  75 Angle= 15.635 answer is  right (correct= True ); bandwidth= 15.910\n",
      "At trial  76 Angle= 35.000 answer is  right (correct= True ); bandwidth= 8.929\n",
      "At trial  77 Angle= -31.606 answer is  left (correct= False ); bandwidth= 90.000\n",
      "At trial  78 Angle= 2.416 answer is  right (correct= True ); bandwidth= 28.348\n",
      "At trial  79 Angle= -21.859 answer is  left (correct= False ); bandwidth= 8.929\n",
      "At trial  80 Angle= 17.633 answer is  right (correct= True ); bandwidth= 2.812\n",
      "At trial  81 Angle= 5.860 answer is  left (correct= False ); bandwidth= 28.348\n",
      "At trial  82 Angle= 0.847 answer is  right (correct= True ); bandwidth= 15.910\n",
      "At trial  83 Angle= -5.763 answer is  left (correct= False ); bandwidth= 90.000\n",
      "At trial  84 Angle= -15.754 answer is  right (correct= False ); bandwidth= 90.000\n",
      "At trial  85 Angle= -26.153 answer is  left (correct= False ); bandwidth= 28.348\n",
      "At trial  86 Angle= -12.620 answer is  left (correct= False ); bandwidth= 8.929\n",
      "At trial  87 Angle= -25.171 answer is  left (correct= False ); bandwidth= 5.011\n",
      "At trial  88 Angle= 36.222 answer is  right (correct= True ); bandwidth= 5.011\n",
      "At trial  89 Angle= -10.801 answer is  left (correct= False ); bandwidth= 5.011\n",
      "At trial  90 Angle= 28.174 answer is  right (correct= True ); bandwidth= 90.000\n",
      "At trial  91 Angle= 16.194 answer is  left (correct= False ); bandwidth= 2.812\n",
      "At trial  92 Angle= 3.029 answer is  right (correct= True ); bandwidth= 15.910\n",
      "At trial  93 Angle= -22.993 answer is  left (correct= False ); bandwidth= 8.929\n",
      "At trial  94 Angle= -3.394 answer is  left (correct= False ); bandwidth= 8.929\n",
      "At trial  95 Angle= 16.567 answer is  right (correct= True ); bandwidth= 2.812\n",
      "At trial  96 Angle= -12.470 answer is  left (correct= False ); bandwidth= 2.812\n",
      "At trial  97 Angle= -5.927 answer is  left (correct= False ); bandwidth= 2.812\n",
      "At trial  98 Angle= 12.166 answer is  right (correct= True ); bandwidth= 15.910\n",
      "At trial  99 Angle= 4.270 answer is  right (correct= True ); bandwidth= 90.000\n",
      "At trial  100 Angle= 0.088 answer is  left (correct= False ); bandwidth= 90.000\n",
      "At trial  101 Angle= 8.432 answer is  right (correct= True ); bandwidth= 8.929\n",
      "At trial  102 Angle= 3.900 answer is  right (correct= True ); bandwidth= 28.348\n"
     ]
    },
    {
     "name": "stdout",
     "output_type": "stream",
     "text": [
      "At trial  103 Angle= 3.809 answer is  right (correct= True ); bandwidth= 8.929\n",
      "At trial  104 Angle= 23.903 answer is  right (correct= True ); bandwidth= 8.929\n",
      "At trial  105 Angle= -21.331 answer is  left (correct= False ); bandwidth= 50.511\n",
      "At trial  106 Angle= -36.415 answer is  left (correct= False ); bandwidth= 28.348\n",
      "At trial  107 Angle= 1.140 answer is  right (correct= True ); bandwidth= 8.929\n",
      "At trial  108 Angle= -7.377 answer is  left (correct= False ); bandwidth= 2.812\n",
      "At trial  109 Angle= 6.042 answer is  right (correct= True ); bandwidth= 28.348\n",
      "At trial  110 Angle= 18.639 answer is  right (correct= True ); bandwidth= 50.511\n",
      "At trial  111 Angle= -5.219 answer is  left (correct= False ); bandwidth= 15.910\n",
      "At trial  112 Angle= -2.711 answer is  left (correct= False ); bandwidth= 8.929\n",
      "At trial  113 Angle= -6.399 answer is  right (correct= False ); bandwidth= 28.348\n",
      "At trial  114 Angle= -16.127 answer is  left (correct= False ); bandwidth= 15.910\n",
      "At trial  115 Angle= 33.997 answer is  right (correct= True ); bandwidth= 90.000\n",
      "At trial  116 Angle= 8.251 answer is  left (correct= False ); bandwidth= 50.511\n",
      "At trial  117 Angle= 6.116 answer is  right (correct= True ); bandwidth= 5.011\n",
      "At trial  118 Angle= 13.011 answer is  left (correct= False ); bandwidth= 50.511\n",
      "At trial  119 Angle= -16.864 answer is  right (correct= False ); bandwidth= 90.000\n",
      "At trial  120 Angle= -42.152 answer is  left (correct= False ); bandwidth= 5.011\n",
      "At trial  121 Angle= 6.279 answer is  right (correct= True ); bandwidth= 50.511\n",
      "At trial  122 Angle= 1.651 answer is  right (correct= True ); bandwidth= 2.812\n",
      "At trial  123 Angle= -15.097 answer is  left (correct= False ); bandwidth= 15.910\n",
      "At trial  124 Angle= -14.737 answer is  right (correct= False ); bandwidth= 90.000\n",
      "At trial  125 Angle= -1.921 answer is  left (correct= False ); bandwidth= 15.910\n",
      "At trial  126 Angle= -0.330 answer is  right (correct= False ); bandwidth= 50.511\n",
      "At trial  127 Angle= -9.283 answer is  left (correct= False ); bandwidth= 2.812\n",
      "At trial  128 Angle= -14.607 answer is  left (correct= False ); bandwidth= 5.011\n",
      "At trial  129 Angle= 0.969 answer is  left (correct= False ); bandwidth= 8.929\n",
      "At trial  130 Angle= 17.098 answer is  right (correct= True ); bandwidth= 28.348\n",
      "At trial  131 Angle= -37.648 answer is  left (correct= False ); bandwidth= 5.011\n",
      "At trial  132 Angle= 26.998 answer is  right (correct= True ); bandwidth= 8.929\n",
      "At trial  133 Angle= 8.436 answer is  right (correct= True ); bandwidth= 15.910\n",
      "At trial  134 Angle= -10.464 answer is  left (correct= False ); bandwidth= 90.000\n",
      "At trial  135 Angle= 32.809 answer is  right (correct= True ); bandwidth= 50.511\n",
      "At trial  136 Angle= -30.156 answer is  left (correct= False ); bandwidth= 2.812\n",
      "At trial  137 Angle= -33.185 answer is  left (correct= False ); bandwidth= 5.011\n",
      "At trial  138 Angle= -6.327 answer is  right (correct= False ); bandwidth= 50.511\n",
      "At trial  139 Angle= 17.691 answer is  right (correct= True ); bandwidth= 5.011\n",
      "At trial  140 Angle= -1.768 answer is  left (correct= False ); bandwidth= 28.348\n",
      "At trial  141 Angle= 19.444 answer is  right (correct= True ); bandwidth= 50.511\n",
      "At trial  142 Angle= 37.427 answer is  left (correct= False ); bandwidth= 50.511\n",
      "At trial  143 Angle= 35.902 answer is  right (correct= True ); bandwidth= 28.348\n",
      "At trial  144 Angle= -8.062 answer is  left (correct= False ); bandwidth= 2.812\n",
      "At trial  145 Angle= 7.219 answer is  right (correct= True ); bandwidth= 50.511\n",
      "At trial  146 Angle= -2.728 answer is  left (correct= False ); bandwidth= 90.000\n",
      "At trial  147 Angle= 1.914 answer is  right (correct= True ); bandwidth= 8.929\n",
      "At trial  148 Angle= -7.106 answer is  left (correct= False ); bandwidth= 5.011\n",
      "At trial  149 Angle= -6.083 answer is  right (correct= False ); bandwidth= 90.000\n",
      "6.8919 \tWARNING \tMonitor specification not found. Creating a temporary one...\n",
      "7.9020 \tWARNING \tUser requested fullscreen with size [800 600], but screen is actually [2560, 1440]. Using actual size\n"
     ]
    }
   ],
   "source": [
    "from psychopy import visual, core, event\n",
    "import MotionClouds as MC\n",
    "\n",
    "test_length = 150  # number of trials\n",
    "#trial_length = 2.6  # length of trial, in second\n",
    "fixation_length = .5  # length of fixation, in second\n",
    "stim1_length = 0.25  # length of first stim, in second\n",
    "stim2_length = 0.25  # length of the second stim, in second\n",
    "\n",
    "fullscr = False\n",
    "\n",
    "fullscr = True\n",
    "\n",
    "# Psychopy window\n",
    "win = visual.Window(fullscr=fullscr, color=[0,0,0], winType='pygame', monitor='testMonitor', units='height')\n",
    "mouse = event.Mouse(visible=False)\n",
    "\n",
    "fixation = visual.ShapeStim(vertices='cross', win=win, size=0.05, pos=[0, 0], fillColor='black', units='height')\n",
    "fixation.autolog = False\n",
    "\n",
    "MC1 = generate_random_cloud(np.pi/2, B_theta=np.pi/2)\n",
    "bitmap1 = visual.ImageStim(win, MC1, mask='gauss', size=0.8, units='height')\n",
    "bitmap1.autolog = False\n",
    "bitmap2 = visual.ImageStim(win, MC1, mask='gauss', size=0.8, units='height')\n",
    "bitmap2.autolog = False\n",
    "#bitmap3 = visual.ImageStim(win, '%s.png' %\n",
    "#                           str(2 * (np.pi/3)), mask='circle')\n",
    "#bitmap3.autolog = False\n",
    "\n",
    "\n",
    "#msg = visual.TextStim(win, text='<- LEFT or RIGHT ->', color='black')\n",
    "msg = visual.TextStim(win, text='?', color='black')\n",
    "\n",
    "#shift_dict = {'right': 2,\n",
    "#              'left':  3}\n",
    "\n",
    "\n",
    "# Answer list\n",
    "ans_list = []\n",
    "    \n",
    "std_theta = np.pi/8\n",
    "for trial in range(test_length):\n",
    "    clock = core.Clock()\n",
    "    fixation.draw()\n",
    "    win.flip()\n",
    "    \n",
    "    # Shift to left (3) or to right (2) ?\n",
    "    #shift = random.randint(2, 3)\n",
    "    theta = np.clip(std_theta *  np.random.randn(), -np.pi/4, np.pi/4)\n",
    "\n",
    "    # MC generation\n",
    "    B_theta = B_thetas[random.randint(0, N_B_thetas-1)]\n",
    "\n",
    "    MC1 = generate_random_cloud(np.pi/2, B_theta=B_theta)\n",
    "    bitmap1.setImage(MC1)\n",
    "\n",
    "    MC2 = generate_random_cloud(np.pi/2 - theta, B_theta=B_theta)  # if shift = 2\n",
    "    bitmap2.setImage(MC2)\n",
    "\n",
    "    #MC3 = generate_random_cloud(2 * (np.pi/3), B_theta=B_theta)  # if shift = 3\n",
    "    # MC to psychopy objects\n",
    "    \n",
    "    # Times the trial\n",
    "    while clock.getTime() < fixation_length + stim1_length + stim2_length:\n",
    "        if 0.0 <= clock.getTime() < fixation_length:  # fixation\n",
    "            fixation.draw()\n",
    "        if fixation_length + 0.01 <= clock.getTime() < fixation_length + stim1_length:\n",
    "            bitmap1.draw()\n",
    "        if fixation_length + stim1_length <= clock.getTime() < fixation_length + stim1_length + stim2_length:\n",
    "            bitmap2.draw()\n",
    "        win.flip()\n",
    "\n",
    "    # display orientation choice\n",
    "    msg.draw()\n",
    "    win.flip()\n",
    "\n",
    "    # answer using the keyboard\n",
    "    while True:\n",
    "        ans = event.waitKeys()\n",
    "\n",
    "        if len(ans) > 0:\n",
    "            if ans[0] in ['escape', 'q']:\n",
    "                win.close()\n",
    "                core.quit()\n",
    "            elif ans[0] in ['left', 'right']:\n",
    "                correct = (np.sign(theta) > 0) and (ans[0]=='right')\n",
    "                print('At trial ', trial, 'Angle=', '%3.3f' % (theta*180/np.pi), 'answer is ', ans[0], '(correct=', correct, '); bandwidth=', '%.3f' % (B_theta*180/np.pi))\n",
    "                break\n",
    "\n",
    "    # Output shape per trial is : trial number, shift direction, answered shift and b_theta\n",
    "    ans_list.append([trial, theta, ans[0], B_theta])\n",
    "\n",
    "win.close()"
   ]
  },
  {
   "cell_type": "code",
   "execution_count": 6,
   "metadata": {
    "ExecuteTime": {
     "end_time": "2018-06-06T14:13:18.104368Z",
     "start_time": "2018-06-06T14:13:18.090087Z"
    }
   },
   "outputs": [],
   "source": [
    "import pickle\n",
    "pickle.dump(ans_list, open('./psychophysics_data/Psy_discrim_final_%s.p' % exp_info, 'wb'))"
   ]
  }
 ],
 "metadata": {
  "kernelspec": {
   "display_name": "Python 3",
   "language": "python",
   "name": "python3"
  },
  "language_info": {
   "codemirror_mode": {
    "name": "ipython",
    "version": 3
   },
   "file_extension": ".py",
   "mimetype": "text/x-python",
   "name": "python",
   "nbconvert_exporter": "python",
   "pygments_lexer": "ipython3",
   "version": "3.6.4"
  },
  "toc": {
   "base_numbering": 1,
   "nav_menu": {},
   "number_sections": true,
   "sideBar": true,
   "skip_h1_title": false,
   "title_cell": "Table of Contents",
   "title_sidebar": "Contents",
   "toc_cell": false,
   "toc_position": {},
   "toc_section_display": true,
   "toc_window_display": false
  }
 },
 "nbformat": 4,
 "nbformat_minor": 2
}
