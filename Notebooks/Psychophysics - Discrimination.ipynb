{
 "cells": [
  {
   "cell_type": "markdown",
   "metadata": {},
   "source": [
    "# 2018-06-06 - Psychophysics using psychopy\n",
    "\n",
    "On repasse sur un paradigme plus classique de psychophysique."
   ]
  },
  {
   "cell_type": "markdown",
   "metadata": {},
   "source": [
    "On récupère les initiales :"
   ]
  },
  {
   "cell_type": "code",
   "execution_count": 1,
   "metadata": {
    "ExecuteTime": {
     "end_time": "2018-06-06T14:09:51.687946Z",
     "start_time": "2018-06-06T14:09:51.674085Z"
    }
   },
   "outputs": [
    {
     "name": "stdout",
     "output_type": "stream",
     "text": [
      "Enter your initials : ACT\n",
      "ACT\n"
     ]
    }
   ],
   "source": [
    "exp_info = input('Enter your initials : ')\n",
    "print (exp_info)"
   ]
  },
  {
   "cell_type": "markdown",
   "metadata": {},
   "source": [
    "On défini la génération de MotionClouds :"
   ]
  },
  {
   "cell_type": "code",
   "execution_count": 2,
   "metadata": {
    "ExecuteTime": {
     "end_time": "2018-06-06T14:09:55.152576Z",
     "start_time": "2018-06-06T14:09:51.700330Z"
    }
   },
   "outputs": [],
   "source": [
    "import numpy as np\n",
    "import MotionClouds as mc\n",
    "import matplotlib.pyplot as plt\n",
    "import os\n",
    "import imageio\n",
    "import random\n",
    "\n",
    "downscale = 1\n",
    "fig_width = 21\n",
    "fx, fy, ft = mc.get_grids(mc.N_X/downscale, mc.N_Y/downscale, 1)\n",
    "\n",
    "# generates a cloud of given theta and b_theta\n",
    "def generate_random_cloud(theta, B_theta):\n",
    "    mc_i = mc.envelope_gabor(fx, fy, ft, V_X=0., V_Y=0.,\n",
    "                             B_V=0, theta=theta, B_theta=B_theta)\n",
    "    im = mc.random_cloud(mc_i)\n",
    "    im = (mc.rectif(im) * 255).astype('uint8')\n",
    "    fname = '/tmp/%s_%s.png' % (theta, B_theta)\n",
    "    imageio.imwrite(fname, im[:, :, 0])\n",
    "    return fname"
   ]
  },
  {
   "cell_type": "markdown",
   "metadata": {},
   "source": [
    "On définit les paramètres et on teste :"
   ]
  },
  {
   "cell_type": "code",
   "execution_count": 3,
   "metadata": {
    "ExecuteTime": {
     "end_time": "2018-06-06T14:09:55.225434Z",
     "start_time": "2018-06-06T14:09:55.202479Z"
    }
   },
   "outputs": [
    {
     "name": "stdout",
     "output_type": "stream",
     "text": [
      "B_thetas [ 2.8125      5.01130529  8.92913092 15.90990258 28.34822362 50.51079217\n",
      " 90.        ]\n"
     ]
    }
   ],
   "source": [
    "N_B_thetas = 7\n",
    "\n",
    "B_thetas = np.pi*np.logspace(-6, -1, N_B_thetas, base=2)\n",
    "print('B_thetas', B_thetas*180/np.pi)\n"
   ]
  },
  {
   "cell_type": "code",
   "execution_count": 4,
   "metadata": {
    "ExecuteTime": {
     "end_time": "2018-06-06T14:13:18.084688Z",
     "start_time": "2018-06-06T14:09:55.231514Z"
    },
    "scrolled": false
   },
   "outputs": [
    {
     "name": "stdout",
     "output_type": "stream",
     "text": [
      "At trial  0 Angle= -37.405 answer is  left (correct= False ); bandwidth= 28.348\n",
      "At trial  1 Angle= 35.984 answer is  right (correct= True ); bandwidth= 15.910\n",
      "At trial  2 Angle= 14.707 answer is  right (correct= True ); bandwidth= 15.910\n",
      "At trial  3 Angle= 16.665 answer is  right (correct= True ); bandwidth= 28.348\n",
      "At trial  4 Angle= 14.371 answer is  right (correct= True ); bandwidth= 5.011\n",
      "At trial  5 Angle= -19.480 answer is  left (correct= False ); bandwidth= 2.812\n",
      "At trial  6 Angle= 40.942 answer is  right (correct= True ); bandwidth= 50.511\n",
      "At trial  7 Angle= -21.217 answer is  left (correct= False ); bandwidth= 28.348\n",
      "At trial  8 Angle= -26.664 answer is  left (correct= False ); bandwidth= 8.929\n",
      "At trial  9 Angle= -45.000 answer is  left (correct= False ); bandwidth= 50.511\n",
      "At trial  10 Angle= -3.996 answer is  left (correct= False ); bandwidth= 5.011\n",
      "At trial  11 Angle= -0.392 answer is  right (correct= False ); bandwidth= 90.000\n",
      "At trial  12 Angle= 18.868 answer is  right (correct= True ); bandwidth= 28.348\n",
      "At trial  13 Angle= -20.826 answer is  left (correct= False ); bandwidth= 15.910\n",
      "At trial  14 Angle= -18.612 answer is  left (correct= False ); bandwidth= 15.910\n",
      "At trial  15 Angle= -0.765 answer is  left (correct= False ); bandwidth= 50.511\n",
      "At trial  16 Angle= -11.682 answer is  left (correct= False ); bandwidth= 15.910\n",
      "At trial  17 Angle= -36.017 answer is  left (correct= False ); bandwidth= 15.910\n",
      "At trial  18 Angle= 21.514 answer is  right (correct= True ); bandwidth= 15.910\n",
      "At trial  19 Angle= 1.232 answer is  right (correct= True ); bandwidth= 2.812\n",
      "At trial  20 Angle= 0.982 answer is  right (correct= True ); bandwidth= 5.011\n",
      "At trial  21 Angle= -16.299 answer is  left (correct= False ); bandwidth= 2.812\n",
      "At trial  22 Angle= 12.247 answer is  right (correct= True ); bandwidth= 15.910\n",
      "At trial  23 Angle= -13.305 answer is  left (correct= False ); bandwidth= 2.812\n",
      "At trial  24 Angle= -14.999 answer is  left (correct= False ); bandwidth= 2.812\n",
      "At trial  25 Angle= -5.593 answer is  left (correct= False ); bandwidth= 8.929\n",
      "At trial  26 Angle= 29.321 answer is  right (correct= True ); bandwidth= 50.511\n",
      "At trial  27 Angle= -1.206 answer is  left (correct= False ); bandwidth= 2.812\n",
      "At trial  28 Angle= -26.485 answer is  left (correct= False ); bandwidth= 28.348\n",
      "At trial  29 Angle= 15.802 answer is  right (correct= True ); bandwidth= 28.348\n",
      "At trial  30 Angle= -2.939 answer is  left (correct= False ); bandwidth= 90.000\n",
      "At trial  31 Angle= -1.673 answer is  left (correct= False ); bandwidth= 8.929\n",
      "At trial  32 Angle= 15.155 answer is  left (correct= False ); bandwidth= 50.511\n",
      "At trial  33 Angle= -41.763 answer is  left (correct= False ); bandwidth= 28.348\n",
      "At trial  34 Angle= 43.021 answer is  left (correct= False ); bandwidth= 50.511\n",
      "At trial  35 Angle= -3.175 answer is  right (correct= False ); bandwidth= 90.000\n",
      "At trial  36 Angle= -23.130 answer is  left (correct= False ); bandwidth= 5.011\n",
      "At trial  37 Angle= 29.000 answer is  left (correct= False ); bandwidth= 90.000\n",
      "At trial  38 Angle= 22.173 answer is  left (correct= False ); bandwidth= 90.000\n",
      "At trial  39 Angle= 26.846 answer is  right (correct= True ); bandwidth= 2.812\n",
      "At trial  40 Angle= -32.010 answer is  left (correct= False ); bandwidth= 2.812\n",
      "At trial  41 Angle= 14.533 answer is  left (correct= False ); bandwidth= 90.000\n",
      "At trial  42 Angle= -3.506 answer is  left (correct= False ); bandwidth= 15.910\n",
      "At trial  43 Angle= -39.990 answer is  left (correct= False ); bandwidth= 5.011\n",
      "At trial  44 Angle= -8.389 answer is  left (correct= False ); bandwidth= 15.910\n",
      "At trial  45 Angle= -11.003 answer is  left (correct= False ); bandwidth= 2.812\n",
      "At trial  46 Angle= 8.972 answer is  right (correct= True ); bandwidth= 5.011\n",
      "At trial  47 Angle= -2.149 answer is  left (correct= False ); bandwidth= 90.000\n",
      "At trial  48 Angle= 26.208 answer is  right (correct= True ); bandwidth= 28.348\n",
      "At trial  49 Angle= 21.475 answer is  right (correct= True ); bandwidth= 5.011\n",
      "At trial  50 Angle= 30.859 answer is  right (correct= True ); bandwidth= 2.812\n",
      "At trial  51 Angle= -8.805 answer is  left (correct= False ); bandwidth= 50.511\n",
      "At trial  52 Angle= -21.847 answer is  left (correct= False ); bandwidth= 5.011\n",
      "At trial  53 Angle= 8.840 answer is  right (correct= True ); bandwidth= 50.511\n",
      "At trial  54 Angle= 8.193 answer is  right (correct= True ); bandwidth= 15.910\n",
      "At trial  55 Angle= -10.108 answer is  left (correct= False ); bandwidth= 2.812\n",
      "At trial  56 Angle= 25.004 answer is  right (correct= True ); bandwidth= 28.348\n",
      "At trial  57 Angle= -23.574 answer is  left (correct= False ); bandwidth= 28.348\n",
      "At trial  58 Angle= 13.636 answer is  left (correct= False ); bandwidth= 90.000\n",
      "At trial  59 Angle= 4.122 answer is  right (correct= True ); bandwidth= 28.348\n",
      "At trial  60 Angle= 44.984 answer is  left (correct= False ); bandwidth= 90.000\n",
      "At trial  61 Angle= 12.375 answer is  right (correct= True ); bandwidth= 5.011\n",
      "At trial  62 Angle= 12.164 answer is  right (correct= True ); bandwidth= 15.910\n",
      "At trial  63 Angle= 4.708 answer is  right (correct= True ); bandwidth= 5.011\n",
      "At trial  64 Angle= 3.257 answer is  left (correct= False ); bandwidth= 90.000\n",
      "At trial  65 Angle= -7.311 answer is  left (correct= False ); bandwidth= 8.929\n",
      "At trial  66 Angle= -19.577 answer is  left (correct= False ); bandwidth= 8.929\n",
      "At trial  67 Angle= -17.670 answer is  left (correct= False ); bandwidth= 8.929\n",
      "At trial  68 Angle= 1.250 answer is  right (correct= True ); bandwidth= 8.929\n",
      "At trial  69 Angle= 7.989 answer is  right (correct= True ); bandwidth= 28.348\n",
      "At trial  70 Angle= 0.877 answer is  left (correct= False ); bandwidth= 28.348\n",
      "At trial  71 Angle= 21.228 answer is  right (correct= True ); bandwidth= 2.812\n",
      "At trial  72 Angle= 9.089 answer is  right (correct= True ); bandwidth= 8.929\n",
      "At trial  73 Angle= -3.635 answer is  left (correct= False ); bandwidth= 28.348\n",
      "At trial  74 Angle= 27.019 answer is  right (correct= True ); bandwidth= 2.812\n",
      "At trial  75 Angle= 21.558 answer is  right (correct= True ); bandwidth= 2.812\n",
      "At trial  76 Angle= 25.204 answer is  right (correct= True ); bandwidth= 5.011\n",
      "At trial  77 Angle= 23.671 answer is  right (correct= True ); bandwidth= 5.011\n",
      "At trial  78 Angle= 26.976 answer is  right (correct= True ); bandwidth= 50.511\n",
      "At trial  79 Angle= 10.228 answer is  right (correct= True ); bandwidth= 5.011\n",
      "At trial  80 Angle= -15.489 answer is  left (correct= False ); bandwidth= 90.000\n",
      "At trial  81 Angle= 15.939 answer is  right (correct= True ); bandwidth= 8.929\n",
      "At trial  82 Angle= 17.551 answer is  right (correct= True ); bandwidth= 2.812\n",
      "At trial  83 Angle= 33.284 answer is  right (correct= True ); bandwidth= 2.812\n",
      "At trial  84 Angle= -5.364 answer is  left (correct= False ); bandwidth= 15.910\n",
      "At trial  85 Angle= -19.120 answer is  left (correct= False ); bandwidth= 5.011\n",
      "At trial  86 Angle= -10.757 answer is  left (correct= False ); bandwidth= 8.929\n",
      "At trial  87 Angle= 13.281 answer is  right (correct= True ); bandwidth= 50.511\n",
      "At trial  88 Angle= -3.719 answer is  left (correct= False ); bandwidth= 8.929\n",
      "At trial  89 Angle= -27.297 answer is  left (correct= False ); bandwidth= 15.910\n",
      "At trial  90 Angle= 0.975 answer is  left (correct= False ); bandwidth= 15.910\n",
      "At trial  91 Angle= -20.382 answer is  left (correct= False ); bandwidth= 50.511\n",
      "At trial  92 Angle= -26.910 answer is  right (correct= False ); bandwidth= 50.511\n",
      "At trial  93 Angle= 4.048 answer is  right (correct= True ); bandwidth= 15.910\n",
      "At trial  94 Angle= -22.881 answer is  left (correct= False ); bandwidth= 15.910\n",
      "At trial  95 Angle= 22.892 answer is  left (correct= False ); bandwidth= 90.000\n",
      "At trial  96 Angle= -20.998 answer is  left (correct= False ); bandwidth= 2.812\n",
      "At trial  97 Angle= 13.614 answer is  right (correct= True ); bandwidth= 15.910\n",
      "At trial  98 Angle= 2.442 answer is  left (correct= False ); bandwidth= 90.000\n",
      "At trial  99 Angle= -19.409 answer is  right (correct= False ); bandwidth= 50.511\n",
      "At trial  100 Angle= 26.063 answer is  right (correct= True ); bandwidth= 15.910\n",
      "At trial  101 Angle= 18.682 answer is  right (correct= True ); bandwidth= 50.511\n",
      "At trial  102 Angle= 2.818 answer is  right (correct= True ); bandwidth= 8.929\n"
     ]
    },
    {
     "name": "stdout",
     "output_type": "stream",
     "text": [
      "At trial  103 Angle= -14.164 answer is  left (correct= False ); bandwidth= 15.910\n",
      "At trial  104 Angle= -8.279 answer is  right (correct= False ); bandwidth= 50.511\n",
      "At trial  105 Angle= -12.214 answer is  right (correct= False ); bandwidth= 50.511\n",
      "At trial  106 Angle= -37.438 answer is  left (correct= False ); bandwidth= 28.348\n",
      "At trial  107 Angle= 25.306 answer is  right (correct= True ); bandwidth= 28.348\n",
      "At trial  108 Angle= 2.082 answer is  right (correct= True ); bandwidth= 50.511\n",
      "At trial  109 Angle= 39.044 answer is  right (correct= True ); bandwidth= 15.910\n",
      "At trial  110 Angle= 37.919 answer is  right (correct= True ); bandwidth= 28.348\n",
      "At trial  111 Angle= 13.225 answer is  right (correct= True ); bandwidth= 15.910\n",
      "At trial  112 Angle= 5.915 answer is  right (correct= True ); bandwidth= 90.000\n",
      "At trial  113 Angle= -7.907 answer is  left (correct= False ); bandwidth= 2.812\n",
      "At trial  114 Angle= -45.000 answer is  left (correct= False ); bandwidth= 90.000\n",
      "At trial  115 Angle= -5.576 answer is  left (correct= False ); bandwidth= 90.000\n",
      "At trial  116 Angle= 4.745 answer is  right (correct= True ); bandwidth= 2.812\n",
      "At trial  117 Angle= -14.222 answer is  left (correct= False ); bandwidth= 15.910\n",
      "At trial  118 Angle= -17.639 answer is  left (correct= False ); bandwidth= 5.011\n",
      "At trial  119 Angle= -38.724 answer is  left (correct= False ); bandwidth= 8.929\n",
      "At trial  120 Angle= 36.548 answer is  right (correct= True ); bandwidth= 50.511\n",
      "At trial  121 Angle= 23.534 answer is  right (correct= True ); bandwidth= 2.812\n",
      "At trial  122 Angle= -5.927 answer is  left (correct= False ); bandwidth= 50.511\n",
      "At trial  123 Angle= -42.025 answer is  left (correct= False ); bandwidth= 28.348\n",
      "At trial  124 Angle= -29.999 answer is  left (correct= False ); bandwidth= 90.000\n",
      "At trial  125 Angle= -8.008 answer is  left (correct= False ); bandwidth= 8.929\n",
      "At trial  126 Angle= 15.232 answer is  right (correct= True ); bandwidth= 28.348\n",
      "At trial  127 Angle= -2.637 answer is  right (correct= False ); bandwidth= 28.348\n",
      "At trial  128 Angle= -45.000 answer is  left (correct= False ); bandwidth= 2.812\n",
      "At trial  129 Angle= -9.046 answer is  left (correct= False ); bandwidth= 90.000\n",
      "At trial  130 Angle= 43.519 answer is  right (correct= True ); bandwidth= 5.011\n",
      "At trial  131 Angle= -21.156 answer is  left (correct= False ); bandwidth= 5.011\n",
      "At trial  132 Angle= 1.793 answer is  right (correct= True ); bandwidth= 2.812\n",
      "At trial  133 Angle= -0.647 answer is  left (correct= False ); bandwidth= 90.000\n",
      "At trial  134 Angle= 14.313 answer is  right (correct= True ); bandwidth= 8.929\n",
      "At trial  135 Angle= 11.482 answer is  right (correct= True ); bandwidth= 2.812\n",
      "At trial  136 Angle= -23.864 answer is  left (correct= False ); bandwidth= 5.011\n",
      "At trial  137 Angle= 27.620 answer is  right (correct= True ); bandwidth= 90.000\n",
      "At trial  138 Angle= 38.101 answer is  right (correct= True ); bandwidth= 2.812\n",
      "At trial  139 Angle= 11.683 answer is  right (correct= True ); bandwidth= 28.348\n",
      "At trial  140 Angle= 33.722 answer is  right (correct= True ); bandwidth= 15.910\n",
      "At trial  141 Angle= 17.478 answer is  left (correct= False ); bandwidth= 50.511\n",
      "At trial  142 Angle= -26.903 answer is  left (correct= False ); bandwidth= 50.511\n",
      "At trial  143 Angle= -30.832 answer is  left (correct= False ); bandwidth= 28.348\n",
      "At trial  144 Angle= 2.802 answer is  right (correct= True ); bandwidth= 15.910\n",
      "At trial  145 Angle= 7.338 answer is  right (correct= True ); bandwidth= 8.929\n",
      "At trial  146 Angle= -39.817 answer is  left (correct= False ); bandwidth= 8.929\n",
      "At trial  147 Angle= 7.991 answer is  right (correct= True ); bandwidth= 28.348\n",
      "At trial  148 Angle= -16.677 answer is  left (correct= False ); bandwidth= 8.929\n",
      "At trial  149 Angle= -1.231 answer is  left (correct= False ); bandwidth= 28.348\n",
      "1.6890 \tWARNING \tUser requested fullscreen with size [800 600], but screen is actually [1366, 768]. Using actual size\n"
     ]
    }
   ],
   "source": [
    "from psychopy import visual, core, event\n",
    "import MotionClouds as MC\n",
    "\n",
    "test_length = 150  # number of trials\n",
    "#trial_length = 2.6  # length of trial, in second\n",
    "fixation_length = .5  # length of fixation, in second\n",
    "stim1_length = 0.25  # length of first stim, in second\n",
    "stim2_length = 0.25  # length of the second stim, in second\n",
    "\n",
    "fullscr = False\n",
    "\n",
    "fullscr = True\n",
    "\n",
    "# Psychopy window\n",
    "win = visual.Window(fullscr=fullscr, color=[0,0,0], winType='pygame', monitor='testMonitor', units='height')\n",
    "mouse = event.Mouse(visible=False)\n",
    "\n",
    "fixation = visual.ShapeStim(vertices='cross', win=win, size=0.05, pos=[0, 0], fillColor='black', units='height')\n",
    "fixation.autolog = False\n",
    "\n",
    "MC1 = generate_random_cloud(np.pi/2, B_theta=np.pi/2)\n",
    "bitmap1 = visual.ImageStim(win, MC1, mask='gauss', size=0.8, units='height')\n",
    "bitmap1.autolog = False\n",
    "bitmap2 = visual.ImageStim(win, MC1, mask='gauss', size=0.8, units='height')\n",
    "bitmap2.autolog = False\n",
    "#bitmap3 = visual.ImageStim(win, '%s.png' %\n",
    "#                           str(2 * (np.pi/3)), mask='circle')\n",
    "#bitmap3.autolog = False\n",
    "\n",
    "\n",
    "#msg = visual.TextStim(win, text='<- LEFT or RIGHT ->', color='black')\n",
    "msg = visual.TextStim(win, text='?', color='black')\n",
    "\n",
    "#shift_dict = {'right': 2,\n",
    "#              'left':  3}\n",
    "\n",
    "\n",
    "# Answer list\n",
    "ans_list = []\n",
    "    \n",
    "std_theta = np.pi/8\n",
    "for trial in range(test_length):\n",
    "    clock = core.Clock()\n",
    "    fixation.draw()\n",
    "    win.flip()\n",
    "    \n",
    "    # Shift to left (3) or to right (2) ?\n",
    "    #shift = random.randint(2, 3)\n",
    "    theta = np.clip(std_theta *  np.random.randn(), -np.pi/4, np.pi/4)\n",
    "\n",
    "    # MC generation\n",
    "    B_theta = B_thetas[random.randint(0, N_B_thetas-1)]\n",
    "\n",
    "    MC1 = generate_random_cloud(np.pi/2, B_theta=B_theta)\n",
    "    bitmap1.setImage(MC1)\n",
    "\n",
    "    MC2 = generate_random_cloud(np.pi/2 - theta, B_theta=B_theta)  # if shift = 2\n",
    "    bitmap2.setImage(MC2)\n",
    "\n",
    "    #MC3 = generate_random_cloud(2 * (np.pi/3), B_theta=B_theta)  # if shift = 3\n",
    "    # MC to psychopy objects\n",
    "    \n",
    "    # Times the trial\n",
    "    while clock.getTime() < fixation_length + stim1_length + stim2_length:\n",
    "        if 0.0 <= clock.getTime() < fixation_length:  # fixation\n",
    "            fixation.draw()\n",
    "        if fixation_length + 0.01 <= clock.getTime() < fixation_length + stim1_length:\n",
    "            bitmap1.draw()\n",
    "        if fixation_length + stim1_length <= clock.getTime() < fixation_length + stim1_length + stim2_length:\n",
    "            bitmap2.draw()\n",
    "        win.flip()\n",
    "\n",
    "    # display orientation choice\n",
    "    msg.draw()\n",
    "    win.flip()\n",
    "\n",
    "    # answer using the keyboard\n",
    "    while True:\n",
    "        ans = event.waitKeys()\n",
    "\n",
    "        if len(ans) > 0:\n",
    "            if ans[0] in ['escape', 'q']:\n",
    "                win.close()\n",
    "                core.quit()\n",
    "            elif ans[0] in ['left', 'right']:\n",
    "                correct = (np.sign(theta) > 0) and (ans[0]=='right')\n",
    "                print('At trial ', trial, 'Angle=', '%3.3f' % (theta*180/np.pi), 'answer is ', ans[0], '(correct=', correct, '); bandwidth=', '%.3f' % (B_theta*180/np.pi))\n",
    "                break\n",
    "\n",
    "    # Output shape per trial is : trial number, shift direction, answered shift and b_theta\n",
    "    ans_list.append([trial, theta, ans[0], B_theta])\n",
    "\n",
    "win.close()"
   ]
  },
  {
   "cell_type": "code",
   "execution_count": 5,
   "metadata": {
    "ExecuteTime": {
     "end_time": "2018-06-06T14:13:18.104368Z",
     "start_time": "2018-06-06T14:13:18.090087Z"
    }
   },
   "outputs": [],
   "source": [
    "import pickle\n",
    "pickle.dump(ans_list, open('./psychophysics_data/Psy_discrim_final_%s.p' % exp_info, 'wb'))"
   ]
  }
 ],
 "metadata": {
  "kernelspec": {
   "display_name": "Python 3",
   "language": "python",
   "name": "python3"
  },
  "language_info": {
   "codemirror_mode": {
    "name": "ipython",
    "version": 3
   },
   "file_extension": ".py",
   "mimetype": "text/x-python",
   "name": "python",
   "nbconvert_exporter": "python",
   "pygments_lexer": "ipython3",
   "version": "3.6.4"
  },
  "toc": {
   "base_numbering": 1,
   "nav_menu": {},
   "number_sections": true,
   "sideBar": true,
   "skip_h1_title": false,
   "title_cell": "Table of Contents",
   "title_sidebar": "Contents",
   "toc_cell": false,
   "toc_position": {},
   "toc_section_display": true,
   "toc_window_display": false
  }
 },
 "nbformat": 4,
 "nbformat_minor": 2
}
