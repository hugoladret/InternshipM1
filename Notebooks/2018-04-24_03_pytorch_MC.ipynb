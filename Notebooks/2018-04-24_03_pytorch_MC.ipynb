{
 "cells": [
  {
   "cell_type": "markdown",
   "metadata": {},
   "source": [
    "# 2018-04-24 - Reconnaitre $\\theta$ dans des MC statiques\n",
    "Maintenant qu'on a généré les MC statiques, on va entrainer un réseau convolutionnel à détecter $\\theta$ sur trois niveaux de difficultés, qui correspondent à des intervalles croissant de B$\\theta$.\n",
    "On utilise le package [torchvision](http://pytorch.org/docs/master/torchvision/) pour importer nos données, qui sont structurées de la manière suivante :\n",
    "    \n",
    "    ./clouds_easy/theta=0/B_theta=1.png\n",
    "                          B_theta=2.4.png\n",
    "                          .\n",
    "                          .\n",
    "                 /theta=(pi/4)\n",
    "                 /theta=(pi/2)\n",
    "                 /theta=(3pi/4)\n",
    "    ./clouds_medium/theta=0/B_theta=15.png\n",
    "                    .\n",
    "                    .\n",
    "                    .\n",
    "    ./clouds_hard/theta=0/B_theta=30.png\n",
    "    \n",
    "                   "
   ]
  },
  {
   "cell_type": "code",
   "execution_count": null,
   "metadata": {},
   "outputs": [],
   "source": [
    "import torch\n",
    "from torchvision import transforms, datasets\n",
    "\n",
    "data_transform = transforms.Compose([\n",
    "        transforms.RandomSizedCrop(224),\n",
    "        transforms.RandomHorizontalFlip(),\n",
    "        transforms.ToTensor(),\n",
    "        transforms.Normalize(mean=[0.485, 0.456, 0.406],\n",
    "                             std=[0.229, 0.224, 0.225])\n",
    "    ])\n",
    "hymenoptera_dataset = datasets.ImageFolder(root='hymenoptera_data/train',\n",
    "                                           transform=data_transform)\n",
    "dataset_loader = torch.utils.data.DataLoader(hymenoptera_dataset,\n",
    "                                             batch_size=4, shuffle=True,\n",
    "                                             num_workers=4)"
   ]
  }
 ],
 "metadata": {
  "kernelspec": {
   "display_name": "Python 3",
   "language": "python",
   "name": "python3"
  },
  "language_info": {
   "codemirror_mode": {
    "name": "ipython",
    "version": 3
   },
   "file_extension": ".py",
   "mimetype": "text/x-python",
   "name": "python",
   "nbconvert_exporter": "python",
   "pygments_lexer": "ipython3",
   "version": "3.6.4"
  }
 },
 "nbformat": 4,
 "nbformat_minor": 2
}
