{
 "cells": [
  {
   "cell_type": "markdown",
   "metadata": {},
   "source": [
    "# 2018-05-29 - Nouveau label\n",
    "Pour génerer les clouds d'entrainement, utiliser le script \"Generate_Motion_Clouds\" - easy clouds."
   ]
  },
  {
   "cell_type": "markdown",
   "metadata": {},
   "source": [
    "# MotionCouds generation\n",
    "On va génerer en chunks et en 8 orientations avec 6 MC/par orientation. On défini les paramètres :"
   ]
  },
  {
   "cell_type": "code",
   "execution_count": null,
   "metadata": {},
   "outputs": [],
   "source": [
    "import numpy as np\n",
    "import MotionClouds as mc\n",
    "import matplotlib.pyplot as plt\n",
    "import os\n",
    "import imageio\n",
    "\n",
    "downscale = 1\n",
    "fx, fy, ft = mc.get_grids(mc.N_X/downscale, mc.N_Y/downscale, 1)\n",
    "\n",
    "N_theta = 300\n",
    "nbr_chunks = 50 \n",
    "\n",
    "bw_values = np.pi*np.logspace(-7,0, N_theta, base=2)\n",
    "bw_subsets = np.array_split(bw_values, nbr_chunks)\n",
    "\n",
    "fig_width = 21\n",
    "print('Btheta list : \\n'+str( bw_values*180/np.pi))\n",
    "\n",
    "theta_list = np.linspace(0,np.pi,16)"
   ]
  },
  {
   "cell_type": "markdown",
   "metadata": {},
   "source": [
    "Et on génère :"
   ]
  },
  {
   "cell_type": "code",
   "execution_count": null,
   "metadata": {},
   "outputs": [],
   "source": [
    "for chunk_index, chunk in enumerate(bw_subsets) : #split into ranges\n",
    "    for t in theta_list :\n",
    "        if not os.path.exists('./clouds_boundary_BCE/chunk%s/%s' % (chunk_index,t)): #si le folder n'existe pas on le crée\n",
    "            os.makedirs('./clouds_boundary_BCE/chunk%s/%s' % (chunk_index,t))\n",
    "\n",
    "        for i_ax, B_theta in enumerate(chunk):\n",
    "            mc_i = mc.envelope_gabor(fx, fy, ft, V_X=0., V_Y=0., B_V=0, theta=t, B_theta=B_theta)\n",
    "            im = mc.random_cloud(mc_i)\n",
    "\n",
    "            imageio.imwrite('./clouds_boundary_BCE/chunk%s/%s/B0 %s.png' % (chunk_index , t, (B_theta*180/np.pi) ) , im[:, :, 0])\n",
    "\n",
    "            #plt.imshow(im[:, :, 0], cmap=plt.gray())\n",
    "            #plt.text(5, 29, r'$B_\\theta=%.1f$°' % (B_theta*180/np.pi), color='yellow', fontsize=32)\n",
    "            #plt.show()  "
   ]
  },
  {
   "cell_type": "markdown",
   "metadata": {},
   "source": [
    "# Useful functions  \n",
    "Le one-hot encoder et la génération du nouveau label :"
   ]
  },
  {
   "cell_type": "code",
   "execution_count": null,
   "metadata": {},
   "outputs": [],
   "source": [
    "#One hot encoding, just in case BCE decides to work\n",
    "def one_hot_v3(batch,depth):\n",
    "    emb = nn.Embedding(depth, depth)\n",
    "    emb.weight.data = torch.eye(depth)\n",
    "    return emb(batch)\n",
    "\n",
    "#generates a distribution of \n",
    "def generate_new_label(chunk, target):\n",
    "    B_theta = np.mean(chunk)*180/np.pi\n",
    "\n",
    "    Theta_zero = np.mean(np.linspace(0,np.pi,16))\n",
    "\n",
    "    target_list =[]\n",
    "    for i,t in enumerate(target):\n",
    "        Theta = data_set.classes[target[i]]\n",
    "        target_list.append(float(Theta))\n",
    "\n",
    "    new_label = []\n",
    "    for lab in range(len(target_list)):\n",
    "        new_lab = math.cos(target_list[lab]-Theta_zero)\n",
    "        new_lab = new_lab/4 * (B_theta) **2\n",
    "        #print(new_lab)\n",
    "        new_label.append(int(new_lab))"
   ]
  },
  {
   "cell_type": "markdown",
   "metadata": {},
   "source": [
    "# Convolutional neural network"
   ]
  },
  {
   "cell_type": "markdown",
   "metadata": {},
   "source": [
    "On défini le réseau, qui est celui de classification utilisé la première semaine :"
   ]
  },
  {
   "cell_type": "code",
   "execution_count": null,
   "metadata": {},
   "outputs": [],
   "source": [
    "from torch.autograd import Variable\n",
    "import torch.nn as nn\n",
    "import torch.nn.functional as F\n",
    "import torch \n",
    "import torchvision\n",
    "from torchvision import transforms, datasets\n",
    "\n",
    "#Transform\n",
    "data_transform = transforms.Compose(\n",
    "    [transforms.Grayscale(),\n",
    "     transforms.Resize((64,64)),\n",
    "    transforms.ToTensor(),\n",
    "     transforms.Normalize((0.5, 0.5,0.5), (0.5,0.5,0.5))])\n",
    "\n",
    "\n",
    "class Net(nn.Module):\n",
    "    def __init__(self):\n",
    "        super(Net, self).__init__()\n",
    "        self.conv1 = nn.Conv2d(1, 10, 5)\n",
    "        self.pool = nn.MaxPool2d(2, 2)\n",
    "        self.conv2 = nn.Conv2d(10, 10, 5)\n",
    "        self.fc1 = nn.Linear(1690, 1000)\n",
    "        self.fc2 = nn.Linear(1000, 100)\n",
    "        self.fc3 = nn.Linear(100, 20)\n",
    "\n",
    "    def forward(self, x):\n",
    "        x = self.pool(F.relu(self.conv1(x)))\n",
    "        x = self.pool(F.relu(self.conv2(x)))\n",
    "        x = x.view(x.size(0), -1)\n",
    "        x = F.relu(self.fc1(x))\n",
    "        x = F.relu(self.fc2(x))\n",
    "        x = F.relu(self.fc3(x))\n",
    "        return x\n",
    "\n",
    "model = Net()\n",
    "print(model)"
   ]
  },
  {
   "cell_type": "markdown",
   "metadata": {},
   "source": [
    "On l'entraine sur des MC easy :"
   ]
  },
  {
   "cell_type": "code",
   "execution_count": null,
   "metadata": {},
   "outputs": [],
   "source": [
    "import torch.optim as optim\n",
    "\n",
    "#Criterion\n",
    "criterion = nn.CrossEntropyLoss()\n",
    "optimizer = optim.SGD(model.parameters(), lr=0.001, momentum=0.9)\n",
    "\n",
    "#Train\n",
    "train_set = datasets.ImageFolder(root='16_clouds_easy',\n",
    "                                transform=data_transform)\n",
    "train_loader = torch.utils.data.DataLoader(train_set,\n",
    "                                             batch_size=8, shuffle=False,\n",
    "                                             num_workers=1)\n",
    "#Test\n",
    "test_set = datasets.ImageFolder(root='16_clouds_easy_test',\n",
    "                                transform=data_transform)\n",
    "test_loader = torch.utils.data.DataLoader(test_set,\n",
    "                                             batch_size=8,shuffle=False,\n",
    "                                             num_workers=1)\n",
    "\n",
    "#Plotting lists\n",
    "total_step = len(train_loader)\n",
    "loss_list = []\n",
    "time_list = []\n",
    "t=0\n",
    "\n",
    "#Hyperparameters\n",
    "epochs = 10\n",
    "\n",
    "import time\n",
    "start_time = time.time()\n",
    "print(\"Started training\")\n",
    "\n",
    "for epoch in range(epochs) :\n",
    "    for i, (images, labels) in enumerate(train_loader):\n",
    "        images = Variable(images)\n",
    "        labels = Variable(labels)\n",
    "        \n",
    "        # Forward pass\n",
    "        outputs = model(images)\n",
    "\n",
    "        loss = criterion(outputs, labels)\n",
    "        \n",
    "        # Backward and optimize\n",
    "        optimizer.zero_grad()\n",
    "        loss.backward()\n",
    "        optimizer.step()\n",
    "        \n",
    "        if (i+1) % 100 == 0:\n",
    "            print ('Epoch [{}/{}], Step [{}/{}], Loss: {:.4f}' \n",
    "                   .format(epoch+1, epochs, i+1, total_step, loss.data[0]))\n",
    "            loss_list.append(loss.data[0])\n",
    "            time_list.append(t)\n",
    "            t+=1"
   ]
  },
  {
   "cell_type": "markdown",
   "metadata": {},
   "source": [
    "Et maintenant on utilise le réseau sur des chunks de B_theta croissant avec le nouveau label :"
   ]
  },
  {
   "cell_type": "code",
   "execution_count": null,
   "metadata": {},
   "outputs": [],
   "source": [
    "import math\n",
    "import numpy as np\n",
    "import MotionClouds as mc\n",
    "import matplotlib.pyplot as plt\n",
    "import os\n",
    "import imageio\n",
    "\n",
    "downscale = 1\n",
    "fx, fy, ft = mc.get_grids(mc.N_X/downscale, mc.N_Y/downscale, 1)\n",
    "\n",
    "N_theta = 300\n",
    "nbr_chunks = 50 \n",
    "\n",
    "bw_values = np.pi*np.logspace(-7,0, N_theta, base=2)\n",
    "bw_subsets = np.array_split(bw_values, nbr_chunks)\n",
    "\n",
    "fig_width = 21\n",
    "\n",
    "theta_list = np.linspace(0,np.pi,16)\n",
    "\n",
    "ez_range_list = []\n",
    "ez_acc_list = []\n",
    "\n",
    "for chunk_index, chunk in enumerate(bw_subsets):\n",
    "    test_loss = 0\n",
    "    correct = 0\n",
    "    data_set = datasets.ImageFolder(root='clouds_boundary_BCE/chunk%s'%chunk_index,\n",
    "                                transform=data_transform)\n",
    "    data_loader = torch.utils.data.DataLoader(data_set,\n",
    "                                             batch_size=4,shuffle=False,\n",
    "                                             num_workers=1)\n",
    "    \n",
    "    for data, target in data_loader:\n",
    "        data = Variable(data, volatile=True)\n",
    "        \n",
    "        new_label = generate_new_label(chunk = chunk, target = target)\n",
    "            \n",
    "        new_label = torch.LongTensor(new_label)\n",
    "        new_label = Variable(new_label)\n",
    "        \n",
    "        net_out = model(data)\n",
    "\n",
    "        test_loss += criterion(net_out, new_label).data[0]\n",
    "        pred = net_out.data.max(1)[1] #index of max_log probability\n",
    "        correct += pred.eq(new_label.data).sum() #sum up pred equals target in the batch\n",
    "    \n",
    "    test_loss /= len(data_loader.dataset) #loss = loss/length set\n",
    "    #print(\"Chunk b_theta range : %s : %s\" % (chunk[1]*180/np.pi, chunk[-1]*180/np.pi))\n",
    "    print('\\nTest set: Average loss: {:.4f}, Accuracy: {}/{} ({:.0f}%)\\n'.format(\n",
    "        test_loss, correct, len(data_loader.dataset),\n",
    "        100. * correct / len(data_loader.dataset)))\n",
    "    \n",
    "    ez_range_list.append( ( chunk[1]*180/np.pi + chunk[-1]*180/np.pi ) / 2 )\n",
    "    ez_acc_list.append(100 * correct /len(data_loader.dataset))"
   ]
  },
  {
   "cell_type": "code",
   "execution_count": 1,
   "metadata": {},
   "outputs": [
    {
     "ename": "NameError",
     "evalue": "name 'ez_range_list' is not defined",
     "output_type": "error",
     "traceback": [
      "\u001b[0;31m---------------------------------------------------------------------------\u001b[0m",
      "\u001b[0;31mNameError\u001b[0m                                 Traceback (most recent call last)",
      "\u001b[0;32m<ipython-input-1-c487d178062d>\u001b[0m in \u001b[0;36m<module>\u001b[0;34m()\u001b[0m\n\u001b[1;32m      7\u001b[0m \u001b[0mplt\u001b[0m\u001b[0;34m.\u001b[0m\u001b[0mtitle\u001b[0m\u001b[0;34m(\u001b[0m\u001b[0;34m\"Network trained on easy MC\"\u001b[0m\u001b[0;34m)\u001b[0m\u001b[0;34m\u001b[0m\u001b[0m\n\u001b[1;32m      8\u001b[0m \u001b[0;34m\u001b[0m\u001b[0m\n\u001b[0;32m----> 9\u001b[0;31m \u001b[0mplt\u001b[0m\u001b[0;34m.\u001b[0m\u001b[0mplot\u001b[0m\u001b[0;34m(\u001b[0m\u001b[0mez_range_list\u001b[0m\u001b[0;34m,\u001b[0m \u001b[0mez_acc_list\u001b[0m\u001b[0;34m)\u001b[0m\u001b[0;34m\u001b[0m\u001b[0m\n\u001b[0m\u001b[1;32m     10\u001b[0m \u001b[0mplt\u001b[0m\u001b[0;34m.\u001b[0m\u001b[0mplot\u001b[0m\u001b[0;34m(\u001b[0m\u001b[0;34m[\u001b[0m\u001b[0;36m1\u001b[0m\u001b[0;34m,\u001b[0m\u001b[0;36m175\u001b[0m\u001b[0;34m]\u001b[0m\u001b[0;34m,\u001b[0m\u001b[0;34m[\u001b[0m\u001b[0;36m6\u001b[0m\u001b[0;34m,\u001b[0m\u001b[0;36m6\u001b[0m\u001b[0;34m]\u001b[0m\u001b[0;34m,\u001b[0m\u001b[0;34m'--'\u001b[0m\u001b[0;34m,\u001b[0m \u001b[0mlabel\u001b[0m \u001b[0;34m=\u001b[0m \u001b[0;34m'Randomness threshold'\u001b[0m\u001b[0;34m)\u001b[0m\u001b[0;34m\u001b[0m\u001b[0m\n\u001b[1;32m     11\u001b[0m \u001b[0mplt\u001b[0m\u001b[0;34m.\u001b[0m\u001b[0mlegend\u001b[0m\u001b[0;34m(\u001b[0m\u001b[0;34m)\u001b[0m\u001b[0;34m\u001b[0m\u001b[0m\n",
      "\u001b[0;31mNameError\u001b[0m: name 'ez_range_list' is not defined"
     ]
    },
    {
     "data": {
      "image/png": "[encoded data removed]",
      "text/plain": [
       "<matplotlib.figure.Figure at 0x7f60e56a7dd8>"
      ]
     },
     "metadata": {},
     "output_type": "display_data"
    }
   ],
   "source": [
    "%matplotlib inline\n",
    "import matplotlib.pyplot as plt\n",
    "\n",
    "plt.rcParams[\"figure.figsize\"] = [12, 9]\n",
    "plt.ylabel(\"Accuracy\")\n",
    "plt.xlabel(\"B θ\")\n",
    "plt.title(\"Network trained on easy MC\")\n",
    "\n",
    "plt.plot(ez_range_list, ez_acc_list)\n",
    "plt.plot([1,175],[6,6],'--', label = 'Randomness threshold')\n",
    "plt.legend()\n",
    "plt.show()"
   ]
  },
  {
   "cell_type": "markdown",
   "metadata": {},
   "source": [
    "# TEST "
   ]
  },
  {
   "cell_type": "code",
   "execution_count": null,
   "metadata": {},
   "outputs": [],
   "source": [
    "import numpy as np\n",
    "import math\n",
    "\n",
    "B_theta = 3.14\n",
    "\n",
    "theta = np.linspace(0, np.pi, 16)\n",
    "theta_zero = np.mean(theta)\n",
    "\n",
    "p = np.cos(theta-theta_zero)\n",
    "p = p/(4*B_theta**2)\n",
    "\n",
    "m = p*theta\n",
    "m = m.sum()\n",
    "v = p*((theta-m)**2)\n",
    "v = v.sum()\n",
    "\n",
    "\n",
    "print(\"Theta %s\" %theta)\n",
    "print(\"Theta_zero %s\\n\" %theta_zero)\n",
    "\n",
    "print('p %s' %p)\n",
    "print('Non-unique p values %s' % len(p))\n",
    "print('Unique p values %s\\n' % len(set(p)))\n",
    "\n",
    "print('m %s' %m)\n",
    "print('v %s' %v)"
   ]
  },
  {
   "cell_type": "code",
   "execution_count": null,
   "metadata": {},
   "outputs": [],
   "source": [
    "import numpy as np\n",
    "import math\n",
    "\n",
    "def new_label(B_theta, verbose = False):\n",
    "    theta = np.linspace(0, np.pi, 16)\n",
    "    theta_zero = np.mean(theta)\n",
    "\n",
    "    p = np.cos(theta-theta_zero)\n",
    "    p = p/(4*B_theta**2)\n",
    "\n",
    "    m = p*theta\n",
    "    m = m.sum()\n",
    "    v = p*((theta-m)**2)\n",
    "    v = v.sum()\n",
    "\n",
    "    if verbose :\n",
    "        print(\"Theta %s\" %theta)\n",
    "        print(\"Theta_zero %s\\n\" %theta_zero)\n",
    "\n",
    "        print('p %s' %p)\n",
    "        print('Non-unique p values %s' % len(p))\n",
    "        print('Unique p values %s\\n' % len(set(p)))\n",
    "\n",
    "        print('m %s' %m)\n",
    "        print('v %s' %v)\n",
    "    return p,v\n",
    "\n",
    "new_label(30)"
   ]
  },
  {
   "cell_type": "code",
   "execution_count": null,
   "metadata": {},
   "outputs": [],
   "source": [
    "N_b_theta = 300\n",
    "nbr_chunks = 50 \n",
    "\n",
    "b_theta_values = np.pi*np.logspace(-7,0, N_b_theta, base=2)\n",
    "bw_subsets = np.array_split(b_theta_values, nbr_chunks)\n",
    "\n",
    "vp_list = []\n",
    "for b_theta in b_theta_values:\n",
    "    vp_list.append(new_label(b_theta*180/np.pi)[1])\n",
    "    \n",
    "print(vp_list)\n",
    "\n",
    "import matplotlib.pyplot as plt\n",
    "\n",
    "plt.plot(b_theta_values, vp_list)\n",
    "plt.xlabel('B_theta')\n",
    "plt.ylabel('V')\n",
    "plt.show()"
   ]
  }
 ],
 "metadata": {
  "kernelspec": {
   "display_name": "Python 3",
   "language": "python",
   "name": "python3"
  },
  "language_info": {
   "codemirror_mode": {
    "name": "ipython",
    "version": 3
   },
   "file_extension": ".py",
   "mimetype": "text/x-python",
   "name": "python",
   "nbconvert_exporter": "python",
   "pygments_lexer": "ipython3",
   "version": "3.6.4"
  }
 },
 "nbformat": 4,
 "nbformat_minor": 2
}
