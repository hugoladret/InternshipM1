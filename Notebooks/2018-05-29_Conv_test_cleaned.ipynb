{
 "cells": [
  {
   "cell_type": "markdown",
   "metadata": {},
   "source": [
    "# 2018-05-29 - Nouveau label\n",
    "Pour génerer les clouds d'entrainement, utiliser le script \"Generate_Motion_Clouds\" - easy clouds."
   ]
  },
  {
   "cell_type": "markdown",
   "metadata": {},
   "source": [
    "# MotionCouds generation\n",
    "On va génerer en chunks et en 8 orientations avec 6 MC/par orientation. On défini les paramètres :"
   ]
  },
  {
   "cell_type": "code",
   "execution_count": 1,
   "metadata": {
    "ExecuteTime": {
     "end_time": "2018-05-31T15:02:16.782880Z",
     "start_time": "2018-05-31T15:02:16.094460Z"
    }
   },
   "outputs": [
    {
     "name": "stdout",
     "output_type": "stream",
     "text": [
      "Btheta list : \n",
      "[  1.40625      1.42925612   1.45263862   1.47640365   1.50055748\n",
      "   1.52510646   1.55005706   1.57541585   1.60118951   1.62738482\n",
      "   1.65400868   1.68106811   1.70857023   1.73652228   1.76493163\n",
      "   1.79380574   1.82315224   1.85297884   1.8832934    1.91410391\n",
      "   1.94541847   1.97724534   2.00959289   2.04246964   2.07588426\n",
      "   2.10984553   2.14436241   2.17944398   2.21509948   2.2513383\n",
      "   2.28816999   2.32560424   2.36365091   2.40232002   2.44162175\n",
      "   2.48156645   2.52216465   2.56342703   2.60536446   2.64798798\n",
      "   2.69130882   2.73533838   2.78008827   2.82557025   2.87179632\n",
      "   2.91877864   2.96652959   3.01506174   3.06438787   3.11452097\n",
      "   3.16547425   3.21726111   3.26989521   3.32339039   3.37776075\n",
      "   3.4330206    3.4891845    3.54626723   3.60428384   3.66324959\n",
      "   3.72318001   3.78409089   3.84599827   3.90891844   3.97286799\n",
      "   4.03786374   4.10392282   4.17106261   4.23930081   4.30865538\n",
      "   4.37914458   4.45078698   4.52360145   4.59760715   4.67282357\n",
      "   4.74927053   4.82696816   4.90593691   4.98619759   5.06777132\n",
      "   5.15067959   5.23494423   5.32058743   5.40763175   5.4961001\n",
      "   5.58601579   5.67740249   5.77028427   5.86468559   5.9606313\n",
      "   6.05814667   6.15725739   6.25798955   6.36036968   6.46442474\n",
      "   6.57018213   6.6776697    6.78691576   6.89794907   7.01079888\n",
      "   7.1254949    7.24206734   7.36054689   7.48096475   7.60335264\n",
      "   7.72774279   7.85416795   7.98266141   8.11325701   8.24598914\n",
      "   8.38089276   8.51800339   8.65735713   8.7989907    8.94294137\n",
      "   9.08924706   9.2379463    9.38907825   9.5426827    9.6988001\n",
      "   9.85747157  10.01873889  10.18264453  10.34923166  10.51854413\n",
      "  10.69062653  10.86552419  11.04328316  11.22395025  11.40757304\n",
      "  11.59419988  11.78387991  11.9766631   12.1726002   12.37174281\n",
      "  12.57414338  12.7798552   12.98893244  13.20143018  13.41740435\n",
      "  13.63691184  13.86001046  14.08675894  14.31721702  14.55144536\n",
      "  14.78950566  15.0314606   15.2773739   15.52731033  15.78133568\n",
      "  16.03951687  16.30192188  16.56861982  16.8396809   17.11517652\n",
      "  17.39517922  17.67976274  17.96900203  18.26297323  18.56175378\n",
      "  18.86542236  19.17405892  19.48774475  19.80656245  20.13059597\n",
      "  20.45993066  20.79465323  21.13485183  21.48061605  21.83203694\n",
      "  22.18920704  22.55222041  22.92117265  23.29616091  23.67728394\n",
      "  24.06464212  24.45833743  24.85847357  25.26515589  25.6784915\n",
      "  26.09858924  26.52555975  26.95951545  27.40057062  27.84884142\n",
      "  28.30444589  28.767504    29.2381377   29.71647092  30.20262964\n",
      "  30.69674186  31.19893771  31.70934944  32.22811146  32.75536038\n",
      "  33.29123504  33.83587656  34.38942837  34.95203623  35.52384831\n",
      "  36.10501518  36.69568988  37.29602797  37.90618753  38.52632925\n",
      "  39.15661642  39.79721504  40.44829379  41.11002413  41.78258032\n",
      "  42.46613946  43.16088157  43.8669896   44.58464948  45.31405022\n",
      "  46.05538388  46.8088457   47.57463408  48.35295068  49.14400048\n",
      "  49.94799177  50.76513629  51.59564922  52.43974926  53.2976587\n",
      "  54.16960346  55.05581316  55.95652116  56.87196466  57.80238474\n",
      "  58.7480264   59.70913867  60.68597464  61.67879157  62.68785089\n",
      "  63.71341832  64.75576394  65.81516224  66.8918922   67.98623736\n",
      "  69.0984859   70.22893073  71.37786954  72.54560487  73.73244424\n",
      "  74.9387002   76.1646904   77.41073768  78.67717017  79.96432139\n",
      "  81.27253028  82.60214135  83.95350473  85.32697629  86.72291772\n",
      "  88.14169662  89.58368661  91.04926743  92.53882501  94.05275161\n",
      "  95.59144592  97.15531312  98.74476504 100.36022025 102.00210416\n",
      " 103.67084913 105.36689462 107.09068726 108.84268098 110.62333716\n",
      " 112.43312471 114.27252022 116.14200806 118.04208056 119.97323806\n",
      " 121.93598912 123.93085061 125.95834784 128.01901475 130.11339397\n",
      " 132.24203704 134.40550452 136.60436612 138.8392009  141.11059737\n",
      " 143.41915367 145.76547774 148.15018745 150.57391079 153.03728603\n",
      " 155.54096185 158.08559758 160.67186331 163.30044011 165.97202019\n",
      " 168.68730706 171.44701578 174.25187308 177.10261758 180.        ]\n"
     ]
    }
   ],
   "source": [
    "import numpy as np\n",
    "import MotionClouds as mc\n",
    "import matplotlib.pyplot as plt\n",
    "import os\n",
    "import imageio\n",
    "\n",
    "downscale = 1\n",
    "fx, fy, ft = mc.get_grids(mc.N_X/downscale, mc.N_Y/downscale, 1)\n",
    "\n",
    "N_theta = 300\n",
    "nbr_chunks = 50 \n",
    "\n",
    "bw_values = np.pi*np.logspace(-7,0, N_theta, base=2)\n",
    "bw_subsets = np.array_split(bw_values, nbr_chunks)\n",
    "\n",
    "fig_width = 21\n",
    "print('Btheta list : \\n'+str( bw_values*180/np.pi))\n",
    "\n",
    "theta_list = np.linspace(0,np.pi,16)"
   ]
  },
  {
   "cell_type": "markdown",
   "metadata": {},
   "source": [
    "Et on génère :"
   ]
  },
  {
   "cell_type": "code",
   "execution_count": 2,
   "metadata": {
    "ExecuteTime": {
     "end_time": "2018-05-31T15:05:05.405631Z",
     "start_time": "2018-05-31T15:02:16.786973Z"
    }
   },
   "outputs": [],
   "source": [
    "for chunk_index, chunk in enumerate(bw_subsets) : #split into ranges\n",
    "    for t in theta_list :\n",
    "        if not os.path.exists('./clouds_boundary_BCE/chunk%s/%s' % (chunk_index,t)): #si le folder n'existe pas on le crée\n",
    "            os.makedirs('./clouds_boundary_BCE/chunk%s/%s' % (chunk_index,t))\n",
    "\n",
    "        for i_ax, B_theta in enumerate(chunk):\n",
    "            mc_i = mc.envelope_gabor(fx, fy, ft, V_X=0., V_Y=0., B_V=0, theta=t, B_theta=B_theta)\n",
    "            im = mc.random_cloud(mc_i)\n",
    "            im = (mc.rectif(im) * 255).astype('uint8')\n",
    "\n",
    "            imageio.imwrite('./clouds_boundary_BCE/chunk%s/%s/B0 %s.png' % (chunk_index , t, (B_theta*180/np.pi) ) , im[:, :, 0])\n",
    "\n",
    "            #plt.imshow(im[:, :, 0], cmap=plt.gray())\n",
    "            #plt.text(5, 29, r'$B_\\theta=%.1f$°' % (B_theta*180/np.pi), color='yellow', fontsize=32)\n",
    "            #plt.show()  "
   ]
  },
  {
   "cell_type": "markdown",
   "metadata": {},
   "source": [
    "# Useful functions  \n",
    "Le one-hot encoder et la génération du nouveau label :"
   ]
  },
  {
   "cell_type": "code",
   "execution_count": 3,
   "metadata": {
    "ExecuteTime": {
     "end_time": "2018-05-31T15:05:05.414883Z",
     "start_time": "2018-05-31T15:05:05.408520Z"
    }
   },
   "outputs": [],
   "source": [
    "#One hot encoding, just in case BCE decides to work\n",
    "def one_hot_v3(batch,depth):\n",
    "    emb = nn.Embedding(depth, depth)\n",
    "    emb.weight.data = torch.eye(depth)\n",
    "    return emb(batch)\n",
    "\n",
    "#generates a distribution of \n",
    "def generate_new_label(chunk, target):\n",
    "    B_theta = np.mean(chunk)*180/np.pi\n",
    "\n",
    "    Theta_zero = np.mean(np.linspace(0,np.pi,16))\n",
    "\n",
    "    target_list =[]\n",
    "    for i,t in enumerate(target):\n",
    "        Theta = data_set.classes[target[i]]\n",
    "        target_list.append(float(Theta))\n",
    "\n",
    "    new_label = []\n",
    "    for lab in range(len(target_list)):\n",
    "        new_lab = math.cos(target_list[lab]-Theta_zero)\n",
    "        new_lab = new_lab/4 * (B_theta) **2\n",
    "        #print(new_lab)\n",
    "        new_label.append(int(new_lab))"
   ]
  },
  {
   "cell_type": "markdown",
   "metadata": {},
   "source": [
    "# Convolutional neural network"
   ]
  },
  {
   "cell_type": "markdown",
   "metadata": {},
   "source": [
    "On défini le réseau, qui est celui de classification utilisé la première semaine :"
   ]
  },
  {
   "cell_type": "code",
   "execution_count": 4,
   "metadata": {
    "ExecuteTime": {
     "end_time": "2018-05-31T15:05:05.919464Z",
     "start_time": "2018-05-31T15:05:05.447009Z"
    }
   },
   "outputs": [
    {
     "name": "stdout",
     "output_type": "stream",
     "text": [
      "Net(\n",
      "  (conv1): Conv2d(1, 10, kernel_size=(5, 5), stride=(1, 1))\n",
      "  (pool): MaxPool2d(kernel_size=2, stride=2, padding=0, dilation=1, ceil_mode=False)\n",
      "  (conv2): Conv2d(10, 10, kernel_size=(5, 5), stride=(1, 1))\n",
      "  (fc1): Linear(in_features=1690, out_features=1000, bias=True)\n",
      "  (fc2): Linear(in_features=1000, out_features=100, bias=True)\n",
      "  (fc3): Linear(in_features=100, out_features=20, bias=True)\n",
      ")\n"
     ]
    }
   ],
   "source": [
    "from torch.autograd import Variable\n",
    "import torch.nn as nn\n",
    "import torch.nn.functional as F\n",
    "import torch \n",
    "import torchvision\n",
    "from torchvision import transforms, datasets\n",
    "\n",
    "#Transform\n",
    "data_transform = transforms.Compose(\n",
    "    [transforms.Grayscale(),\n",
    "     transforms.Resize((64,64)),\n",
    "    transforms.ToTensor(),\n",
    "     transforms.Normalize((0.5, 0.5,0.5), (0.5,0.5,0.5))])\n",
    "\n",
    "\n",
    "class Net(nn.Module):\n",
    "    def __init__(self):\n",
    "        super(Net, self).__init__()\n",
    "        self.conv1 = nn.Conv2d(1, 10, 5)\n",
    "        self.pool = nn.MaxPool2d(2, 2)\n",
    "        self.conv2 = nn.Conv2d(10, 10, 5)\n",
    "        self.fc1 = nn.Linear(1690, 1000)\n",
    "        self.fc2 = nn.Linear(1000, 100)\n",
    "        self.fc3 = nn.Linear(100, 20)\n",
    "\n",
    "    def forward(self, x):\n",
    "        x = self.pool(F.relu(self.conv1(x)))\n",
    "        x = self.pool(F.relu(self.conv2(x)))\n",
    "        x = x.view(x.size(0), -1)\n",
    "        x = F.relu(self.fc1(x))\n",
    "        x = F.relu(self.fc2(x))\n",
    "        x = F.relu(self.fc3(x))\n",
    "        return x\n",
    "\n",
    "model = Net()\n",
    "print(model)"
   ]
  },
  {
   "cell_type": "markdown",
   "metadata": {},
   "source": [
    "On l'entraine sur des MC easy :"
   ]
  },
  {
   "cell_type": "code",
   "execution_count": 5,
   "metadata": {
    "ExecuteTime": {
     "end_time": "2018-05-31T15:05:05.974375Z",
     "start_time": "2018-05-31T15:05:05.923583Z"
    }
   },
   "outputs": [
    {
     "ename": "FileNotFoundError",
     "evalue": "[Errno 2] No such file or directory: '16_clouds_easy'",
     "output_type": "error",
     "traceback": [
      "\u001b[0;31m---------------------------------------------------------------------------\u001b[0m",
      "\u001b[0;31mFileNotFoundError\u001b[0m                         Traceback (most recent call last)",
      "\u001b[0;32m<ipython-input-5-ec58e0a26a27>\u001b[0m in \u001b[0;36m<module>\u001b[0;34m()\u001b[0m\n\u001b[1;32m      7\u001b[0m \u001b[0;31m#Train\u001b[0m\u001b[0;34m\u001b[0m\u001b[0;34m\u001b[0m\u001b[0m\n\u001b[1;32m      8\u001b[0m train_set = datasets.ImageFolder(root='16_clouds_easy',\n\u001b[0;32m----> 9\u001b[0;31m                                 transform=data_transform)\n\u001b[0m\u001b[1;32m     10\u001b[0m train_loader = torch.utils.data.DataLoader(train_set,\n\u001b[1;32m     11\u001b[0m                                              \u001b[0mbatch_size\u001b[0m\u001b[0;34m=\u001b[0m\u001b[0;36m8\u001b[0m\u001b[0;34m,\u001b[0m \u001b[0mshuffle\u001b[0m\u001b[0;34m=\u001b[0m\u001b[0;32mFalse\u001b[0m\u001b[0;34m,\u001b[0m\u001b[0;34m\u001b[0m\u001b[0m\n",
      "\u001b[0;32m/usr/local/lib/python3.6/site-packages/torchvision/datasets/folder.py\u001b[0m in \u001b[0;36m__init__\u001b[0;34m(self, root, transform, target_transform, loader)\u001b[0m\n\u001b[1;32m    176\u001b[0m         super(ImageFolder, self).__init__(root, loader, IMG_EXTENSIONS,\n\u001b[1;32m    177\u001b[0m                                           \u001b[0mtransform\u001b[0m\u001b[0;34m=\u001b[0m\u001b[0mtransform\u001b[0m\u001b[0;34m,\u001b[0m\u001b[0;34m\u001b[0m\u001b[0m\n\u001b[0;32m--> 178\u001b[0;31m                                           target_transform=target_transform)\n\u001b[0m\u001b[1;32m    179\u001b[0m         \u001b[0mself\u001b[0m\u001b[0;34m.\u001b[0m\u001b[0mimgs\u001b[0m \u001b[0;34m=\u001b[0m \u001b[0mself\u001b[0m\u001b[0;34m.\u001b[0m\u001b[0msamples\u001b[0m\u001b[0;34m\u001b[0m\u001b[0m\n",
      "\u001b[0;32m/usr/local/lib/python3.6/site-packages/torchvision/datasets/folder.py\u001b[0m in \u001b[0;36m__init__\u001b[0;34m(self, root, loader, extensions, transform, target_transform)\u001b[0m\n\u001b[1;32m     73\u001b[0m \u001b[0;34m\u001b[0m\u001b[0m\n\u001b[1;32m     74\u001b[0m     \u001b[0;32mdef\u001b[0m \u001b[0m__init__\u001b[0m\u001b[0;34m(\u001b[0m\u001b[0mself\u001b[0m\u001b[0;34m,\u001b[0m \u001b[0mroot\u001b[0m\u001b[0;34m,\u001b[0m \u001b[0mloader\u001b[0m\u001b[0;34m,\u001b[0m \u001b[0mextensions\u001b[0m\u001b[0;34m,\u001b[0m \u001b[0mtransform\u001b[0m\u001b[0;34m=\u001b[0m\u001b[0;32mNone\u001b[0m\u001b[0;34m,\u001b[0m \u001b[0mtarget_transform\u001b[0m\u001b[0;34m=\u001b[0m\u001b[0;32mNone\u001b[0m\u001b[0;34m)\u001b[0m\u001b[0;34m:\u001b[0m\u001b[0;34m\u001b[0m\u001b[0m\n\u001b[0;32m---> 75\u001b[0;31m         \u001b[0mclasses\u001b[0m\u001b[0;34m,\u001b[0m \u001b[0mclass_to_idx\u001b[0m \u001b[0;34m=\u001b[0m \u001b[0mfind_classes\u001b[0m\u001b[0;34m(\u001b[0m\u001b[0mroot\u001b[0m\u001b[0;34m)\u001b[0m\u001b[0;34m\u001b[0m\u001b[0m\n\u001b[0m\u001b[1;32m     76\u001b[0m         \u001b[0msamples\u001b[0m \u001b[0;34m=\u001b[0m \u001b[0mmake_dataset\u001b[0m\u001b[0;34m(\u001b[0m\u001b[0mroot\u001b[0m\u001b[0;34m,\u001b[0m \u001b[0mclass_to_idx\u001b[0m\u001b[0;34m,\u001b[0m \u001b[0mextensions\u001b[0m\u001b[0;34m)\u001b[0m\u001b[0;34m\u001b[0m\u001b[0m\n\u001b[1;32m     77\u001b[0m         \u001b[0;32mif\u001b[0m \u001b[0mlen\u001b[0m\u001b[0;34m(\u001b[0m\u001b[0msamples\u001b[0m\u001b[0;34m)\u001b[0m \u001b[0;34m==\u001b[0m \u001b[0;36m0\u001b[0m\u001b[0;34m:\u001b[0m\u001b[0;34m\u001b[0m\u001b[0m\n",
      "\u001b[0;32m/usr/local/lib/python3.6/site-packages/torchvision/datasets/folder.py\u001b[0m in \u001b[0;36mfind_classes\u001b[0;34m(dir)\u001b[0m\n\u001b[1;32m     21\u001b[0m \u001b[0;34m\u001b[0m\u001b[0m\n\u001b[1;32m     22\u001b[0m \u001b[0;32mdef\u001b[0m \u001b[0mfind_classes\u001b[0m\u001b[0;34m(\u001b[0m\u001b[0mdir\u001b[0m\u001b[0;34m)\u001b[0m\u001b[0;34m:\u001b[0m\u001b[0;34m\u001b[0m\u001b[0m\n\u001b[0;32m---> 23\u001b[0;31m     \u001b[0mclasses\u001b[0m \u001b[0;34m=\u001b[0m \u001b[0;34m[\u001b[0m\u001b[0md\u001b[0m \u001b[0;32mfor\u001b[0m \u001b[0md\u001b[0m \u001b[0;32min\u001b[0m \u001b[0mos\u001b[0m\u001b[0;34m.\u001b[0m\u001b[0mlistdir\u001b[0m\u001b[0;34m(\u001b[0m\u001b[0mdir\u001b[0m\u001b[0;34m)\u001b[0m \u001b[0;32mif\u001b[0m \u001b[0mos\u001b[0m\u001b[0;34m.\u001b[0m\u001b[0mpath\u001b[0m\u001b[0;34m.\u001b[0m\u001b[0misdir\u001b[0m\u001b[0;34m(\u001b[0m\u001b[0mos\u001b[0m\u001b[0;34m.\u001b[0m\u001b[0mpath\u001b[0m\u001b[0;34m.\u001b[0m\u001b[0mjoin\u001b[0m\u001b[0;34m(\u001b[0m\u001b[0mdir\u001b[0m\u001b[0;34m,\u001b[0m \u001b[0md\u001b[0m\u001b[0;34m)\u001b[0m\u001b[0;34m)\u001b[0m\u001b[0;34m]\u001b[0m\u001b[0;34m\u001b[0m\u001b[0m\n\u001b[0m\u001b[1;32m     24\u001b[0m     \u001b[0mclasses\u001b[0m\u001b[0;34m.\u001b[0m\u001b[0msort\u001b[0m\u001b[0;34m(\u001b[0m\u001b[0;34m)\u001b[0m\u001b[0;34m\u001b[0m\u001b[0m\n\u001b[1;32m     25\u001b[0m     \u001b[0mclass_to_idx\u001b[0m \u001b[0;34m=\u001b[0m \u001b[0;34m{\u001b[0m\u001b[0mclasses\u001b[0m\u001b[0;34m[\u001b[0m\u001b[0mi\u001b[0m\u001b[0;34m]\u001b[0m\u001b[0;34m:\u001b[0m \u001b[0mi\u001b[0m \u001b[0;32mfor\u001b[0m \u001b[0mi\u001b[0m \u001b[0;32min\u001b[0m \u001b[0mrange\u001b[0m\u001b[0;34m(\u001b[0m\u001b[0mlen\u001b[0m\u001b[0;34m(\u001b[0m\u001b[0mclasses\u001b[0m\u001b[0;34m)\u001b[0m\u001b[0;34m)\u001b[0m\u001b[0;34m}\u001b[0m\u001b[0;34m\u001b[0m\u001b[0m\n",
      "\u001b[0;31mFileNotFoundError\u001b[0m: [Errno 2] No such file or directory: '16_clouds_easy'"
     ]
    }
   ],
   "source": [
    "import torch.optim as optim\n",
    "\n",
    "#Criterion\n",
    "criterion = nn.CrossEntropyLoss()\n",
    "optimizer = optim.SGD(model.parameters(), lr=0.001, momentum=0.9)\n",
    "\n",
    "#Train\n",
    "train_set = datasets.ImageFolder(root='16_clouds_easy',\n",
    "                                transform=data_transform)\n",
    "train_loader = torch.utils.data.DataLoader(train_set,\n",
    "                                             batch_size=8, shuffle=False,\n",
    "                                             num_workers=1)\n",
    "#Test\n",
    "test_set = datasets.ImageFolder(root='16_clouds_easy_test',\n",
    "                                transform=data_transform)\n",
    "test_loader = torch.utils.data.DataLoader(test_set,\n",
    "                                             batch_size=8,shuffle=False,\n",
    "                                             num_workers=1)\n",
    "\n",
    "#Plotting lists\n",
    "total_step = len(train_loader)\n",
    "loss_list = []\n",
    "time_list = []\n",
    "t=0\n",
    "\n",
    "#Hyperparameters\n",
    "epochs = 10\n",
    "\n",
    "import time\n",
    "start_time = time.time()\n",
    "print(\"Started training\")\n",
    "\n",
    "for epoch in range(epochs) :\n",
    "    for i, (images, labels) in enumerate(train_loader):\n",
    "        images = Variable(images)\n",
    "        labels = Variable(labels)\n",
    "        \n",
    "        # Forward pass\n",
    "        outputs = model(images)\n",
    "\n",
    "        loss = criterion(outputs, labels)\n",
    "        \n",
    "        # Backward and optimize\n",
    "        optimizer.zero_grad()\n",
    "        loss.backward()\n",
    "        optimizer.step()\n",
    "        \n",
    "        if (i+1) % 100 == 0:\n",
    "            print ('Epoch [{}/{}], Step [{}/{}], Loss: {:.4f}' \n",
    "                   .format(epoch+1, epochs, i+1, total_step, loss.data[0]))\n",
    "            loss_list.append(loss.data[0])\n",
    "            time_list.append(t)\n",
    "            t+=1"
   ]
  },
  {
   "cell_type": "markdown",
   "metadata": {},
   "source": [
    "Et maintenant on utilise le réseau sur des chunks de B_theta croissant avec le nouveau label :"
   ]
  },
  {
   "cell_type": "code",
   "execution_count": null,
   "metadata": {
    "ExecuteTime": {
     "end_time": "2018-05-31T15:05:05.994567Z",
     "start_time": "2018-05-31T15:02:16.089Z"
    }
   },
   "outputs": [],
   "source": [
    "import math\n",
    "import numpy as np\n",
    "import MotionClouds as mc\n",
    "import matplotlib.pyplot as plt\n",
    "import os\n",
    "import imageio\n",
    "\n",
    "downscale = 1\n",
    "fx, fy, ft = mc.get_grids(mc.N_X/downscale, mc.N_Y/downscale, 1)\n",
    "\n",
    "N_theta = 300\n",
    "nbr_chunks = 50 \n",
    "\n",
    "bw_values = np.pi*np.logspace(-7,0, N_theta, base=2)\n",
    "bw_subsets = np.array_split(bw_values, nbr_chunks)\n",
    "\n",
    "fig_width = 21\n",
    "\n",
    "theta_list = np.linspace(0,np.pi,16)\n",
    "\n",
    "ez_range_list = []\n",
    "ez_acc_list = []\n",
    "\n",
    "for chunk_index, chunk in enumerate(bw_subsets):\n",
    "    test_loss = 0\n",
    "    correct = 0\n",
    "    data_set = datasets.ImageFolder(root='clouds_boundary_BCE/chunk%s'%chunk_index,\n",
    "                                transform=data_transform)\n",
    "    data_loader = torch.utils.data.DataLoader(data_set,\n",
    "                                             batch_size=4,shuffle=False,\n",
    "                                             num_workers=1)\n",
    "    \n",
    "    for data, target in data_loader:\n",
    "        data = Variable(data, volatile=True)\n",
    "        \n",
    "        new_label = generate_new_label(chunk = chunk, target = target)\n",
    "            \n",
    "        new_label = torch.LongTensor(new_label)\n",
    "        new_label = Variable(new_label)\n",
    "        \n",
    "        net_out = model(data)\n",
    "\n",
    "        test_loss += criterion(net_out, new_label).data[0]\n",
    "        pred = net_out.data.max(1)[1] #index of max_log probability\n",
    "        correct += pred.eq(new_label.data).sum() #sum up pred equals target in the batch\n",
    "    \n",
    "    test_loss /= len(data_loader.dataset) #loss = loss/length set\n",
    "    #print(\"Chunk b_theta range : %s : %s\" % (chunk[1]*180/np.pi, chunk[-1]*180/np.pi))\n",
    "    print('\\nTest set: Average loss: {:.4f}, Accuracy: {}/{} ({:.0f}%)\\n'.format(\n",
    "        test_loss, correct, len(data_loader.dataset),\n",
    "        100. * correct / len(data_loader.dataset)))\n",
    "    \n",
    "    ez_range_list.append( ( chunk[1]*180/np.pi + chunk[-1]*180/np.pi ) / 2 )\n",
    "    ez_acc_list.append(100 * correct /len(data_loader.dataset))"
   ]
  },
  {
   "cell_type": "code",
   "execution_count": null,
   "metadata": {
    "ExecuteTime": {
     "end_time": "2018-05-31T15:05:06.004415Z",
     "start_time": "2018-05-31T15:02:16.091Z"
    }
   },
   "outputs": [],
   "source": [
    "%matplotlib inline\n",
    "import matplotlib.pyplot as plt\n",
    "\n",
    "plt.rcParams[\"figure.figsize\"] = [12, 9]\n",
    "plt.ylabel(\"Accuracy\")\n",
    "plt.xlabel(\"B θ\")\n",
    "plt.title(\"Network trained on easy MC\")\n",
    "\n",
    "plt.plot(ez_range_list, ez_acc_list)\n",
    "plt.plot([1,175],[6,6],'--', label = 'Randomness threshold')\n",
    "plt.legend()\n",
    "plt.show()"
   ]
  },
  {
   "cell_type": "markdown",
   "metadata": {},
   "source": [
    "# TEST "
   ]
  },
  {
   "cell_type": "code",
   "execution_count": null,
   "metadata": {
    "ExecuteTime": {
     "end_time": "2018-05-31T15:05:06.014674Z",
     "start_time": "2018-05-31T15:02:16.094Z"
    }
   },
   "outputs": [],
   "source": [
    "import numpy as np\n",
    "import math\n",
    "\n",
    "B_theta = 3.14\n",
    "\n",
    "theta = np.linspace(0, np.pi, 16)\n",
    "theta_zero = np.mean(theta)\n",
    "\n",
    "p = np.cos(theta-theta_zero)\n",
    "p = p/(4*B_theta**2)\n",
    "\n",
    "m = p*theta\n",
    "m = m.sum()\n",
    "v = p*((theta-m)**2)\n",
    "v = v.sum()\n",
    "\n",
    "\n",
    "print(\"Theta %s\" %theta)\n",
    "print(\"Theta_zero %s\\n\" %theta_zero)\n",
    "\n",
    "print('p %s' %p)\n",
    "print('Non-unique p values %s' % len(p))\n",
    "print('Unique p values %s\\n' % len(set(p)))\n",
    "\n",
    "print('m %s' %m)\n",
    "print('v %s' %v)"
   ]
  },
  {
   "cell_type": "code",
   "execution_count": null,
   "metadata": {
    "ExecuteTime": {
     "end_time": "2018-05-31T15:05:06.028802Z",
     "start_time": "2018-05-31T15:02:16.096Z"
    }
   },
   "outputs": [],
   "source": [
    "import numpy as np\n",
    "import math\n",
    "\n",
    "def new_label(B_theta, verbose = False):\n",
    "    theta = np.linspace(0, np.pi, 16)\n",
    "    theta_zero = np.mean(theta)\n",
    "\n",
    "    p = np.cos(theta-theta_zero)\n",
    "    p = p/(4*B_theta**2)\n",
    "\n",
    "    m = p*theta\n",
    "    m = m.sum()\n",
    "    v = p*((theta-m)**2)\n",
    "    v = v.sum()\n",
    "\n",
    "    if verbose :\n",
    "        print(\"Theta %s\" %theta)\n",
    "        print(\"Theta_zero %s\\n\" %theta_zero)\n",
    "\n",
    "        print('p %s' %p)\n",
    "        print('Non-unique p values %s' % len(p))\n",
    "        print('Unique p values %s\\n' % len(set(p)))\n",
    "\n",
    "        print('m %s' %m)\n",
    "        print('v %s' %v)\n",
    "    return p,v\n",
    "\n",
    "new_label(30)"
   ]
  },
  {
   "cell_type": "code",
   "execution_count": null,
   "metadata": {
    "ExecuteTime": {
     "end_time": "2018-05-31T15:05:06.035591Z",
     "start_time": "2018-05-31T15:02:16.098Z"
    }
   },
   "outputs": [],
   "source": [
    "N_b_theta = 300\n",
    "nbr_chunks = 50 \n",
    "\n",
    "b_theta_values = np.pi*np.logspace(-7,0, N_b_theta, base=2)\n",
    "bw_subsets = np.array_split(b_theta_values, nbr_chunks)\n",
    "\n",
    "vp_list = []\n",
    "for b_theta in b_theta_values:\n",
    "    vp_list.append(new_label(b_theta*180/np.pi)[1])\n",
    "    \n",
    "print(vp_list)\n",
    "\n",
    "import matplotlib.pyplot as plt\n",
    "\n",
    "plt.plot(b_theta_values, vp_list)\n",
    "plt.xlabel('B_theta')\n",
    "plt.ylabel('V')\n",
    "plt.show()"
   ]
  }
 ],
 "metadata": {
  "kernelspec": {
   "display_name": "Python 3",
   "language": "python",
   "name": "python3"
  },
  "language_info": {
   "codemirror_mode": {
    "name": "ipython",
    "version": 3
   },
   "file_extension": ".py",
   "mimetype": "text/x-python",
   "name": "python",
   "nbconvert_exporter": "python",
   "pygments_lexer": "ipython3",
   "version": "3.6.5"
  },
  "toc": {
   "base_numbering": 1,
   "nav_menu": {},
   "number_sections": true,
   "sideBar": true,
   "skip_h1_title": false,
   "title_cell": "Table of Contents",
   "title_sidebar": "Contents",
   "toc_cell": false,
   "toc_position": {},
   "toc_section_display": true,
   "toc_window_display": false
  }
 },
 "nbformat": 4,
 "nbformat_minor": 2
}
