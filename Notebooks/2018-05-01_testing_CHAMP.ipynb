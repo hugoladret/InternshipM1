{
 "cells": [
  {
   "cell_type": "markdown",
   "metadata": {},
   "source": [
    "# 2018-04-30 - Test de CHAMP\n",
    "Après l'install de la librairie, on importe :"
   ]
  },
  {
   "cell_type": "code",
   "execution_count": null,
   "metadata": {},
   "outputs": [],
   "source": [
    "from CHAMP.DataLoader import LoadData\n",
    "from CHAMP.DataTools import LocalContrastNormalization, FilterInputData\n",
    "from CHAMP.Monitor import DisplayDico\n",
    "import os\n",
    "\n",
    "datapath = \"CHAMP_datasets\""
   ]
  },
  {
   "cell_type": "markdown",
   "metadata": {},
   "source": [
    "### Test import et preprocess\n",
    "La base de visage d'AT&T, pas téléchargeable directement dans le code de CHAMP. Il faut la [télécharger](http://www.cl.cam.ac.uk/research/dtg/attarchive/facedatabase.html) et supprimer le readme dans les fichiers."
   ]
  },
  {
   "cell_type": "code",
   "execution_count": null,
   "metadata": {},
   "outputs": [],
   "source": [
    "path = os.path.join(datapath, 'DB_face')\n",
    "\n",
    "TrSet, TeSet = LoadData(name = 'Face', data_path =path, decorrelate=False, resize=(65, 65), download = True)\n",
    "to_display = TrSet[0][0, 0:10, :, :, :] #displays 10 faces\n",
    "\n",
    "print('Size=', TrSet[0].shape)\n",
    "DisplayDico(to_display)"
   ]
  },
  {
   "cell_type": "markdown",
   "metadata": {},
   "source": [
    "Champ supporte les normalisation de contrastes, en global et en local et les filtres gaussiens :"
   ]
  },
  {
   "cell_type": "code",
   "execution_count": null,
   "metadata": {},
   "outputs": [],
   "source": [
    "Normalized_TrSet, _, _, _ = LocalContrastNormalization(TrSet)\n",
    "to_display = Normalized_TrSet[0][0, 0:10, :, :, :]\n",
    "print(\"Local normalization\")\n",
    "DisplayDico(to_display)\n",
    "\n",
    "Filtered_L_TrSet = FilterInputData(\n",
    "    Normalized_TrSet, sigma=0.25, style='Custom', start_R=15)\n",
    "to_display = Filtered_L_TrSet[0][0, 0:10, :, :, :]\n",
    "print(\"Gaussian filtered\")\n",
    "DisplayDico(to_display)"
   ]
  },
  {
   "cell_type": "markdown",
   "metadata": {},
   "source": [
    "On peut aussi utiliser MNIST, CIFAR10 et STL10"
   ]
  },
  {
   "cell_type": "code",
   "execution_count": null,
   "metadata": {},
   "outputs": [],
   "source": [
    "path = os.path.join(datapath, 'DB_CIFAR10')\n",
    "\n",
    "TrSet, TeSet = LoadData('CIFAR', data_path=path, download = True)\n",
    "to_display = TrSet[0][0, 0:10, :, :, :]\n",
    "\n",
    "print('Size=', TrSet[0].shape)\n",
    "DisplayDico(to_display)\n",
    "\n",
    "#mange 15 go de ram\n",
    "Normalized_TrSet, _, _, _ = LocalContrastNormalization(TrSet)\n",
    "to_display = Normalized_TrSet[0][0, 0:10, :, :, :]\n",
    "print(\"Local normalization\")\n",
    "DisplayDico(to_display)\n",
    "\n",
    "Filtered_L_TrSet = FilterInputData(\n",
    "    Normalized_TrSet, sigma=0.25, style='Custom', start_R=15)\n",
    "to_display = Filtered_L_TrSet[0][0, 0:10, :, :, :]\n",
    "print(\"Gaussian filtered\")\n",
    "DisplayDico(to_display)\n"
   ]
  },
  {
   "cell_type": "markdown",
   "metadata": {},
   "source": [
    "### Convolution à un layer \n",
    "Apparament le deuxième ne marche pas ? On importe et on filtre :"
   ]
  },
  {
   "cell_type": "code",
   "execution_count": null,
   "metadata": {},
   "outputs": [],
   "source": [
    "from CHAMP.CHAMP_Layer import CHAMP_Layer\n",
    "from CHAMP.DataLoader import LoadData\n",
    "from CHAMP.DataTools import LocalContrastNormalization, FilterInputData, GenerateMask\n",
    "from CHAMP.Monitor import DisplayDico, DisplayConvergenceCHAMP, DisplayWhere\n",
    "\n",
    "path = os.path.join(datapath, \"DB_face\")\n",
    "\n",
    "TrSet, TeSet = LoadData('Face', path, decorrelate=False, resize=(65, 65))\n",
    "\n",
    "N_TrSet, _, _, _ = LocalContrastNormalization(TrSet) #normalized\n",
    "Filtered_L_TrSet = FilterInputData(\n",
    "    N_TrSet, sigma=0.25, style='Custom', start_R=15) #gaussianed\n",
    "\n",
    "to_display = Filtered_L_TrSet[0][0, 0:10, :, :, :]\n",
    "DisplayDico(to_display)"
   ]
  },
  {
   "cell_type": "markdown",
   "metadata": {},
   "source": [
    "On entraine le réseau (5 mn/200 epochs sur une 1080) :"
   ]
  },
  {
   "cell_type": "code",
   "execution_count": null,
   "metadata": {},
   "outputs": [],
   "source": [
    "# MP Parameters\n",
    "nb_dico = 20\n",
    "width = 9\n",
    "dico_size = (width, width)\n",
    "l0 = 20\n",
    "seed = 30\n",
    "# Learning Parameters\n",
    "eta = .05\n",
    "nb_epoch = 500\n",
    "\n",
    "L1 = CHAMP_Layer(l0_sparseness=l0, nb_dico=nb_dico,\n",
    "                 dico_size=dico_size, verbose=2)\n",
    "dico = L1.TrainLayer(Filtered_L_TrSet, eta=eta, nb_epoch=nb_epoch, seed=seed)"
   ]
  }
 ],
 "metadata": {
  "kernelspec": {
   "display_name": "Python 3",
   "language": "python",
   "name": "python3"
  },
  "language_info": {
   "codemirror_mode": {
    "name": "ipython",
    "version": 3
   },
   "file_extension": ".py",
   "mimetype": "text/x-python",
   "name": "python",
   "nbconvert_exporter": "python",
   "pygments_lexer": "ipython3",
   "version": "3.6.4"
  }
 },
 "nbformat": 4,
 "nbformat_minor": 2
}
