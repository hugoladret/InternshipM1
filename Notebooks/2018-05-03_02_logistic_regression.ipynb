{
 "cells": [
  {
   "cell_type": "markdown",
   "metadata": {},
   "source": [
    "# 2018-05-03 - Test regression logistique\n",
    "En fait c'est pas si compliqué en PyTorch :"
   ]
  },
  {
   "cell_type": "code",
   "execution_count": 1,
   "metadata": {},
   "outputs": [],
   "source": [
    "import torch\n",
    "import torch.nn as nn\n",
    "import torchvision.datasets as dsets\n",
    "import torchvision.transforms as transforms\n",
    "from torch.autograd import Variable\n",
    "\n",
    "input_size = 1024\n",
    "num_classes = 10\n",
    "\n",
    "num_epochs = 10\n",
    "batch_size = 100\n",
    "\n",
    "\n",
    "transform = transforms.Compose(\n",
    "    [transforms.Grayscale(),\n",
    "        transforms.Resize(32,32),\n",
    "     transforms.ToTensor()\n",
    "    ])\n",
    "\n",
    "train_dataset = dsets.CIFAR10(root='./data', \n",
    "                            train=True, \n",
    "                            transform=transform,\n",
    "                            download=False)\n",
    "\n",
    "test_dataset = dsets.CIFAR10(root='./data', \n",
    "                           train=False, \n",
    "                           transform=transform)\n",
    "\n",
    "# Dataset Loader (Input Pipline)\n",
    "train_loader = torch.utils.data.DataLoader(dataset=train_dataset, \n",
    "                                           batch_size=batch_size, \n",
    "                                           shuffle=True)\n",
    "\n",
    "test_loader = torch.utils.data.DataLoader(dataset=test_dataset, \n",
    "                                          batch_size=batch_size, \n",
    "                                          shuffle=False)"
   ]
  },
  {
   "cell_type": "markdown",
   "metadata": {},
   "source": [
    "On définit l'équation logistique :"
   ]
  },
  {
   "cell_type": "code",
   "execution_count": 3,
   "metadata": {},
   "outputs": [],
   "source": [
    "class LogReg(nn.Module) :\n",
    "    def __init__(self, input_size, num_classes):\n",
    "        super(LogReg, self).__init__()\n",
    "        self.linear = nn.Linear(input_size, num_classes)\n",
    "    \n",
    "    def forward(self, x):\n",
    "        out = self.linear(x)\n",
    "        return out\n",
    "    \n",
    "model = LogReg(input_size, num_classes)\n",
    "print(model)\n",
    "\n",
    "#CEL en SGD\n",
    "criterion = nn.CrossEntropyLoss()  \n",
    "optimizer = torch.optim.SGD(model.parameters(), lr=0.001)  "
   ]
  },
  {
   "cell_type": "markdown",
   "metadata": {},
   "source": [
    "Et on fit :"
   ]
  },
  {
   "cell_type": "code",
   "execution_count": 6,
   "metadata": {},
   "outputs": [
    {
     "name": "stdout",
     "output_type": "stream",
     "text": [
      "Epoch: [1/10], Step: [100/500], Loss: 2.0874\n",
      "Epoch: [1/10], Step: [200/500], Loss: 2.0774\n",
      "Epoch: [1/10], Step: [300/500], Loss: 2.0991\n",
      "Epoch: [1/10], Step: [400/500], Loss: 2.1050\n",
      "Epoch: [1/10], Step: [500/500], Loss: 2.1696\n",
      "Epoch: [2/10], Step: [100/500], Loss: 2.0639\n",
      "Epoch: [2/10], Step: [200/500], Loss: 2.1790\n",
      "Epoch: [2/10], Step: [300/500], Loss: 2.0906\n",
      "Epoch: [2/10], Step: [400/500], Loss: 2.0218\n",
      "Epoch: [2/10], Step: [500/500], Loss: 2.1303\n",
      "Epoch: [3/10], Step: [100/500], Loss: 2.0397\n",
      "Epoch: [3/10], Step: [200/500], Loss: 2.1522\n",
      "Epoch: [3/10], Step: [300/500], Loss: 2.0003\n",
      "Epoch: [3/10], Step: [400/500], Loss: 2.0453\n",
      "Epoch: [3/10], Step: [500/500], Loss: 2.1606\n",
      "Epoch: [4/10], Step: [100/500], Loss: 2.1329\n",
      "Epoch: [4/10], Step: [200/500], Loss: 2.1502\n",
      "Epoch: [4/10], Step: [300/500], Loss: 2.1014\n",
      "Epoch: [4/10], Step: [400/500], Loss: 2.0684\n",
      "Epoch: [4/10], Step: [500/500], Loss: 2.0881\n",
      "Epoch: [5/10], Step: [100/500], Loss: 2.0923\n",
      "Epoch: [5/10], Step: [200/500], Loss: 2.0865\n",
      "Epoch: [5/10], Step: [300/500], Loss: 2.0582\n",
      "Epoch: [5/10], Step: [400/500], Loss: 2.0907\n",
      "Epoch: [5/10], Step: [500/500], Loss: 2.0943\n",
      "Epoch: [6/10], Step: [100/500], Loss: 2.1237\n",
      "Epoch: [6/10], Step: [200/500], Loss: 2.0719\n",
      "Epoch: [6/10], Step: [300/500], Loss: 2.0783\n",
      "Epoch: [6/10], Step: [400/500], Loss: 2.0199\n",
      "Epoch: [6/10], Step: [500/500], Loss: 1.9984\n",
      "Epoch: [7/10], Step: [100/500], Loss: 2.1408\n",
      "Epoch: [7/10], Step: [200/500], Loss: 2.0288\n",
      "Epoch: [7/10], Step: [300/500], Loss: 2.1423\n",
      "Epoch: [7/10], Step: [400/500], Loss: 2.0543\n",
      "Epoch: [7/10], Step: [500/500], Loss: 2.0292\n",
      "Epoch: [8/10], Step: [100/500], Loss: 2.0992\n",
      "Epoch: [8/10], Step: [200/500], Loss: 2.0821\n",
      "Epoch: [8/10], Step: [300/500], Loss: 2.0825\n",
      "Epoch: [8/10], Step: [400/500], Loss: 2.0086\n",
      "Epoch: [8/10], Step: [500/500], Loss: 2.1505\n",
      "Epoch: [9/10], Step: [100/500], Loss: 2.0824\n",
      "Epoch: [9/10], Step: [200/500], Loss: 2.1404\n",
      "Epoch: [9/10], Step: [300/500], Loss: 2.0863\n",
      "Epoch: [9/10], Step: [400/500], Loss: 2.0812\n",
      "Epoch: [9/10], Step: [500/500], Loss: 2.0057\n",
      "Epoch: [10/10], Step: [100/500], Loss: 2.0611\n",
      "Epoch: [10/10], Step: [200/500], Loss: 2.0311\n",
      "Epoch: [10/10], Step: [300/500], Loss: 1.9702\n",
      "Epoch: [10/10], Step: [400/500], Loss: 2.0151\n",
      "Epoch: [10/10], Step: [500/500], Loss: 2.1855\n"
     ]
    }
   ],
   "source": [
    "for epoch in range(num_epochs):\n",
    "    for i, data in enumerate(train_loader):\n",
    "        images, labels = data\n",
    "        images, labels = Variable(images), Variable(labels)\n",
    "        \n",
    "        images = images.view(-1,32*32)\n",
    "        \n",
    "        # Forward + Backward + Optimize\n",
    "        optimizer.zero_grad()\n",
    "        outputs = model(images)\n",
    "        loss = criterion(outputs, labels)\n",
    "        loss.backward()\n",
    "        optimizer.step()\n",
    "        \n",
    "        if (i+1) % 100 == 0:\n",
    "            print ('Epoch: [%d/%d], Step: [%d/%d], Loss: %.4f' \n",
    "                   % (epoch+1, num_epochs, i+1, len(train_dataset)//batch_size, loss.data[0]))\n"
   ]
  }
 ],
 "metadata": {
  "kernelspec": {
   "display_name": "Python 3",
   "language": "python",
   "name": "python3"
  },
  "language_info": {
   "codemirror_mode": {
    "name": "ipython",
    "version": 3
   },
   "file_extension": ".py",
   "mimetype": "text/x-python",
   "name": "python",
   "nbconvert_exporter": "python",
   "pygments_lexer": "ipython3",
   "version": "3.6.4"
  }
 },
 "nbformat": 4,
 "nbformat_minor": 2
}
