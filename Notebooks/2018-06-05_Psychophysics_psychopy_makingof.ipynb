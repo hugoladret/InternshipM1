{
 "cells": [
  {
   "cell_type": "markdown",
   "metadata": {},
   "source": [
    "# 2018-06-05 - Psychophysics using psychopy\n",
    "On repasse sur un paradoxe plus classique de psychophysique."
   ]
  },
  {
   "cell_type": "markdown",
   "metadata": {},
   "source": [
    "On récupère les initiales :"
   ]
  },
  {
   "cell_type": "code",
   "execution_count": 1,
   "metadata": {
    "ExecuteTime": {
     "end_time": "2018-06-05T14:44:45.497529Z",
     "start_time": "2018-06-05T14:44:40.890502Z"
    }
   },
   "outputs": [
    {
     "name": "stdout",
     "output_type": "stream",
     "text": [
      "{'Initiales ': 'LP'}\n"
     ]
    }
   ],
   "source": [
    "from psychopy import visual, core, event\n",
    "import MotionClouds as MC\n",
    "\n",
    "if False:\n",
    "    from psychopy import gui\n",
    "    exp_name = \"Perception de l'orientation\"\n",
    "    exp_info = {\n",
    "                'Initiales ': ''\n",
    "                }\n",
    "    subj_info = gui.DlgFromDict(dictionary=exp_info, title=exp_name)\n",
    "else:\n",
    "    exp_info = {'Initiales ': 'LP'}\n",
    "print (exp_info)"
   ]
  },
  {
   "cell_type": "markdown",
   "metadata": {},
   "source": [
    "On défini la génération de MotionClouds :"
   ]
  },
  {
   "cell_type": "code",
   "execution_count": 2,
   "metadata": {
    "ExecuteTime": {
     "end_time": "2018-06-05T14:44:45.971295Z",
     "start_time": "2018-06-05T14:44:45.503701Z"
    }
   },
   "outputs": [],
   "source": [
    "import numpy as np\n",
    "import MotionClouds as mc\n",
    "import matplotlib.pyplot as plt\n",
    "import os\n",
    "import imageio\n",
    "import random\n",
    "\n",
    "downscale = 1\n",
    "fig_width = 21\n",
    "fx, fy, ft = mc.get_grids(mc.N_X/downscale, mc.N_Y/downscale, 1)\n",
    "\n",
    "# generates a cloud of given theta and b_theta\n",
    "def generate_random_cloud(theta, B_theta):\n",
    "    mc_i = mc.envelope_gabor(fx, fy, ft, V_X=0., V_Y=0.,\n",
    "                             B_V=0, theta=theta, B_theta=B_theta)\n",
    "    im = mc.random_cloud(mc_i)\n",
    "    im = (mc.rectif(im) * 255).astype('uint8')\n",
    "    fname = '/tmp/%s_%s.png' % (theta, B_theta)\n",
    "    imageio.imwrite(fname, im[:, :, 0])\n",
    "    return fname"
   ]
  },
  {
   "cell_type": "markdown",
   "metadata": {},
   "source": [
    "On définit les paramètres et on teste :"
   ]
  },
  {
   "cell_type": "code",
   "execution_count": 3,
   "metadata": {
    "ExecuteTime": {
     "end_time": "2018-06-05T14:47:12.007385Z",
     "start_time": "2018-06-05T14:44:45.979764Z"
    },
    "scrolled": false
   },
   "outputs": [
    {
     "name": "stdout",
     "output_type": "stream",
     "text": [
      "0 19.421976096889782 right 18.88708098174817\n",
      "1 -51.41344775455638 left 64.31149007430338\n",
      "2 17.22943066783557 right 2.2956835769280906\n",
      "3 12.012104890432758 right 8.621953085904861\n",
      "4 -19.888685968227527 left 14.782234806666851\n",
      "5 36.93831947829553 right 17.9837349534872\n",
      "6 -7.857352718130218 left 9.05504482664442\n",
      "7 13.039081003322497 right 82.17000588723204\n",
      "8 -5.51942866180441 left 32.38167305052465\n",
      "9 6.307551609450483 right 15.524765384211547\n",
      "10 -1.1641514658871979 left 134.14139237788663\n",
      "11 0.2844382023292694 right 14.075218560253347\n",
      "12 -20.016937389596983 left 9.509891319935742\n",
      "13 -6.383881563110162 left 27.954030581403764\n",
      "14 -27.849771640729358 left 18.88708098174817\n",
      "15 -26.15237392137278 left 180.0\n",
      "16 -24.85695928260333 left 90.63234489451486\n",
      "17 -2.465870753621579 left 58.306728400028334\n",
      "18 -50.09674870471695 left 74.49779518963292\n",
      "19 2.7954930914776894 right 134.14139237788663\n",
      "20 -3.786426268147164 left 16.304594223203157\n",
      "21 -28.5911411309091 left 6.425337733111642\n",
      "22 -30.63445540601294 left 9.509891319935742\n",
      "23 8.791259519186438 right 17.123594863060855\n",
      "24 -51.82871688894369 left 6.118021672622949\n",
      "25 24.43602232730862 right 43.45192073655038\n",
      "26 6.389716346671001 left 134.14139237788663\n",
      "27 74.01795096868791 right 1.6289861168569122\n",
      "28 -6.188909493830944 left 10.489274531641433\n",
      "29 -48.88282707910942 left 58.306728400028334\n",
      "30 4.7673948615372685 right 25.34396368227283\n",
      "31 -17.719560581741597 right 115.79984082084881\n",
      "32 -26.04080480182312 left 14.782234806666851\n",
      "33 -10.336427788157131 left 121.61661506431498\n",
      "34 -0.3480625622182567 right 8.621953085904861\n",
      "35 -8.424481360735944 left 24.131792836238148\n",
      "36 43.243285950553535 right 67.54193854790599\n",
      "37 -20.845386129604467 left 67.54193854790599\n",
      "38 21.239414110689445 right 35.71652366928448\n",
      "39 3.069856980272316 right 6.118021672622949\n",
      "40 18.759525123441026 right 13.402018037864684\n",
      "41 13.874826048073851 right 45.6345663393239\n",
      "42 -21.516998413760785 left 3.2352412527284167\n",
      "43 -31.046473367572403 left 3.2352412527284167\n",
      "44 -11.627929734213916 left 1.6289861168569122\n",
      "45 7.441698432549712 right 30.832897156202776\n",
      "46 44.13001182516994 right 140.87948623566245\n",
      "47 -7.736550668681671 left 90.63234489451486\n",
      "48 4.284412573602544 right 5.546782193958943\n",
      "49 38.2310769329604 right 52.8626311221649\n",
      "50 5.306596063983039 right 99.9661841615453\n",
      "51 5.500177043550711 right 12.150672062538442\n",
      "52 -22.64701191467644 left 24.131792836238148\n",
      "53 -29.170171507089755 left 7.443047796164073\n",
      "54 4.428005489145516 left 99.9661841615453\n",
      "55 -58.61543683627846 left 6.425337733111642\n",
      "56 19.57798145757426 right 7.816921615046036\n",
      "57 2.5045547206774392 right 41.373668408644086\n",
      "58 -35.341244020305844 left 1.8870014356711553\n",
      "59 -32.48457211073612 left 12.150672062538442\n",
      "60 -33.46525451176414 left 163.1934060286781\n",
      "61 2.92541016524917 right 35.71652366928448\n",
      "62 -30.25064724372104 left 1.9817879333950743\n",
      "63 -20.08283793376334 left 3.7476715273794525\n",
      "64 19.810513679971457 right 50.33427600398762\n",
      "65 28.76831479417141 right 25.34396368227283\n",
      "66 -15.14164635295727 left 17.123594863060855\n",
      "67 9.714941449855164 left 127.72557332426693\n",
      "68 -24.52556112470891 left 1.8870014356711553\n",
      "69 -47.96888343603683 left 8.209575594458132\n",
      "70 28.865074412523565 right 12.150672062538442\n",
      "71 -12.695478385150924 left 7.08705590565866\n",
      "72 52.13478378967532 right 50.33427600398762\n",
      "73 13.38612125937952 right 7.443047796164073\n",
      "74 1.838136111414293 right 104.9876135618505\n",
      "75 -0.9286559459359178 left 20.832181026464035\n",
      "76 24.238979042589055 left 82.17000588723204\n",
      "77 5.058446341550159 right 171.39081972253373\n",
      "78 0.3033204848671294 right 20.832181026464035\n",
      "79 -29.451355348009717 left 3.0805036128071124\n",
      "80 -35.950698564273395 right 55.517988754555525\n",
      "81 19.728524324419965 right 6.74809067272368\n",
      "82 -66.4426059453973 left 1.6289861168569122\n",
      "83 -1.8639449785851367 left 39.39481635269894\n",
      "84 45.89173055072196 right 155.38806462537457\n",
      "85 60.226210962530324 right 163.1934060286781\n",
      "86 50.91146531315306 right 67.54193854790599\n",
      "87 -12.858267815166174 left 52.8626311221649\n",
      "88 -19.877168045553557 left 64.31149007430338\n",
      "89 11.144557848679135 right 8.209575594458132\n",
      "90 26.641826405347633 right 2.532106252960002\n",
      "91 -29.79360047231132 left 4.788354166765386\n",
      "92 3.4890521641691676 right 12.150672062538442\n",
      "93 14.499078468510039 right 70.93465658373681\n",
      "94 29.722808460675 right 180.0\n",
      "95 24.266248802555175 right 29.35819732234542\n",
      "96 -16.54209035014243 right 121.61661506431498\n",
      "97 6.815160362344724 right 70.93465658373681\n",
      "98 28.41433789929783 right 12.150672062538442\n",
      "99 14.5875420788284 right 115.79984082084881\n",
      "4.3764 \tWARNING \tMonitor specification not found. Creating a temporary one...\n",
      "5.2722 \tWARNING \tUser requested fullscreen with size [800 600], but screen is actually [2560, 1440]. Using actual size\n",
      "8.5719 \tWARNING \tCouldn't measure a consistent frame rate.\n",
      "  - Is your graphics card set to sync to vertical blank?\n",
      "  - Are you running other processes on your computer?\n",
      "\n",
      "8.8881 \tWARNING \tt of last frame was 316.57ms (=1/3)\n",
      "9.0379 \tWARNING \tt of last frame was 149.85ms (=1/6)\n",
      "9.2767 \tWARNING \tt of last frame was 21.58ms (=1/46)\n",
      "9.3962 \tWARNING \tt of last frame was 24.97ms (=1/40)\n",
      "9.5095 \tWARNING \tMultiple dropped frames have occurred - I'll stop bothering you about them!\n"
     ]
    }
   ],
   "source": [
    "from psychopy import visual, core, event\n",
    "import MotionClouds as MC\n",
    "\n",
    "test_length = 150  # number of trials\n",
    "#trial_length = 2.6  # length of trial, in second\n",
    "fixation_length = .5  # length of fixation, in second\n",
    "stim1_length = 0.25  # length of first stim, in second\n",
    "stim2_length = 0.25  # length of the second stim, in second\n",
    "\n",
    "fullscr = False\n",
    "\n",
    "fullscr = True\n",
    "\n",
    "# Psychopy window\n",
    "win = visual.Window(fullscr=fullscr, color=[0,0,0], winType='pygame', monitor='testMonitor', units='height')\n",
    "mouse = event.Mouse(visible=False)\n",
    "\n",
    "fixation = visual.ShapeStim(vertices='cross', win=win, size=0.05, pos=[0, 0], fillColor='black', units='height')\n",
    "fixation.autolog = False\n",
    "\n",
    "MC1 = generate_random_cloud(np.pi/2, B_theta=np.pi/2)\n",
    "bitmap1 = visual.ImageStim(win, MC1, mask='gauss', size=0.8, units='height')\n",
    "bitmap1.autolog = False\n",
    "bitmap2 = visual.ImageStim(win, MC1, mask='gauss', size=0.8, units='height')\n",
    "bitmap2.autolog = False\n",
    "#bitmap3 = visual.ImageStim(win, '%s.png' %\n",
    "#                           str(2 * (np.pi/3)), mask='circle')\n",
    "#bitmap3.autolog = False\n",
    "\n",
    "\n",
    "#msg = visual.TextStim(win, text='<- LEFT or RIGHT ->', color='black')\n",
    "msg = visual.TextStim(win, text='?', color='black')\n",
    "\n",
    "#shift_dict = {'right': 2,\n",
    "#              'left':  3}\n",
    "\n",
    "\n",
    "# Answer list\n",
    "ans_list = []\n",
    "N_B_thetas = 5\n",
    "B_thetas = np.pi*np.logspace(-7, 0, N_B_thetas, base=2)\n",
    "    \n",
    "std_theta = np.pi/6\n",
    "for trial in range(test_length):\n",
    "    clock = core.Clock()\n",
    "    fixation.draw()\n",
    "    win.flip()\n",
    "    \n",
    "    # Shift to left (3) or to right (2) ?\n",
    "    #shift = random.randint(2, 3)\n",
    "    theta = std_theta * np.random.randn()\n",
    "\n",
    "    # MC generation\n",
    "    B_theta = B_thetas[random.randint(0, N_B_thetas-1)]\n",
    "\n",
    "    MC1 = generate_random_cloud(np.pi/2, B_theta=B_theta)\n",
    "    bitmap1.setImage(MC1)\n",
    "\n",
    "    MC2 = generate_random_cloud(np.pi/2 - theta, B_theta=B_theta)  # if shift = 2\n",
    "    bitmap2.setImage(MC2)\n",
    "\n",
    "    #MC3 = generate_random_cloud(2 * (np.pi/3), B_theta=B_theta)  # if shift = 3\n",
    "    # MC to psychopy objects\n",
    "    \n",
    "    # Times the trial\n",
    "    while clock.getTime() < fixation_length + stim1_length + stim2_length:\n",
    "        if 0.0 <= clock.getTime() < fixation_length:  # fixation\n",
    "            fixation.draw()\n",
    "        if fixation_length + 0.01 <= clock.getTime() < fixation_length + stim1_length:\n",
    "            bitmap1.draw()\n",
    "        if fixation_length + stim1_length <= clock.getTime() < fixation_length + stim1_length + stim2_length:\n",
    "            bitmap2.draw()\n",
    "        win.flip()\n",
    "\n",
    "    # display orientation choice\n",
    "    msg.draw()\n",
    "    win.flip()\n",
    "\n",
    "    # answer using the keyboard\n",
    "    while True:\n",
    "        ans = event.waitKeys()\n",
    "\n",
    "        if ans in ['escape', 'q']:\n",
    "            win.close()\n",
    "            core.quit()\n",
    "        if len(ans) > 0:\n",
    "            print(trial, theta*180/np.pi, ans[0], B_theta*180/np.pi)\n",
    "            break\n",
    "\n",
    "    # Output shape per trial is : trial number, shift direction, answered shift and b_theta\n",
    "    ans_list.append([trial, theta, ans[0], B_theta])\n",
    "\n",
    "win.close()"
   ]
  },
  {
   "cell_type": "code",
   "execution_count": 4,
   "metadata": {
    "ExecuteTime": {
     "end_time": "2018-06-05T14:47:12.027579Z",
     "start_time": "2018-06-05T14:47:12.016021Z"
    }
   },
   "outputs": [],
   "source": [
    "import pickle\n",
    "pickle.dump(ans_list, open('Psychophys_discrim_%s.p' %\n",
    "                           exp_info['Initiales '], 'wb'))"
   ]
  }
 ],
 "metadata": {
  "kernelspec": {
   "display_name": "Python 3",
   "language": "python",
   "name": "python3"
  },
  "language_info": {
   "codemirror_mode": {
    "name": "ipython",
    "version": 3
   },
   "file_extension": ".py",
   "mimetype": "text/x-python",
   "name": "python",
   "nbconvert_exporter": "python",
   "pygments_lexer": "ipython3",
   "version": "3.6.5"
  },
  "toc": {
   "base_numbering": 1,
   "nav_menu": {},
   "number_sections": true,
   "sideBar": true,
   "skip_h1_title": false,
   "title_cell": "Table of Contents",
   "title_sidebar": "Contents",
   "toc_cell": false,
   "toc_position": {},
   "toc_section_display": true,
   "toc_window_display": false
  }
 },
 "nbformat": 4,
 "nbformat_minor": 2
}
