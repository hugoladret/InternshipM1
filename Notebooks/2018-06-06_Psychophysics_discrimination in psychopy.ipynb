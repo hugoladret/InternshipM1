{
 "cells": [
  {
   "cell_type": "markdown",
   "metadata": {},
   "source": [
    "# 2018-06-06 - Psychophysics using psychopy\n",
    "\n",
    "On repasse sur un paradigme plus classique de psychophysique."
   ]
  },
  {
   "cell_type": "markdown",
   "metadata": {},
   "source": [
    "On récupère les initiales :"
   ]
  },
  {
   "cell_type": "code",
   "execution_count": 1,
   "metadata": {
    "ExecuteTime": {
     "end_time": "2018-06-06T04:48:42.287556Z",
     "start_time": "2018-06-06T04:48:42.284157Z"
    }
   },
   "outputs": [
    {
     "name": "stdout",
     "output_type": "stream",
     "text": [
      "2018-06-06_0648_LP\n"
     ]
    }
   ],
   "source": [
    "exp_info = '2018-06-06_0648_LP'\n",
    "print (exp_info)"
   ]
  },
  {
   "cell_type": "markdown",
   "metadata": {},
   "source": [
    "On défini la génération de MotionClouds :"
   ]
  },
  {
   "cell_type": "code",
   "execution_count": 2,
   "metadata": {
    "ExecuteTime": {
     "end_time": "2018-06-06T04:48:42.825804Z",
     "start_time": "2018-06-06T04:48:42.290294Z"
    }
   },
   "outputs": [],
   "source": [
    "import numpy as np\n",
    "import MotionClouds as mc\n",
    "import matplotlib.pyplot as plt\n",
    "import os\n",
    "import imageio\n",
    "import random\n",
    "\n",
    "downscale = 1\n",
    "fig_width = 21\n",
    "fx, fy, ft = mc.get_grids(mc.N_X/downscale, mc.N_Y/downscale, 1)\n",
    "\n",
    "# generates a cloud of given theta and b_theta\n",
    "def generate_random_cloud(theta, B_theta):\n",
    "    mc_i = mc.envelope_gabor(fx, fy, ft, V_X=0., V_Y=0.,\n",
    "                             B_V=0, theta=theta, B_theta=B_theta)\n",
    "    im = mc.random_cloud(mc_i)\n",
    "    im = (mc.rectif(im) * 255).astype('uint8')\n",
    "    fname = '/tmp/%s_%s.png' % (theta, B_theta)\n",
    "    imageio.imwrite(fname, im[:, :, 0])\n",
    "    return fname"
   ]
  },
  {
   "cell_type": "markdown",
   "metadata": {},
   "source": [
    "On définit les paramètres et on teste :"
   ]
  },
  {
   "cell_type": "code",
   "execution_count": 3,
   "metadata": {
    "ExecuteTime": {
     "end_time": "2018-06-06T04:48:44.868922Z",
     "start_time": "2018-06-06T04:48:42.828127Z"
    }
   },
   "outputs": [
    {
     "name": "stdout",
     "output_type": "stream",
     "text": [
      "Search results for 'clip'\n",
      "-------------------------\n",
      "numpy.clip\n",
      "    Clip (limit) the values in an array.\n",
      "numpy.chararray.clip\n",
      "    Return an array whose values are limited to ``[min, max]``.\n",
      "numpy.ma.MaskedArray.clip\n",
      "    Return an array whose values are limited to ``[min, max]``.\n",
      "numpy.put\n",
      "    Replaces specified elements of an array with given values.\n",
      "numpy.take\n",
      "    Take elements from an array along an axis.\n",
      "numpy.choose\n",
      "    Construct an array from an index array and a set of arrays to choose from.\n",
      "numpy.kaiser\n",
      "    Return the Kaiser window.\n",
      "numpy.hamming\n",
      "    Return the Hamming window.\n",
      "numpy.hanning\n",
      "    Return the Hanning window.\n",
      "numpy.bartlett\n",
      "    Return the Bartlett window.\n",
      "numpy.blackman\n",
      "    Return the Blackman window.\n",
      "numpy.corrcoef\n",
      "    Return Pearson product-moment correlation coefficients.\n",
      "numpy.ma.choose\n",
      "    Use an index array to construct a new array from a set of choices.\n",
      "numpy.ravel_multi_index\n",
      "    Converts a tuple of index arrays into an array of flat\n",
      "numpy.ma.MaskedArray.put\n",
      "    Set storage-indexed locations to corresponding values."
     ]
    }
   ],
   "source": [
    "np.lookfor('clip')"
   ]
  },
  {
   "cell_type": "code",
   "execution_count": null,
   "metadata": {
    "ExecuteTime": {
     "start_time": "2018-06-06T04:48:42.265Z"
    },
    "scrolled": false
   },
   "outputs": [
    {
     "name": "stdout",
     "output_type": "stream",
     "text": [
      "At trial  0 Angle= -7.637 answer is  left ; bandwidth= 180.000\n",
      "At trial  1 Angle= 9.324 answer is  right ; bandwidth= 15.910\n",
      "At trial  2 Angle= 32.461 answer is  right ; bandwidth= 1.406\n",
      "At trial  3 Angle= -11.671 answer is  left ; bandwidth= 53.514\n",
      "At trial  4 Angle= 6.326 answer is  right ; bandwidth= 4.730\n",
      "At trial  5 Angle= -9.070 answer is  left ; bandwidth= 4.730\n",
      "At trial  6 Angle= -12.333 answer is  left ; bandwidth= 1.406\n",
      "At trial  7 Angle= -25.155 answer is  left ; bandwidth= 1.406\n",
      "At trial  8 Angle= 1.054 answer is  right ; bandwidth= 4.730\n",
      "At trial  9 Angle= -12.386 answer is  left ; bandwidth= 180.000\n",
      "At trial  10 Angle= 45.000 answer is  right ; bandwidth= 1.406\n",
      "At trial  11 Angle= -14.263 answer is  left ; bandwidth= 15.910\n",
      "At trial  12 Angle= -17.961 answer is  left ; bandwidth= 15.910\n",
      "At trial  13 Angle= 11.114 answer is  left ; bandwidth= 53.514\n",
      "At trial  14 Angle= 45.000 answer is  right ; bandwidth= 15.910\n",
      "At trial  15 Angle= -23.064 answer is  left ; bandwidth= 180.000\n",
      "At trial  16 Angle= -15.926 answer is  left ; bandwidth= 15.910\n",
      "At trial  17 Angle= 28.001 answer is  left ; bandwidth= 180.000\n",
      "At trial  18 Angle= 22.845 answer is  right ; bandwidth= 15.910\n",
      "At trial  19 Angle= 13.493 answer is  right ; bandwidth= 1.406\n",
      "At trial  20 Angle= 11.897 answer is  right ; bandwidth= 53.514\n",
      "At trial  21 Angle= 31.446 answer is  right ; bandwidth= 1.406\n",
      "At trial  22 Angle= -1.688 answer is  right ; bandwidth= 15.910\n",
      "At trial  23 Angle= 11.145 answer is  right ; bandwidth= 53.514\n",
      "At trial  24 Angle= -15.806 answer is  left ; bandwidth= 4.730\n",
      "At trial  25 Angle= -39.521 answer is  left ; bandwidth= 1.406\n",
      "At trial  26 Angle= 7.914 answer is  right ; bandwidth= 1.406\n",
      "At trial  27 Angle= 25.657 answer is  right ; bandwidth= 1.406\n",
      "At trial  28 Angle= -4.347 answer is  left ; bandwidth= 4.730\n",
      "At trial  29 Angle= -16.151 answer is  left ; bandwidth= 53.514\n",
      "At trial  30 Angle= 0.036 answer is  right ; bandwidth= 180.000\n",
      "At trial  31 Angle= 13.441 answer is  right ; bandwidth= 180.000\n",
      "At trial  32 Angle= -16.331 answer is  left ; bandwidth= 180.000\n",
      "At trial  33 Angle= 38.014 answer is  right ; bandwidth= 4.730\n",
      "At trial  34 Angle= -30.318 answer is  left ; bandwidth= 15.910\n",
      "At trial  35 Angle= 44.558 answer is  right ; bandwidth= 15.910\n",
      "At trial  36 Angle= -39.389 answer is  right ; bandwidth= 53.514\n",
      "At trial  37 Angle= 35.386 answer is  right ; bandwidth= 4.730\n",
      "At trial  38 Angle= -4.502 answer is  left ; bandwidth= 1.406\n",
      "At trial  39 Angle= 10.789 answer is  right ; bandwidth= 180.000\n",
      "At trial  40 Angle= 34.013 answer is  left ; bandwidth= 180.000\n",
      "At trial  41 Angle= 4.150 answer is  right ; bandwidth= 4.730\n",
      "At trial  42 Angle= 24.211 answer is  right ; bandwidth= 1.406\n",
      "At trial  43 Angle= -6.607 answer is  left ; bandwidth= 1.406\n",
      "At trial  44 Angle= -45.000 answer is  left ; bandwidth= 15.910\n",
      "At trial  45 Angle= -9.113 answer is  right ; bandwidth= 180.000\n",
      "At trial  46 Angle= -25.109 answer is  left ; bandwidth= 1.406\n",
      "At trial  47 Angle= 13.284 answer is  right ; bandwidth= 53.514\n",
      "At trial  48 Angle= -20.216 answer is  left ; bandwidth= 180.000\n",
      "At trial  49 Angle= -11.973 answer is  right ; bandwidth= 180.000\n",
      "At trial  50 Angle= -5.234 answer is  left ; bandwidth= 180.000\n",
      "At trial  51 Angle= 12.684 answer is  right ; bandwidth= 53.514\n",
      "At trial  52 Angle= 22.745 answer is  right ; bandwidth= 4.730\n",
      "At trial  53 Angle= -45.000 answer is  left ; bandwidth= 53.514\n",
      "At trial  54 Angle= -45.000 answer is  left ; bandwidth= 53.514\n",
      "At trial  55 Angle= 18.907 answer is  right ; bandwidth= 4.730\n",
      "At trial  56 Angle= 10.108 answer is  right ; bandwidth= 15.910\n",
      "At trial  57 Angle= -35.394 answer is  left ; bandwidth= 4.730\n",
      "At trial  58 Angle= -23.004 answer is  left ; bandwidth= 4.730\n",
      "At trial  59 Angle= -18.521 answer is  right ; bandwidth= 180.000\n",
      "At trial  60 Angle= 26.875 answer is  left ; bandwidth= 53.514\n",
      "At trial  61 Angle= 16.581 answer is  right ; bandwidth= 15.910\n",
      "At trial  62 Angle= 4.191 answer is  right ; bandwidth= 1.406\n",
      "At trial  63 Angle= -0.662 answer is  left ; bandwidth= 53.514\n",
      "At trial  64 Angle= -1.517 answer is  left ; bandwidth= 1.406\n",
      "At trial  65 Angle= -12.918 answer is  left ; bandwidth= 4.730\n",
      "At trial  66 Angle= 45.000 answer is  right ; bandwidth= 180.000\n",
      "At trial  67 Angle= 10.431 answer is  right ; bandwidth= 15.910\n",
      "At trial  68 Angle= 23.684 answer is  right ; bandwidth= 15.910\n",
      "At trial  69 Angle= 8.606 answer is  right ; bandwidth= 4.730\n",
      "At trial  70 Angle= -13.401 answer is  left ; bandwidth= 1.406\n",
      "At trial  71 Angle= -22.849 answer is  left ; bandwidth= 15.910\n",
      "At trial  72 Angle= -36.169 answer is  left ; bandwidth= 4.730\n",
      "At trial  73 Angle= -45.000 answer is  left ; bandwidth= 15.910\n",
      "At trial  74 Angle= 39.427 answer is  right ; bandwidth= 15.910\n",
      "At trial  75 Angle= 8.694 answer is  right ; bandwidth= 1.406\n",
      "At trial  76 Angle= -30.943 answer is  left ; bandwidth= 53.514\n",
      "At trial  77 Angle= -33.675 answer is  left ; bandwidth= 1.406\n",
      "At trial  78 Angle= 9.754 answer is  right ; bandwidth= 4.730\n",
      "At trial  79 Angle= 0.925 answer is  right ; bandwidth= 4.730\n",
      "At trial  80 Angle= -5.628 answer is  left ; bandwidth= 15.910\n",
      "At trial  81 Angle= 38.182 answer is  right ; bandwidth= 53.514\n",
      "At trial  82 Angle= 9.864 answer is  left ; bandwidth= 180.000\n",
      "At trial  83 Angle= 5.716 answer is  right ; bandwidth= 53.514\n",
      "At trial  84 Angle= 4.582 answer is  left ; bandwidth= 53.514\n",
      "At trial  85 Angle= 36.213 answer is  right ; bandwidth= 53.514\n",
      "At trial  86 Angle= -24.504 answer is  left ; bandwidth= 53.514\n",
      "At trial  87 Angle= 22.378 answer is  right ; bandwidth= 53.514\n",
      "At trial  88 Angle= -43.218 answer is  left ; bandwidth= 4.730\n",
      "At trial  89 Angle= 4.573 answer is  right ; bandwidth= 53.514\n",
      "At trial  90 Angle= 13.550 answer is  right ; bandwidth= 4.730\n",
      "At trial  91 Angle= -9.304 answer is  right ; bandwidth= 180.000\n",
      "At trial  92 Angle= 45.000 answer is  right ; bandwidth= 53.514\n",
      "At trial  93 Angle= -12.031 answer is  left ; bandwidth= 15.910\n",
      "At trial  94 Angle= 3.660 answer is  right ; bandwidth= 15.910\n",
      "At trial  95 Angle= -32.917 answer is  left ; bandwidth= 15.910\n",
      "At trial  96 Angle= -41.125 answer is  left ; bandwidth= 53.514\n",
      "At trial  97 Angle= -22.030 answer is  left ; bandwidth= 15.910\n",
      "At trial  98 Angle= -7.848 answer is  right ; bandwidth= 180.000\n",
      "At trial  99 Angle= -37.393 answer is  left ; bandwidth= 53.514\n",
      "At trial  100 Angle= 25.890 answer is  right ; bandwidth= 4.730\n",
      "At trial  101 Angle= 8.919 answer is  right ; bandwidth= 180.000\n",
      "At trial  102 Angle= 26.030 answer is  left ; bandwidth= 53.514\n",
      "At trial  103 Angle= -7.872 answer is  right ; bandwidth= 180.000\n",
      "At trial  104 Angle= -10.886 answer is  left ; bandwidth= 4.730\n",
      "At trial  105 Angle= 1.098 answer is  right ; bandwidth= 1.406\n",
      "At trial  106 Angle= -1.841 answer is  left ; bandwidth= 1.406\n",
      "At trial  107 Angle= 45.000 answer is  right ; bandwidth= 15.910\n",
      "At trial  108 Angle= 10.446 answer is  right ; bandwidth= 4.730\n"
     ]
    }
   ],
   "source": [
    "from psychopy import visual, core, event\n",
    "import MotionClouds as MC\n",
    "\n",
    "test_length = 150  # number of trials\n",
    "#trial_length = 2.6  # length of trial, in second\n",
    "fixation_length = .5  # length of fixation, in second\n",
    "stim1_length = 0.25  # length of first stim, in second\n",
    "stim2_length = 0.25  # length of the second stim, in second\n",
    "\n",
    "fullscr = False\n",
    "\n",
    "fullscr = True\n",
    "\n",
    "# Psychopy window\n",
    "win = visual.Window(fullscr=fullscr, color=[0,0,0], winType='pygame', monitor='testMonitor', units='height')\n",
    "mouse = event.Mouse(visible=False)\n",
    "\n",
    "fixation = visual.ShapeStim(vertices='cross', win=win, size=0.05, pos=[0, 0], fillColor='black', units='height')\n",
    "fixation.autolog = False\n",
    "\n",
    "MC1 = generate_random_cloud(np.pi/2, B_theta=np.pi/2)\n",
    "bitmap1 = visual.ImageStim(win, MC1, mask='gauss', size=0.8, units='height')\n",
    "bitmap1.autolog = False\n",
    "bitmap2 = visual.ImageStim(win, MC1, mask='gauss', size=0.8, units='height')\n",
    "bitmap2.autolog = False\n",
    "#bitmap3 = visual.ImageStim(win, '%s.png' %\n",
    "#                           str(2 * (np.pi/3)), mask='circle')\n",
    "#bitmap3.autolog = False\n",
    "\n",
    "\n",
    "#msg = visual.TextStim(win, text='<- LEFT or RIGHT ->', color='black')\n",
    "msg = visual.TextStim(win, text='?', color='black')\n",
    "\n",
    "#shift_dict = {'right': 2,\n",
    "#              'left':  3}\n",
    "\n",
    "\n",
    "# Answer list\n",
    "ans_list = []\n",
    "N_B_thetas = 5\n",
    "B_thetas = np.pi*np.logspace(-7, 0, N_B_thetas, base=2)\n",
    "    \n",
    "std_theta = np.pi/6\n",
    "for trial in range(test_length):\n",
    "    clock = core.Clock()\n",
    "    fixation.draw()\n",
    "    win.flip()\n",
    "    \n",
    "    # Shift to left (3) or to right (2) ?\n",
    "    #shift = random.randint(2, 3)\n",
    "    theta = np.clip(std_theta *  np.random.randn(), -np.pi/4, np.pi/4)\n",
    "\n",
    "    # MC generation\n",
    "    B_theta = B_thetas[random.randint(0, N_B_thetas-1)]\n",
    "\n",
    "    MC1 = generate_random_cloud(np.pi/2, B_theta=B_theta)\n",
    "    bitmap1.setImage(MC1)\n",
    "\n",
    "    MC2 = generate_random_cloud(np.pi/2 - theta, B_theta=B_theta)  # if shift = 2\n",
    "    bitmap2.setImage(MC2)\n",
    "\n",
    "    #MC3 = generate_random_cloud(2 * (np.pi/3), B_theta=B_theta)  # if shift = 3\n",
    "    # MC to psychopy objects\n",
    "    \n",
    "    # Times the trial\n",
    "    while clock.getTime() < fixation_length + stim1_length + stim2_length:\n",
    "        if 0.0 <= clock.getTime() < fixation_length:  # fixation\n",
    "            fixation.draw()\n",
    "        if fixation_length + 0.01 <= clock.getTime() < fixation_length + stim1_length:\n",
    "            bitmap1.draw()\n",
    "        if fixation_length + stim1_length <= clock.getTime() < fixation_length + stim1_length + stim2_length:\n",
    "            bitmap2.draw()\n",
    "        win.flip()\n",
    "\n",
    "    # display orientation choice\n",
    "    msg.draw()\n",
    "    win.flip()\n",
    "\n",
    "    # answer using the keyboard\n",
    "    while True:\n",
    "        ans = event.waitKeys()\n",
    "\n",
    "        if len(ans) > 0:\n",
    "            if ans[0] in ['escape', 'q']:\n",
    "                win.close()\n",
    "                core.quit()\n",
    "            elif ans[0] in ['left', 'right']:\n",
    "                print('At trial ', trial, 'Angle=', '%.3f' % (theta*180/np.pi), 'answer is ', ans[0], '; bandwidth=', '%.3f' % (B_theta*180/np.pi))\n",
    "                break\n",
    "\n",
    "    # Output shape per trial is : trial number, shift direction, answered shift and b_theta\n",
    "    ans_list.append([trial, theta, ans[0], B_theta])\n",
    "\n",
    "win.close()"
   ]
  },
  {
   "cell_type": "code",
   "execution_count": null,
   "metadata": {
    "ExecuteTime": {
     "start_time": "2018-06-06T04:48:42.268Z"
    }
   },
   "outputs": [],
   "source": [
    "import pickle\n",
    "pickle.dump(ans_list, open('Psychophys_discrim_%s.p' % exp_info, 'wb'))"
   ]
  }
 ],
 "metadata": {
  "kernelspec": {
   "display_name": "Python 3",
   "language": "python",
   "name": "python3"
  },
  "language_info": {
   "codemirror_mode": {
    "name": "ipython",
    "version": 3
   },
   "file_extension": ".py",
   "mimetype": "text/x-python",
   "name": "python",
   "nbconvert_exporter": "python",
   "pygments_lexer": "ipython3",
   "version": "3.6.5"
  },
  "toc": {
   "base_numbering": 1,
   "nav_menu": {},
   "number_sections": true,
   "sideBar": true,
   "skip_h1_title": false,
   "title_cell": "Table of Contents",
   "title_sidebar": "Contents",
   "toc_cell": false,
   "toc_position": {},
   "toc_section_display": true,
   "toc_window_display": false
  }
 },
 "nbformat": 4,
 "nbformat_minor": 2
}
