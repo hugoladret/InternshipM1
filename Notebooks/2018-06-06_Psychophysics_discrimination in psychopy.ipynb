{
 "cells": [
  {
   "cell_type": "markdown",
   "metadata": {},
   "source": [
    "# 2018-06-06 - Psychophysics using psychopy\n",
    "\n",
    "On repasse sur un paradigme plus classique de psychophysique."
   ]
  },
  {
   "cell_type": "markdown",
   "metadata": {},
   "source": [
    "On récupère les initiales :"
   ]
  },
  {
   "cell_type": "code",
   "execution_count": 1,
   "metadata": {
    "ExecuteTime": {
     "end_time": "2018-06-06T05:00:27.119575Z",
     "start_time": "2018-06-06T05:00:27.115853Z"
    }
   },
   "outputs": [
    {
     "name": "stdout",
     "output_type": "stream",
     "text": [
      "2018-06-06_0700_LP\n"
     ]
    }
   ],
   "source": [
    "exp_info = '2018-06-06_0700_LP'\n",
    "print (exp_info)"
   ]
  },
  {
   "cell_type": "markdown",
   "metadata": {},
   "source": [
    "On défini la génération de MotionClouds :"
   ]
  },
  {
   "cell_type": "code",
   "execution_count": 2,
   "metadata": {
    "ExecuteTime": {
     "end_time": "2018-06-06T05:00:27.654957Z",
     "start_time": "2018-06-06T05:00:27.121708Z"
    }
   },
   "outputs": [],
   "source": [
    "import numpy as np\n",
    "import MotionClouds as mc\n",
    "import matplotlib.pyplot as plt\n",
    "import os\n",
    "import imageio\n",
    "import random\n",
    "\n",
    "downscale = 1\n",
    "fig_width = 21\n",
    "fx, fy, ft = mc.get_grids(mc.N_X/downscale, mc.N_Y/downscale, 1)\n",
    "\n",
    "# generates a cloud of given theta and b_theta\n",
    "def generate_random_cloud(theta, B_theta):\n",
    "    mc_i = mc.envelope_gabor(fx, fy, ft, V_X=0., V_Y=0.,\n",
    "                             B_V=0, theta=theta, B_theta=B_theta)\n",
    "    im = mc.random_cloud(mc_i)\n",
    "    im = (mc.rectif(im) * 255).astype('uint8')\n",
    "    fname = '/tmp/%s_%s.png' % (theta, B_theta)\n",
    "    imageio.imwrite(fname, im[:, :, 0])\n",
    "    return fname"
   ]
  },
  {
   "cell_type": "markdown",
   "metadata": {},
   "source": [
    "On définit les paramètres et on teste :"
   ]
  },
  {
   "cell_type": "code",
   "execution_count": 3,
   "metadata": {
    "ExecuteTime": {
     "end_time": "2018-06-06T05:00:29.904939Z",
     "start_time": "2018-06-06T05:00:27.657315Z"
    }
   },
   "outputs": [
    {
     "name": "stdout",
     "output_type": "stream",
     "text": [
      "Search results for 'clip'\n",
      "-------------------------\n",
      "numpy.clip\n",
      "    Clip (limit) the values in an array.\n",
      "numpy.chararray.clip\n",
      "    Return an array whose values are limited to ``[min, max]``.\n",
      "numpy.ma.MaskedArray.clip\n",
      "    Return an array whose values are limited to ``[min, max]``.\n",
      "numpy.put\n",
      "    Replaces specified elements of an array with given values.\n",
      "numpy.take\n",
      "    Take elements from an array along an axis.\n",
      "numpy.choose\n",
      "    Construct an array from an index array and a set of arrays to choose from.\n",
      "numpy.kaiser\n",
      "    Return the Kaiser window.\n",
      "numpy.hamming\n",
      "    Return the Hamming window.\n",
      "numpy.hanning\n",
      "    Return the Hanning window.\n",
      "numpy.bartlett\n",
      "    Return the Bartlett window.\n",
      "numpy.blackman\n",
      "    Return the Blackman window.\n",
      "numpy.corrcoef\n",
      "    Return Pearson product-moment correlation coefficients.\n",
      "numpy.ma.choose\n",
      "    Use an index array to construct a new array from a set of choices.\n",
      "numpy.ravel_multi_index\n",
      "    Converts a tuple of index arrays into an array of flat\n",
      "numpy.ma.MaskedArray.put\n",
      "    Set storage-indexed locations to corresponding values."
     ]
    }
   ],
   "source": [
    "np.lookfor('clip')"
   ]
  },
  {
   "cell_type": "code",
   "execution_count": 4,
   "metadata": {
    "ExecuteTime": {
     "end_time": "2018-06-06T05:03:33.668425Z",
     "start_time": "2018-06-06T05:00:29.907308Z"
    },
    "scrolled": false
   },
   "outputs": [
    {
     "name": "stdout",
     "output_type": "stream",
     "text": [
      "At trial  0 Angle= 4.463 answer is  left (correct= False  ); bandwidth= 180.000\n",
      "At trial  1 Angle= -32.499 answer is  left (correct= False  ); bandwidth= 15.910\n",
      "At trial  2 Angle= -1.440 answer is  left (correct= False  ); bandwidth= 4.730\n",
      "At trial  3 Angle= 45.000 answer is  right (correct= True  ); bandwidth= 53.514\n",
      "At trial  4 Angle= 30.300 answer is  right (correct= True  ); bandwidth= 4.730\n",
      "At trial  5 Angle= 6.144 answer is  right (correct= True  ); bandwidth= 1.406\n",
      "At trial  6 Angle= -28.509 answer is  left (correct= False  ); bandwidth= 53.514\n",
      "At trial  7 Angle= 16.739 answer is  right (correct= True  ); bandwidth= 4.730\n",
      "At trial  8 Angle= -28.228 answer is  left (correct= False  ); bandwidth= 53.514\n",
      "At trial  9 Angle= -30.394 answer is  left (correct= False  ); bandwidth= 1.406\n",
      "At trial  10 Angle= 30.303 answer is  right (correct= True  ); bandwidth= 15.910\n",
      "At trial  11 Angle= 18.830 answer is  left (correct= False  ); bandwidth= 180.000\n",
      "At trial  12 Angle= 5.420 answer is  right (correct= True  ); bandwidth= 15.910\n",
      "At trial  13 Angle= -30.935 answer is  left (correct= False  ); bandwidth= 1.406\n",
      "At trial  14 Angle= 23.291 answer is  right (correct= True  ); bandwidth= 180.000\n",
      "At trial  15 Angle= 45.000 answer is  left (correct= False  ); bandwidth= 180.000\n",
      "At trial  16 Angle= 45.000 answer is  right (correct= True  ); bandwidth= 1.406\n",
      "At trial  17 Angle= 1.236 answer is  left (correct= False  ); bandwidth= 53.514\n",
      "At trial  18 Angle= 2.089 answer is  left (correct= False  ); bandwidth= 53.514\n",
      "At trial  19 Angle= 0.344 answer is  left (correct= False  ); bandwidth= 4.730\n",
      "At trial  20 Angle= -0.913 answer is  right (correct= False  ); bandwidth= 15.910\n",
      "At trial  21 Angle= -11.809 answer is  left (correct= False  ); bandwidth= 1.406\n",
      "At trial  22 Angle= 6.054 answer is  right (correct= True  ); bandwidth= 53.514\n",
      "At trial  23 Angle= -27.961 answer is  left (correct= False  ); bandwidth= 180.000\n",
      "At trial  24 Angle= 4.523 answer is  right (correct= True  ); bandwidth= 180.000\n",
      "At trial  25 Angle= 12.730 answer is  right (correct= True  ); bandwidth= 4.730\n",
      "At trial  26 Angle= 29.448 answer is  right (correct= True  ); bandwidth= 4.730\n",
      "At trial  27 Angle= 14.906 answer is  right (correct= True  ); bandwidth= 4.730\n",
      "At trial  28 Angle= -0.580 answer is  left (correct= False  ); bandwidth= 53.514\n",
      "At trial  29 Angle= -27.657 answer is  left (correct= False  ); bandwidth= 53.514\n",
      "At trial  30 Angle= -33.140 answer is  left (correct= False  ); bandwidth= 180.000\n",
      "At trial  31 Angle= 45.000 answer is  right (correct= True  ); bandwidth= 15.910\n",
      "At trial  32 Angle= -45.000 answer is  left (correct= False  ); bandwidth= 180.000\n",
      "At trial  33 Angle= -13.865 answer is  left (correct= False  ); bandwidth= 1.406\n",
      "At trial  34 Angle= -4.600 answer is  right (correct= False  ); bandwidth= 53.514\n",
      "At trial  35 Angle= -7.342 answer is  left (correct= False  ); bandwidth= 180.000\n",
      "At trial  36 Angle= -5.580 answer is  left (correct= False  ); bandwidth= 15.910\n",
      "At trial  37 Angle= 15.426 answer is  right (correct= True  ); bandwidth= 4.730\n",
      "At trial  38 Angle= 14.811 answer is  right (correct= True  ); bandwidth= 53.514\n",
      "At trial  39 Angle= 25.574 answer is  right (correct= True  ); bandwidth= 53.514\n",
      "At trial  40 Angle= -20.669 answer is  left (correct= False  ); bandwidth= 1.406\n",
      "At trial  41 Angle= -41.198 answer is  left (correct= False  ); bandwidth= 53.514\n",
      "At trial  42 Angle= 44.544 answer is  left (correct= False  ); bandwidth= 180.000\n",
      "At trial  43 Angle= 22.606 answer is  right (correct= True  ); bandwidth= 15.910\n",
      "At trial  44 Angle= -32.209 answer is  left (correct= False  ); bandwidth= 4.730\n",
      "At trial  45 Angle= -24.499 answer is  left (correct= False  ); bandwidth= 53.514\n",
      "At trial  46 Angle= 12.644 answer is  right (correct= True  ); bandwidth= 1.406\n",
      "At trial  47 Angle= 8.679 answer is  left (correct= False  ); bandwidth= 180.000\n",
      "At trial  48 Angle= 4.071 answer is  right (correct= True  ); bandwidth= 180.000\n",
      "At trial  49 Angle= -0.114 answer is  left (correct= False  ); bandwidth= 1.406\n",
      "At trial  50 Angle= 3.280 answer is  right (correct= True  ); bandwidth= 1.406\n",
      "At trial  51 Angle= 8.739 answer is  left (correct= False  ); bandwidth= 180.000\n",
      "At trial  52 Angle= -45.000 answer is  left (correct= False  ); bandwidth= 53.514\n",
      "At trial  53 Angle= 32.152 answer is  right (correct= True  ); bandwidth= 53.514\n",
      "At trial  54 Angle= -45.000 answer is  left (correct= False  ); bandwidth= 1.406\n",
      "At trial  55 Angle= -32.290 answer is  left (correct= False  ); bandwidth= 53.514\n",
      "At trial  56 Angle= 45.000 answer is  right (correct= True  ); bandwidth= 15.910\n",
      "At trial  57 Angle= -35.794 answer is  right (correct= False  ); bandwidth= 180.000\n",
      "At trial  58 Angle= 39.772 answer is  right (correct= True  ); bandwidth= 15.910\n",
      "At trial  59 Angle= -7.531 answer is  left (correct= False  ); bandwidth= 4.730\n",
      "At trial  60 Angle= 0.422 answer is  left (correct= False  ); bandwidth= 180.000\n",
      "At trial  61 Angle= 3.132 answer is  left (correct= False  ); bandwidth= 180.000\n",
      "At trial  62 Angle= -1.443 answer is  left (correct= False  ); bandwidth= 4.730\n",
      "At trial  63 Angle= -45.000 answer is  left (correct= False  ); bandwidth= 1.406\n",
      "At trial  64 Angle= -6.376 answer is  left (correct= False  ); bandwidth= 1.406\n",
      "At trial  65 Angle= -3.048 answer is  left (correct= False  ); bandwidth= 1.406\n",
      "At trial  66 Angle= -15.516 answer is  left (correct= False  ); bandwidth= 15.910\n",
      "At trial  67 Angle= 25.309 answer is  right (correct= True  ); bandwidth= 53.514\n",
      "At trial  68 Angle= -45.000 answer is  left (correct= False  ); bandwidth= 53.514\n",
      "At trial  69 Angle= -2.873 answer is  left (correct= False  ); bandwidth= 4.730\n",
      "At trial  70 Angle= -45.000 answer is  left (correct= False  ); bandwidth= 4.730\n",
      "At trial  71 Angle= -18.565 answer is  left (correct= False  ); bandwidth= 4.730\n",
      "At trial  72 Angle= -42.751 answer is  left (correct= False  ); bandwidth= 4.730\n",
      "At trial  73 Angle= -9.047 answer is  left (correct= False  ); bandwidth= 1.406\n",
      "At trial  74 Angle= 18.768 answer is  left (correct= False  ); bandwidth= 180.000\n",
      "At trial  75 Angle= -40.240 answer is  left (correct= False  ); bandwidth= 53.514\n",
      "At trial  76 Angle= 15.480 answer is  right (correct= True  ); bandwidth= 1.406\n",
      "At trial  77 Angle= 7.421 answer is  left (correct= False  ); bandwidth= 180.000\n",
      "At trial  78 Angle= -45.000 answer is  left (correct= False  ); bandwidth= 4.730\n",
      "At trial  79 Angle= -9.587 answer is  left (correct= False  ); bandwidth= 53.514\n",
      "At trial  80 Angle= 17.370 answer is  left (correct= False  ); bandwidth= 180.000\n",
      "At trial  81 Angle= -17.438 answer is  left (correct= False  ); bandwidth= 1.406\n",
      "At trial  82 Angle= -21.342 answer is  left (correct= False  ); bandwidth= 1.406\n",
      "At trial  83 Angle= -22.527 answer is  left (correct= False  ); bandwidth= 180.000\n",
      "At trial  84 Angle= 37.490 answer is  right (correct= True  ); bandwidth= 15.910\n",
      "At trial  85 Angle= -20.548 answer is  left (correct= False  ); bandwidth= 1.406\n",
      "At trial  86 Angle= 0.867 answer is  right (correct= True  ); bandwidth= 1.406\n",
      "At trial  87 Angle= 21.708 answer is  left (correct= False  ); bandwidth= 180.000\n",
      "At trial  88 Angle= -7.995 answer is  left (correct= False  ); bandwidth= 180.000\n",
      "At trial  89 Angle= 17.521 answer is  left (correct= False  ); bandwidth= 180.000\n",
      "At trial  90 Angle= 14.511 answer is  right (correct= True  ); bandwidth= 180.000\n",
      "At trial  91 Angle= 5.323 answer is  right (correct= True  ); bandwidth= 1.406\n",
      "At trial  92 Angle= -19.698 answer is  left (correct= False  ); bandwidth= 15.910\n",
      "At trial  93 Angle= -45.000 answer is  left (correct= False  ); bandwidth= 180.000\n",
      "At trial  94 Angle= 4.561 answer is  right (correct= True  ); bandwidth= 15.910\n",
      "At trial  95 Angle= -27.381 answer is  left (correct= False  ); bandwidth= 4.730\n",
      "At trial  96 Angle= 0.736 answer is  left (correct= False  ); bandwidth= 180.000\n",
      "At trial  97 Angle= -45.000 answer is  left (correct= False  ); bandwidth= 4.730\n",
      "At trial  98 Angle= 36.260 answer is  right (correct= True  ); bandwidth= 1.406\n",
      "At trial  99 Angle= 0.819 answer is  right (correct= True  ); bandwidth= 4.730\n",
      "At trial  100 Angle= 2.323 answer is  right (correct= True  ); bandwidth= 4.730\n",
      "At trial  101 Angle= 3.404 answer is  left (correct= False  ); bandwidth= 180.000\n"
     ]
    },
    {
     "name": "stdout",
     "output_type": "stream",
     "text": [
      "At trial  102 Angle= 19.235 answer is  right (correct= True  ); bandwidth= 180.000\n",
      "At trial  103 Angle= -3.125 answer is  right (correct= False  ); bandwidth= 53.514\n",
      "At trial  104 Angle= -8.589 answer is  left (correct= False  ); bandwidth= 15.910\n",
      "At trial  105 Angle= 0.472 answer is  left (correct= False  ); bandwidth= 4.730\n",
      "At trial  106 Angle= -31.602 answer is  left (correct= False  ); bandwidth= 1.406\n",
      "At trial  107 Angle= -14.187 answer is  left (correct= False  ); bandwidth= 4.730\n",
      "At trial  108 Angle= 26.129 answer is  right (correct= True  ); bandwidth= 180.000\n",
      "At trial  109 Angle= -0.752 answer is  right (correct= False  ); bandwidth= 4.730\n",
      "At trial  110 Angle= 45.000 answer is  left (correct= False  ); bandwidth= 180.000\n",
      "At trial  111 Angle= 7.461 answer is  right (correct= True  ); bandwidth= 4.730\n",
      "At trial  112 Angle= -39.993 answer is  left (correct= False  ); bandwidth= 1.406\n",
      "At trial  113 Angle= -19.082 answer is  left (correct= False  ); bandwidth= 53.514\n",
      "At trial  114 Angle= -42.767 answer is  left (correct= False  ); bandwidth= 53.514\n",
      "At trial  115 Angle= 9.191 answer is  right (correct= True  ); bandwidth= 4.730\n",
      "At trial  116 Angle= 35.932 answer is  right (correct= True  ); bandwidth= 1.406\n",
      "At trial  117 Angle= -32.024 answer is  left (correct= False  ); bandwidth= 15.910\n",
      "At trial  118 Angle= 14.294 answer is  right (correct= True  ); bandwidth= 1.406\n",
      "At trial  119 Angle= -6.582 answer is  left (correct= False  ); bandwidth= 1.406\n",
      "At trial  120 Angle= 45.000 answer is  right (correct= True  ); bandwidth= 4.730\n",
      "At trial  121 Angle= -45.000 answer is  left (correct= False  ); bandwidth= 15.910\n",
      "At trial  122 Angle= 27.700 answer is  right (correct= True  ); bandwidth= 4.730\n",
      "At trial  123 Angle= 13.832 answer is  left (correct= False  ); bandwidth= 53.514\n",
      "At trial  124 Angle= -34.661 answer is  left (correct= False  ); bandwidth= 4.730\n",
      "At trial  125 Angle= -0.184 answer is  right (correct= False  ); bandwidth= 1.406\n",
      "At trial  126 Angle= 17.899 answer is  left (correct= False  ); bandwidth= 4.730\n",
      "At trial  127 Angle= 12.122 answer is  left (correct= False  ); bandwidth= 180.000\n",
      "At trial  128 Angle= 13.382 answer is  left (correct= False  ); bandwidth= 53.514\n",
      "At trial  129 Angle= -4.141 answer is  right (correct= False  ); bandwidth= 53.514\n",
      "At trial  130 Angle= 14.466 answer is  right (correct= True  ); bandwidth= 53.514\n",
      "At trial  131 Angle= -45.000 answer is  left (correct= False  ); bandwidth= 180.000\n",
      "At trial  132 Angle= 12.908 answer is  right (correct= True  ); bandwidth= 53.514\n",
      "At trial  133 Angle= 13.389 answer is  right (correct= True  ); bandwidth= 15.910\n",
      "At trial  134 Angle= 10.671 answer is  right (correct= True  ); bandwidth= 4.730\n",
      "At trial  135 Angle= 8.994 answer is  right (correct= True  ); bandwidth= 4.730\n",
      "At trial  136 Angle= -3.348 answer is  left (correct= False  ); bandwidth= 15.910\n",
      "At trial  137 Angle= 12.911 answer is  right (correct= True  ); bandwidth= 4.730\n",
      "At trial  138 Angle= 4.017 answer is  right (correct= True  ); bandwidth= 1.406\n",
      "At trial  139 Angle= 4.002 answer is  right (correct= True  ); bandwidth= 15.910\n",
      "At trial  140 Angle= 45.000 answer is  left (correct= False  ); bandwidth= 53.514\n",
      "At trial  141 Angle= 5.220 answer is  right (correct= True  ); bandwidth= 4.730\n",
      "At trial  142 Angle= 10.727 answer is  right (correct= True  ); bandwidth= 1.406\n",
      "At trial  143 Angle= 24.630 answer is  right (correct= True  ); bandwidth= 53.514\n",
      "At trial  144 Angle= 4.319 answer is  right (correct= True  ); bandwidth= 15.910\n",
      "At trial  145 Angle= 6.927 answer is  right (correct= True  ); bandwidth= 1.406\n",
      "At trial  146 Angle= 14.682 answer is  right (correct= True  ); bandwidth= 1.406\n",
      "At trial  147 Angle= 2.390 answer is  right (correct= True  ); bandwidth= 180.000\n",
      "At trial  148 Angle= 16.990 answer is  right (correct= True  ); bandwidth= 180.000\n",
      "At trial  149 Angle= 3.594 answer is  right (correct= True  ); bandwidth= 15.910\n",
      "0.8979 \tWARNING \tMonitor specification not found. Creating a temporary one...\n",
      "1.1148 \tWARNING \tUser requested fullscreen with size [800 600], but screen is actually [2560, 1440]. Using actual size\n"
     ]
    }
   ],
   "source": [
    "from psychopy import visual, core, event\n",
    "import MotionClouds as MC\n",
    "\n",
    "test_length = 150  # number of trials\n",
    "#trial_length = 2.6  # length of trial, in second\n",
    "fixation_length = .5  # length of fixation, in second\n",
    "stim1_length = 0.25  # length of first stim, in second\n",
    "stim2_length = 0.25  # length of the second stim, in second\n",
    "\n",
    "fullscr = False\n",
    "\n",
    "fullscr = True\n",
    "\n",
    "# Psychopy window\n",
    "win = visual.Window(fullscr=fullscr, color=[0,0,0], winType='pygame', monitor='testMonitor', units='height')\n",
    "mouse = event.Mouse(visible=False)\n",
    "\n",
    "fixation = visual.ShapeStim(vertices='cross', win=win, size=0.05, pos=[0, 0], fillColor='black', units='height')\n",
    "fixation.autolog = False\n",
    "\n",
    "MC1 = generate_random_cloud(np.pi/2, B_theta=np.pi/2)\n",
    "bitmap1 = visual.ImageStim(win, MC1, mask='gauss', size=0.8, units='height')\n",
    "bitmap1.autolog = False\n",
    "bitmap2 = visual.ImageStim(win, MC1, mask='gauss', size=0.8, units='height')\n",
    "bitmap2.autolog = False\n",
    "#bitmap3 = visual.ImageStim(win, '%s.png' %\n",
    "#                           str(2 * (np.pi/3)), mask='circle')\n",
    "#bitmap3.autolog = False\n",
    "\n",
    "\n",
    "#msg = visual.TextStim(win, text='<- LEFT or RIGHT ->', color='black')\n",
    "msg = visual.TextStim(win, text='?', color='black')\n",
    "\n",
    "#shift_dict = {'right': 2,\n",
    "#              'left':  3}\n",
    "\n",
    "\n",
    "# Answer list\n",
    "ans_list = []\n",
    "N_B_thetas = 5\n",
    "B_thetas = np.pi*np.logspace(-7, 0, N_B_thetas, base=2)\n",
    "    \n",
    "std_theta = np.pi/6\n",
    "for trial in range(test_length):\n",
    "    clock = core.Clock()\n",
    "    fixation.draw()\n",
    "    win.flip()\n",
    "    \n",
    "    # Shift to left (3) or to right (2) ?\n",
    "    #shift = random.randint(2, 3)\n",
    "    theta = np.clip(std_theta *  np.random.randn(), -np.pi/4, np.pi/4)\n",
    "\n",
    "    # MC generation\n",
    "    B_theta = B_thetas[random.randint(0, N_B_thetas-1)]\n",
    "\n",
    "    MC1 = generate_random_cloud(np.pi/2, B_theta=B_theta)\n",
    "    bitmap1.setImage(MC1)\n",
    "\n",
    "    MC2 = generate_random_cloud(np.pi/2 - theta, B_theta=B_theta)  # if shift = 2\n",
    "    bitmap2.setImage(MC2)\n",
    "\n",
    "    #MC3 = generate_random_cloud(2 * (np.pi/3), B_theta=B_theta)  # if shift = 3\n",
    "    # MC to psychopy objects\n",
    "    \n",
    "    # Times the trial\n",
    "    while clock.getTime() < fixation_length + stim1_length + stim2_length:\n",
    "        if 0.0 <= clock.getTime() < fixation_length:  # fixation\n",
    "            fixation.draw()\n",
    "        if fixation_length + 0.01 <= clock.getTime() < fixation_length + stim1_length:\n",
    "            bitmap1.draw()\n",
    "        if fixation_length + stim1_length <= clock.getTime() < fixation_length + stim1_length + stim2_length:\n",
    "            bitmap2.draw()\n",
    "        win.flip()\n",
    "\n",
    "    # display orientation choice\n",
    "    msg.draw()\n",
    "    win.flip()\n",
    "\n",
    "    # answer using the keyboard\n",
    "    while True:\n",
    "        ans = event.waitKeys()\n",
    "\n",
    "        if len(ans) > 0:\n",
    "            if ans[0] in ['escape', 'q']:\n",
    "                win.close()\n",
    "                core.quit()\n",
    "            elif ans[0] in ['left', 'right']:\n",
    "                correct = (np.sign(theta) > 0) and (ans[0]=='right')\n",
    "                print('At trial ', trial, 'Angle=', '%3.3f' % (theta*180/np.pi), 'answer is ', ans[0], '(correct=', correct, '); bandwidth=', '%.3f' % (B_theta*180/np.pi))\n",
    "                break\n",
    "\n",
    "    # Output shape per trial is : trial number, shift direction, answered shift and b_theta\n",
    "    ans_list.append([trial, theta, ans[0], B_theta])\n",
    "\n",
    "win.close()"
   ]
  },
  {
   "cell_type": "code",
   "execution_count": 5,
   "metadata": {
    "ExecuteTime": {
     "end_time": "2018-06-06T05:03:33.680557Z",
     "start_time": "2018-06-06T05:03:33.672077Z"
    }
   },
   "outputs": [],
   "source": [
    "import pickle\n",
    "pickle.dump(ans_list, open('Psychophys_discrim_%s.p' % exp_info, 'wb'))"
   ]
  }
 ],
 "metadata": {
  "kernelspec": {
   "display_name": "Python 3",
   "language": "python",
   "name": "python3"
  },
  "language_info": {
   "codemirror_mode": {
    "name": "ipython",
    "version": 3
   },
   "file_extension": ".py",
   "mimetype": "text/x-python",
   "name": "python",
   "nbconvert_exporter": "python",
   "pygments_lexer": "ipython3",
   "version": "3.6.5"
  },
  "toc": {
   "base_numbering": 1,
   "nav_menu": {},
   "number_sections": true,
   "sideBar": true,
   "skip_h1_title": false,
   "title_cell": "Table of Contents",
   "title_sidebar": "Contents",
   "toc_cell": false,
   "toc_position": {},
   "toc_section_display": true,
   "toc_window_display": false
  }
 },
 "nbformat": 4,
 "nbformat_minor": 2
}
