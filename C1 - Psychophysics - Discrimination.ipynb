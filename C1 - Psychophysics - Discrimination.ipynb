{
 "cells": [
  {
   "cell_type": "markdown",
   "metadata": {},
   "source": [
    "# 2018-06-06 - Psychophysics using psychopy\n",
    "\n",
    "On repasse sur un paradigme plus classique de psychophysique."
   ]
  },
  {
   "cell_type": "markdown",
   "metadata": {},
   "source": [
    "On récupère les initiales :"
   ]
  },
  {
   "cell_type": "code",
   "execution_count": 1,
   "metadata": {
    "ExecuteTime": {
     "end_time": "2018-06-06T14:09:51.687946Z",
     "start_time": "2018-06-06T14:09:51.674085Z"
    }
   },
   "outputs": [
    {
     "name": "stdout",
     "output_type": "stream",
     "text": [
      "Enter your initials : MB\n",
      "MB\n"
     ]
    }
   ],
   "source": [
    "exp_info = input('Enter your initials : ')\n",
    "print (exp_info)"
   ]
  },
  {
   "cell_type": "markdown",
   "metadata": {},
   "source": [
    "On défini la génération de MotionClouds :"
   ]
  },
  {
   "cell_type": "code",
   "execution_count": 2,
   "metadata": {
    "ExecuteTime": {
     "end_time": "2018-06-06T14:09:55.152576Z",
     "start_time": "2018-06-06T14:09:51.700330Z"
    }
   },
   "outputs": [],
   "source": [
    "import numpy as np\n",
    "import MotionClouds as mc\n",
    "import matplotlib.pyplot as plt\n",
    "import os\n",
    "import imageio\n",
    "import random\n",
    "\n",
    "downscale = 1\n",
    "fig_width = 21\n",
    "fx, fy, ft = mc.get_grids(mc.N_X/downscale, mc.N_Y/downscale, 1)\n",
    "\n",
    "# generates a cloud of given theta and b_theta\n",
    "def generate_random_cloud(theta, B_theta):\n",
    "    mc_i = mc.envelope_gabor(fx, fy, ft, V_X=0., V_Y=0.,\n",
    "                             B_V=0, theta=theta, B_theta=B_theta)\n",
    "    im = mc.random_cloud(mc_i)\n",
    "    im = (mc.rectif(im) * 255).astype('uint8')\n",
    "    fname = '/tmp/%s_%s.png' % (theta, B_theta)\n",
    "    imageio.imwrite(fname, im[:, :, 0])\n",
    "    return fname"
   ]
  },
  {
   "cell_type": "markdown",
   "metadata": {},
   "source": [
    "On définit les paramètres et on teste :"
   ]
  },
  {
   "cell_type": "code",
   "execution_count": 3,
   "metadata": {
    "ExecuteTime": {
     "end_time": "2018-06-06T14:09:55.225434Z",
     "start_time": "2018-06-06T14:09:55.202479Z"
    }
   },
   "outputs": [
    {
     "name": "stdout",
     "output_type": "stream",
     "text": [
      "B_thetas [ 2.8125      5.01130529  8.92913092 15.90990258 28.34822362 50.51079217\n",
      " 90.        ]\n"
     ]
    }
   ],
   "source": [
    "N_B_thetas = 7\n",
    "\n",
    "B_thetas = np.pi*np.logspace(-6, -1, N_B_thetas, base=2)\n",
    "print('B_thetas', B_thetas*180/np.pi)\n"
   ]
  },
  {
   "cell_type": "code",
   "execution_count": 4,
   "metadata": {
    "ExecuteTime": {
     "end_time": "2018-06-06T14:13:18.084688Z",
     "start_time": "2018-06-06T14:09:55.231514Z"
    },
    "scrolled": false
   },
   "outputs": [
    {
     "name": "stdout",
     "output_type": "stream",
     "text": [
      "At trial  0 Angle= -43.475 answer is  right (correct= False ); bandwidth= 8.929\n",
      "At trial  1 Angle= -31.058 answer is  right (correct= False ); bandwidth= 50.511\n",
      "At trial  2 Angle= -0.537 answer is  right (correct= False ); bandwidth= 28.348\n",
      "At trial  3 Angle= 21.695 answer is  left (correct= False ); bandwidth= 15.910\n",
      "At trial  4 Angle= -5.551 answer is  right (correct= False ); bandwidth= 2.812\n",
      "At trial  5 Angle= -23.682 answer is  right (correct= False ); bandwidth= 50.511\n",
      "At trial  6 Angle= 2.747 answer is  right (correct= True ); bandwidth= 90.000\n",
      "At trial  7 Angle= -22.798 answer is  right (correct= False ); bandwidth= 15.910\n",
      "At trial  8 Angle= 39.413 answer is  left (correct= False ); bandwidth= 28.348\n",
      "At trial  9 Angle= 21.337 answer is  left (correct= False ); bandwidth= 5.011\n",
      "At trial  10 Angle= 1.759 answer is  left (correct= False ); bandwidth= 90.000\n",
      "At trial  11 Angle= -8.832 answer is  right (correct= False ); bandwidth= 15.910\n",
      "At trial  12 Angle= -7.895 answer is  right (correct= False ); bandwidth= 8.929\n",
      "At trial  13 Angle= -1.885 answer is  right (correct= False ); bandwidth= 50.511\n",
      "At trial  14 Angle= -45.000 answer is  right (correct= False ); bandwidth= 50.511\n",
      "At trial  15 Angle= 3.133 answer is  left (correct= False ); bandwidth= 50.511\n",
      "At trial  16 Angle= 13.527 answer is  left (correct= False ); bandwidth= 90.000\n",
      "At trial  17 Angle= 26.661 answer is  left (correct= False ); bandwidth= 2.812\n",
      "At trial  18 Angle= -5.399 answer is  left (correct= False ); bandwidth= 90.000\n",
      "At trial  19 Angle= -28.970 answer is  right (correct= False ); bandwidth= 2.812\n",
      "At trial  20 Angle= 18.102 answer is  left (correct= False ); bandwidth= 15.910\n",
      "At trial  21 Angle= -20.789 answer is  right (correct= False ); bandwidth= 28.348\n",
      "At trial  22 Angle= -3.074 answer is  right (correct= False ); bandwidth= 90.000\n",
      "At trial  23 Angle= 6.219 answer is  left (correct= False ); bandwidth= 15.910\n",
      "At trial  24 Angle= 2.790 answer is  left (correct= False ); bandwidth= 5.011\n",
      "At trial  25 Angle= 30.740 answer is  left (correct= False ); bandwidth= 15.910\n",
      "At trial  26 Angle= 29.252 answer is  left (correct= False ); bandwidth= 90.000\n",
      "At trial  27 Angle= 35.378 answer is  left (correct= False ); bandwidth= 90.000\n",
      "At trial  28 Angle= 14.657 answer is  left (correct= False ); bandwidth= 50.511\n",
      "At trial  29 Angle= 4.776 answer is  left (correct= False ); bandwidth= 28.348\n",
      "At trial  30 Angle= -17.927 answer is  right (correct= False ); bandwidth= 5.011\n",
      "At trial  31 Angle= -16.744 answer is  right (correct= False ); bandwidth= 28.348\n",
      "At trial  32 Angle= -5.104 answer is  right (correct= False ); bandwidth= 5.011\n",
      "At trial  33 Angle= -6.333 answer is  right (correct= False ); bandwidth= 15.910\n",
      "At trial  34 Angle= -1.664 answer is  right (correct= False ); bandwidth= 90.000\n",
      "At trial  35 Angle= -0.467 answer is  left (correct= False ); bandwidth= 28.348\n",
      "At trial  36 Angle= 9.477 answer is  left (correct= False ); bandwidth= 2.812\n",
      "At trial  37 Angle= 6.517 answer is  left (correct= False ); bandwidth= 50.511\n",
      "At trial  38 Angle= -21.708 answer is  left (correct= False ); bandwidth= 90.000\n",
      "At trial  39 Angle= 3.514 answer is  left (correct= False ); bandwidth= 8.929\n",
      "At trial  40 Angle= 19.462 answer is  left (correct= False ); bandwidth= 90.000\n",
      "At trial  41 Angle= -45.000 answer is  right (correct= False ); bandwidth= 5.011\n",
      "At trial  42 Angle= -13.303 answer is  right (correct= False ); bandwidth= 8.929\n",
      "At trial  43 Angle= -34.037 answer is  right (correct= False ); bandwidth= 5.011\n",
      "At trial  44 Angle= -39.708 answer is  right (correct= False ); bandwidth= 28.348\n",
      "At trial  45 Angle= 19.287 answer is  right (correct= True ); bandwidth= 90.000\n",
      "At trial  46 Angle= -11.473 answer is  right (correct= False ); bandwidth= 90.000\n",
      "At trial  47 Angle= 8.090 answer is  left (correct= False ); bandwidth= 15.910\n",
      "At trial  48 Angle= -28.024 answer is  right (correct= False ); bandwidth= 50.511\n",
      "At trial  49 Angle= 32.576 answer is  left (correct= False ); bandwidth= 28.348\n",
      "At trial  50 Angle= 5.264 answer is  left (correct= False ); bandwidth= 15.910\n",
      "At trial  51 Angle= -0.112 answer is  left (correct= False ); bandwidth= 90.000\n",
      "At trial  52 Angle= 3.617 answer is  left (correct= False ); bandwidth= 50.511\n",
      "At trial  53 Angle= 9.162 answer is  left (correct= False ); bandwidth= 50.511\n",
      "At trial  54 Angle= 13.728 answer is  left (correct= False ); bandwidth= 2.812\n",
      "At trial  55 Angle= -29.449 answer is  right (correct= False ); bandwidth= 50.511\n",
      "At trial  56 Angle= 23.916 answer is  right (correct= True ); bandwidth= 90.000\n",
      "At trial  57 Angle= 22.988 answer is  left (correct= False ); bandwidth= 5.011\n",
      "At trial  58 Angle= -11.338 answer is  right (correct= False ); bandwidth= 28.348\n",
      "At trial  59 Angle= -6.691 answer is  right (correct= False ); bandwidth= 28.348\n",
      "At trial  60 Angle= 24.647 answer is  left (correct= False ); bandwidth= 15.910\n",
      "At trial  61 Angle= 25.175 answer is  left (correct= False ); bandwidth= 5.011\n",
      "At trial  62 Angle= -30.405 answer is  right (correct= False ); bandwidth= 28.348\n",
      "At trial  63 Angle= 1.956 answer is  left (correct= False ); bandwidth= 5.011\n",
      "At trial  64 Angle= 24.725 answer is  left (correct= False ); bandwidth= 5.011\n",
      "At trial  65 Angle= 8.797 answer is  left (correct= False ); bandwidth= 2.812\n",
      "At trial  66 Angle= -1.132 answer is  left (correct= False ); bandwidth= 28.348\n",
      "At trial  67 Angle= 16.481 answer is  left (correct= False ); bandwidth= 28.348\n",
      "At trial  68 Angle= -8.197 answer is  right (correct= False ); bandwidth= 8.929\n",
      "At trial  69 Angle= 13.468 answer is  left (correct= False ); bandwidth= 8.929\n",
      "At trial  70 Angle= 0.803 answer is  left (correct= False ); bandwidth= 28.348\n",
      "At trial  71 Angle= 2.199 answer is  right (correct= True ); bandwidth= 50.511\n",
      "At trial  72 Angle= 7.070 answer is  left (correct= False ); bandwidth= 2.812\n",
      "At trial  73 Angle= 5.837 answer is  left (correct= False ); bandwidth= 15.910\n",
      "At trial  74 Angle= -38.612 answer is  right (correct= False ); bandwidth= 28.348\n",
      "At trial  75 Angle= 29.309 answer is  left (correct= False ); bandwidth= 90.000\n",
      "At trial  76 Angle= 20.362 answer is  left (correct= False ); bandwidth= 50.511\n",
      "At trial  77 Angle= 4.152 answer is  left (correct= False ); bandwidth= 5.011\n",
      "At trial  78 Angle= -19.846 answer is  right (correct= False ); bandwidth= 5.011\n",
      "At trial  79 Angle= -10.036 answer is  right (correct= False ); bandwidth= 15.910\n",
      "At trial  80 Angle= 7.809 answer is  left (correct= False ); bandwidth= 50.511\n",
      "At trial  81 Angle= -45.000 answer is  right (correct= False ); bandwidth= 2.812\n",
      "At trial  82 Angle= -44.473 answer is  right (correct= False ); bandwidth= 5.011\n",
      "At trial  83 Angle= 38.799 answer is  left (correct= False ); bandwidth= 28.348\n",
      "At trial  84 Angle= 42.310 answer is  right (correct= True ); bandwidth= 90.000\n",
      "At trial  85 Angle= -35.534 answer is  right (correct= False ); bandwidth= 28.348\n",
      "At trial  86 Angle= -12.626 answer is  right (correct= False ); bandwidth= 8.929\n",
      "At trial  87 Angle= -35.529 answer is  right (correct= False ); bandwidth= 50.511\n",
      "At trial  88 Angle= 8.276 answer is  left (correct= False ); bandwidth= 28.348\n",
      "At trial  89 Angle= 13.390 answer is  left (correct= False ); bandwidth= 15.910\n",
      "At trial  90 Angle= 1.288 answer is  right (correct= True ); bandwidth= 28.348\n",
      "At trial  91 Angle= -2.904 answer is  right (correct= False ); bandwidth= 5.011\n",
      "At trial  92 Angle= -7.955 answer is  right (correct= False ); bandwidth= 15.910\n",
      "At trial  93 Angle= 18.801 answer is  left (correct= False ); bandwidth= 2.812\n",
      "At trial  94 Angle= -45.000 answer is  right (correct= False ); bandwidth= 15.910\n",
      "At trial  95 Angle= 11.115 answer is  left (correct= False ); bandwidth= 15.910\n",
      "At trial  96 Angle= -6.510 answer is  left (correct= False ); bandwidth= 50.511\n",
      "At trial  97 Angle= 37.037 answer is  left (correct= False ); bandwidth= 90.000\n",
      "At trial  98 Angle= -34.504 answer is  right (correct= False ); bandwidth= 50.511\n",
      "At trial  99 Angle= 20.112 answer is  right (correct= True ); bandwidth= 90.000\n",
      "At trial  100 Angle= -41.947 answer is  right (correct= False ); bandwidth= 2.812\n",
      "At trial  101 Angle= -0.931 answer is  right (correct= False ); bandwidth= 50.511\n",
      "At trial  102 Angle= 8.224 answer is  left (correct= False ); bandwidth= 50.511\n"
     ]
    },
    {
     "name": "stdout",
     "output_type": "stream",
     "text": [
      "At trial  103 Angle= 12.043 answer is  left (correct= False ); bandwidth= 2.812\n",
      "At trial  104 Angle= -45.000 answer is  right (correct= False ); bandwidth= 28.348\n",
      "At trial  105 Angle= 3.566 answer is  left (correct= False ); bandwidth= 8.929\n",
      "At trial  106 Angle= -8.046 answer is  right (correct= False ); bandwidth= 8.929\n",
      "At trial  107 Angle= -8.670 answer is  left (correct= False ); bandwidth= 90.000\n",
      "At trial  108 Angle= 36.420 answer is  left (correct= False ); bandwidth= 90.000\n",
      "At trial  109 Angle= 6.599 answer is  left (correct= False ); bandwidth= 28.348\n",
      "At trial  110 Angle= -20.860 answer is  right (correct= False ); bandwidth= 28.348\n",
      "At trial  111 Angle= -37.866 answer is  right (correct= False ); bandwidth= 8.929\n",
      "At trial  112 Angle= 3.395 answer is  left (correct= False ); bandwidth= 8.929\n",
      "At trial  113 Angle= -5.384 answer is  right (correct= False ); bandwidth= 2.812\n",
      "At trial  114 Angle= -25.596 answer is  right (correct= False ); bandwidth= 15.910\n",
      "At trial  115 Angle= -29.347 answer is  right (correct= False ); bandwidth= 5.011\n",
      "At trial  116 Angle= 9.462 answer is  left (correct= False ); bandwidth= 2.812\n",
      "At trial  117 Angle= -12.297 answer is  right (correct= False ); bandwidth= 50.511\n",
      "At trial  118 Angle= 45.000 answer is  left (correct= False ); bandwidth= 5.011\n",
      "At trial  119 Angle= -15.746 answer is  right (correct= False ); bandwidth= 15.910\n",
      "At trial  120 Angle= 17.744 answer is  left (correct= False ); bandwidth= 15.910\n",
      "At trial  121 Angle= 6.264 answer is  left (correct= False ); bandwidth= 28.348\n",
      "At trial  122 Angle= -19.573 answer is  right (correct= False ); bandwidth= 2.812\n",
      "At trial  123 Angle= 26.939 answer is  left (correct= False ); bandwidth= 8.929\n",
      "At trial  124 Angle= -38.107 answer is  right (correct= False ); bandwidth= 15.910\n",
      "At trial  125 Angle= 45.000 answer is  left (correct= False ); bandwidth= 50.511\n",
      "At trial  126 Angle= 23.395 answer is  left (correct= False ); bandwidth= 8.929\n",
      "At trial  127 Angle= 6.501 answer is  left (correct= False ); bandwidth= 28.348\n",
      "At trial  128 Angle= 0.982 answer is  left (correct= False ); bandwidth= 50.511\n",
      "At trial  129 Angle= -19.526 answer is  right (correct= False ); bandwidth= 5.011\n",
      "At trial  130 Angle= 27.267 answer is  left (correct= False ); bandwidth= 28.348\n",
      "At trial  131 Angle= -22.941 answer is  right (correct= False ); bandwidth= 90.000\n",
      "At trial  132 Angle= 8.747 answer is  left (correct= False ); bandwidth= 28.348\n",
      "At trial  133 Angle= 35.282 answer is  left (correct= False ); bandwidth= 8.929\n",
      "At trial  134 Angle= 10.745 answer is  left (correct= False ); bandwidth= 28.348\n",
      "At trial  135 Angle= -9.031 answer is  right (correct= False ); bandwidth= 8.929\n",
      "At trial  136 Angle= 17.823 answer is  left (correct= False ); bandwidth= 90.000\n",
      "At trial  137 Angle= -5.048 answer is  left (correct= False ); bandwidth= 15.910\n",
      "At trial  138 Angle= -7.553 answer is  right (correct= False ); bandwidth= 8.929\n",
      "At trial  139 Angle= -0.358 answer is  right (correct= False ); bandwidth= 5.011\n",
      "At trial  140 Angle= -21.397 answer is  right (correct= False ); bandwidth= 2.812\n",
      "At trial  141 Angle= 0.252 answer is  right (correct= True ); bandwidth= 50.511\n",
      "At trial  142 Angle= 45.000 answer is  left (correct= False ); bandwidth= 50.511\n",
      "At trial  143 Angle= 3.411 answer is  right (correct= True ); bandwidth= 90.000\n",
      "At trial  144 Angle= 16.516 answer is  left (correct= False ); bandwidth= 90.000\n",
      "At trial  145 Angle= 19.648 answer is  left (correct= False ); bandwidth= 90.000\n",
      "At trial  146 Angle= -15.419 answer is  left (correct= False ); bandwidth= 50.511\n",
      "At trial  147 Angle= -35.328 answer is  left (correct= False ); bandwidth= 90.000\n",
      "At trial  148 Angle= 24.173 answer is  left (correct= False ); bandwidth= 5.011\n",
      "At trial  149 Angle= -45.000 answer is  left (correct= False ); bandwidth= 50.511\n",
      "1.7772 \tWARNING \tUser requested fullscreen with size [800 600], but screen is actually [1366, 768]. Using actual size\n"
     ]
    }
   ],
   "source": [
    "from psychopy import visual, core, event\n",
    "import MotionClouds as MC\n",
    "\n",
    "test_length = 150  # number of trials\n",
    "#trial_length = 2.6  # length of trial, in second\n",
    "fixation_length = .5  # length of fixation, in second\n",
    "stim1_length = 0.25  # length of first stim, in second\n",
    "stim2_length = 0.25  # length of the second stim, in second\n",
    "\n",
    "fullscr = False\n",
    "\n",
    "fullscr = True\n",
    "\n",
    "# Psychopy window\n",
    "win = visual.Window(fullscr=fullscr, color=[0,0,0], winType='pygame', monitor='testMonitor', units='height')\n",
    "mouse = event.Mouse(visible=False)\n",
    "\n",
    "fixation = visual.ShapeStim(vertices='cross', win=win, size=0.05, pos=[0, 0], fillColor='black', units='height')\n",
    "fixation.autolog = False\n",
    "\n",
    "MC1 = generate_random_cloud(np.pi/2, B_theta=np.pi/2)\n",
    "bitmap1 = visual.ImageStim(win, MC1, mask='gauss', size=0.8, units='height')\n",
    "bitmap1.autolog = False\n",
    "bitmap2 = visual.ImageStim(win, MC1, mask='gauss', size=0.8, units='height')\n",
    "bitmap2.autolog = False\n",
    "#bitmap3 = visual.ImageStim(win, '%s.png' %\n",
    "#                           str(2 * (np.pi/3)), mask='circle')\n",
    "#bitmap3.autolog = False\n",
    "\n",
    "\n",
    "#msg = visual.TextStim(win, text='<- LEFT or RIGHT ->', color='black')\n",
    "msg = visual.TextStim(win, text='?', color='black')\n",
    "\n",
    "#shift_dict = {'right': 2,\n",
    "#              'left':  3}\n",
    "\n",
    "\n",
    "# Answer list\n",
    "ans_list = []\n",
    "    \n",
    "std_theta = np.pi/8\n",
    "for trial in range(test_length):\n",
    "    clock = core.Clock()\n",
    "    fixation.draw()\n",
    "    win.flip()\n",
    "    \n",
    "    # Shift to left (3) or to right (2) ?\n",
    "    #shift = random.randint(2, 3)\n",
    "    theta = np.clip(std_theta *  np.random.randn(), -np.pi/4, np.pi/4)\n",
    "\n",
    "    # MC generation\n",
    "    B_theta = B_thetas[random.randint(0, N_B_thetas-1)]\n",
    "\n",
    "    MC1 = generate_random_cloud(np.pi/2, B_theta=B_theta)\n",
    "    bitmap1.setImage(MC1)\n",
    "\n",
    "    MC2 = generate_random_cloud(np.pi/2 - theta, B_theta=B_theta)  # if shift = 2\n",
    "    bitmap2.setImage(MC2)\n",
    "\n",
    "    #MC3 = generate_random_cloud(2 * (np.pi/3), B_theta=B_theta)  # if shift = 3\n",
    "    # MC to psychopy objects\n",
    "    \n",
    "    # Times the trial\n",
    "    while clock.getTime() < fixation_length + stim1_length + stim2_length:\n",
    "        if 0.0 <= clock.getTime() < fixation_length:  # fixation\n",
    "            fixation.draw()\n",
    "        if fixation_length + 0.01 <= clock.getTime() < fixation_length + stim1_length:\n",
    "            bitmap1.draw()\n",
    "        if fixation_length + stim1_length <= clock.getTime() < fixation_length + stim1_length + stim2_length:\n",
    "            bitmap2.draw()\n",
    "        win.flip()\n",
    "\n",
    "    # display orientation choice\n",
    "    msg.draw()\n",
    "    win.flip()\n",
    "\n",
    "    # answer using the keyboard\n",
    "    while True:\n",
    "        ans = event.waitKeys()\n",
    "\n",
    "        if len(ans) > 0:\n",
    "            if ans[0] in ['escape', 'q']:\n",
    "                win.close()\n",
    "                core.quit()\n",
    "            elif ans[0] in ['left', 'right']:\n",
    "                correct = (np.sign(theta) > 0) and (ans[0]=='right')\n",
    "                print('At trial ', trial, 'Angle=', '%3.3f' % (theta*180/np.pi), 'answer is ', ans[0], '(correct=', correct, '); bandwidth=', '%.3f' % (B_theta*180/np.pi))\n",
    "                break\n",
    "\n",
    "    # Output shape per trial is : trial number, shift direction, answered shift and b_theta\n",
    "    ans_list.append([trial, theta, ans[0], B_theta])\n",
    "\n",
    "win.close()"
   ]
  },
  {
   "cell_type": "code",
   "execution_count": 10,
   "metadata": {
    "ExecuteTime": {
     "end_time": "2018-06-06T14:13:18.104368Z",
     "start_time": "2018-06-06T14:13:18.090087Z"
    }
   },
   "outputs": [],
   "source": [
    "import pickle\n",
    "pickle.dump(ans_list, open('./psychophysics_data/Psy_discrim_final_%s.p' % exp_info, 'wb'))"
   ]
  }
 ],
 "metadata": {
  "kernelspec": {
   "display_name": "Python 3",
   "language": "python",
   "name": "python3"
  },
  "language_info": {
   "codemirror_mode": {
    "name": "ipython",
    "version": 3
   },
   "file_extension": ".py",
   "mimetype": "text/x-python",
   "name": "python",
   "nbconvert_exporter": "python",
   "pygments_lexer": "ipython3",
   "version": "3.6.4"
  },
  "toc": {
   "base_numbering": 1,
   "nav_menu": {},
   "number_sections": true,
   "sideBar": true,
   "skip_h1_title": false,
   "title_cell": "Table of Contents",
   "title_sidebar": "Contents",
   "toc_cell": false,
   "toc_position": {},
   "toc_section_display": true,
   "toc_window_display": false
  }
 },
 "nbformat": 4,
 "nbformat_minor": 2
}
